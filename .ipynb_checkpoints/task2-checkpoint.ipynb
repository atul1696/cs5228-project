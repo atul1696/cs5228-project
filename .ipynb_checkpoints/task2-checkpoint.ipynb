{
 "cells": [
  {
   "cell_type": "markdown",
   "id": "492667f0",
   "metadata": {},
   "source": [
    "# Task 2: Recommendation Engine"
   ]
  },
  {
   "cell_type": "markdown",
   "id": "b4e3949b",
   "metadata": {},
   "source": [
    "### Setting up the Notebook"
   ]
  },
  {
   "cell_type": "code",
   "execution_count": 1,
   "id": "0d2dc1ce",
   "metadata": {},
   "outputs": [],
   "source": [
    "import numpy as np\n",
    "import pandas as pd\n",
    "\n",
    "from src.utils import read_csv\n",
    "from src.data_preprocessor import DataPreprocessor\n",
    "from src.preprocessor_utils import remove_columns, convert_to_lowercase\n",
    "\n",
    "from src.recommendation_utils import get_recommendation_weights"
   ]
  },
  {
   "cell_type": "code",
   "execution_count": 2,
   "id": "fc03050d",
   "metadata": {},
   "outputs": [],
   "source": [
    "# Some more magic so that the notebook will reload external python modules;\n",
    "# see http://stackoverflow.com/questions/1907993/autoreload-of-modules-in-ipython\n",
    "%load_ext autoreload\n",
    "%autoreload 2"
   ]
  },
  {
   "cell_type": "markdown",
   "id": "abb1a8b2",
   "metadata": {},
   "source": [
    "### Load the Data"
   ]
  },
  {
   "cell_type": "code",
   "execution_count": 3,
   "id": "dda80443",
   "metadata": {},
   "outputs": [],
   "source": [
    "trainX, trainY = read_csv('data/train.csv', ylabel='price')\n",
    "# data_preprocessor = DataPreprocessor()\n",
    "# trainX, trainY = data_preprocessor.fit_transform(trainX, trainY)\n",
    "\n",
    "df = pd.concat([trainX, trainY], axis=1)"
   ]
  },
  {
   "cell_type": "markdown",
   "id": "3ec513a2",
   "metadata": {},
   "source": [
    "## Computing the Top Recommendations"
   ]
  },
  {
   "cell_type": "code",
   "execution_count": 31,
   "id": "8c79153a",
   "metadata": {},
   "outputs": [],
   "source": [
    "def get_top_recommendations(row_raw, df_raw, k=3):\n",
    "\n",
    "    row = np.array(row_raw['price']).reshape(-1, 1)\n",
    "    df = np.array(df_raw['price']).reshape(-1, 1)\n",
    "\n",
    "    df_weights = get_recommendation_weights(row, df, distance_metric='euclidean')\n",
    "    rec_index = np.random.choice(df_raw.index, size=k, replace=False, p=df_weights)\n",
    "    \n",
    "    return rec_index"
   ]
  },
  {
   "cell_type": "markdown",
   "id": "347d7765",
   "metadata": {},
   "source": [
    "## Testing the Recommendation Engine"
   ]
  },
  {
   "cell_type": "markdown",
   "id": "1c793d56",
   "metadata": {},
   "source": [
    "### Pick a Sample Listing as Input"
   ]
  },
  {
   "cell_type": "code",
   "execution_count": 32,
   "id": "8d6390d0",
   "metadata": {},
   "outputs": [
    {
     "data": {
      "text/html": [
       "<div>\n",
       "<style scoped>\n",
       "    .dataframe tbody tr th:only-of-type {\n",
       "        vertical-align: middle;\n",
       "    }\n",
       "\n",
       "    .dataframe tbody tr th {\n",
       "        vertical-align: top;\n",
       "    }\n",
       "\n",
       "    .dataframe thead th {\n",
       "        text-align: right;\n",
       "    }\n",
       "</style>\n",
       "<table border=\"1\" class=\"dataframe\">\n",
       "  <thead>\n",
       "    <tr style=\"text-align: right;\">\n",
       "      <th></th>\n",
       "      <th>listing_id</th>\n",
       "      <th>title</th>\n",
       "      <th>address</th>\n",
       "      <th>property_name</th>\n",
       "      <th>property_type</th>\n",
       "      <th>tenure</th>\n",
       "      <th>built_year</th>\n",
       "      <th>num_beds</th>\n",
       "      <th>num_baths</th>\n",
       "      <th>size_sqft</th>\n",
       "      <th>...</th>\n",
       "      <th>furnishing</th>\n",
       "      <th>available_unit_types</th>\n",
       "      <th>total_num_units</th>\n",
       "      <th>property_details_url</th>\n",
       "      <th>lat</th>\n",
       "      <th>lng</th>\n",
       "      <th>elevation</th>\n",
       "      <th>subzone</th>\n",
       "      <th>planning_area</th>\n",
       "      <th>price</th>\n",
       "    </tr>\n",
       "  </thead>\n",
       "  <tbody>\n",
       "    <tr>\n",
       "      <th>10</th>\n",
       "      <td>397777</td>\n",
       "      <td>2 bed condo for sale in bedok court</td>\n",
       "      <td>299 bedok south avenue 3</td>\n",
       "      <td>bedok court</td>\n",
       "      <td>condo</td>\n",
       "      <td>99-year leasehold</td>\n",
       "      <td>1985.0</td>\n",
       "      <td>2.0</td>\n",
       "      <td>NaN</td>\n",
       "      <td>1733</td>\n",
       "      <td>...</td>\n",
       "      <td>unspecified</td>\n",
       "      <td>studio, 1, 2, 3, 4 br</td>\n",
       "      <td>280.0</td>\n",
       "      <td>https://www.99.co/singapore/condos-apartments/...</td>\n",
       "      <td>1.322153</td>\n",
       "      <td>103.945223</td>\n",
       "      <td>0</td>\n",
       "      <td>bedok south</td>\n",
       "      <td>bedok</td>\n",
       "      <td>2205000.0</td>\n",
       "    </tr>\n",
       "  </tbody>\n",
       "</table>\n",
       "<p>1 rows × 21 columns</p>\n",
       "</div>"
      ],
      "text/plain": [
       "    listing_id                                title                   address  \\\n",
       "10      397777  2 bed condo for sale in bedok court  299 bedok south avenue 3   \n",
       "\n",
       "   property_name property_type             tenure  built_year  num_beds  \\\n",
       "10   bedok court         condo  99-year leasehold      1985.0       2.0   \n",
       "\n",
       "    num_baths  size_sqft  ...   furnishing   available_unit_types  \\\n",
       "10        NaN       1733  ...  unspecified  studio, 1, 2, 3, 4 br   \n",
       "\n",
       "   total_num_units                               property_details_url  \\\n",
       "10           280.0  https://www.99.co/singapore/condos-apartments/...   \n",
       "\n",
       "         lat         lng  elevation      subzone planning_area      price  \n",
       "10  1.322153  103.945223          0  bedok south         bedok  2205000.0  \n",
       "\n",
       "[1 rows x 21 columns]"
      ]
     },
     "execution_count": 32,
     "metadata": {},
     "output_type": "execute_result"
    }
   ],
   "source": [
    "# Pick a row id of choice\n",
    "row_id = 10\n",
    "#row_id = 20\n",
    "#row_id = 30\n",
    "#row_id = 40\n",
    "#row_id = 50\n",
    "\n",
    "# Get the row from the dataframe (an valid row ids will throw an error)\n",
    "row = df.iloc[row_id]\n",
    "\n",
    "# Just for printing it nicely, we create a new dataframe from this single row\n",
    "# data_preprocessor.inverse_transform(pd.DataFrame([row]))\n",
    "pd.DataFrame([row])"
   ]
  },
  {
   "cell_type": "markdown",
   "id": "f75dd2a4",
   "metadata": {},
   "source": [
    "### Compute and Display the recommendations"
   ]
  },
  {
   "cell_type": "code",
   "execution_count": 35,
   "id": "7b1cd34c",
   "metadata": {},
   "outputs": [
    {
     "data": {
      "text/html": [
       "<div>\n",
       "<style scoped>\n",
       "    .dataframe tbody tr th:only-of-type {\n",
       "        vertical-align: middle;\n",
       "    }\n",
       "\n",
       "    .dataframe tbody tr th {\n",
       "        vertical-align: top;\n",
       "    }\n",
       "\n",
       "    .dataframe thead th {\n",
       "        text-align: right;\n",
       "    }\n",
       "</style>\n",
       "<table border=\"1\" class=\"dataframe\">\n",
       "  <thead>\n",
       "    <tr style=\"text-align: right;\">\n",
       "      <th></th>\n",
       "      <th>listing_id</th>\n",
       "      <th>title</th>\n",
       "      <th>address</th>\n",
       "      <th>property_name</th>\n",
       "      <th>property_type</th>\n",
       "      <th>tenure</th>\n",
       "      <th>built_year</th>\n",
       "      <th>num_beds</th>\n",
       "      <th>num_baths</th>\n",
       "      <th>size_sqft</th>\n",
       "      <th>...</th>\n",
       "      <th>furnishing</th>\n",
       "      <th>available_unit_types</th>\n",
       "      <th>total_num_units</th>\n",
       "      <th>property_details_url</th>\n",
       "      <th>lat</th>\n",
       "      <th>lng</th>\n",
       "      <th>elevation</th>\n",
       "      <th>subzone</th>\n",
       "      <th>planning_area</th>\n",
       "      <th>price</th>\n",
       "    </tr>\n",
       "  </thead>\n",
       "  <tbody>\n",
       "    <tr>\n",
       "      <th>19253</th>\n",
       "      <td>372717</td>\n",
       "      <td>3 bed condo for sale in the windermere</td>\n",
       "      <td>32 choa chu kang street 64</td>\n",
       "      <td>the windermere</td>\n",
       "      <td>condo</td>\n",
       "      <td>99-year leasehold</td>\n",
       "      <td>1999.0</td>\n",
       "      <td>3.0</td>\n",
       "      <td>3.0</td>\n",
       "      <td>1280</td>\n",
       "      <td>...</td>\n",
       "      <td>unspecified</td>\n",
       "      <td>3, 4 br</td>\n",
       "      <td>395.0</td>\n",
       "      <td>https://www.99.co/singapore/condos-apartments/...</td>\n",
       "      <td>1.397836</td>\n",
       "      <td>103.751012</td>\n",
       "      <td>0</td>\n",
       "      <td>yew tee</td>\n",
       "      <td>choa chu kang</td>\n",
       "      <td>1205400.0</td>\n",
       "    </tr>\n",
       "    <tr>\n",
       "      <th>4542</th>\n",
       "      <td>467827</td>\n",
       "      <td>hdb flat for sale in 3c upper boon keng road</td>\n",
       "      <td>eunos / geylang / paya lebar (d14)</td>\n",
       "      <td>kallang heights</td>\n",
       "      <td>hdb 5 rooms</td>\n",
       "      <td>99-year leasehold</td>\n",
       "      <td>2006.0</td>\n",
       "      <td>3.0</td>\n",
       "      <td>2.0</td>\n",
       "      <td>1184</td>\n",
       "      <td>...</td>\n",
       "      <td>unfurnished</td>\n",
       "      <td>2, 3, 4, 5 br</td>\n",
       "      <td>NaN</td>\n",
       "      <td>https://www.99.co/singapore/hdb/kallang-height...</td>\n",
       "      <td>1.313821</td>\n",
       "      <td>103.873060</td>\n",
       "      <td>0</td>\n",
       "      <td>boon keng</td>\n",
       "      <td>kallang</td>\n",
       "      <td>997500.0</td>\n",
       "    </tr>\n",
       "    <tr>\n",
       "      <th>5341</th>\n",
       "      <td>870878</td>\n",
       "      <td>hdb flat for sale in 606 ang mo kio avenue 5</td>\n",
       "      <td>ang mo kio / bishan / thomson (d20)</td>\n",
       "      <td>yio chu kang green</td>\n",
       "      <td>Hdb 3 Rooms</td>\n",
       "      <td>99-year leasehold</td>\n",
       "      <td>1980.0</td>\n",
       "      <td>2.0</td>\n",
       "      <td>2.0</td>\n",
       "      <td>721</td>\n",
       "      <td>...</td>\n",
       "      <td>unspecified</td>\n",
       "      <td>2, 3, 4, 5 br</td>\n",
       "      <td>NaN</td>\n",
       "      <td>https://www.99.co/singapore/hdb/yio-chu-kang-g...</td>\n",
       "      <td>1.379342</td>\n",
       "      <td>103.836736</td>\n",
       "      <td>0</td>\n",
       "      <td>yio chu kang west</td>\n",
       "      <td>ang mo kio</td>\n",
       "      <td>388500.0</td>\n",
       "    </tr>\n",
       "  </tbody>\n",
       "</table>\n",
       "<p>3 rows × 21 columns</p>\n",
       "</div>"
      ],
      "text/plain": [
       "       listing_id                                         title  \\\n",
       "19253      372717        3 bed condo for sale in the windermere   \n",
       "4542       467827  hdb flat for sale in 3c upper boon keng road   \n",
       "5341       870878  hdb flat for sale in 606 ang mo kio avenue 5   \n",
       "\n",
       "                                   address       property_name property_type  \\\n",
       "19253           32 choa chu kang street 64      the windermere         condo   \n",
       "4542    eunos / geylang / paya lebar (d14)     kallang heights   hdb 5 rooms   \n",
       "5341   ang mo kio / bishan / thomson (d20)  yio chu kang green   Hdb 3 Rooms   \n",
       "\n",
       "                  tenure  built_year  num_beds  num_baths  size_sqft  ...  \\\n",
       "19253  99-year leasehold      1999.0       3.0        3.0       1280  ...   \n",
       "4542   99-year leasehold      2006.0       3.0        2.0       1184  ...   \n",
       "5341   99-year leasehold      1980.0       2.0        2.0        721  ...   \n",
       "\n",
       "        furnishing available_unit_types total_num_units  \\\n",
       "19253  unspecified              3, 4 br           395.0   \n",
       "4542   unfurnished        2, 3, 4, 5 br             NaN   \n",
       "5341   unspecified        2, 3, 4, 5 br             NaN   \n",
       "\n",
       "                                    property_details_url       lat  \\\n",
       "19253  https://www.99.co/singapore/condos-apartments/...  1.397836   \n",
       "4542   https://www.99.co/singapore/hdb/kallang-height...  1.313821   \n",
       "5341   https://www.99.co/singapore/hdb/yio-chu-kang-g...  1.379342   \n",
       "\n",
       "              lng  elevation            subzone  planning_area      price  \n",
       "19253  103.751012          0            yew tee  choa chu kang  1205400.0  \n",
       "4542   103.873060          0          boon keng        kallang   997500.0  \n",
       "5341   103.836736          0  yio chu kang west     ang mo kio   388500.0  \n",
       "\n",
       "[3 rows x 21 columns]"
      ]
     },
     "execution_count": 35,
     "metadata": {},
     "output_type": "execute_result"
    }
   ],
   "source": [
    "k = 3\n",
    "\n",
    "recommendation_list = get_top_recommendations(pd.DataFrame([row]), df, k=k)\n",
    "\n",
    "# data_preprocessor.inverse_transform(df.iloc[recommendation_list])\n",
    "df.iloc[recommendation_list]"
   ]
  },
  {
   "cell_type": "code",
   "execution_count": null,
   "id": "d41c96e3",
   "metadata": {},
   "outputs": [],
   "source": []
  }
 ],
 "metadata": {
  "kernelspec": {
   "display_name": "Python 3 (ipykernel)",
   "language": "python",
   "name": "python3"
  },
  "language_info": {
   "codemirror_mode": {
    "name": "ipython",
    "version": 3
   },
   "file_extension": ".py",
   "mimetype": "text/x-python",
   "name": "python",
   "nbconvert_exporter": "python",
   "pygments_lexer": "ipython3",
   "version": "3.9.10"
  },
  "vscode": {
   "interpreter": {
    "hash": "80ee3313c3694f0d29f54357db4c8da5f1d5e4f68d75d1a3e71d97d138ede0c5"
   }
  }
 },
 "nbformat": 4,
 "nbformat_minor": 5
}
