{
 "cells": [
  {
   "cell_type": "markdown",
   "id": "492667f0",
   "metadata": {},
   "source": [
    "# Task 2: Recommendation Engine"
   ]
  },
  {
   "cell_type": "markdown",
   "id": "b4e3949b",
   "metadata": {},
   "source": [
    "### Setting up the Notebook"
   ]
  },
  {
   "cell_type": "code",
   "execution_count": 1,
   "id": "0d2dc1ce",
   "metadata": {},
   "outputs": [],
   "source": [
    "import numpy as np\n",
    "import pandas as pd\n",
    "\n",
    "from src.utils import read_csv\n",
    "from src.data_preprocessor import DataPreprocessor\n",
    "from src.preprocessor_utils import remove_columns, convert_to_lowercase\n",
    "\n",
    "from src.recommendation_utils import get_recommendation_weights"
   ]
  },
  {
   "cell_type": "code",
   "execution_count": 2,
   "id": "fc03050d",
   "metadata": {},
   "outputs": [],
   "source": [
    "# Some more magic so that the notebook will reload external python modules;\n",
    "# see http://stackoverflow.com/questions/1907993/autoreload-of-modules-in-ipython\n",
    "%load_ext autoreload\n",
    "%autoreload 2"
   ]
  },
  {
   "cell_type": "markdown",
   "id": "abb1a8b2",
   "metadata": {},
   "source": [
    "### Load the Data"
   ]
  },
  {
   "cell_type": "code",
   "execution_count": 3,
   "id": "dda80443",
   "metadata": {},
   "outputs": [],
   "source": [
    "trainX, trainY = read_csv('data/train.csv', ylabel='price')\n",
    "# data_preprocessor = DataPreprocessor()\n",
    "# trainX, trainY = data_preprocessor.fit_transform(trainX, trainY)\n",
    "\n",
    "df = pd.concat([trainX, trainY], axis=1)"
   ]
  },
  {
   "cell_type": "markdown",
   "id": "3ec513a2",
   "metadata": {},
   "source": [
    "## Computing the Top Recommendations"
   ]
  },
  {
   "cell_type": "code",
   "execution_count": 10,
   "id": "8c79153a",
   "metadata": {},
   "outputs": [],
   "source": [
    "def get_top_recommendations(row, df, k=3):\n",
    "\n",
    "    ######## Get Recommendation Weights For Each Property\n",
    "    df_weights = get_recommendation_weights(row, df)\n",
    "    \n",
    "    ######## Filter Out Top Properties (More Than Requested)\n",
    "    top_property_indices = df_weights.argsort()[-10*k:]\n",
    "    \n",
    "    ######## Introduce Randomness in Choice From The Top Recommendations\n",
    "    prob = df_weights[top_property_indices]\n",
    "    prob = prob/prob.sum()\n",
    "    rec_index = np.random.choice(df.index[top_property_indices], size=k, replace=False, p=prob)\n",
    "    \n",
    "    return rec_index"
   ]
  },
  {
   "cell_type": "markdown",
   "id": "347d7765",
   "metadata": {},
   "source": [
    "## Testing the Recommendation Engine"
   ]
  },
  {
   "cell_type": "markdown",
   "id": "1c793d56",
   "metadata": {},
   "source": [
    "### Pick a Sample Listing as Input"
   ]
  },
  {
   "cell_type": "code",
   "execution_count": 11,
   "id": "8d6390d0",
   "metadata": {},
   "outputs": [
    {
     "data": {
      "text/html": [
       "<div>\n",
       "<style scoped>\n",
       "    .dataframe tbody tr th:only-of-type {\n",
       "        vertical-align: middle;\n",
       "    }\n",
       "\n",
       "    .dataframe tbody tr th {\n",
       "        vertical-align: top;\n",
       "    }\n",
       "\n",
       "    .dataframe thead th {\n",
       "        text-align: right;\n",
       "    }\n",
       "</style>\n",
       "<table border=\"1\" class=\"dataframe\">\n",
       "  <thead>\n",
       "    <tr style=\"text-align: right;\">\n",
       "      <th></th>\n",
       "      <th>listing_id</th>\n",
       "      <th>title</th>\n",
       "      <th>address</th>\n",
       "      <th>property_name</th>\n",
       "      <th>property_type</th>\n",
       "      <th>tenure</th>\n",
       "      <th>built_year</th>\n",
       "      <th>num_beds</th>\n",
       "      <th>num_baths</th>\n",
       "      <th>size_sqft</th>\n",
       "      <th>...</th>\n",
       "      <th>furnishing</th>\n",
       "      <th>available_unit_types</th>\n",
       "      <th>total_num_units</th>\n",
       "      <th>property_details_url</th>\n",
       "      <th>lat</th>\n",
       "      <th>lng</th>\n",
       "      <th>elevation</th>\n",
       "      <th>subzone</th>\n",
       "      <th>planning_area</th>\n",
       "      <th>price</th>\n",
       "    </tr>\n",
       "  </thead>\n",
       "  <tbody>\n",
       "    <tr>\n",
       "      <th>10</th>\n",
       "      <td>397777</td>\n",
       "      <td>2 bed condo for sale in bedok court</td>\n",
       "      <td>299 bedok south avenue 3</td>\n",
       "      <td>bedok court</td>\n",
       "      <td>condo</td>\n",
       "      <td>99-year leasehold</td>\n",
       "      <td>1985.0</td>\n",
       "      <td>2.0</td>\n",
       "      <td>NaN</td>\n",
       "      <td>1733</td>\n",
       "      <td>...</td>\n",
       "      <td>unspecified</td>\n",
       "      <td>studio, 1, 2, 3, 4 br</td>\n",
       "      <td>280.0</td>\n",
       "      <td>https://www.99.co/singapore/condos-apartments/...</td>\n",
       "      <td>1.322153</td>\n",
       "      <td>103.945223</td>\n",
       "      <td>0</td>\n",
       "      <td>bedok south</td>\n",
       "      <td>bedok</td>\n",
       "      <td>2205000.0</td>\n",
       "    </tr>\n",
       "  </tbody>\n",
       "</table>\n",
       "<p>1 rows × 21 columns</p>\n",
       "</div>"
      ],
      "text/plain": [
       "    listing_id                                title                   address  \\\n",
       "10      397777  2 bed condo for sale in bedok court  299 bedok south avenue 3   \n",
       "\n",
       "   property_name property_type             tenure  built_year  num_beds  \\\n",
       "10   bedok court         condo  99-year leasehold      1985.0       2.0   \n",
       "\n",
       "    num_baths  size_sqft  ...   furnishing   available_unit_types  \\\n",
       "10        NaN       1733  ...  unspecified  studio, 1, 2, 3, 4 br   \n",
       "\n",
       "   total_num_units                               property_details_url  \\\n",
       "10           280.0  https://www.99.co/singapore/condos-apartments/...   \n",
       "\n",
       "         lat         lng  elevation      subzone planning_area      price  \n",
       "10  1.322153  103.945223          0  bedok south         bedok  2205000.0  \n",
       "\n",
       "[1 rows x 21 columns]"
      ]
     },
     "execution_count": 11,
     "metadata": {},
     "output_type": "execute_result"
    }
   ],
   "source": [
    "# Pick a row id of choice\n",
    "row_id = 10\n",
    "#row_id = 20\n",
    "#row_id = 30\n",
    "#row_id = 40\n",
    "#row_id = 50\n",
    "\n",
    "# Get the row from the dataframe (an valid row ids will throw an error)\n",
    "row = df.iloc[row_id]\n",
    "\n",
    "# Just for printing it nicely, we create a new dataframe from this single row\n",
    "# data_preprocessor.inverse_transform(pd.DataFrame([row]))\n",
    "pd.DataFrame([row])"
   ]
  },
  {
   "cell_type": "markdown",
   "id": "f75dd2a4",
   "metadata": {},
   "source": [
    "### Compute and Display the recommendations"
   ]
  },
  {
   "cell_type": "code",
   "execution_count": 12,
   "id": "7b1cd34c",
   "metadata": {},
   "outputs": [
    {
     "data": {
      "text/html": [
       "<div>\n",
       "<style scoped>\n",
       "    .dataframe tbody tr th:only-of-type {\n",
       "        vertical-align: middle;\n",
       "    }\n",
       "\n",
       "    .dataframe tbody tr th {\n",
       "        vertical-align: top;\n",
       "    }\n",
       "\n",
       "    .dataframe thead th {\n",
       "        text-align: right;\n",
       "    }\n",
       "</style>\n",
       "<table border=\"1\" class=\"dataframe\">\n",
       "  <thead>\n",
       "    <tr style=\"text-align: right;\">\n",
       "      <th></th>\n",
       "      <th>listing_id</th>\n",
       "      <th>title</th>\n",
       "      <th>address</th>\n",
       "      <th>property_name</th>\n",
       "      <th>property_type</th>\n",
       "      <th>tenure</th>\n",
       "      <th>built_year</th>\n",
       "      <th>num_beds</th>\n",
       "      <th>num_baths</th>\n",
       "      <th>size_sqft</th>\n",
       "      <th>...</th>\n",
       "      <th>furnishing</th>\n",
       "      <th>available_unit_types</th>\n",
       "      <th>total_num_units</th>\n",
       "      <th>property_details_url</th>\n",
       "      <th>lat</th>\n",
       "      <th>lng</th>\n",
       "      <th>elevation</th>\n",
       "      <th>subzone</th>\n",
       "      <th>planning_area</th>\n",
       "      <th>price</th>\n",
       "    </tr>\n",
       "  </thead>\n",
       "  <tbody>\n",
       "    <tr>\n",
       "      <th>5611</th>\n",
       "      <td>151758</td>\n",
       "      <td>1 bed condo for sale in eastwood regency</td>\n",
       "      <td>40 eastwood road</td>\n",
       "      <td>eastwood regency</td>\n",
       "      <td>Condo</td>\n",
       "      <td>freehold</td>\n",
       "      <td>2013.0</td>\n",
       "      <td>1.0</td>\n",
       "      <td>1.0</td>\n",
       "      <td>517</td>\n",
       "      <td>...</td>\n",
       "      <td>partial</td>\n",
       "      <td>studio, 1 br</td>\n",
       "      <td>75.0</td>\n",
       "      <td>https://www.99.co/singapore/condos-apartments/...</td>\n",
       "      <td>1.321195</td>\n",
       "      <td>103.957529</td>\n",
       "      <td>0</td>\n",
       "      <td>bedok south</td>\n",
       "      <td>bedok</td>\n",
       "      <td>933300.0</td>\n",
       "    </tr>\n",
       "    <tr>\n",
       "      <th>12258</th>\n",
       "      <td>338342</td>\n",
       "      <td>4 bed condo for sale in bedok residences</td>\n",
       "      <td>22 bedok north drive</td>\n",
       "      <td>bedok residences</td>\n",
       "      <td>condo</td>\n",
       "      <td>99-year leasehold</td>\n",
       "      <td>2015.0</td>\n",
       "      <td>4.0</td>\n",
       "      <td>4.0</td>\n",
       "      <td>1970</td>\n",
       "      <td>...</td>\n",
       "      <td>unspecified</td>\n",
       "      <td>studio, 1, 2, 3, 4 br</td>\n",
       "      <td>583.0</td>\n",
       "      <td>https://www.99.co/singapore/condos-apartments/...</td>\n",
       "      <td>1.321972</td>\n",
       "      <td>103.946825</td>\n",
       "      <td>0</td>\n",
       "      <td>bedok south</td>\n",
       "      <td>bedok</td>\n",
       "      <td>3024000.0</td>\n",
       "    </tr>\n",
       "    <tr>\n",
       "      <th>1721</th>\n",
       "      <td>645298</td>\n",
       "      <td>7 bed house for sale in english villas</td>\n",
       "      <td>bedok rise</td>\n",
       "      <td>english villas</td>\n",
       "      <td>Semi-Detached House</td>\n",
       "      <td>freehold</td>\n",
       "      <td>1999.0</td>\n",
       "      <td>7.0</td>\n",
       "      <td>5.0</td>\n",
       "      <td>7427</td>\n",
       "      <td>...</td>\n",
       "      <td>unspecified</td>\n",
       "      <td>6, 7 br</td>\n",
       "      <td>11.0</td>\n",
       "      <td>https://www.99.co/singapore/houses/english-vil...</td>\n",
       "      <td>1.327341</td>\n",
       "      <td>103.949867</td>\n",
       "      <td>0</td>\n",
       "      <td>bedok south</td>\n",
       "      <td>bedok</td>\n",
       "      <td>4200000.0</td>\n",
       "    </tr>\n",
       "  </tbody>\n",
       "</table>\n",
       "<p>3 rows × 21 columns</p>\n",
       "</div>"
      ],
      "text/plain": [
       "       listing_id                                     title  \\\n",
       "5611       151758  1 bed condo for sale in eastwood regency   \n",
       "12258      338342  4 bed condo for sale in bedok residences   \n",
       "1721       645298    7 bed house for sale in english villas   \n",
       "\n",
       "                    address     property_name        property_type  \\\n",
       "5611       40 eastwood road  eastwood regency                Condo   \n",
       "12258  22 bedok north drive  bedok residences                condo   \n",
       "1721             bedok rise    english villas  Semi-Detached House   \n",
       "\n",
       "                  tenure  built_year  num_beds  num_baths  size_sqft  ...  \\\n",
       "5611            freehold      2013.0       1.0        1.0        517  ...   \n",
       "12258  99-year leasehold      2015.0       4.0        4.0       1970  ...   \n",
       "1721            freehold      1999.0       7.0        5.0       7427  ...   \n",
       "\n",
       "        furnishing   available_unit_types total_num_units  \\\n",
       "5611       partial           studio, 1 br            75.0   \n",
       "12258  unspecified  studio, 1, 2, 3, 4 br           583.0   \n",
       "1721   unspecified                6, 7 br            11.0   \n",
       "\n",
       "                                    property_details_url       lat  \\\n",
       "5611   https://www.99.co/singapore/condos-apartments/...  1.321195   \n",
       "12258  https://www.99.co/singapore/condos-apartments/...  1.321972   \n",
       "1721   https://www.99.co/singapore/houses/english-vil...  1.327341   \n",
       "\n",
       "              lng  elevation      subzone planning_area      price  \n",
       "5611   103.957529          0  bedok south         bedok   933300.0  \n",
       "12258  103.946825          0  bedok south         bedok  3024000.0  \n",
       "1721   103.949867          0  bedok south         bedok  4200000.0  \n",
       "\n",
       "[3 rows x 21 columns]"
      ]
     },
     "execution_count": 12,
     "metadata": {},
     "output_type": "execute_result"
    }
   ],
   "source": [
    "k = 3\n",
    "\n",
    "recommendation_list = get_top_recommendations(row, df, k=k)\n",
    "\n",
    "# data_preprocessor.inverse_transform(df.iloc[recommendation_list])\n",
    "df.iloc[recommendation_list]"
   ]
  },
  {
   "cell_type": "code",
   "execution_count": null,
   "id": "d41c96e3",
   "metadata": {},
   "outputs": [],
   "source": []
  }
 ],
 "metadata": {
  "kernelspec": {
   "display_name": "Python 3 (ipykernel)",
   "language": "python",
   "name": "python3"
  },
  "language_info": {
   "codemirror_mode": {
    "name": "ipython",
    "version": 3
   },
   "file_extension": ".py",
   "mimetype": "text/x-python",
   "name": "python",
   "nbconvert_exporter": "python",
   "pygments_lexer": "ipython3",
   "version": "3.9.10"
  },
  "vscode": {
   "interpreter": {
    "hash": "80ee3313c3694f0d29f54357db4c8da5f1d5e4f68d75d1a3e71d97d138ede0c5"
   }
  }
 },
 "nbformat": 4,
 "nbformat_minor": 5
}
