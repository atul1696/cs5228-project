{
 "cells": [
  {
   "cell_type": "markdown",
   "id": "492667f0",
   "metadata": {},
   "source": [
    "# Task 2: Recommendation Engine"
   ]
  },
  {
   "cell_type": "markdown",
   "id": "b4e3949b",
   "metadata": {},
   "source": [
    "### Setting up the Notebook"
   ]
  },
  {
   "cell_type": "code",
   "execution_count": 1,
   "id": "0d2dc1ce",
   "metadata": {},
   "outputs": [],
   "source": [
    "import numpy as np\n",
    "import pandas as pd\n",
    "\n",
    "from src.utils import read_csv\n",
    "from src.data_preprocessor import DataPreprocessor\n",
    "from src.preprocessor_utils import remove_columns, convert_to_lowercase\n",
    "\n",
    "from src.recommendation_utils import get_recommendation_weights"
   ]
  },
  {
   "cell_type": "code",
   "execution_count": 2,
   "id": "fc03050d",
   "metadata": {},
   "outputs": [],
   "source": [
    "# Some more magic so that the notebook will reload external python modules;\n",
    "# see http://stackoverflow.com/questions/1907993/autoreload-of-modules-in-ipython\n",
    "%load_ext autoreload\n",
    "%autoreload 2"
   ]
  },
  {
   "cell_type": "markdown",
   "id": "abb1a8b2",
   "metadata": {},
   "source": [
    "### Load the Data"
   ]
  },
  {
   "cell_type": "code",
   "execution_count": 3,
   "id": "dda80443",
   "metadata": {},
   "outputs": [],
   "source": [
    "trainX, trainY = read_csv('data/train.csv', ylabel='price')\n",
    "data_preprocessor = DataPreprocessor()\n",
    "trainX, trainY = data_preprocessor.fit_transform_for_recommendations(trainX, trainY)\n",
    "\n",
    "trainX.reset_index(drop=True, inplace=True)\n",
    "trainY.reset_index(drop=True, inplace=True)\n",
    "\n",
    "df = pd.concat([trainX, trainY], axis=1)"
   ]
  },
  {
   "cell_type": "markdown",
   "id": "aead945e",
   "metadata": {},
   "source": [
    "## Recommendation Setup"
   ]
  },
  {
   "cell_type": "markdown",
   "id": "3a101a26",
   "metadata": {},
   "source": [
    "### Features for Property Similarity\n",
    "\n",
    "- `subzone` - Boolean variable to represent if the properties have the same subzone\n",
    "- `planning_area` - Boolean variable to represent if the properties have the same planning area\n",
    "- `price` - Boolean variable to represent if the property prices are in the same discrete bin\n",
    "- ...many more"
   ]
  },
  {
   "cell_type": "markdown",
   "id": "06c6a053",
   "metadata": {},
   "source": [
    "### User Input and Preferences\n",
    "\n",
    "<img src=\"images/99co_recommendation.jpg\" style=\"width: 700px;\"/>\n",
    "\n",
    "[99.co](99.co) shows four possible priorities that the user can provide to sort 'similar listings'. We adapt the same in our setup. While the `get_top_recommendations` is capable of handling highly nuanced weightage of each feature, we provide xxx pre-defined settings below. Uncomment any one to continue, or make no changes to see the universal recommendations."
   ]
  },
  {
   "cell_type": "code",
   "execution_count": 4,
   "id": "f7a2c9af",
   "metadata": {},
   "outputs": [],
   "source": [
    "feature_list = ['subzone', 'planning_area', 'price',\n",
    "                'property_type', 'num_beds', 'size_sqft',\n",
    "                'floor_level', 'furnishing', 'tenure_left']\n",
    "feature_weightage = {k:1 for k in feature_list}\n",
    "\n",
    "########## Prioritize 'nearby' property ##########\n",
    "# feature_weightage['subzone'] = 10\n",
    "# feature_weightage['planning_area'] = 10\n",
    "\n",
    "########## Prioritize units with similar 'price' ##########\n",
    "# feature_weightage['price'] = 10\n",
    "\n",
    "########## And a few more ##########"
   ]
  },
  {
   "cell_type": "markdown",
   "id": "3ec513a2",
   "metadata": {},
   "source": [
    "## Computing the Top Recommendations"
   ]
  },
  {
   "cell_type": "code",
   "execution_count": 41,
   "id": "8c79153a",
   "metadata": {},
   "outputs": [],
   "source": [
    "def get_top_recommendations(row, df, feature_weightage, k=3):\n",
    "\n",
    "    ######## Remove input from dataframe (To stop recommending the input itself)\n",
    "    df = df.drop(row.name)\n",
    "    \n",
    "    ######## Get Recommendation Weights For Each Property\n",
    "    df_weights = get_recommendation_weights(row, df, feature_weightage)\n",
    "\n",
    "    ######## Filter Out Top Properties (More Than Requested)\n",
    "    top_property_indices = df_weights.argsort()[-5*k:]\n",
    "    \n",
    "    ######## Introduce Randomness in Choice From The Top Recommendations\n",
    "    prob = df_weights[top_property_indices]\n",
    "    prob = prob/prob.sum()\n",
    "    rec_indices = np.random.choice(df.index[top_property_indices], size=k, replace=False, p=prob)\n",
    "    return np.array(rec_indices)"
   ]
  },
  {
   "cell_type": "markdown",
   "id": "347d7765",
   "metadata": {},
   "source": [
    "## Testing the Recommendation Engine"
   ]
  },
  {
   "cell_type": "markdown",
   "id": "1c793d56",
   "metadata": {},
   "source": [
    "### Pick a Sample Listing as Input"
   ]
  },
  {
   "cell_type": "code",
   "execution_count": 42,
   "id": "8d6390d0",
   "metadata": {},
   "outputs": [
    {
     "data": {
      "text/html": [
       "<div>\n",
       "<style scoped>\n",
       "    .dataframe tbody tr th:only-of-type {\n",
       "        vertical-align: middle;\n",
       "    }\n",
       "\n",
       "    .dataframe tbody tr th {\n",
       "        vertical-align: top;\n",
       "    }\n",
       "\n",
       "    .dataframe thead th {\n",
       "        text-align: right;\n",
       "    }\n",
       "</style>\n",
       "<table border=\"1\" class=\"dataframe\">\n",
       "  <thead>\n",
       "    <tr style=\"text-align: right;\">\n",
       "      <th></th>\n",
       "      <th>address</th>\n",
       "      <th>property_name</th>\n",
       "      <th>property_type</th>\n",
       "      <th>tenure</th>\n",
       "      <th>built_year</th>\n",
       "      <th>num_beds</th>\n",
       "      <th>num_baths</th>\n",
       "      <th>size_sqft</th>\n",
       "      <th>floor_level</th>\n",
       "      <th>furnishing</th>\n",
       "      <th>total_num_units</th>\n",
       "      <th>lat</th>\n",
       "      <th>lng</th>\n",
       "      <th>subzone</th>\n",
       "      <th>planning_area</th>\n",
       "      <th>tenure_duration</th>\n",
       "      <th>is_freehold</th>\n",
       "      <th>price</th>\n",
       "    </tr>\n",
       "  </thead>\n",
       "  <tbody>\n",
       "    <tr>\n",
       "      <th>50</th>\n",
       "      <td>8 lorong 25a geylang</td>\n",
       "      <td>zyanya</td>\n",
       "      <td>condo</td>\n",
       "      <td>freehold</td>\n",
       "      <td>2025.0</td>\n",
       "      <td>4.0</td>\n",
       "      <td>3.0</td>\n",
       "      <td>1313</td>\n",
       "      <td>NaN</td>\n",
       "      <td>unspecified</td>\n",
       "      <td>34.0</td>\n",
       "      <td>1.313628</td>\n",
       "      <td>103.883109</td>\n",
       "      <td>aljunied</td>\n",
       "      <td>geylang</td>\n",
       "      <td>10000</td>\n",
       "      <td>True</td>\n",
       "      <td>2274800.0</td>\n",
       "    </tr>\n",
       "  </tbody>\n",
       "</table>\n",
       "</div>"
      ],
      "text/plain": [
       "                 address property_name property_type    tenure  built_year  \\\n",
       "50  8 lorong 25a geylang        zyanya         condo  freehold      2025.0   \n",
       "\n",
       "    num_beds  num_baths  size_sqft  floor_level   furnishing  total_num_units  \\\n",
       "50       4.0        3.0       1313          NaN  unspecified             34.0   \n",
       "\n",
       "         lat         lng   subzone planning_area  tenure_duration  \\\n",
       "50  1.313628  103.883109  aljunied       geylang            10000   \n",
       "\n",
       "    is_freehold      price  \n",
       "50         True  2274800.0  "
      ]
     },
     "execution_count": 42,
     "metadata": {},
     "output_type": "execute_result"
    }
   ],
   "source": [
    "# Pick a row id of choice\n",
    "#row_id = 10\n",
    "#row_id = 20\n",
    "#row_id = 30\n",
    "#row_id = 40\n",
    "row_id = 50\n",
    "\n",
    "# Get the row from the dataframe (an valid row ids will throw an error)\n",
    "row = df.iloc[row_id]\n",
    "\n",
    "# Just for printing it nicely, we create a new dataframe from this single row\n",
    "data_preprocessor.inverse_transform(pd.DataFrame([row]))\n",
    "# pd.DataFrame([row])"
   ]
  },
  {
   "cell_type": "markdown",
   "id": "f75dd2a4",
   "metadata": {},
   "source": [
    "### Compute and Display the recommendations"
   ]
  },
  {
   "cell_type": "code",
   "execution_count": 43,
   "id": "7b1cd34c",
   "metadata": {},
   "outputs": [
    {
     "name": "stdout",
     "output_type": "stream",
     "text": [
      "15925    lentor modern\n",
      "Name: property_name, dtype: object\n",
      "169\n",
      "15925    lentor modern\n",
      "Name: property_name, dtype: object\n",
      "169\n",
      "13555    thomson 800\n",
      "Name: property_name, dtype: object\n",
      "1\n",
      "[15924, 15924, 13554]\n"
     ]
    },
    {
     "data": {
      "text/html": [
       "<div>\n",
       "<style scoped>\n",
       "    .dataframe tbody tr th:only-of-type {\n",
       "        vertical-align: middle;\n",
       "    }\n",
       "\n",
       "    .dataframe tbody tr th {\n",
       "        vertical-align: top;\n",
       "    }\n",
       "\n",
       "    .dataframe thead th {\n",
       "        text-align: right;\n",
       "    }\n",
       "</style>\n",
       "<table border=\"1\" class=\"dataframe\">\n",
       "  <thead>\n",
       "    <tr style=\"text-align: right;\">\n",
       "      <th></th>\n",
       "      <th>address</th>\n",
       "      <th>property_name</th>\n",
       "      <th>property_type</th>\n",
       "      <th>tenure</th>\n",
       "      <th>built_year</th>\n",
       "      <th>num_beds</th>\n",
       "      <th>num_baths</th>\n",
       "      <th>size_sqft</th>\n",
       "      <th>floor_level</th>\n",
       "      <th>furnishing</th>\n",
       "      <th>total_num_units</th>\n",
       "      <th>lat</th>\n",
       "      <th>lng</th>\n",
       "      <th>subzone</th>\n",
       "      <th>planning_area</th>\n",
       "      <th>tenure_duration</th>\n",
       "      <th>is_freehold</th>\n",
       "      <th>price</th>\n",
       "    </tr>\n",
       "  </thead>\n",
       "  <tbody>\n",
       "    <tr>\n",
       "      <th>15924</th>\n",
       "      <td>8 lorong 25a geylang</td>\n",
       "      <td>zyanya</td>\n",
       "      <td>condo</td>\n",
       "      <td>freehold</td>\n",
       "      <td>2025.0</td>\n",
       "      <td>4.0</td>\n",
       "      <td>3.0</td>\n",
       "      <td>1227</td>\n",
       "      <td>high</td>\n",
       "      <td>unfurnished</td>\n",
       "      <td>34.0</td>\n",
       "      <td>1.313628</td>\n",
       "      <td>103.883109</td>\n",
       "      <td>aljunied</td>\n",
       "      <td>geylang</td>\n",
       "      <td>10000</td>\n",
       "      <td>True</td>\n",
       "      <td>2301100.0</td>\n",
       "    </tr>\n",
       "    <tr>\n",
       "      <th>15924</th>\n",
       "      <td>8 lorong 25a geylang</td>\n",
       "      <td>zyanya</td>\n",
       "      <td>condo</td>\n",
       "      <td>freehold</td>\n",
       "      <td>2025.0</td>\n",
       "      <td>4.0</td>\n",
       "      <td>3.0</td>\n",
       "      <td>1227</td>\n",
       "      <td>high</td>\n",
       "      <td>unfurnished</td>\n",
       "      <td>34.0</td>\n",
       "      <td>1.313628</td>\n",
       "      <td>103.883109</td>\n",
       "      <td>aljunied</td>\n",
       "      <td>geylang</td>\n",
       "      <td>10000</td>\n",
       "      <td>True</td>\n",
       "      <td>2301100.0</td>\n",
       "    </tr>\n",
       "    <tr>\n",
       "      <th>13554</th>\n",
       "      <td>8 lorong 25a geylang</td>\n",
       "      <td>zyanya</td>\n",
       "      <td>condo</td>\n",
       "      <td>freehold</td>\n",
       "      <td>2025.0</td>\n",
       "      <td>4.0</td>\n",
       "      <td>3.0</td>\n",
       "      <td>1302</td>\n",
       "      <td>NaN</td>\n",
       "      <td>partial</td>\n",
       "      <td>34.0</td>\n",
       "      <td>1.313628</td>\n",
       "      <td>103.883109</td>\n",
       "      <td>aljunied</td>\n",
       "      <td>geylang</td>\n",
       "      <td>10000</td>\n",
       "      <td>True</td>\n",
       "      <td>2100000.0</td>\n",
       "    </tr>\n",
       "  </tbody>\n",
       "</table>\n",
       "</div>"
      ],
      "text/plain": [
       "                    address property_name property_type    tenure  built_year  \\\n",
       "15924  8 lorong 25a geylang        zyanya         condo  freehold      2025.0   \n",
       "15924  8 lorong 25a geylang        zyanya         condo  freehold      2025.0   \n",
       "13554  8 lorong 25a geylang        zyanya         condo  freehold      2025.0   \n",
       "\n",
       "       num_beds  num_baths  size_sqft floor_level   furnishing  \\\n",
       "15924       4.0        3.0       1227        high  unfurnished   \n",
       "15924       4.0        3.0       1227        high  unfurnished   \n",
       "13554       4.0        3.0       1302         NaN      partial   \n",
       "\n",
       "       total_num_units       lat         lng   subzone planning_area  \\\n",
       "15924             34.0  1.313628  103.883109  aljunied       geylang   \n",
       "15924             34.0  1.313628  103.883109  aljunied       geylang   \n",
       "13554             34.0  1.313628  103.883109  aljunied       geylang   \n",
       "\n",
       "      tenure_duration  is_freehold      price  \n",
       "15924           10000         True  2301100.0  \n",
       "15924           10000         True  2301100.0  \n",
       "13554           10000         True  2100000.0  "
      ]
     },
     "execution_count": 43,
     "metadata": {},
     "output_type": "execute_result"
    }
   ],
   "source": [
    "k = 3\n",
    "\n",
    "recommendation_list = get_top_recommendations(row, df, feature_weightage, k=k)\n",
    "\n",
    "data_preprocessor.inverse_transform(df.iloc[recommendation_list])\n",
    "# df.iloc[recommendation_list]"
   ]
  },
  {
   "cell_type": "code",
   "execution_count": null,
   "id": "d41c96e3",
   "metadata": {},
   "outputs": [],
   "source": []
  }
 ],
 "metadata": {
  "kernelspec": {
   "display_name": "Python 3 (ipykernel)",
   "language": "python",
   "name": "python3"
  },
  "language_info": {
   "codemirror_mode": {
    "name": "ipython",
    "version": 3
   },
   "file_extension": ".py",
   "mimetype": "text/x-python",
   "name": "python",
   "nbconvert_exporter": "python",
   "pygments_lexer": "ipython3",
   "version": "3.9.10"
  },
  "vscode": {
   "interpreter": {
    "hash": "80ee3313c3694f0d29f54357db4c8da5f1d5e4f68d75d1a3e71d97d138ede0c5"
   }
  }
 },
 "nbformat": 4,
 "nbformat_minor": 5
}
