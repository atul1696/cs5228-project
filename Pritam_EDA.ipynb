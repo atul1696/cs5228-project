{
 "cells": [
  {
   "cell_type": "code",
   "execution_count": 298,
   "id": "8797762c",
   "metadata": {},
   "outputs": [],
   "source": [
    "from dataloader import read_csv\n",
    "import numpy as np\n",
    "import pandas as pd\n",
    "import matplotlib.pyplot as plt\n",
    "import seaborn as sb\n",
    "color = sb.color_palette()\n",
    "sb.set_style('darkgrid')\n",
    "import warnings\n",
    "def ignore_warn(*args, **kwargs):\n",
    "    pass\n",
    "warnings.warn = ignore_warn\n",
    "from scipy import stats\n",
    "from scipy.stats import norm"
   ]
  },
  {
   "cell_type": "code",
   "execution_count": 299,
   "id": "6984cca1",
   "metadata": {},
   "outputs": [],
   "source": [
    "trainX, trainY = read_csv('data/train.csv', ylabel='price')"
   ]
  },
  {
   "cell_type": "code",
   "execution_count": 300,
   "id": "c7625f2b",
   "metadata": {},
   "outputs": [
    {
     "data": {
      "text/html": [
       "<div>\n",
       "<style scoped>\n",
       "    .dataframe tbody tr th:only-of-type {\n",
       "        vertical-align: middle;\n",
       "    }\n",
       "\n",
       "    .dataframe tbody tr th {\n",
       "        vertical-align: top;\n",
       "    }\n",
       "\n",
       "    .dataframe thead th {\n",
       "        text-align: right;\n",
       "    }\n",
       "</style>\n",
       "<table border=\"1\" class=\"dataframe\">\n",
       "  <thead>\n",
       "    <tr style=\"text-align: right;\">\n",
       "      <th></th>\n",
       "      <th>listing_id</th>\n",
       "      <th>title</th>\n",
       "      <th>address</th>\n",
       "      <th>property_name</th>\n",
       "      <th>property_type</th>\n",
       "      <th>tenure</th>\n",
       "      <th>built_year</th>\n",
       "      <th>num_beds</th>\n",
       "      <th>num_baths</th>\n",
       "      <th>size_sqft</th>\n",
       "      <th>floor_level</th>\n",
       "      <th>furnishing</th>\n",
       "      <th>available_unit_types</th>\n",
       "      <th>total_num_units</th>\n",
       "      <th>property_details_url</th>\n",
       "      <th>lat</th>\n",
       "      <th>lng</th>\n",
       "      <th>elevation</th>\n",
       "      <th>subzone</th>\n",
       "      <th>planning_area</th>\n",
       "    </tr>\n",
       "  </thead>\n",
       "  <tbody>\n",
       "    <tr>\n",
       "      <th>0</th>\n",
       "      <td>122881</td>\n",
       "      <td>hdb flat for sale in 866 yishun street 81</td>\n",
       "      <td>sembawang / yishun (d27)</td>\n",
       "      <td>866 yishun street 81</td>\n",
       "      <td>hdb 4 rooms</td>\n",
       "      <td>NaN</td>\n",
       "      <td>1988.0</td>\n",
       "      <td>3.0</td>\n",
       "      <td>2.0</td>\n",
       "      <td>1115</td>\n",
       "      <td>NaN</td>\n",
       "      <td>unspecified</td>\n",
       "      <td>NaN</td>\n",
       "      <td>116.0</td>\n",
       "      <td>https://www.99.co/singapore/hdb/866-yishun-str...</td>\n",
       "      <td>1.414399</td>\n",
       "      <td>103.837196</td>\n",
       "      <td>0</td>\n",
       "      <td>yishun south</td>\n",
       "      <td>yishun</td>\n",
       "    </tr>\n",
       "    <tr>\n",
       "      <th>1</th>\n",
       "      <td>259374</td>\n",
       "      <td>hdb flat for sale in 506b serangoon north aven...</td>\n",
       "      <td>hougang / punggol / sengkang (d19)</td>\n",
       "      <td>hdb-serangoon estate</td>\n",
       "      <td>hdb</td>\n",
       "      <td>99-year leasehold</td>\n",
       "      <td>1992.0</td>\n",
       "      <td>4.0</td>\n",
       "      <td>2.0</td>\n",
       "      <td>1575</td>\n",
       "      <td>NaN</td>\n",
       "      <td>unspecified</td>\n",
       "      <td>1, 2, 3, 4, 5, 6 br</td>\n",
       "      <td>NaN</td>\n",
       "      <td>https://www.99.co/singapore/hdb/hdbserangoon-e...</td>\n",
       "      <td>1.372597</td>\n",
       "      <td>103.875625</td>\n",
       "      <td>0</td>\n",
       "      <td>serangoon north</td>\n",
       "      <td>serangoon</td>\n",
       "    </tr>\n",
       "    <tr>\n",
       "      <th>2</th>\n",
       "      <td>665422</td>\n",
       "      <td>4 bed condo for sale in meyerhouse</td>\n",
       "      <td>128 meyer road</td>\n",
       "      <td>meyerhouse</td>\n",
       "      <td>condo</td>\n",
       "      <td>freehold</td>\n",
       "      <td>2022.0</td>\n",
       "      <td>4.0</td>\n",
       "      <td>6.0</td>\n",
       "      <td>3070</td>\n",
       "      <td>low</td>\n",
       "      <td>partial</td>\n",
       "      <td>studio, 3, 4, 5, 6 br</td>\n",
       "      <td>56.0</td>\n",
       "      <td>https://www.99.co/singapore/condos-apartments/...</td>\n",
       "      <td>1.298773</td>\n",
       "      <td>103.895798</td>\n",
       "      <td>0</td>\n",
       "      <td>mountbatten</td>\n",
       "      <td>marine parade</td>\n",
       "    </tr>\n",
       "    <tr>\n",
       "      <th>3</th>\n",
       "      <td>857699</td>\n",
       "      <td>3 bed condo for sale in leedon green</td>\n",
       "      <td>26 leedon heights</td>\n",
       "      <td>leedon green</td>\n",
       "      <td>Condo</td>\n",
       "      <td>freehold</td>\n",
       "      <td>2023.0</td>\n",
       "      <td>3.0</td>\n",
       "      <td>2.0</td>\n",
       "      <td>958</td>\n",
       "      <td>NaN</td>\n",
       "      <td>partial</td>\n",
       "      <td>studio, 1, 2, 3, 4 br</td>\n",
       "      <td>638.0</td>\n",
       "      <td>https://www.99.co/singapore/condos-apartments/...</td>\n",
       "      <td>1.312364</td>\n",
       "      <td>103.803271</td>\n",
       "      <td>0</td>\n",
       "      <td>farrer court</td>\n",
       "      <td>bukit timah</td>\n",
       "    </tr>\n",
       "    <tr>\n",
       "      <th>4</th>\n",
       "      <td>216061</td>\n",
       "      <td>2 bed condo for sale in one bernam</td>\n",
       "      <td>1 bernam street</td>\n",
       "      <td>one bernam</td>\n",
       "      <td>condo</td>\n",
       "      <td>99-year leasehold</td>\n",
       "      <td>2026.0</td>\n",
       "      <td>2.0</td>\n",
       "      <td>1.0</td>\n",
       "      <td>732</td>\n",
       "      <td>NaN</td>\n",
       "      <td>unspecified</td>\n",
       "      <td>studio, 1, 2, 3, 4, 5 br</td>\n",
       "      <td>351.0</td>\n",
       "      <td>https://www.99.co/singapore/condos-apartments/...</td>\n",
       "      <td>1.273959</td>\n",
       "      <td>103.843635</td>\n",
       "      <td>0</td>\n",
       "      <td>anson</td>\n",
       "      <td>downtown core</td>\n",
       "    </tr>\n",
       "  </tbody>\n",
       "</table>\n",
       "</div>"
      ],
      "text/plain": [
       "   listing_id                                              title  \\\n",
       "0      122881          hdb flat for sale in 866 yishun street 81   \n",
       "1      259374  hdb flat for sale in 506b serangoon north aven...   \n",
       "2      665422                 4 bed condo for sale in meyerhouse   \n",
       "3      857699               3 bed condo for sale in leedon green   \n",
       "4      216061                 2 bed condo for sale in one bernam   \n",
       "\n",
       "                              address         property_name property_type  \\\n",
       "0            sembawang / yishun (d27)  866 yishun street 81   hdb 4 rooms   \n",
       "1  hougang / punggol / sengkang (d19)  hdb-serangoon estate           hdb   \n",
       "2                      128 meyer road            meyerhouse         condo   \n",
       "3                   26 leedon heights          leedon green         Condo   \n",
       "4                     1 bernam street            one bernam         condo   \n",
       "\n",
       "              tenure  built_year  num_beds  num_baths  size_sqft floor_level  \\\n",
       "0                NaN      1988.0       3.0        2.0       1115         NaN   \n",
       "1  99-year leasehold      1992.0       4.0        2.0       1575         NaN   \n",
       "2           freehold      2022.0       4.0        6.0       3070         low   \n",
       "3           freehold      2023.0       3.0        2.0        958         NaN   \n",
       "4  99-year leasehold      2026.0       2.0        1.0        732         NaN   \n",
       "\n",
       "    furnishing      available_unit_types  total_num_units  \\\n",
       "0  unspecified                       NaN            116.0   \n",
       "1  unspecified       1, 2, 3, 4, 5, 6 br              NaN   \n",
       "2      partial     studio, 3, 4, 5, 6 br             56.0   \n",
       "3      partial     studio, 1, 2, 3, 4 br            638.0   \n",
       "4  unspecified  studio, 1, 2, 3, 4, 5 br            351.0   \n",
       "\n",
       "                                property_details_url       lat         lng  \\\n",
       "0  https://www.99.co/singapore/hdb/866-yishun-str...  1.414399  103.837196   \n",
       "1  https://www.99.co/singapore/hdb/hdbserangoon-e...  1.372597  103.875625   \n",
       "2  https://www.99.co/singapore/condos-apartments/...  1.298773  103.895798   \n",
       "3  https://www.99.co/singapore/condos-apartments/...  1.312364  103.803271   \n",
       "4  https://www.99.co/singapore/condos-apartments/...  1.273959  103.843635   \n",
       "\n",
       "   elevation          subzone  planning_area  \n",
       "0          0     yishun south         yishun  \n",
       "1          0  serangoon north      serangoon  \n",
       "2          0      mountbatten  marine parade  \n",
       "3          0     farrer court    bukit timah  \n",
       "4          0            anson  downtown core  "
      ]
     },
     "execution_count": 300,
     "metadata": {},
     "output_type": "execute_result"
    }
   ],
   "source": [
    "trainX.head()"
   ]
  },
  {
   "cell_type": "code",
   "execution_count": 301,
   "id": "07a0d654",
   "metadata": {},
   "outputs": [
    {
     "data": {
      "text/plain": [
       "0     514500.0\n",
       "1     995400.0\n",
       "2    8485000.0\n",
       "3    2626000.0\n",
       "4    1764000.0\n",
       "Name: price, dtype: float64"
      ]
     },
     "execution_count": 301,
     "metadata": {},
     "output_type": "execute_result"
    }
   ],
   "source": [
    "trainY.head()"
   ]
  },
  {
   "cell_type": "code",
   "execution_count": 302,
   "id": "83284b10",
   "metadata": {},
   "outputs": [
    {
     "data": {
      "text/plain": [
       "(20254, 20)"
      ]
     },
     "execution_count": 302,
     "metadata": {},
     "output_type": "execute_result"
    }
   ],
   "source": [
    "trainX.shape"
   ]
  },
  {
   "cell_type": "code",
   "execution_count": 303,
   "id": "323d57a1",
   "metadata": {},
   "outputs": [
    {
     "data": {
      "text/plain": [
       "(20254, 20)"
      ]
     },
     "execution_count": 303,
     "metadata": {},
     "output_type": "execute_result"
    }
   ],
   "source": [
    "# Check if we have duplicate records in the dataset (we don't)\n",
    "trainX_copy = trainX.copy()\n",
    "trainX_copy.drop_duplicates()\n",
    "trainX_copy.shape "
   ]
  },
  {
   "cell_type": "code",
   "execution_count": 293,
   "id": "47d6065f",
   "metadata": {},
   "outputs": [
    {
     "name": "stdout",
     "output_type": "stream",
     "text": [
      "count    20174.000000\n",
      "mean         3.122931\n",
      "std          1.281658\n",
      "min          1.000000\n",
      "25%          2.000000\n",
      "50%          3.000000\n",
      "75%          4.000000\n",
      "max         10.000000\n",
      "Name: num_beds, dtype: float64\n",
      "\n",
      "count    19820.000000\n",
      "mean         2.643542\n",
      "std          1.473835\n",
      "min          1.000000\n",
      "25%          2.000000\n",
      "50%          2.000000\n",
      "75%          3.000000\n",
      "max         10.000000\n",
      "Name: num_baths, dtype: float64\n",
      "\n",
      "count    2.025400e+04\n",
      "mean     1.854364e+03\n",
      "std      1.354343e+04\n",
      "min      0.000000e+00\n",
      "25%      8.070000e+02\n",
      "50%      1.119000e+03\n",
      "75%      1.528000e+03\n",
      "max      1.496000e+06\n",
      "Name: size_sqft, dtype: float64\n"
     ]
    }
   ],
   "source": [
    "print(trainX['num_beds'].describe())\n",
    "print()\n",
    "print(trainX['num_baths'].describe())\n",
    "print()\n",
    "print(trainX['size_sqft'].describe())"
   ]
  },
  {
   "cell_type": "code",
   "execution_count": 304,
   "id": "ea0f9156",
   "metadata": {},
   "outputs": [
    {
     "data": {
      "text/plain": [
       "high                1674\n",
       "low                  719\n",
       "mid                  705\n",
       "ground               178\n",
       "top                  116\n",
       "penthouse             97\n",
       "high (70 total)        4\n",
       "ground (9 total)       4\n",
       "low (17 total)         2\n",
       "high (25 total)        2\n",
       "low (23 total)         1\n",
       "high (23 total)        1\n",
       "mid (25 total)         1\n",
       "high (9 total)         1\n",
       "high (17 total)        1\n",
       "high (10 total)        1\n",
       "mid (9 total)          1\n",
       "Name: floor_level, dtype: int64"
      ]
     },
     "execution_count": 304,
     "metadata": {},
     "output_type": "execute_result"
    }
   ],
   "source": [
    "# trainX['property_type'].value_counts() # 39 distinct values (tricky column as we cannot ignore this field)\n",
    "# trainX['num_beds'].value_counts() # 10 distinct values (1 to 10)\n",
    "# trainX['num_baths'].value_counts() # 10 distinct values (1 to 10)\n",
    "# trainX['tenure'].value_counts().count() # 11 distinct values (can apply encoding)\n",
    "# trainX['built_year'].value_counts()\n",
    "trainX['floor_level'].value_counts() # eliminate this column as most values are NaN\n",
    "# trainX['furnishing'].value_counts() # 5 distinct values (can apply one-hot encoding)\n",
    "# trainX['subzone'].value_counts() # 244 distinct values (cannot be considered for regression analysis)\n",
    "#trainX['planning_area'].value_counts() # 43 distinct values (might be conisidered for regression analysis)\n"
   ]
  },
  {
   "cell_type": "code",
   "execution_count": 306,
   "id": "2a3d8d7b",
   "metadata": {
    "scrolled": true
   },
   "outputs": [
    {
     "data": {
      "text/plain": [
       "<seaborn.axisgrid.PairGrid at 0x7f93d314a850>"
      ]
     },
     "execution_count": 306,
     "metadata": {},
     "output_type": "execute_result"
    },
    {
     "data": {
      "image/png": "[encoded data removed]",
      "text/plain": [
       "<Figure size 540x540 with 12 Axes>"
      ]
     },
     "metadata": {},
     "output_type": "display_data"
    }
   ],
   "source": [
    "sb.pairplot(trainX, vars=['num_beds', 'num_baths', 'size_sqft'])"
   ]
  },
  {
   "cell_type": "code",
   "execution_count": 307,
   "id": "d6f63a47",
   "metadata": {},
   "outputs": [
    {
     "name": "stdout",
     "output_type": "stream",
     "text": [
      "trainX.shape = (20254, 13)\n"
     ]
    }
   ],
   "source": [
    "trainX.drop(['listing_id', 'title', 'address', 'property_name', 'property_details_url', 'floor_level', 'elevation'], axis=1, inplace = True)\n",
    "print('trainX.shape = {}'.format(trainX.shape))"
   ]
  },
  {
   "cell_type": "code",
   "execution_count": 308,
   "id": "d0aaa52e",
   "metadata": {},
   "outputs": [
    {
     "data": {
      "image/png": "[encoded data removed]",
      "text/plain": [
       "<Figure size 432x288 with 1 Axes>"
      ]
     },
     "metadata": {},
     "output_type": "display_data"
    }
   ],
   "source": [
    "fig, ax = plt.subplots()\n",
    "ax.scatter(x = trainX['size_sqft'], y = np.log1p(trainY))\n",
    "plt.ylabel('price', fontsize=15)\n",
    "plt.xlabel('size_sqft', fontsize=15)\n",
    "plt.show()"
   ]
  },
  {
   "cell_type": "code",
   "execution_count": 309,
   "id": "8834ae19",
   "metadata": {},
   "outputs": [
    {
     "data": {
      "image/png": "[encoded data removed]",
      "text/plain": [
       "<Figure size 432x288 with 1 Axes>"
      ]
     },
     "metadata": {},
     "output_type": "display_data"
    }
   ],
   "source": [
    "fig, ax = plt.subplots()\n",
    "ax.scatter(x = trainX['num_beds'], y = np.log1p(trainY))\n",
    "plt.ylabel('price', fontsize=15)\n",
    "plt.xlabel('num_beds', fontsize=15)\n",
    "plt.show()"
   ]
  },
  {
   "cell_type": "code",
   "execution_count": 310,
   "id": "59a1727f",
   "metadata": {},
   "outputs": [
    {
     "data": {
      "image/png": "[encoded data removed]",
      "text/plain": [
       "<Figure size 432x288 with 1 Axes>"
      ]
     },
     "metadata": {},
     "output_type": "display_data"
    }
   ],
   "source": [
    "fig, ax = plt.subplots()\n",
    "ax.scatter(x = trainX['num_baths'], y = np.log1p(trainY))\n",
    "plt.ylabel('price', fontsize=15)\n",
    "plt.xlabel('num_baths', fontsize=15)\n",
    "plt.show()"
   ]
  },
  {
   "cell_type": "code",
   "execution_count": 311,
   "id": "771421ab",
   "metadata": {},
   "outputs": [
    {
     "data": {
      "image/png": "[encoded data removed]",
      "text/plain": [
       "<Figure size 432x288 with 1 Axes>"
      ]
     },
     "metadata": {},
     "output_type": "display_data"
    },
    {
     "data": {
      "image/png": "[encoded data removed]",
      "text/plain": [
       "<Figure size 432x288 with 1 Axes>"
      ]
     },
     "metadata": {},
     "output_type": "display_data"
    }
   ],
   "source": [
    "sb.distplot(trainY , fit=norm);\n",
    "(mu, sigma) = norm.fit(trainY)\n",
    "plt.legend(['Normal dist. ($\\mu=$ {:.2f} and $\\sigma=$ {:.2f} )'.format(mu, sigma)],\n",
    "            loc='best')\n",
    "plt.ylabel('Frequency')\n",
    "plt.title('price distribution')\n",
    "fig = plt.figure()\n",
    "res = stats.probplot(trainY, plot=plt)\n",
    "plt.show()"
   ]
  },
  {
   "cell_type": "code",
   "execution_count": 312,
   "id": "f2dfaf8e",
   "metadata": {},
   "outputs": [
    {
     "data": {
      "image/png": "[encoded data removed]",
      "text/plain": [
       "<Figure size 432x288 with 1 Axes>"
      ]
     },
     "metadata": {},
     "output_type": "display_data"
    },
    {
     "data": {
      "image/png": "[encoded data removed]",
      "text/plain": [
       "<Figure size 432x288 with 1 Axes>"
      ]
     },
     "metadata": {},
     "output_type": "display_data"
    }
   ],
   "source": [
    "trainY_log = np.log1p(trainY)\n",
    " \n",
    "sb.distplot(trainY_log , fit=norm);\n",
    "(mu, sigma) = norm.fit(trainY_log)\n",
    "plt.legend(['Normal dist. ($\\mu=$ {:.2f} and $\\sigma=$ {:.2f} )'.format(mu, sigma)],\n",
    "            loc='best')\n",
    "plt.ylabel('Frequency')\n",
    "plt.title('price distribution')\n",
    "fig = plt.figure()\n",
    "res = stats.probplot(trainY_log, plot=plt)\n",
    "plt.show()"
   ]
  },
  {
   "cell_type": "code",
   "execution_count": 313,
   "id": "5c265218",
   "metadata": {},
   "outputs": [
    {
     "name": "stdout",
     "output_type": "stream",
     "text": [
      "total_num_units, dtype = float64\n",
      "tenure, dtype = object\n",
      "available_unit_types, dtype = object\n",
      "built_year, dtype = float64\n",
      "num_baths, dtype = float64\n",
      "subzone, dtype = object\n",
      "planning_area, dtype = object\n",
      "num_beds, dtype = float64\n"
     ]
    },
    {
     "data": {
      "text/html": [
       "<div>\n",
       "<style scoped>\n",
       "    .dataframe tbody tr th:only-of-type {\n",
       "        vertical-align: middle;\n",
       "    }\n",
       "\n",
       "    .dataframe tbody tr th {\n",
       "        vertical-align: top;\n",
       "    }\n",
       "\n",
       "    .dataframe thead th {\n",
       "        text-align: right;\n",
       "    }\n",
       "</style>\n",
       "<table border=\"1\" class=\"dataframe\">\n",
       "  <thead>\n",
       "    <tr style=\"text-align: right;\">\n",
       "      <th></th>\n",
       "      <th>Missing Ratio</th>\n",
       "    </tr>\n",
       "  </thead>\n",
       "  <tbody>\n",
       "    <tr>\n",
       "      <th>total_num_units</th>\n",
       "      <td>27.905599</td>\n",
       "    </tr>\n",
       "    <tr>\n",
       "      <th>tenure</th>\n",
       "      <td>8.506962</td>\n",
       "    </tr>\n",
       "    <tr>\n",
       "      <th>available_unit_types</th>\n",
       "      <td>7.114644</td>\n",
       "    </tr>\n",
       "    <tr>\n",
       "      <th>built_year</th>\n",
       "      <td>4.552187</td>\n",
       "    </tr>\n",
       "    <tr>\n",
       "      <th>num_baths</th>\n",
       "      <td>2.142787</td>\n",
       "    </tr>\n",
       "    <tr>\n",
       "      <th>subzone</th>\n",
       "      <td>0.557914</td>\n",
       "    </tr>\n",
       "    <tr>\n",
       "      <th>planning_area</th>\n",
       "      <td>0.557914</td>\n",
       "    </tr>\n",
       "    <tr>\n",
       "      <th>num_beds</th>\n",
       "      <td>0.394984</td>\n",
       "    </tr>\n",
       "  </tbody>\n",
       "</table>\n",
       "</div>"
      ],
      "text/plain": [
       "                      Missing Ratio\n",
       "total_num_units           27.905599\n",
       "tenure                     8.506962\n",
       "available_unit_types       7.114644\n",
       "built_year                 4.552187\n",
       "num_baths                  2.142787\n",
       "subzone                    0.557914\n",
       "planning_area              0.557914\n",
       "num_beds                   0.394984"
      ]
     },
     "execution_count": 313,
     "metadata": {},
     "output_type": "execute_result"
    }
   ],
   "source": [
    "# Ratio of the number of data samples which have NA to the total number of data samples in training set\n",
    "all_data_na = (trainX.isnull().sum() / len(trainX)) * 100\n",
    "all_data_na = all_data_na.drop(all_data_na[all_data_na == 0].index).sort_values(ascending=False)\n",
    "missing_data = pd.DataFrame({'Missing Ratio': all_data_na})\n",
    "\n",
    "for each_na_feature in np.transpose(missing_data).columns:\n",
    "    print('{}, dtype = {}'.format(each_na_feature, trainX[str(each_na_feature)].dtype))\n",
    "\n",
    "missing_data.head(15)"
   ]
  },
  {
   "cell_type": "code",
   "execution_count": 179,
   "id": "6594934a",
   "metadata": {},
   "outputs": [
    {
     "data": {
      "text/plain": [
       "Text(0.5, 1.0, '% missing data by feature')"
      ]
     },
     "execution_count": 179,
     "metadata": {},
     "output_type": "execute_result"
    },
    {
     "data": {
      "image/png": "[encoded data removed]",
      "text/plain": [
       "<Figure size 720x576 with 1 Axes>"
      ]
     },
     "metadata": {},
     "output_type": "display_data"
    }
   ],
   "source": [
    "f, ax = plt.subplots(figsize=(10, 8))\n",
    "plt.xticks(rotation='90')\n",
    "sb.barplot(x=all_data_na.index, y=all_data_na)\n",
    "plt.xlabel('Features', fontsize=15)\n",
    "plt.ylabel('% of missing values', fontsize=15)\n",
    "plt.title('% missing data by feature', fontsize=15)"
   ]
  },
  {
   "cell_type": "code",
   "execution_count": 315,
   "id": "1dcf6667",
   "metadata": {},
   "outputs": [],
   "source": [
    "# treatment of float type features with NaN values (we fill it the most frequently occuring value)\n",
    "for each_na_column in ['total_num_units', 'built_year', 'num_baths', 'num_beds']:\n",
    "    trainX[each_na_column] = trainX[each_na_column].fillna(trainX[each_na_column].mode()[0])\n",
    "\n",
    "# treatment of object type features with null values (we create a separate category called None)\n",
    "for each_na_column in ['tenure', 'available_unit_types', 'subzone', 'planning_area']:\n",
    "    trainX[each_na_column] = trainX[each_na_column].fillna('None')"
   ]
  },
  {
   "cell_type": "code",
   "execution_count": 316,
   "id": "6180c8ae",
   "metadata": {},
   "outputs": [
    {
     "data": {
      "text/html": [
       "<div>\n",
       "<style scoped>\n",
       "    .dataframe tbody tr th:only-of-type {\n",
       "        vertical-align: middle;\n",
       "    }\n",
       "\n",
       "    .dataframe tbody tr th {\n",
       "        vertical-align: top;\n",
       "    }\n",
       "\n",
       "    .dataframe thead th {\n",
       "        text-align: right;\n",
       "    }\n",
       "</style>\n",
       "<table border=\"1\" class=\"dataframe\">\n",
       "  <thead>\n",
       "    <tr style=\"text-align: right;\">\n",
       "      <th></th>\n",
       "      <th>Missing Ratio</th>\n",
       "    </tr>\n",
       "  </thead>\n",
       "  <tbody>\n",
       "  </tbody>\n",
       "</table>\n",
       "</div>"
      ],
      "text/plain": [
       "Empty DataFrame\n",
       "Columns: [Missing Ratio]\n",
       "Index: []"
      ]
     },
     "execution_count": 316,
     "metadata": {},
     "output_type": "execute_result"
    }
   ],
   "source": [
    "# Verify if there is any more missing data\n",
    "all_data_na = (trainX.isnull().sum() / len(trainX)) * 100\n",
    "all_data_na = all_data_na.drop(all_data_na[all_data_na == 0].index).sort_values(ascending=False)\n",
    "missing_data = pd.DataFrame({'Missing Ratio' :all_data_na})\n",
    "missing_data.head()"
   ]
  },
  {
   "cell_type": "code",
   "execution_count": 317,
   "id": "ace1db02",
   "metadata": {},
   "outputs": [
    {
     "name": "stdout",
     "output_type": "stream",
     "text": [
      "price              1.000000\n",
      "num_baths          0.049991\n",
      "total_num_units    0.003643\n",
      "size_sqft          0.000805\n",
      "lng                0.000150\n",
      "lat               -0.000516\n",
      "num_beds          -0.004297\n",
      "built_year        -0.004798\n",
      "Name: price, dtype: float64\n"
     ]
    }
   ],
   "source": [
    "# Correlation of the price feature with the rest of the numerical features in the training dataset\n",
    "# We see that the elevation feature can be dropped from the dataset (dropped it already)\n",
    "df_trainY = pd.DataFrame(data=trainY, columns=['price'])\n",
    "column_names = list(trainX.columns.values)\n",
    "column_names.append('price')\n",
    "train_X_Y = pd.concat([trainX, df_trainY],axis=1, ignore_index=True, sort=False)\n",
    "train_X_Y.columns = column_names\n",
    "\n",
    "corr_matrix = train_X_Y.corr()\n",
    "print(corr_matrix['price'].sort_values(ascending=False))"
   ]
  },
  {
   "cell_type": "code",
   "execution_count": 318,
   "id": "377cee61",
   "metadata": {},
   "outputs": [
    {
     "data": {
      "text/plain": [
       "<seaborn.axisgrid.FacetGrid at 0x7f93cb680cd0>"
      ]
     },
     "execution_count": 318,
     "metadata": {},
     "output_type": "execute_result"
    },
    {
     "data": {
      "image/png": "[encoded data removed]",
      "text/plain": [
       "<Figure size 360x360 with 1 Axes>"
      ]
     },
     "metadata": {},
     "output_type": "display_data"
    }
   ],
   "source": [
    "sb.displot(trainX, x='num_beds', bins=10)"
   ]
  },
  {
   "cell_type": "code",
   "execution_count": 319,
   "id": "bbf758f5",
   "metadata": {},
   "outputs": [
    {
     "data": {
      "text/plain": [
       "<seaborn.axisgrid.FacetGrid at 0x7f93ce861130>"
      ]
     },
     "execution_count": 319,
     "metadata": {},
     "output_type": "execute_result"
    },
    {
     "data": {
      "image/png": "[encoded data removed]",
      "text/plain": [
       "<Figure size 360x360 with 1 Axes>"
      ]
     },
     "metadata": {},
     "output_type": "display_data"
    }
   ],
   "source": [
    "sb.displot(trainX, x='num_baths', bins=10)"
   ]
  },
  {
   "cell_type": "code",
   "execution_count": 320,
   "id": "e9dc739a",
   "metadata": {},
   "outputs": [
    {
     "data": {
      "image/png": "[encoded data removed]",
      "text/plain": [
       "<Figure size 576x1080 with 1 Axes>"
      ]
     },
     "metadata": {},
     "output_type": "display_data"
    }
   ],
   "source": [
    "bins = [100, 300, 700, 1000, 1500, 2000, 5000, 10000, 20000]\n",
    "hist, _ = np.histogram(trainX['size_sqft'], bins=bins)\n",
    "plt.figure(figsize=(8, 15))\n",
    "ax = sb.barplot(x = list(range(len(hist))), y = hist)\n",
    "ax.set_yticks(100 * np.arange(0, 80, 5))\n",
    "plt.show()"
   ]
  },
  {
   "cell_type": "code",
   "execution_count": 228,
   "id": "ca6d0474",
   "metadata": {},
   "outputs": [
    {
     "data": {
      "text/html": [
       "<div>\n",
       "<style scoped>\n",
       "    .dataframe tbody tr th:only-of-type {\n",
       "        vertical-align: middle;\n",
       "    }\n",
       "\n",
       "    .dataframe tbody tr th {\n",
       "        vertical-align: top;\n",
       "    }\n",
       "\n",
       "    .dataframe thead th {\n",
       "        text-align: right;\n",
       "    }\n",
       "</style>\n",
       "<table border=\"1\" class=\"dataframe\">\n",
       "  <thead>\n",
       "    <tr style=\"text-align: right;\">\n",
       "      <th></th>\n",
       "      <th>property_type</th>\n",
       "      <th>tenure</th>\n",
       "      <th>built_year</th>\n",
       "      <th>num_beds</th>\n",
       "      <th>num_baths</th>\n",
       "      <th>size_sqft</th>\n",
       "      <th>furnishing</th>\n",
       "      <th>available_unit_types</th>\n",
       "      <th>total_num_units</th>\n",
       "      <th>lat</th>\n",
       "      <th>lng</th>\n",
       "      <th>subzone</th>\n",
       "      <th>planning_area</th>\n",
       "    </tr>\n",
       "  </thead>\n",
       "  <tbody>\n",
       "    <tr>\n",
       "      <th>1649</th>\n",
       "      <td>bungalow</td>\n",
       "      <td>freehold</td>\n",
       "      <td>2011.0</td>\n",
       "      <td>10.0</td>\n",
       "      <td>10.0</td>\n",
       "      <td>30000</td>\n",
       "      <td>unspecified</td>\n",
       "      <td>3, 4, 5, 6, 7, 8, 10 br</td>\n",
       "      <td>638.0</td>\n",
       "      <td>1.346020</td>\n",
       "      <td>103.867198</td>\n",
       "      <td>lorong chuan</td>\n",
       "      <td>serangoon</td>\n",
       "    </tr>\n",
       "    <tr>\n",
       "      <th>2701</th>\n",
       "      <td>condo</td>\n",
       "      <td>946-year leasehold</td>\n",
       "      <td>2008.0</td>\n",
       "      <td>3.0</td>\n",
       "      <td>2.0</td>\n",
       "      <td>1185000</td>\n",
       "      <td>unfurnished</td>\n",
       "      <td>3 br</td>\n",
       "      <td>36.0</td>\n",
       "      <td>1.379105</td>\n",
       "      <td>103.960613</td>\n",
       "      <td>pasir ris park</td>\n",
       "      <td>pasir ris</td>\n",
       "    </tr>\n",
       "    <tr>\n",
       "      <th>4287</th>\n",
       "      <td>semi-detached house</td>\n",
       "      <td>freehold</td>\n",
       "      <td>1970.0</td>\n",
       "      <td>6.0</td>\n",
       "      <td>7.0</td>\n",
       "      <td>86080</td>\n",
       "      <td>unspecified</td>\n",
       "      <td>5, 6, 10 br</td>\n",
       "      <td>638.0</td>\n",
       "      <td>1.306408</td>\n",
       "      <td>103.932790</td>\n",
       "      <td>siglap</td>\n",
       "      <td>bedok</td>\n",
       "    </tr>\n",
       "    <tr>\n",
       "      <th>13461</th>\n",
       "      <td>terraced house</td>\n",
       "      <td>99-year leasehold</td>\n",
       "      <td>1997.0</td>\n",
       "      <td>6.0</td>\n",
       "      <td>5.0</td>\n",
       "      <td>25003</td>\n",
       "      <td>unspecified</td>\n",
       "      <td>2, 4, 5, 6 br</td>\n",
       "      <td>339.0</td>\n",
       "      <td>1.352481</td>\n",
       "      <td>103.699082</td>\n",
       "      <td>yunnan</td>\n",
       "      <td>jurong west</td>\n",
       "    </tr>\n",
       "    <tr>\n",
       "      <th>13589</th>\n",
       "      <td>bungalow</td>\n",
       "      <td>freehold</td>\n",
       "      <td>1990.0</td>\n",
       "      <td>8.0</td>\n",
       "      <td>9.0</td>\n",
       "      <td>27500</td>\n",
       "      <td>unspecified</td>\n",
       "      <td>3, 5, 6, 8 br</td>\n",
       "      <td>17.0</td>\n",
       "      <td>1.311925</td>\n",
       "      <td>103.824001</td>\n",
       "      <td>nassim</td>\n",
       "      <td>tanglin</td>\n",
       "    </tr>\n",
       "    <tr>\n",
       "      <th>15637</th>\n",
       "      <td>Bungalow</td>\n",
       "      <td>freehold</td>\n",
       "      <td>1997.0</td>\n",
       "      <td>6.0</td>\n",
       "      <td>6.0</td>\n",
       "      <td>70000</td>\n",
       "      <td>unspecified</td>\n",
       "      <td>4, 5, 6, 7 br</td>\n",
       "      <td>638.0</td>\n",
       "      <td>1.335877</td>\n",
       "      <td>103.789611</td>\n",
       "      <td>swiss club</td>\n",
       "      <td>bukit timah</td>\n",
       "    </tr>\n",
       "    <tr>\n",
       "      <th>18446</th>\n",
       "      <td>condo</td>\n",
       "      <td>99-year leasehold</td>\n",
       "      <td>2023.0</td>\n",
       "      <td>4.0</td>\n",
       "      <td>4.0</td>\n",
       "      <td>1496000</td>\n",
       "      <td>unspecified</td>\n",
       "      <td>studio, 1, 2, 3, 4 br</td>\n",
       "      <td>1074.0</td>\n",
       "      <td>1.304855</td>\n",
       "      <td>103.773776</td>\n",
       "      <td>dover</td>\n",
       "      <td>queenstown</td>\n",
       "    </tr>\n",
       "  </tbody>\n",
       "</table>\n",
       "</div>"
      ],
      "text/plain": [
       "             property_type              tenure  built_year  num_beds  \\\n",
       "1649              bungalow            freehold      2011.0      10.0   \n",
       "2701                 condo  946-year leasehold      2008.0       3.0   \n",
       "4287   semi-detached house            freehold      1970.0       6.0   \n",
       "13461       terraced house   99-year leasehold      1997.0       6.0   \n",
       "13589             bungalow            freehold      1990.0       8.0   \n",
       "15637             Bungalow            freehold      1997.0       6.0   \n",
       "18446                condo   99-year leasehold      2023.0       4.0   \n",
       "\n",
       "       num_baths  size_sqft   furnishing     available_unit_types  \\\n",
       "1649        10.0      30000  unspecified  3, 4, 5, 6, 7, 8, 10 br   \n",
       "2701         2.0    1185000  unfurnished                     3 br   \n",
       "4287         7.0      86080  unspecified              5, 6, 10 br   \n",
       "13461        5.0      25003  unspecified            2, 4, 5, 6 br   \n",
       "13589        9.0      27500  unspecified            3, 5, 6, 8 br   \n",
       "15637        6.0      70000  unspecified            4, 5, 6, 7 br   \n",
       "18446        4.0    1496000  unspecified    studio, 1, 2, 3, 4 br   \n",
       "\n",
       "       total_num_units       lat         lng         subzone planning_area  \n",
       "1649             638.0  1.346020  103.867198    lorong chuan     serangoon  \n",
       "2701              36.0  1.379105  103.960613  pasir ris park     pasir ris  \n",
       "4287             638.0  1.306408  103.932790          siglap         bedok  \n",
       "13461            339.0  1.352481  103.699082          yunnan   jurong west  \n",
       "13589             17.0  1.311925  103.824001          nassim       tanglin  \n",
       "15637            638.0  1.335877  103.789611      swiss club   bukit timah  \n",
       "18446           1074.0  1.304855  103.773776           dover    queenstown  "
      ]
     },
     "execution_count": 228,
     "metadata": {},
     "output_type": "execute_result"
    }
   ],
   "source": [
    "trainX[trainX['size_sqft'] > 20000] # 7 data samples where the size_sqft is greater than 20,000"
   ]
  },
  {
   "cell_type": "code",
   "execution_count": 247,
   "id": "8485d2a9",
   "metadata": {},
   "outputs": [
    {
     "data": {
      "text/html": [
       "<div>\n",
       "<style scoped>\n",
       "    .dataframe tbody tr th:only-of-type {\n",
       "        vertical-align: middle;\n",
       "    }\n",
       "\n",
       "    .dataframe tbody tr th {\n",
       "        vertical-align: top;\n",
       "    }\n",
       "\n",
       "    .dataframe thead th {\n",
       "        text-align: right;\n",
       "    }\n",
       "</style>\n",
       "<table border=\"1\" class=\"dataframe\">\n",
       "  <thead>\n",
       "    <tr style=\"text-align: right;\">\n",
       "      <th></th>\n",
       "      <th>property_type</th>\n",
       "      <th>tenure</th>\n",
       "      <th>built_year</th>\n",
       "      <th>num_beds</th>\n",
       "      <th>num_baths</th>\n",
       "      <th>size_sqft</th>\n",
       "      <th>furnishing</th>\n",
       "      <th>available_unit_types</th>\n",
       "      <th>total_num_units</th>\n",
       "      <th>lat</th>\n",
       "      <th>lng</th>\n",
       "      <th>subzone</th>\n",
       "      <th>planning_area</th>\n",
       "    </tr>\n",
       "  </thead>\n",
       "  <tbody>\n",
       "    <tr>\n",
       "      <th>5682</th>\n",
       "      <td>condo</td>\n",
       "      <td>99-year leasehold</td>\n",
       "      <td>2025.0</td>\n",
       "      <td>5.0</td>\n",
       "      <td>4.0</td>\n",
       "      <td>0</td>\n",
       "      <td>unspecified</td>\n",
       "      <td>1, 2, 3, 4, 5 br</td>\n",
       "      <td>640.0</td>\n",
       "      <td>1.308012</td>\n",
       "      <td>103.767318</td>\n",
       "      <td>clementi woods</td>\n",
       "      <td>clementi</td>\n",
       "    </tr>\n",
       "    <tr>\n",
       "      <th>14825</th>\n",
       "      <td>hdb</td>\n",
       "      <td>99-year leasehold</td>\n",
       "      <td>1974.0</td>\n",
       "      <td>2.0</td>\n",
       "      <td>2.0</td>\n",
       "      <td>65</td>\n",
       "      <td>unspecified</td>\n",
       "      <td>studio, 1, 2, 3, 4, 5, 6 br</td>\n",
       "      <td>638.0</td>\n",
       "      <td>1.307529</td>\n",
       "      <td>103.794888</td>\n",
       "      <td>holland drive</td>\n",
       "      <td>queenstown</td>\n",
       "    </tr>\n",
       "    <tr>\n",
       "      <th>17623</th>\n",
       "      <td>hdb 4 rooms</td>\n",
       "      <td>99-year leasehold</td>\n",
       "      <td>2001.0</td>\n",
       "      <td>3.0</td>\n",
       "      <td>2.0</td>\n",
       "      <td>92</td>\n",
       "      <td>unspecified</td>\n",
       "      <td>1, 2, 3, 4 br</td>\n",
       "      <td>638.0</td>\n",
       "      <td>1.388463</td>\n",
       "      <td>103.891307</td>\n",
       "      <td>anchorvale</td>\n",
       "      <td>sengkang</td>\n",
       "    </tr>\n",
       "  </tbody>\n",
       "</table>\n",
       "</div>"
      ],
      "text/plain": [
       "      property_type             tenure  built_year  num_beds  num_baths  \\\n",
       "5682          condo  99-year leasehold      2025.0       5.0        4.0   \n",
       "14825           hdb  99-year leasehold      1974.0       2.0        2.0   \n",
       "17623   hdb 4 rooms  99-year leasehold      2001.0       3.0        2.0   \n",
       "\n",
       "       size_sqft   furnishing         available_unit_types  total_num_units  \\\n",
       "5682           0  unspecified             1, 2, 3, 4, 5 br            640.0   \n",
       "14825         65  unspecified  studio, 1, 2, 3, 4, 5, 6 br            638.0   \n",
       "17623         92  unspecified                1, 2, 3, 4 br            638.0   \n",
       "\n",
       "            lat         lng         subzone planning_area  \n",
       "5682   1.308012  103.767318  clementi woods      clementi  \n",
       "14825  1.307529  103.794888   holland drive    queenstown  \n",
       "17623  1.388463  103.891307      anchorvale      sengkang  "
      ]
     },
     "execution_count": 247,
     "metadata": {},
     "output_type": "execute_result"
    }
   ],
   "source": [
    "trainX[trainX['size_sqft'] <= 100] # 3 data samples where the size_sqft is less than 100"
   ]
  },
  {
   "cell_type": "code",
   "execution_count": 285,
   "id": "34e45592",
   "metadata": {},
   "outputs": [
    {
     "data": {
      "image/png": "[encoded data removed]",
      "text/plain": [
       "<Figure size 576x1080 with 1 Axes>"
      ]
     },
     "metadata": {},
     "output_type": "display_data"
    }
   ],
   "source": [
    "bins = np.arange(1960, 2031, 10)\n",
    "hist, _ = np.histogram(trainX['built_year'], bins=bins)\n",
    "plt.figure(figsize=(8, 15))\n",
    "ax = sb.barplot(x = list(range(len(hist))), y = hist)\n",
    "ax.set_yticks(100 * np.arange(0, 100, 5))\n",
    "plt.show()"
   ]
  },
  {
   "cell_type": "code",
   "execution_count": 284,
   "id": "5dc26c1d",
   "metadata": {},
   "outputs": [
    {
     "data": {
      "text/html": [
       "<div>\n",
       "<style scoped>\n",
       "    .dataframe tbody tr th:only-of-type {\n",
       "        vertical-align: middle;\n",
       "    }\n",
       "\n",
       "    .dataframe tbody tr th {\n",
       "        vertical-align: top;\n",
       "    }\n",
       "\n",
       "    .dataframe thead th {\n",
       "        text-align: right;\n",
       "    }\n",
       "</style>\n",
       "<table border=\"1\" class=\"dataframe\">\n",
       "  <thead>\n",
       "    <tr style=\"text-align: right;\">\n",
       "      <th></th>\n",
       "      <th>property_type</th>\n",
       "      <th>tenure</th>\n",
       "      <th>built_year</th>\n",
       "      <th>num_beds</th>\n",
       "      <th>num_baths</th>\n",
       "      <th>size_sqft</th>\n",
       "      <th>furnishing</th>\n",
       "      <th>available_unit_types</th>\n",
       "      <th>total_num_units</th>\n",
       "      <th>lat</th>\n",
       "      <th>lng</th>\n",
       "      <th>subzone</th>\n",
       "      <th>planning_area</th>\n",
       "    </tr>\n",
       "  </thead>\n",
       "  <tbody>\n",
       "    <tr>\n",
       "      <th>3</th>\n",
       "      <td>Condo</td>\n",
       "      <td>freehold</td>\n",
       "      <td>2023.0</td>\n",
       "      <td>3.0</td>\n",
       "      <td>2.0</td>\n",
       "      <td>958</td>\n",
       "      <td>partial</td>\n",
       "      <td>studio, 1, 2, 3, 4 br</td>\n",
       "      <td>638.0</td>\n",
       "      <td>1.312364</td>\n",
       "      <td>103.803271</td>\n",
       "      <td>farrer court</td>\n",
       "      <td>bukit timah</td>\n",
       "    </tr>\n",
       "    <tr>\n",
       "      <th>4</th>\n",
       "      <td>condo</td>\n",
       "      <td>99-year leasehold</td>\n",
       "      <td>2026.0</td>\n",
       "      <td>2.0</td>\n",
       "      <td>1.0</td>\n",
       "      <td>732</td>\n",
       "      <td>unspecified</td>\n",
       "      <td>studio, 1, 2, 3, 4, 5 br</td>\n",
       "      <td>351.0</td>\n",
       "      <td>1.273959</td>\n",
       "      <td>103.843635</td>\n",
       "      <td>anson</td>\n",
       "      <td>downtown core</td>\n",
       "    </tr>\n",
       "    <tr>\n",
       "      <th>5</th>\n",
       "      <td>condo</td>\n",
       "      <td>freehold</td>\n",
       "      <td>2024.0</td>\n",
       "      <td>2.0</td>\n",
       "      <td>2.0</td>\n",
       "      <td>689</td>\n",
       "      <td>unspecified</td>\n",
       "      <td>studio, 1, 2, 3, 4, 5 br</td>\n",
       "      <td>633.0</td>\n",
       "      <td>1.339338</td>\n",
       "      <td>103.763893</td>\n",
       "      <td>bukit batok south</td>\n",
       "      <td>bukit batok</td>\n",
       "    </tr>\n",
       "    <tr>\n",
       "      <th>6</th>\n",
       "      <td>condo</td>\n",
       "      <td>99-year leasehold</td>\n",
       "      <td>2026.0</td>\n",
       "      <td>3.0</td>\n",
       "      <td>2.0</td>\n",
       "      <td>1076</td>\n",
       "      <td>unspecified</td>\n",
       "      <td>studio, 1, 2, 3, 4, 5 br</td>\n",
       "      <td>407.0</td>\n",
       "      <td>1.310640</td>\n",
       "      <td>103.852149</td>\n",
       "      <td>kampong java</td>\n",
       "      <td>kallang</td>\n",
       "    </tr>\n",
       "    <tr>\n",
       "      <th>7</th>\n",
       "      <td>bungalow</td>\n",
       "      <td>999-year leasehold</td>\n",
       "      <td>2023.0</td>\n",
       "      <td>5.0</td>\n",
       "      <td>6.0</td>\n",
       "      <td>11500</td>\n",
       "      <td>unspecified</td>\n",
       "      <td>2, 3, 4, 5, 6, 7 br</td>\n",
       "      <td>638.0</td>\n",
       "      <td>1.342340</td>\n",
       "      <td>103.784489</td>\n",
       "      <td>swiss club</td>\n",
       "      <td>bukit timah</td>\n",
       "    </tr>\n",
       "    <tr>\n",
       "      <th>...</th>\n",
       "      <td>...</td>\n",
       "      <td>...</td>\n",
       "      <td>...</td>\n",
       "      <td>...</td>\n",
       "      <td>...</td>\n",
       "      <td>...</td>\n",
       "      <td>...</td>\n",
       "      <td>...</td>\n",
       "      <td>...</td>\n",
       "      <td>...</td>\n",
       "      <td>...</td>\n",
       "      <td>...</td>\n",
       "      <td>...</td>\n",
       "    </tr>\n",
       "    <tr>\n",
       "      <th>20248</th>\n",
       "      <td>corner terrace</td>\n",
       "      <td>freehold</td>\n",
       "      <td>2023.0</td>\n",
       "      <td>5.0</td>\n",
       "      <td>6.0</td>\n",
       "      <td>4973</td>\n",
       "      <td>unspecified</td>\n",
       "      <td>3, 5, 6, 7 br</td>\n",
       "      <td>638.0</td>\n",
       "      <td>1.321145</td>\n",
       "      <td>103.813679</td>\n",
       "      <td>tyersall</td>\n",
       "      <td>tanglin</td>\n",
       "    </tr>\n",
       "    <tr>\n",
       "      <th>20249</th>\n",
       "      <td>condo</td>\n",
       "      <td>99-year leasehold</td>\n",
       "      <td>2026.0</td>\n",
       "      <td>2.0</td>\n",
       "      <td>2.0</td>\n",
       "      <td>635</td>\n",
       "      <td>unspecified</td>\n",
       "      <td>1, 2, 3, 4 br</td>\n",
       "      <td>605.0</td>\n",
       "      <td>1.385938</td>\n",
       "      <td>103.834466</td>\n",
       "      <td>tagore</td>\n",
       "      <td>ang mo kio</td>\n",
       "    </tr>\n",
       "    <tr>\n",
       "      <th>20250</th>\n",
       "      <td>Condo</td>\n",
       "      <td>freehold</td>\n",
       "      <td>2026.0</td>\n",
       "      <td>2.0</td>\n",
       "      <td>2.0</td>\n",
       "      <td>883</td>\n",
       "      <td>unspecified</td>\n",
       "      <td>1, 2, 3, 4 br</td>\n",
       "      <td>137.0</td>\n",
       "      <td>1.315948</td>\n",
       "      <td>103.857589</td>\n",
       "      <td>lavender</td>\n",
       "      <td>kallang</td>\n",
       "    </tr>\n",
       "    <tr>\n",
       "      <th>20251</th>\n",
       "      <td>condo</td>\n",
       "      <td>freehold</td>\n",
       "      <td>2023.0</td>\n",
       "      <td>4.0</td>\n",
       "      <td>4.0</td>\n",
       "      <td>1378</td>\n",
       "      <td>unspecified</td>\n",
       "      <td>studio, 1, 2, 3, 4, 5 br</td>\n",
       "      <td>340.0</td>\n",
       "      <td>1.315961</td>\n",
       "      <td>103.836848</td>\n",
       "      <td>moulmein</td>\n",
       "      <td>novena</td>\n",
       "    </tr>\n",
       "    <tr>\n",
       "      <th>20253</th>\n",
       "      <td>condo</td>\n",
       "      <td>freehold</td>\n",
       "      <td>2023.0</td>\n",
       "      <td>4.0</td>\n",
       "      <td>4.0</td>\n",
       "      <td>1378</td>\n",
       "      <td>partial</td>\n",
       "      <td>studio, 1, 2, 3, 4, 5 br</td>\n",
       "      <td>340.0</td>\n",
       "      <td>1.315961</td>\n",
       "      <td>103.836848</td>\n",
       "      <td>moulmein</td>\n",
       "      <td>novena</td>\n",
       "    </tr>\n",
       "  </tbody>\n",
       "</table>\n",
       "<p>7660 rows × 13 columns</p>\n",
       "</div>"
      ],
      "text/plain": [
       "        property_type              tenure  built_year  num_beds  num_baths  \\\n",
       "3               Condo            freehold      2023.0       3.0        2.0   \n",
       "4               condo   99-year leasehold      2026.0       2.0        1.0   \n",
       "5               condo            freehold      2024.0       2.0        2.0   \n",
       "6               condo   99-year leasehold      2026.0       3.0        2.0   \n",
       "7            bungalow  999-year leasehold      2023.0       5.0        6.0   \n",
       "...               ...                 ...         ...       ...        ...   \n",
       "20248  corner terrace            freehold      2023.0       5.0        6.0   \n",
       "20249           condo   99-year leasehold      2026.0       2.0        2.0   \n",
       "20250           Condo            freehold      2026.0       2.0        2.0   \n",
       "20251           condo            freehold      2023.0       4.0        4.0   \n",
       "20253           condo            freehold      2023.0       4.0        4.0   \n",
       "\n",
       "       size_sqft   furnishing      available_unit_types  total_num_units  \\\n",
       "3            958      partial     studio, 1, 2, 3, 4 br            638.0   \n",
       "4            732  unspecified  studio, 1, 2, 3, 4, 5 br            351.0   \n",
       "5            689  unspecified  studio, 1, 2, 3, 4, 5 br            633.0   \n",
       "6           1076  unspecified  studio, 1, 2, 3, 4, 5 br            407.0   \n",
       "7          11500  unspecified       2, 3, 4, 5, 6, 7 br            638.0   \n",
       "...          ...          ...                       ...              ...   \n",
       "20248       4973  unspecified             3, 5, 6, 7 br            638.0   \n",
       "20249        635  unspecified             1, 2, 3, 4 br            605.0   \n",
       "20250        883  unspecified             1, 2, 3, 4 br            137.0   \n",
       "20251       1378  unspecified  studio, 1, 2, 3, 4, 5 br            340.0   \n",
       "20253       1378      partial  studio, 1, 2, 3, 4, 5 br            340.0   \n",
       "\n",
       "            lat         lng            subzone  planning_area  \n",
       "3      1.312364  103.803271       farrer court    bukit timah  \n",
       "4      1.273959  103.843635              anson  downtown core  \n",
       "5      1.339338  103.763893  bukit batok south    bukit batok  \n",
       "6      1.310640  103.852149       kampong java        kallang  \n",
       "7      1.342340  103.784489         swiss club    bukit timah  \n",
       "...         ...         ...                ...            ...  \n",
       "20248  1.321145  103.813679           tyersall        tanglin  \n",
       "20249  1.385938  103.834466             tagore     ang mo kio  \n",
       "20250  1.315948  103.857589           lavender        kallang  \n",
       "20251  1.315961  103.836848           moulmein         novena  \n",
       "20253  1.315961  103.836848           moulmein         novena  \n",
       "\n",
       "[7660 rows x 13 columns]"
      ]
     },
     "execution_count": 284,
     "metadata": {},
     "output_type": "execute_result"
    }
   ],
   "source": [
    "trainX[trainX['built_year'] > 2022] # 7660 data samples where the property built_year is in the future"
   ]
  },
  {
   "cell_type": "code",
   "execution_count": null,
   "id": "876673b9",
   "metadata": {},
   "outputs": [],
   "source": []
  }
 ],
 "metadata": {
  "kernelspec": {
   "display_name": "Python 3",
   "language": "python",
   "name": "python3"
  },
  "language_info": {
   "codemirror_mode": {
    "name": "ipython",
    "version": 3
   },
   "file_extension": ".py",
   "mimetype": "text/x-python",
   "name": "python",
   "nbconvert_exporter": "python",
   "pygments_lexer": "ipython3",
   "version": "3.8.8"
  }
 },
 "nbformat": 4,
 "nbformat_minor": 5
}
