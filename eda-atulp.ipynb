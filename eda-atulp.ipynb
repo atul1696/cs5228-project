{
 "cells": [
  {
   "cell_type": "code",
   "execution_count": 3,
   "metadata": {},
   "outputs": [],
   "source": [
    "import numpy as np\n",
    "import pandas as pd\n",
    "\n",
    "import matplotlib.pyplot as plt\n",
    "import os"
   ]
  },
  {
   "cell_type": "markdown",
   "metadata": {},
   "source": [
    "# List of files"
   ]
  },
  {
   "cell_type": "code",
   "execution_count": 1,
   "metadata": {},
   "outputs": [
    {
     "data": {
      "text/plain": [
       "['example-submission.csv', 'test.csv', 'auxiliary-data', 'train.csv']"
      ]
     },
     "execution_count": 1,
     "metadata": {},
     "output_type": "execute_result"
    }
   ],
   "source": [
    "os.listdir(\"./data/\")"
   ]
  },
  {
   "cell_type": "code",
   "execution_count": 4,
   "metadata": {},
   "outputs": [],
   "source": [
    "df_train = pd.read_csv(\"data/train.csv\")"
   ]
  },
  {
   "cell_type": "code",
   "execution_count": 5,
   "metadata": {},
   "outputs": [
    {
     "data": {
      "text/plain": [
       "(20254, 21)"
      ]
     },
     "execution_count": 5,
     "metadata": {},
     "output_type": "execute_result"
    }
   ],
   "source": [
    "df_train.shape"
   ]
  },
  {
   "cell_type": "code",
   "execution_count": 6,
   "metadata": {},
   "outputs": [
    {
     "data": {
      "text/html": [
       "<div>\n",
       "<style scoped>\n",
       "    .dataframe tbody tr th:only-of-type {\n",
       "        vertical-align: middle;\n",
       "    }\n",
       "\n",
       "    .dataframe tbody tr th {\n",
       "        vertical-align: top;\n",
       "    }\n",
       "\n",
       "    .dataframe thead th {\n",
       "        text-align: right;\n",
       "    }\n",
       "</style>\n",
       "<table border=\"1\" class=\"dataframe\">\n",
       "  <thead>\n",
       "    <tr style=\"text-align: right;\">\n",
       "      <th></th>\n",
       "      <th>listing_id</th>\n",
       "      <th>title</th>\n",
       "      <th>address</th>\n",
       "      <th>property_name</th>\n",
       "      <th>property_type</th>\n",
       "      <th>tenure</th>\n",
       "      <th>built_year</th>\n",
       "      <th>num_beds</th>\n",
       "      <th>num_baths</th>\n",
       "      <th>size_sqft</th>\n",
       "      <th>...</th>\n",
       "      <th>furnishing</th>\n",
       "      <th>available_unit_types</th>\n",
       "      <th>total_num_units</th>\n",
       "      <th>property_details_url</th>\n",
       "      <th>lat</th>\n",
       "      <th>lng</th>\n",
       "      <th>elevation</th>\n",
       "      <th>subzone</th>\n",
       "      <th>planning_area</th>\n",
       "      <th>price</th>\n",
       "    </tr>\n",
       "  </thead>\n",
       "  <tbody>\n",
       "    <tr>\n",
       "      <th>0</th>\n",
       "      <td>122881</td>\n",
       "      <td>hdb flat for sale in 866 yishun street 81</td>\n",
       "      <td>sembawang / yishun (d27)</td>\n",
       "      <td>866 yishun street 81</td>\n",
       "      <td>hdb 4 rooms</td>\n",
       "      <td>NaN</td>\n",
       "      <td>1988.0</td>\n",
       "      <td>3.0</td>\n",
       "      <td>2.0</td>\n",
       "      <td>1115</td>\n",
       "      <td>...</td>\n",
       "      <td>unspecified</td>\n",
       "      <td>NaN</td>\n",
       "      <td>116.0</td>\n",
       "      <td>https://www.99.co/singapore/hdb/866-yishun-str...</td>\n",
       "      <td>1.414399</td>\n",
       "      <td>103.837196</td>\n",
       "      <td>0</td>\n",
       "      <td>yishun south</td>\n",
       "      <td>yishun</td>\n",
       "      <td>514500.0</td>\n",
       "    </tr>\n",
       "    <tr>\n",
       "      <th>1</th>\n",
       "      <td>259374</td>\n",
       "      <td>hdb flat for sale in 506b serangoon north aven...</td>\n",
       "      <td>hougang / punggol / sengkang (d19)</td>\n",
       "      <td>hdb-serangoon estate</td>\n",
       "      <td>hdb</td>\n",
       "      <td>99-year leasehold</td>\n",
       "      <td>1992.0</td>\n",
       "      <td>4.0</td>\n",
       "      <td>2.0</td>\n",
       "      <td>1575</td>\n",
       "      <td>...</td>\n",
       "      <td>unspecified</td>\n",
       "      <td>1, 2, 3, 4, 5, 6 br</td>\n",
       "      <td>NaN</td>\n",
       "      <td>https://www.99.co/singapore/hdb/hdbserangoon-e...</td>\n",
       "      <td>1.372597</td>\n",
       "      <td>103.875625</td>\n",
       "      <td>0</td>\n",
       "      <td>serangoon north</td>\n",
       "      <td>serangoon</td>\n",
       "      <td>995400.0</td>\n",
       "    </tr>\n",
       "    <tr>\n",
       "      <th>2</th>\n",
       "      <td>665422</td>\n",
       "      <td>4 bed condo for sale in meyerhouse</td>\n",
       "      <td>128 meyer road</td>\n",
       "      <td>meyerhouse</td>\n",
       "      <td>condo</td>\n",
       "      <td>freehold</td>\n",
       "      <td>2022.0</td>\n",
       "      <td>4.0</td>\n",
       "      <td>6.0</td>\n",
       "      <td>3070</td>\n",
       "      <td>...</td>\n",
       "      <td>partial</td>\n",
       "      <td>studio, 3, 4, 5, 6 br</td>\n",
       "      <td>56.0</td>\n",
       "      <td>https://www.99.co/singapore/condos-apartments/...</td>\n",
       "      <td>1.298773</td>\n",
       "      <td>103.895798</td>\n",
       "      <td>0</td>\n",
       "      <td>mountbatten</td>\n",
       "      <td>marine parade</td>\n",
       "      <td>8485000.0</td>\n",
       "    </tr>\n",
       "    <tr>\n",
       "      <th>3</th>\n",
       "      <td>857699</td>\n",
       "      <td>3 bed condo for sale in leedon green</td>\n",
       "      <td>26 leedon heights</td>\n",
       "      <td>leedon green</td>\n",
       "      <td>Condo</td>\n",
       "      <td>freehold</td>\n",
       "      <td>2023.0</td>\n",
       "      <td>3.0</td>\n",
       "      <td>2.0</td>\n",
       "      <td>958</td>\n",
       "      <td>...</td>\n",
       "      <td>partial</td>\n",
       "      <td>studio, 1, 2, 3, 4 br</td>\n",
       "      <td>638.0</td>\n",
       "      <td>https://www.99.co/singapore/condos-apartments/...</td>\n",
       "      <td>1.312364</td>\n",
       "      <td>103.803271</td>\n",
       "      <td>0</td>\n",
       "      <td>farrer court</td>\n",
       "      <td>bukit timah</td>\n",
       "      <td>2626000.0</td>\n",
       "    </tr>\n",
       "    <tr>\n",
       "      <th>4</th>\n",
       "      <td>216061</td>\n",
       "      <td>2 bed condo for sale in one bernam</td>\n",
       "      <td>1 bernam street</td>\n",
       "      <td>one bernam</td>\n",
       "      <td>condo</td>\n",
       "      <td>99-year leasehold</td>\n",
       "      <td>2026.0</td>\n",
       "      <td>2.0</td>\n",
       "      <td>1.0</td>\n",
       "      <td>732</td>\n",
       "      <td>...</td>\n",
       "      <td>unspecified</td>\n",
       "      <td>studio, 1, 2, 3, 4, 5 br</td>\n",
       "      <td>351.0</td>\n",
       "      <td>https://www.99.co/singapore/condos-apartments/...</td>\n",
       "      <td>1.273959</td>\n",
       "      <td>103.843635</td>\n",
       "      <td>0</td>\n",
       "      <td>anson</td>\n",
       "      <td>downtown core</td>\n",
       "      <td>1764000.0</td>\n",
       "    </tr>\n",
       "  </tbody>\n",
       "</table>\n",
       "<p>5 rows × 21 columns</p>\n",
       "</div>"
      ],
      "text/plain": [
       "   listing_id                                              title  \\\n",
       "0      122881          hdb flat for sale in 866 yishun street 81   \n",
       "1      259374  hdb flat for sale in 506b serangoon north aven...   \n",
       "2      665422                 4 bed condo for sale in meyerhouse   \n",
       "3      857699               3 bed condo for sale in leedon green   \n",
       "4      216061                 2 bed condo for sale in one bernam   \n",
       "\n",
       "                              address         property_name property_type  \\\n",
       "0            sembawang / yishun (d27)  866 yishun street 81   hdb 4 rooms   \n",
       "1  hougang / punggol / sengkang (d19)  hdb-serangoon estate           hdb   \n",
       "2                      128 meyer road            meyerhouse         condo   \n",
       "3                   26 leedon heights          leedon green         Condo   \n",
       "4                     1 bernam street            one bernam         condo   \n",
       "\n",
       "              tenure  built_year  num_beds  num_baths  size_sqft  ...  \\\n",
       "0                NaN      1988.0       3.0        2.0       1115  ...   \n",
       "1  99-year leasehold      1992.0       4.0        2.0       1575  ...   \n",
       "2           freehold      2022.0       4.0        6.0       3070  ...   \n",
       "3           freehold      2023.0       3.0        2.0        958  ...   \n",
       "4  99-year leasehold      2026.0       2.0        1.0        732  ...   \n",
       "\n",
       "    furnishing      available_unit_types total_num_units  \\\n",
       "0  unspecified                       NaN           116.0   \n",
       "1  unspecified       1, 2, 3, 4, 5, 6 br             NaN   \n",
       "2      partial     studio, 3, 4, 5, 6 br            56.0   \n",
       "3      partial     studio, 1, 2, 3, 4 br           638.0   \n",
       "4  unspecified  studio, 1, 2, 3, 4, 5 br           351.0   \n",
       "\n",
       "                                property_details_url       lat         lng  \\\n",
       "0  https://www.99.co/singapore/hdb/866-yishun-str...  1.414399  103.837196   \n",
       "1  https://www.99.co/singapore/hdb/hdbserangoon-e...  1.372597  103.875625   \n",
       "2  https://www.99.co/singapore/condos-apartments/...  1.298773  103.895798   \n",
       "3  https://www.99.co/singapore/condos-apartments/...  1.312364  103.803271   \n",
       "4  https://www.99.co/singapore/condos-apartments/...  1.273959  103.843635   \n",
       "\n",
       "   elevation          subzone  planning_area      price  \n",
       "0          0     yishun south         yishun   514500.0  \n",
       "1          0  serangoon north      serangoon   995400.0  \n",
       "2          0      mountbatten  marine parade  8485000.0  \n",
       "3          0     farrer court    bukit timah  2626000.0  \n",
       "4          0            anson  downtown core  1764000.0  \n",
       "\n",
       "[5 rows x 21 columns]"
      ]
     },
     "execution_count": 6,
     "metadata": {},
     "output_type": "execute_result"
    }
   ],
   "source": [
    "df_train.head()"
   ]
  },
  {
   "cell_type": "markdown",
   "metadata": {},
   "source": [
    "## File descriptions\n",
    "\n",
    "* train.csv - the training set\n",
    "* test.csv - the test set\n",
    "* example-submission.csv - a sample submission file in the correct format\n",
    "\n",
    "## Data fields\n",
    "\n",
    "* listing_id - unique identifier of the property listing\n",
    "* title - title of the property listing (e.g., \"2 bed condo for sale in 35 gilstead\")\n",
    "* address - address of the property (e.g., \"124 punggol walk\", \"11 sengkang east avenue\")\n",
    "* property_name - name of the property (e.g., \"redhill rise\", \"klimt cairnhill\")\n",
    "* property_type - type of the property (e.g., \"condo\", \"hdb 2 rooms\", \"landed\")\n",
    "* tenure - tenure of the property (e.g., \"freehold\", \"99-year leasehold\")\n",
    "* built_year - year when the property was was built (e.g., 2014, 2021)\n",
    "* num_beds - number of bedrooms (e.g., 1, 2, 3)\n",
    "* num_baths - number of bathrooms (e.g., 1, 2, 3)\n",
    "* size_sqft - floor area in square feet (e.g., 807, 657, 1628)\n",
    "* floor_level - information about the floor level of the property (e.g., \"high\", \"low\")\n",
    "* furnishing - information whether the property is furnished (e.g., \"fully\", \"partial\")\n",
    "* available_unit_types - list of all types of units available in the property complex (e.g., \"studio, 3, 4, 5 br\")\n",
    "* total_num_units - total number of units in the property complex (e.g., 115, 200)\n",
    "* property_details_url - URL linking to more information about the property complex\n",
    "* lat - latitude of property (e.g., 1.328805)\n",
    "* lng - longitude of property (e.g., 103.74502)\n",
    "* elevation - elevation of the property in meters (e.g., 10)\n",
    "* subszone - subzone of block containing the flat in meter (e.g., \"blangah rise\", \"marymount\")\n",
    "* planning_area - planning area of block containing the flat (e.g., \"woodlands\", \"bukit merah\")\n",
    "* price - sales price in SGD"
   ]
  },
  {
   "cell_type": "markdown",
   "metadata": {},
   "source": [
    "|Attribute|Description|`NaN` count|Attribute Type|Drop|\n",
    "|-----------|-------------|-----------|----------------|------|\n",
    "|`listing_id`|unique identifier of the property listing|0|Nominal|Yes|\n",
    "|`title`|title of the property listing (e.g., \"2 bed condo for sale in 35 gilstead\")|0|Nominal|Yes|\n",
    "|`address`|address of the property (e.g., \"124 punggol walk\", \"11 sengkang east avenue\")|0|Nominal|Yes|\n",
    "|`property_name`|name of the property (e.g., \"redhill rise\", \"klimt cairnhill\")|0|Nominal|Yes|\n",
    "|`property_type`|type of the property (e.g., \"condo\", \"hdb 2 rooms\", \"landed\")|0|Nominal or Ordinal||\n",
    "|`tenure`|tenure of the property (e.g., \"freehold\", \"99-year leasehold\")|1723|Nominal or Ordinal||\n",
    "|`built_year`|year when the property was was built (e.g., 2014, 2021)|922|Interval||\n",
    "|`num_beds`|number of bedrooms (e.g., 1, 2, 3)|80|Ratio||\n",
    "|`num_baths`|number of bathrooms (e.g., 1, 2, 3)|434|Ratio||\n",
    "|`size_sqft`|floor area in square feet (e.g., 807, 657, 1628)|0|Ratio||\n",
    "|`floor_level`|information about the floor level of the property (e.g., \"high\", \"low\")|16746|Ordinal||\n",
    "|`furnishing`|information whether the property is furnished (e.g., \"fully\", \"partial\")|0|Ordinal||\n",
    "|`available_unit_types`|list of all types of units available in the property complex (e.g., \"studio, 3, 4, 5 br\")|1441|Nominal|Yes|\n",
    "|`total_num_units`|total number of units in the property complex (e.g., 115, 200)|5652|Ratio||\n",
    "|`property_details_url`|URL linking to more information about the property complex|0|Nominal|Yes|\n",
    "|`lat`|latitude of property (e.g., 1.328805)|0|Interval|Yes|\n",
    "|`lng`|longitude of property (e.g., 103.74502)|0|Interval|Yes|\n",
    "|`elevation`|elevation of the property in meters (e.g., 10)|0|Ratio|Yes|\n",
    "|`subszone`|subzone of block containing the flat in meter (e.g., \"blangah rise\", \"marymount\")|113|Nominal or Ordinal||\n",
    "|`planning_area`|planning area of block containing the flat (e.g., \"woodlands\", \"bukit merah\")|113|Nominal or Ordinal||\n",
    "|`price`|sales price in SGD|0|||"
   ]
  },
  {
   "cell_type": "code",
   "execution_count": 8,
   "metadata": {},
   "outputs": [
    {
     "data": {
      "text/plain": [
       "(20254, 21)"
      ]
     },
     "execution_count": 8,
     "metadata": {},
     "output_type": "execute_result"
    }
   ],
   "source": [
    "df_train.shape"
   ]
  },
  {
   "cell_type": "code",
   "execution_count": 9,
   "metadata": {},
   "outputs": [
    {
     "data": {
      "text/plain": [
       "listing_id                  0\n",
       "title                       0\n",
       "address                     0\n",
       "property_name               0\n",
       "property_type               0\n",
       "tenure                   1723\n",
       "built_year                922\n",
       "num_beds                   80\n",
       "num_baths                 434\n",
       "size_sqft                   0\n",
       "floor_level             16746\n",
       "furnishing                  0\n",
       "available_unit_types     1441\n",
       "total_num_units          5652\n",
       "property_details_url        0\n",
       "lat                         0\n",
       "lng                         0\n",
       "elevation                   0\n",
       "subzone                   113\n",
       "planning_area             113\n",
       "price                       0\n",
       "dtype: int64"
      ]
     },
     "execution_count": 9,
     "metadata": {},
     "output_type": "execute_result"
    }
   ],
   "source": [
    "df_train.isna().sum()"
   ]
  },
  {
   "cell_type": "markdown",
   "metadata": {},
   "source": [
    "#### `lat` and `lng`"
   ]
  },
  {
   "cell_type": "markdown",
   "metadata": {},
   "source": [
    "* (`lat`, `lng`) <-> `address` is not a 1-to-1 mapping, so it does not uniquely identify a building"
   ]
  },
  {
   "cell_type": "code",
   "execution_count": 10,
   "metadata": {},
   "outputs": [],
   "source": [
    "df_train['lat_lng'] = df_train[['lat', 'lng']].apply(tuple, axis=1).apply(str)"
   ]
  },
  {
   "cell_type": "code",
   "execution_count": 11,
   "metadata": {},
   "outputs": [
    {
     "data": {
      "text/plain": [
       "4310"
      ]
     },
     "execution_count": 11,
     "metadata": {},
     "output_type": "execute_result"
    }
   ],
   "source": [
    "df_train[\"lat_lng\"].nunique()"
   ]
  },
  {
   "cell_type": "code",
   "execution_count": 12,
   "metadata": {},
   "outputs": [
    {
     "data": {
      "text/plain": [
       "lat_lng\n",
       "(1.23962095, 103.83771301051394)    3\n",
       "(1.24002195, 103.83092944861836)    1\n",
       "(1.2411094, 103.83616118799549)     1\n",
       "(1.24114335, 103.83961897005884)    4\n",
       "(1.2418323, 103.8377594550829)      1\n",
       "                                   ..\n",
       "(1.46136225, 103.83614823161346)    3\n",
       "(1.46158175, 103.83949906633782)    1\n",
       "(14.4848138, 121.0232316)           2\n",
       "(38.9427759, -77.0653642528485)     1\n",
       "(69.4867678, 20.1844341)            2\n",
       "Name: address, Length: 4310, dtype: int64"
      ]
     },
     "execution_count": 12,
     "metadata": {},
     "output_type": "execute_result"
    }
   ],
   "source": [
    "df_train.groupby(\"lat_lng\")[\"address\"].nunique()"
   ]
  },
  {
   "cell_type": "code",
   "execution_count": 13,
   "metadata": {},
   "outputs": [
    {
     "data": {
      "text/html": [
       "<div>\n",
       "<style scoped>\n",
       "    .dataframe tbody tr th:only-of-type {\n",
       "        vertical-align: middle;\n",
       "    }\n",
       "\n",
       "    .dataframe tbody tr th {\n",
       "        vertical-align: top;\n",
       "    }\n",
       "\n",
       "    .dataframe thead th {\n",
       "        text-align: right;\n",
       "    }\n",
       "</style>\n",
       "<table border=\"1\" class=\"dataframe\">\n",
       "  <thead>\n",
       "    <tr style=\"text-align: right;\">\n",
       "      <th></th>\n",
       "      <th>lat_lng</th>\n",
       "      <th>address</th>\n",
       "    </tr>\n",
       "  </thead>\n",
       "  <tbody>\n",
       "    <tr>\n",
       "      <th>lat_lng</th>\n",
       "      <td>1.000000</td>\n",
       "      <td>0.351019</td>\n",
       "    </tr>\n",
       "    <tr>\n",
       "      <th>address</th>\n",
       "      <td>0.351019</td>\n",
       "      <td>1.000000</td>\n",
       "    </tr>\n",
       "  </tbody>\n",
       "</table>\n",
       "</div>"
      ],
      "text/plain": [
       "          lat_lng   address\n",
       "lat_lng  1.000000  0.351019\n",
       "address  0.351019  1.000000"
      ]
     },
     "execution_count": 13,
     "metadata": {},
     "output_type": "execute_result"
    }
   ],
   "source": [
    "df_copy = df_train[[\"lat_lng\", \"address\"]].copy()\n",
    "df_copy[\"lat_lng\"] = df_copy[\"lat_lng\"].astype('category').cat.codes\n",
    "df_copy[\"address\"] = df_copy[\"address\"].astype('category').cat.codes\n",
    "df_copy.corr()"
   ]
  },
  {
   "cell_type": "markdown",
   "metadata": {},
   "source": [
    "#### `price`"
   ]
  },
  {
   "cell_type": "code",
   "execution_count": 14,
   "metadata": {},
   "outputs": [
    {
     "data": {
      "text/plain": [
       "0.10      551200.0\n",
       "0.25      819000.0\n",
       "0.30      945000.0\n",
       "0.40     1341980.0\n",
       "0.50     1680000.0\n",
       "0.60     2079000.0\n",
       "0.75     3242400.0\n",
       "0.80     3885000.0\n",
       "0.90     6615000.0\n",
       "0.95     9450000.0\n",
       "0.98    16472400.0\n",
       "0.99    22890000.0\n",
       "Name: price, dtype: float64"
      ]
     },
     "execution_count": 14,
     "metadata": {},
     "output_type": "execute_result"
    }
   ],
   "source": [
    "df_train[\"price\"].quantile([0.1, 0.25, 0.30, 0.4, 0.5, 0.6, 0.75, 0.8, 0.9, 0.95, 0.98, 0.99])"
   ]
  },
  {
   "cell_type": "code",
   "execution_count": 15,
   "metadata": {},
   "outputs": [
    {
     "data": {
      "text/plain": [
       "<AxesSubplot:>"
      ]
     },
     "execution_count": 15,
     "metadata": {},
     "output_type": "execute_result"
    },
    {
     "data": {
      "image/png": "[encoded data removed]",
      "text/plain": [
       "<Figure size 640x480 with 1 Axes>"
      ]
     },
     "metadata": {},
     "output_type": "display_data"
    }
   ],
   "source": [
    "df_train[df_train[\"price\"] <= 3615000.0][[\"price\"]].boxplot()"
   ]
  },
  {
   "cell_type": "markdown",
   "metadata": {},
   "source": [
    "#### Columns to drop"
   ]
  },
  {
   "cell_type": "markdown",
   "metadata": {},
   "source": [
    "The following columns can be dropped as are nominal attributes that information on identifying the building in which the unit is in.\n",
    "* `listing_id`\n",
    "* `title`\n",
    "* `address`\n",
    "* `property_name`\n",
    "* `property_details_url`\n",
    "* `lat`\n",
    "* `lng`\n",
    "* `total_num_units`\n",
    "* `available_unit_types`\n",
    "\n",
    "Notes:\n",
    "* `lat` and `lng` can be used to join useful information from the auxiliary data and to fill in missing data\n",
    "* `total_num_units` and `available_unit_types` provide information about the building not the house unit.\n"
   ]
  },
  {
   "cell_type": "code",
   "execution_count": 16,
   "metadata": {},
   "outputs": [],
   "source": [
    "#df_train.drop(columns=[\"listing_id\", \"title\", \"address\", \"property_name\", \"property_details_url\", \"total_num_units\", \"available_unit_types\"], inplace=True)"
   ]
  },
  {
   "cell_type": "code",
   "execution_count": 17,
   "metadata": {},
   "outputs": [
    {
     "data": {
      "text/plain": [
       "(20254, 22)"
      ]
     },
     "execution_count": 17,
     "metadata": {},
     "output_type": "execute_result"
    }
   ],
   "source": [
    "df_train.shape"
   ]
  },
  {
   "cell_type": "markdown",
   "metadata": {},
   "source": [
    "#### `property_type`"
   ]
  },
  {
   "cell_type": "code",
   "execution_count": 18,
   "metadata": {},
   "outputs": [
    {
     "data": {
      "text/plain": [
       "0"
      ]
     },
     "execution_count": 18,
     "metadata": {},
     "output_type": "execute_result"
    }
   ],
   "source": [
    "df_train[\"property_type\"].isna().sum()"
   ]
  },
  {
   "cell_type": "code",
   "execution_count": 19,
   "metadata": {},
   "outputs": [
    {
     "data": {
      "text/plain": [
       "array(['hdb 4 rooms', 'hdb', 'condo', 'Condo', 'bungalow', 'Hdb',\n",
       "       'terraced house', 'Hdb Executive', 'apartment',\n",
       "       'Semi-Detached House', 'Apartment', 'Hdb 4 Rooms',\n",
       "       'semi-detached house', 'hdb 3 rooms', 'executive condo',\n",
       "       'corner terrace', 'hdb executive', 'Hdb 3 Rooms', 'Hdb 5 Rooms',\n",
       "       'hdb 5 rooms', 'landed', 'hdb 2 rooms', 'Executive Condo',\n",
       "       'Bungalow', 'Corner Terrace', 'Terraced House', 'cluster house',\n",
       "       'Cluster House', 'Land Only', 'townhouse', 'Hdb 2 Rooms',\n",
       "       'conservation house', 'land only', 'walk-up', 'Townhouse',\n",
       "       'Conservation House', 'good class bungalow', 'Landed', 'shophouse'],\n",
       "      dtype=object)"
      ]
     },
     "execution_count": 19,
     "metadata": {},
     "output_type": "execute_result"
    }
   ],
   "source": [
    "df_train[\"property_type\"].unique()"
   ]
  },
  {
   "cell_type": "markdown",
   "metadata": {},
   "source": [
    "Need to convert to lowercase\n",
    "* 'Semi-Detached House' vs 'semi-detached house'\n",
    "* 'Landed' vs 'landed' "
   ]
  },
  {
   "cell_type": "code",
   "execution_count": 20,
   "metadata": {},
   "outputs": [
    {
     "data": {
      "text/plain": [
       "condo                  9648\n",
       "hdb                    2797\n",
       "hdb 3 rooms            1193\n",
       "hdb 4 rooms            1124\n",
       "semi-detached house    1018\n",
       "executive condo        1010\n",
       "bungalow                747\n",
       "hdb 5 rooms             679\n",
       "apartment               540\n",
       "terraced house          446\n",
       "hdb executive           305\n",
       "corner terrace          255\n",
       "hdb 2 rooms             234\n",
       "cluster house           184\n",
       "conservation house       21\n",
       "landed                   20\n",
       "walk-up                  16\n",
       "townhouse                 9\n",
       "good class bungalow       5\n",
       "land only                 2\n",
       "shophouse                 1\n",
       "Name: property_type, dtype: int64"
      ]
     },
     "execution_count": 20,
     "metadata": {},
     "output_type": "execute_result"
    }
   ],
   "source": [
    "df_train[\"property_type\"].apply(np.char.lower).value_counts()"
   ]
  },
  {
   "cell_type": "code",
   "execution_count": 21,
   "metadata": {},
   "outputs": [],
   "source": [
    "# property_type_lc -> property_type in lower case\n",
    "df_train[\"property_type_lc\"] = df_train[\"property_type\"].apply(lambda x: x.lower())"
   ]
  },
  {
   "cell_type": "markdown",
   "metadata": {},
   "source": [
    "Can merge some of types\n",
    "* bungalow and good class bungalow (This supposed to be different: https://financeguru.sg/types-private-landed-properties-singapore/)\n",
    "* condo and executive condo\n",
    "\n",
    "Need to look at the distribution of `price` or `size_sqft` to decide. "
   ]
  },
  {
   "cell_type": "code",
   "execution_count": 22,
   "metadata": {},
   "outputs": [
    {
     "data": {
      "text/html": [
       "<div>\n",
       "<style scoped>\n",
       "    .dataframe tbody tr th:only-of-type {\n",
       "        vertical-align: middle;\n",
       "    }\n",
       "\n",
       "    .dataframe tbody tr th {\n",
       "        vertical-align: top;\n",
       "    }\n",
       "\n",
       "    .dataframe thead th {\n",
       "        text-align: right;\n",
       "    }\n",
       "</style>\n",
       "<table border=\"1\" class=\"dataframe\">\n",
       "  <thead>\n",
       "    <tr style=\"text-align: right;\">\n",
       "      <th>num_beds</th>\n",
       "      <th>1.0</th>\n",
       "      <th>2.0</th>\n",
       "      <th>3.0</th>\n",
       "      <th>4.0</th>\n",
       "      <th>5.0</th>\n",
       "      <th>6.0</th>\n",
       "      <th>7.0</th>\n",
       "      <th>8.0</th>\n",
       "      <th>9.0</th>\n",
       "      <th>10.0</th>\n",
       "      <th>NaN</th>\n",
       "    </tr>\n",
       "    <tr>\n",
       "      <th>property_type_lc</th>\n",
       "      <th></th>\n",
       "      <th></th>\n",
       "      <th></th>\n",
       "      <th></th>\n",
       "      <th></th>\n",
       "      <th></th>\n",
       "      <th></th>\n",
       "      <th></th>\n",
       "      <th></th>\n",
       "      <th></th>\n",
       "      <th></th>\n",
       "    </tr>\n",
       "  </thead>\n",
       "  <tbody>\n",
       "    <tr>\n",
       "      <th>apartment</th>\n",
       "      <td>109</td>\n",
       "      <td>132</td>\n",
       "      <td>182</td>\n",
       "      <td>81</td>\n",
       "      <td>22</td>\n",
       "      <td>4</td>\n",
       "      <td>1</td>\n",
       "      <td>0</td>\n",
       "      <td>0</td>\n",
       "      <td>0</td>\n",
       "      <td>9</td>\n",
       "    </tr>\n",
       "    <tr>\n",
       "      <th>bungalow</th>\n",
       "      <td>0</td>\n",
       "      <td>0</td>\n",
       "      <td>9</td>\n",
       "      <td>66</td>\n",
       "      <td>253</td>\n",
       "      <td>304</td>\n",
       "      <td>71</td>\n",
       "      <td>26</td>\n",
       "      <td>9</td>\n",
       "      <td>8</td>\n",
       "      <td>1</td>\n",
       "    </tr>\n",
       "    <tr>\n",
       "      <th>cluster house</th>\n",
       "      <td>0</td>\n",
       "      <td>0</td>\n",
       "      <td>5</td>\n",
       "      <td>60</td>\n",
       "      <td>93</td>\n",
       "      <td>26</td>\n",
       "      <td>0</td>\n",
       "      <td>0</td>\n",
       "      <td>0</td>\n",
       "      <td>0</td>\n",
       "      <td>0</td>\n",
       "    </tr>\n",
       "    <tr>\n",
       "      <th>condo</th>\n",
       "      <td>1482</td>\n",
       "      <td>2926</td>\n",
       "      <td>2938</td>\n",
       "      <td>1809</td>\n",
       "      <td>418</td>\n",
       "      <td>15</td>\n",
       "      <td>2</td>\n",
       "      <td>1</td>\n",
       "      <td>0</td>\n",
       "      <td>0</td>\n",
       "      <td>57</td>\n",
       "    </tr>\n",
       "    <tr>\n",
       "      <th>conservation house</th>\n",
       "      <td>0</td>\n",
       "      <td>0</td>\n",
       "      <td>6</td>\n",
       "      <td>11</td>\n",
       "      <td>4</td>\n",
       "      <td>0</td>\n",
       "      <td>0</td>\n",
       "      <td>0</td>\n",
       "      <td>0</td>\n",
       "      <td>0</td>\n",
       "      <td>0</td>\n",
       "    </tr>\n",
       "    <tr>\n",
       "      <th>corner terrace</th>\n",
       "      <td>0</td>\n",
       "      <td>1</td>\n",
       "      <td>32</td>\n",
       "      <td>44</td>\n",
       "      <td>94</td>\n",
       "      <td>50</td>\n",
       "      <td>22</td>\n",
       "      <td>4</td>\n",
       "      <td>4</td>\n",
       "      <td>3</td>\n",
       "      <td>1</td>\n",
       "    </tr>\n",
       "    <tr>\n",
       "      <th>executive condo</th>\n",
       "      <td>1</td>\n",
       "      <td>53</td>\n",
       "      <td>590</td>\n",
       "      <td>293</td>\n",
       "      <td>72</td>\n",
       "      <td>0</td>\n",
       "      <td>0</td>\n",
       "      <td>0</td>\n",
       "      <td>0</td>\n",
       "      <td>0</td>\n",
       "      <td>1</td>\n",
       "    </tr>\n",
       "    <tr>\n",
       "      <th>good class bungalow</th>\n",
       "      <td>0</td>\n",
       "      <td>0</td>\n",
       "      <td>0</td>\n",
       "      <td>3</td>\n",
       "      <td>2</td>\n",
       "      <td>0</td>\n",
       "      <td>0</td>\n",
       "      <td>0</td>\n",
       "      <td>0</td>\n",
       "      <td>0</td>\n",
       "      <td>0</td>\n",
       "    </tr>\n",
       "    <tr>\n",
       "      <th>hdb</th>\n",
       "      <td>59</td>\n",
       "      <td>598</td>\n",
       "      <td>1724</td>\n",
       "      <td>378</td>\n",
       "      <td>24</td>\n",
       "      <td>8</td>\n",
       "      <td>1</td>\n",
       "      <td>0</td>\n",
       "      <td>0</td>\n",
       "      <td>0</td>\n",
       "      <td>5</td>\n",
       "    </tr>\n",
       "    <tr>\n",
       "      <th>hdb 2 rooms</th>\n",
       "      <td>20</td>\n",
       "      <td>208</td>\n",
       "      <td>6</td>\n",
       "      <td>0</td>\n",
       "      <td>0</td>\n",
       "      <td>0</td>\n",
       "      <td>0</td>\n",
       "      <td>0</td>\n",
       "      <td>0</td>\n",
       "      <td>0</td>\n",
       "      <td>0</td>\n",
       "    </tr>\n",
       "    <tr>\n",
       "      <th>hdb 3 rooms</th>\n",
       "      <td>3</td>\n",
       "      <td>414</td>\n",
       "      <td>768</td>\n",
       "      <td>7</td>\n",
       "      <td>1</td>\n",
       "      <td>0</td>\n",
       "      <td>0</td>\n",
       "      <td>0</td>\n",
       "      <td>0</td>\n",
       "      <td>0</td>\n",
       "      <td>0</td>\n",
       "    </tr>\n",
       "    <tr>\n",
       "      <th>hdb 4 rooms</th>\n",
       "      <td>3</td>\n",
       "      <td>10</td>\n",
       "      <td>942</td>\n",
       "      <td>169</td>\n",
       "      <td>0</td>\n",
       "      <td>0</td>\n",
       "      <td>0</td>\n",
       "      <td>0</td>\n",
       "      <td>0</td>\n",
       "      <td>0</td>\n",
       "      <td>0</td>\n",
       "    </tr>\n",
       "    <tr>\n",
       "      <th>hdb 5 rooms</th>\n",
       "      <td>1</td>\n",
       "      <td>8</td>\n",
       "      <td>548</td>\n",
       "      <td>112</td>\n",
       "      <td>9</td>\n",
       "      <td>1</td>\n",
       "      <td>0</td>\n",
       "      <td>0</td>\n",
       "      <td>0</td>\n",
       "      <td>0</td>\n",
       "      <td>0</td>\n",
       "    </tr>\n",
       "    <tr>\n",
       "      <th>hdb executive</th>\n",
       "      <td>2</td>\n",
       "      <td>6</td>\n",
       "      <td>111</td>\n",
       "      <td>167</td>\n",
       "      <td>10</td>\n",
       "      <td>8</td>\n",
       "      <td>1</td>\n",
       "      <td>0</td>\n",
       "      <td>0</td>\n",
       "      <td>0</td>\n",
       "      <td>0</td>\n",
       "    </tr>\n",
       "    <tr>\n",
       "      <th>land only</th>\n",
       "      <td>0</td>\n",
       "      <td>0</td>\n",
       "      <td>1</td>\n",
       "      <td>0</td>\n",
       "      <td>1</td>\n",
       "      <td>0</td>\n",
       "      <td>0</td>\n",
       "      <td>0</td>\n",
       "      <td>0</td>\n",
       "      <td>0</td>\n",
       "      <td>0</td>\n",
       "    </tr>\n",
       "    <tr>\n",
       "      <th>landed</th>\n",
       "      <td>0</td>\n",
       "      <td>1</td>\n",
       "      <td>4</td>\n",
       "      <td>7</td>\n",
       "      <td>6</td>\n",
       "      <td>2</td>\n",
       "      <td>0</td>\n",
       "      <td>0</td>\n",
       "      <td>0</td>\n",
       "      <td>0</td>\n",
       "      <td>0</td>\n",
       "    </tr>\n",
       "    <tr>\n",
       "      <th>semi-detached house</th>\n",
       "      <td>0</td>\n",
       "      <td>2</td>\n",
       "      <td>29</td>\n",
       "      <td>202</td>\n",
       "      <td>419</td>\n",
       "      <td>301</td>\n",
       "      <td>36</td>\n",
       "      <td>7</td>\n",
       "      <td>3</td>\n",
       "      <td>16</td>\n",
       "      <td>3</td>\n",
       "    </tr>\n",
       "    <tr>\n",
       "      <th>shophouse</th>\n",
       "      <td>0</td>\n",
       "      <td>1</td>\n",
       "      <td>0</td>\n",
       "      <td>0</td>\n",
       "      <td>0</td>\n",
       "      <td>0</td>\n",
       "      <td>0</td>\n",
       "      <td>0</td>\n",
       "      <td>0</td>\n",
       "      <td>0</td>\n",
       "      <td>0</td>\n",
       "    </tr>\n",
       "    <tr>\n",
       "      <th>terraced house</th>\n",
       "      <td>1</td>\n",
       "      <td>2</td>\n",
       "      <td>31</td>\n",
       "      <td>150</td>\n",
       "      <td>193</td>\n",
       "      <td>48</td>\n",
       "      <td>13</td>\n",
       "      <td>3</td>\n",
       "      <td>0</td>\n",
       "      <td>2</td>\n",
       "      <td>3</td>\n",
       "    </tr>\n",
       "    <tr>\n",
       "      <th>townhouse</th>\n",
       "      <td>0</td>\n",
       "      <td>0</td>\n",
       "      <td>2</td>\n",
       "      <td>2</td>\n",
       "      <td>5</td>\n",
       "      <td>0</td>\n",
       "      <td>0</td>\n",
       "      <td>0</td>\n",
       "      <td>0</td>\n",
       "      <td>0</td>\n",
       "      <td>0</td>\n",
       "    </tr>\n",
       "    <tr>\n",
       "      <th>walk-up</th>\n",
       "      <td>2</td>\n",
       "      <td>2</td>\n",
       "      <td>8</td>\n",
       "      <td>4</td>\n",
       "      <td>0</td>\n",
       "      <td>0</td>\n",
       "      <td>0</td>\n",
       "      <td>0</td>\n",
       "      <td>0</td>\n",
       "      <td>0</td>\n",
       "      <td>0</td>\n",
       "    </tr>\n",
       "  </tbody>\n",
       "</table>\n",
       "</div>"
      ],
      "text/plain": [
       "num_beds             1.0   2.0   3.0   4.0   5.0   6.0   7.0   8.0   9.0   \\\n",
       "property_type_lc                                                            \n",
       "apartment             109   132   182    81    22     4     1     0     0   \n",
       "bungalow                0     0     9    66   253   304    71    26     9   \n",
       "cluster house           0     0     5    60    93    26     0     0     0   \n",
       "condo                1482  2926  2938  1809   418    15     2     1     0   \n",
       "conservation house      0     0     6    11     4     0     0     0     0   \n",
       "corner terrace          0     1    32    44    94    50    22     4     4   \n",
       "executive condo         1    53   590   293    72     0     0     0     0   \n",
       "good class bungalow     0     0     0     3     2     0     0     0     0   \n",
       "hdb                    59   598  1724   378    24     8     1     0     0   \n",
       "hdb 2 rooms            20   208     6     0     0     0     0     0     0   \n",
       "hdb 3 rooms             3   414   768     7     1     0     0     0     0   \n",
       "hdb 4 rooms             3    10   942   169     0     0     0     0     0   \n",
       "hdb 5 rooms             1     8   548   112     9     1     0     0     0   \n",
       "hdb executive           2     6   111   167    10     8     1     0     0   \n",
       "land only               0     0     1     0     1     0     0     0     0   \n",
       "landed                  0     1     4     7     6     2     0     0     0   \n",
       "semi-detached house     0     2    29   202   419   301    36     7     3   \n",
       "shophouse               0     1     0     0     0     0     0     0     0   \n",
       "terraced house          1     2    31   150   193    48    13     3     0   \n",
       "townhouse               0     0     2     2     5     0     0     0     0   \n",
       "walk-up                 2     2     8     4     0     0     0     0     0   \n",
       "\n",
       "num_beds             10.0  NaN   \n",
       "property_type_lc                 \n",
       "apartment               0     9  \n",
       "bungalow                8     1  \n",
       "cluster house           0     0  \n",
       "condo                   0    57  \n",
       "conservation house      0     0  \n",
       "corner terrace          3     1  \n",
       "executive condo         0     1  \n",
       "good class bungalow     0     0  \n",
       "hdb                     0     5  \n",
       "hdb 2 rooms             0     0  \n",
       "hdb 3 rooms             0     0  \n",
       "hdb 4 rooms             0     0  \n",
       "hdb 5 rooms             0     0  \n",
       "hdb executive           0     0  \n",
       "land only               0     0  \n",
       "landed                  0     0  \n",
       "semi-detached house    16     3  \n",
       "shophouse               0     0  \n",
       "terraced house          2     3  \n",
       "townhouse               0     0  \n",
       "walk-up                 0     0  "
      ]
     },
     "execution_count": 22,
     "metadata": {},
     "output_type": "execute_result"
    }
   ],
   "source": [
    "df_train.groupby([\"property_type_lc\", \"num_beds\"], dropna=False).size().unstack(fill_value=0)"
   ]
  },
  {
   "cell_type": "markdown",
   "metadata": {},
   "source": [
    "hdb `i` rooms and `num_beds` do not have a 1-to-1 mapping.<br>\n",
    "So we can maybe merge the hdb types into one single type."
   ]
  },
  {
   "cell_type": "code",
   "execution_count": 46,
   "metadata": {},
   "outputs": [
    {
     "data": {
      "image/png": "[encoded data removed]",
      "text/plain": [
       "<Figure size 640x480 with 20 Axes>"
      ]
     },
     "metadata": {},
     "output_type": "display_data"
    }
   ],
   "source": [
    "df_train[df_train[\"price\"] < 6615000.0][[\"property_type_lc\", \"price\"]].groupby(\"property_type_lc\").boxplot()\n",
    "plt.show()"
   ]
  },
  {
   "cell_type": "markdown",
   "metadata": {},
   "source": [
    "#### `tenure`"
   ]
  },
  {
   "cell_type": "code",
   "execution_count": 47,
   "metadata": {},
   "outputs": [
    {
     "data": {
      "text/plain": [
       "1723"
      ]
     },
     "execution_count": 47,
     "metadata": {},
     "output_type": "execute_result"
    }
   ],
   "source": [
    "df_train[\"tenure\"].isna().sum()"
   ]
  },
  {
   "cell_type": "code",
   "execution_count": 48,
   "metadata": {},
   "outputs": [
    {
     "data": {
      "text/plain": [
       "747                        25 ewe boon road\n",
       "1875            admiralty / woodlands (d25)\n",
       "1877          alexandra / commonwealth (d3)\n",
       "1884    ang mo kio / bishan / thomson (d20)\n",
       "1888            balestier / toa payoh (d12)\n",
       "                       ...                 \n",
       "2460                  upper east coast road\n",
       "2472                           walmer drive\n",
       "2485                        west coast road\n",
       "2493                             wilby road\n",
       "2501                          worthing road\n",
       "Name: address, Length: 94, dtype: object"
      ]
     },
     "execution_count": 48,
     "metadata": {},
     "output_type": "execute_result"
    }
   ],
   "source": [
    "df_tenure_address = df_train.groupby(\"address\")[\"tenure\"].value_counts(dropna=False).unstack(fill_value=0)[np.nan].reset_index()\n",
    "df_tenure_address[df_tenure_address[np.nan] > 0][\"address\"]"
   ]
  },
  {
   "cell_type": "code",
   "execution_count": 49,
   "metadata": {},
   "outputs": [
    {
     "data": {
      "text/plain": [
       "6        (1.2430491, 103.83612064401775)\n",
       "58              (1.2744919, 103.8359531)\n",
       "63      (1.27526835, 103.84260173150705)\n",
       "78       (1.2759129, 103.84270226410374)\n",
       "84               (1.2761428, 103.835368)\n",
       "                      ...               \n",
       "4291     (1.4523077, 103.81804634478466)\n",
       "4292     (1.4526156, 103.81575039614098)\n",
       "4293    (1.45278705, 103.81805394565022)\n",
       "4294      (1.453263, 103.81820292913945)\n",
       "4296            (1.4549836, 103.8174025)\n",
       "Name: lat_lng, Length: 757, dtype: object"
      ]
     },
     "execution_count": 49,
     "metadata": {},
     "output_type": "execute_result"
    }
   ],
   "source": [
    "df = df_train.groupby(\"lat_lng\")[\"tenure\"].value_counts(dropna=False).unstack(fill_value=0)[np.nan].reset_index()\n",
    "df[df[np.nan] > 0][\"lat_lng\"]"
   ]
  },
  {
   "cell_type": "code",
   "execution_count": 50,
   "metadata": {},
   "outputs": [
    {
     "name": "stdout",
     "output_type": "stream",
     "text": [
      "Can fill missing entries for 257 entries using lat_long\n"
     ]
    }
   ],
   "source": [
    "df = df_train.groupby([\"lat_lng\", df_train[\"tenure\"].notna()], dropna=False).size().unstack(level=0,fill_value=0)\n",
    "temp = df.to_dict()\n",
    "count = 0\n",
    "missing_data_count = 0\n",
    "locations = []\n",
    "missing_locations = []\n",
    "for lat_lng, bool_counts in temp.items():\n",
    "    if bool_counts[False] > 0:\n",
    "        if bool_counts[True] > 0:\n",
    "            count += bool_counts[False]\n",
    "            locations.append(lat_lng)\n",
    "        else:\n",
    "            missing_data_count += bool_counts[False]\n",
    "            missing_locations.append(lat_lng)\n",
    "\n",
    "print(f\"Can fill missing entries for {count} entries using lat_long\")"
   ]
  },
  {
   "cell_type": "markdown",
   "metadata": {},
   "source": [
    "Need to investigate the above idea further. Need to see if `address` can be used since that identifies the buildings much better than `lat_lng`."
   ]
  },
  {
   "cell_type": "markdown",
   "metadata": {},
   "source": [
    "#### `built_year`"
   ]
  },
  {
   "cell_type": "code",
   "execution_count": 51,
   "metadata": {},
   "outputs": [
    {
     "data": {
      "text/plain": [
       "922"
      ]
     },
     "execution_count": 51,
     "metadata": {},
     "output_type": "execute_result"
    }
   ],
   "source": [
    "df_train[\"built_year\"].isna().sum()"
   ]
  },
  {
   "cell_type": "code",
   "execution_count": 52,
   "metadata": {},
   "outputs": [],
   "source": [
    "df = df_train.groupby([\"lat_lng\", df_train[\"built_year\"].notna()], dropna=False).size().unstack(level=0,fill_value=0)"
   ]
  },
  {
   "cell_type": "markdown",
   "metadata": {},
   "source": [
    "TODO: See if `lat_lng` or `address` can be used to fill missing data"
   ]
  },
  {
   "cell_type": "markdown",
   "metadata": {},
   "source": [
    "#### `furnishing`"
   ]
  },
  {
   "cell_type": "code",
   "execution_count": 53,
   "metadata": {},
   "outputs": [
    {
     "data": {
      "text/plain": [
       "unspecified    14716\n",
       "partial         2989\n",
       "unfurnished     2010\n",
       "fully            529\n",
       "na                10\n",
       "Name: furnishing, dtype: int64"
      ]
     },
     "execution_count": 53,
     "metadata": {},
     "output_type": "execute_result"
    }
   ],
   "source": [
    "df_train[\"furnishing\"].value_counts(dropna=False)"
   ]
  },
  {
   "cell_type": "markdown",
   "metadata": {},
   "source": [
    "* *unspecified* could be the default value\n",
    "* Not sure how to categorize *na*\n",
    "\n",
    "**Preprocessing**\n",
    "* The type can be considered either as Ordinal or Nominal -> Ordinal would be preferred"
   ]
  },
  {
   "cell_type": "code",
   "execution_count": 54,
   "metadata": {},
   "outputs": [
    {
     "data": {
      "text/plain": [
       "apartment          5\n",
       "Apartment          2\n",
       "condo              2\n",
       "Executive Condo    1\n",
       "Name: property_type, dtype: int64"
      ]
     },
     "execution_count": 54,
     "metadata": {},
     "output_type": "execute_result"
    }
   ],
   "source": [
    "df_train[df_train[\"furnishing\"] == \"na\"][\"property_type\"].value_counts()"
   ]
  },
  {
   "cell_type": "code",
   "execution_count": 55,
   "metadata": {},
   "outputs": [
    {
     "data": {
      "text/html": [
       "<div>\n",
       "<style scoped>\n",
       "    .dataframe tbody tr th:only-of-type {\n",
       "        vertical-align: middle;\n",
       "    }\n",
       "\n",
       "    .dataframe tbody tr th {\n",
       "        vertical-align: top;\n",
       "    }\n",
       "\n",
       "    .dataframe thead th {\n",
       "        text-align: right;\n",
       "    }\n",
       "</style>\n",
       "<table border=\"1\" class=\"dataframe\">\n",
       "  <thead>\n",
       "    <tr style=\"text-align: right;\">\n",
       "      <th>property_type</th>\n",
       "      <th>Apartment</th>\n",
       "      <th>Bungalow</th>\n",
       "      <th>Cluster House</th>\n",
       "      <th>Condo</th>\n",
       "      <th>Conservation House</th>\n",
       "      <th>Corner Terrace</th>\n",
       "      <th>Executive Condo</th>\n",
       "      <th>Hdb</th>\n",
       "      <th>Hdb 2 Rooms</th>\n",
       "      <th>Hdb 3 Rooms</th>\n",
       "      <th>...</th>\n",
       "      <th>hdb 4 rooms</th>\n",
       "      <th>hdb 5 rooms</th>\n",
       "      <th>hdb executive</th>\n",
       "      <th>land only</th>\n",
       "      <th>landed</th>\n",
       "      <th>semi-detached house</th>\n",
       "      <th>shophouse</th>\n",
       "      <th>terraced house</th>\n",
       "      <th>townhouse</th>\n",
       "      <th>walk-up</th>\n",
       "    </tr>\n",
       "    <tr>\n",
       "      <th>furnishing</th>\n",
       "      <th></th>\n",
       "      <th></th>\n",
       "      <th></th>\n",
       "      <th></th>\n",
       "      <th></th>\n",
       "      <th></th>\n",
       "      <th></th>\n",
       "      <th></th>\n",
       "      <th></th>\n",
       "      <th></th>\n",
       "      <th></th>\n",
       "      <th></th>\n",
       "      <th></th>\n",
       "      <th></th>\n",
       "      <th></th>\n",
       "      <th></th>\n",
       "      <th></th>\n",
       "      <th></th>\n",
       "      <th></th>\n",
       "      <th></th>\n",
       "      <th></th>\n",
       "    </tr>\n",
       "  </thead>\n",
       "  <tbody>\n",
       "    <tr>\n",
       "      <th>fully</th>\n",
       "      <td>2</td>\n",
       "      <td>1</td>\n",
       "      <td>1</td>\n",
       "      <td>48</td>\n",
       "      <td>0</td>\n",
       "      <td>2</td>\n",
       "      <td>7</td>\n",
       "      <td>1</td>\n",
       "      <td>0</td>\n",
       "      <td>8</td>\n",
       "      <td>...</td>\n",
       "      <td>63</td>\n",
       "      <td>42</td>\n",
       "      <td>13</td>\n",
       "      <td>0</td>\n",
       "      <td>0</td>\n",
       "      <td>7</td>\n",
       "      <td>0</td>\n",
       "      <td>2</td>\n",
       "      <td>0</td>\n",
       "      <td>0</td>\n",
       "    </tr>\n",
       "    <tr>\n",
       "      <th>na</th>\n",
       "      <td>2</td>\n",
       "      <td>0</td>\n",
       "      <td>0</td>\n",
       "      <td>0</td>\n",
       "      <td>0</td>\n",
       "      <td>0</td>\n",
       "      <td>1</td>\n",
       "      <td>0</td>\n",
       "      <td>0</td>\n",
       "      <td>0</td>\n",
       "      <td>...</td>\n",
       "      <td>0</td>\n",
       "      <td>0</td>\n",
       "      <td>0</td>\n",
       "      <td>0</td>\n",
       "      <td>0</td>\n",
       "      <td>0</td>\n",
       "      <td>0</td>\n",
       "      <td>0</td>\n",
       "      <td>0</td>\n",
       "      <td>0</td>\n",
       "    </tr>\n",
       "    <tr>\n",
       "      <th>partial</th>\n",
       "      <td>12</td>\n",
       "      <td>15</td>\n",
       "      <td>3</td>\n",
       "      <td>372</td>\n",
       "      <td>1</td>\n",
       "      <td>2</td>\n",
       "      <td>27</td>\n",
       "      <td>2</td>\n",
       "      <td>1</td>\n",
       "      <td>19</td>\n",
       "      <td>...</td>\n",
       "      <td>162</td>\n",
       "      <td>127</td>\n",
       "      <td>52</td>\n",
       "      <td>0</td>\n",
       "      <td>2</td>\n",
       "      <td>95</td>\n",
       "      <td>0</td>\n",
       "      <td>13</td>\n",
       "      <td>1</td>\n",
       "      <td>4</td>\n",
       "    </tr>\n",
       "    <tr>\n",
       "      <th>unfurnished</th>\n",
       "      <td>1</td>\n",
       "      <td>4</td>\n",
       "      <td>1</td>\n",
       "      <td>247</td>\n",
       "      <td>0</td>\n",
       "      <td>1</td>\n",
       "      <td>27</td>\n",
       "      <td>3</td>\n",
       "      <td>3</td>\n",
       "      <td>23</td>\n",
       "      <td>...</td>\n",
       "      <td>136</td>\n",
       "      <td>91</td>\n",
       "      <td>32</td>\n",
       "      <td>1</td>\n",
       "      <td>1</td>\n",
       "      <td>48</td>\n",
       "      <td>0</td>\n",
       "      <td>13</td>\n",
       "      <td>0</td>\n",
       "      <td>2</td>\n",
       "    </tr>\n",
       "    <tr>\n",
       "      <th>unspecified</th>\n",
       "      <td>84</td>\n",
       "      <td>107</td>\n",
       "      <td>26</td>\n",
       "      <td>1076</td>\n",
       "      <td>5</td>\n",
       "      <td>41</td>\n",
       "      <td>128</td>\n",
       "      <td>503</td>\n",
       "      <td>43</td>\n",
       "      <td>182</td>\n",
       "      <td>...</td>\n",
       "      <td>586</td>\n",
       "      <td>305</td>\n",
       "      <td>146</td>\n",
       "      <td>0</td>\n",
       "      <td>14</td>\n",
       "      <td>701</td>\n",
       "      <td>1</td>\n",
       "      <td>335</td>\n",
       "      <td>5</td>\n",
       "      <td>10</td>\n",
       "    </tr>\n",
       "  </tbody>\n",
       "</table>\n",
       "<p>5 rows × 39 columns</p>\n",
       "</div>"
      ],
      "text/plain": [
       "property_type  Apartment  Bungalow  Cluster House  Condo  Conservation House  \\\n",
       "furnishing                                                                     \n",
       "fully                  2         1              1     48                   0   \n",
       "na                     2         0              0      0                   0   \n",
       "partial               12        15              3    372                   1   \n",
       "unfurnished            1         4              1    247                   0   \n",
       "unspecified           84       107             26   1076                   5   \n",
       "\n",
       "property_type  Corner Terrace  Executive Condo  Hdb  Hdb 2 Rooms  Hdb 3 Rooms  \\\n",
       "furnishing                                                                      \n",
       "fully                       2                7    1            0            8   \n",
       "na                          0                1    0            0            0   \n",
       "partial                     2               27    2            1           19   \n",
       "unfurnished                 1               27    3            3           23   \n",
       "unspecified                41              128  503           43          182   \n",
       "\n",
       "property_type  ...  hdb 4 rooms  hdb 5 rooms  hdb executive  land only  \\\n",
       "furnishing     ...                                                       \n",
       "fully          ...           63           42             13          0   \n",
       "na             ...            0            0              0          0   \n",
       "partial        ...          162          127             52          0   \n",
       "unfurnished    ...          136           91             32          1   \n",
       "unspecified    ...          586          305            146          0   \n",
       "\n",
       "property_type  landed  semi-detached house  shophouse  terraced house  \\\n",
       "furnishing                                                              \n",
       "fully               0                    7          0               2   \n",
       "na                  0                    0          0               0   \n",
       "partial             2                   95          0              13   \n",
       "unfurnished         1                   48          0              13   \n",
       "unspecified        14                  701          1             335   \n",
       "\n",
       "property_type  townhouse  walk-up  \n",
       "furnishing                         \n",
       "fully                  0        0  \n",
       "na                     0        0  \n",
       "partial                1        4  \n",
       "unfurnished            0        2  \n",
       "unspecified            5       10  \n",
       "\n",
       "[5 rows x 39 columns]"
      ]
     },
     "execution_count": 55,
     "metadata": {},
     "output_type": "execute_result"
    }
   ],
   "source": [
    "df_train.groupby(\"furnishing\")[\"property_type\"].value_counts().unstack(fill_value=0)"
   ]
  },
  {
   "cell_type": "markdown",
   "metadata": {},
   "source": [
    "#### `num_beds` and `num_baths`"
   ]
  },
  {
   "cell_type": "code",
   "execution_count": 56,
   "metadata": {},
   "outputs": [
    {
     "data": {
      "text/plain": [
       "num_beds      80\n",
       "num_baths    434\n",
       "dtype: int64"
      ]
     },
     "execution_count": 56,
     "metadata": {},
     "output_type": "execute_result"
    }
   ],
   "source": [
    "df_train[[\"num_beds\", \"num_baths\"]].isna().sum()"
   ]
  },
  {
   "cell_type": "code",
   "execution_count": 57,
   "metadata": {},
   "outputs": [
    {
     "data": {
      "text/plain": [
       "(5, 23)"
      ]
     },
     "execution_count": 57,
     "metadata": {},
     "output_type": "execute_result"
    }
   ],
   "source": [
    "df_train[df_train[\"num_beds\"].isna() & df_train[\"num_baths\"].isna()].shape"
   ]
  },
  {
   "cell_type": "markdown",
   "metadata": {},
   "source": [
    "* Only 5 entries where both `num_beds` and `num_baths` are `NaN`.\n",
    "* To missing values, can consider using `sklearn.impute.KNNImputer` to fill in the missing values based on `property_type`, `sqft_size`"
   ]
  },
  {
   "cell_type": "code",
   "execution_count": 58,
   "metadata": {},
   "outputs": [
    {
     "data": {
      "text/html": [
       "<div>\n",
       "<style scoped>\n",
       "    .dataframe tbody tr th:only-of-type {\n",
       "        vertical-align: middle;\n",
       "    }\n",
       "\n",
       "    .dataframe tbody tr th {\n",
       "        vertical-align: top;\n",
       "    }\n",
       "\n",
       "    .dataframe thead th {\n",
       "        text-align: right;\n",
       "    }\n",
       "</style>\n",
       "<table border=\"1\" class=\"dataframe\">\n",
       "  <thead>\n",
       "    <tr style=\"text-align: right;\">\n",
       "      <th>num_baths</th>\n",
       "      <th>1.0</th>\n",
       "      <th>2.0</th>\n",
       "      <th>3.0</th>\n",
       "      <th>4.0</th>\n",
       "      <th>5.0</th>\n",
       "      <th>6.0</th>\n",
       "      <th>7.0</th>\n",
       "      <th>8.0</th>\n",
       "      <th>9.0</th>\n",
       "      <th>10.0</th>\n",
       "      <th>NaN</th>\n",
       "    </tr>\n",
       "    <tr>\n",
       "      <th>num_beds</th>\n",
       "      <th></th>\n",
       "      <th></th>\n",
       "      <th></th>\n",
       "      <th></th>\n",
       "      <th></th>\n",
       "      <th></th>\n",
       "      <th></th>\n",
       "      <th></th>\n",
       "      <th></th>\n",
       "      <th></th>\n",
       "      <th></th>\n",
       "    </tr>\n",
       "  </thead>\n",
       "  <tbody>\n",
       "    <tr>\n",
       "      <th>1.0</th>\n",
       "      <td>1584</td>\n",
       "      <td>59</td>\n",
       "      <td>1</td>\n",
       "      <td>0</td>\n",
       "      <td>0</td>\n",
       "      <td>0</td>\n",
       "      <td>0</td>\n",
       "      <td>0</td>\n",
       "      <td>0</td>\n",
       "      <td>2</td>\n",
       "      <td>37</td>\n",
       "    </tr>\n",
       "    <tr>\n",
       "      <th>2.0</th>\n",
       "      <td>1170</td>\n",
       "      <td>3052</td>\n",
       "      <td>62</td>\n",
       "      <td>3</td>\n",
       "      <td>0</td>\n",
       "      <td>0</td>\n",
       "      <td>0</td>\n",
       "      <td>0</td>\n",
       "      <td>0</td>\n",
       "      <td>0</td>\n",
       "      <td>77</td>\n",
       "    </tr>\n",
       "    <tr>\n",
       "      <th>3.0</th>\n",
       "      <td>95</td>\n",
       "      <td>5779</td>\n",
       "      <td>1688</td>\n",
       "      <td>162</td>\n",
       "      <td>13</td>\n",
       "      <td>0</td>\n",
       "      <td>0</td>\n",
       "      <td>0</td>\n",
       "      <td>0</td>\n",
       "      <td>0</td>\n",
       "      <td>199</td>\n",
       "    </tr>\n",
       "    <tr>\n",
       "      <th>4.0</th>\n",
       "      <td>7</td>\n",
       "      <td>812</td>\n",
       "      <td>1167</td>\n",
       "      <td>1139</td>\n",
       "      <td>284</td>\n",
       "      <td>87</td>\n",
       "      <td>12</td>\n",
       "      <td>0</td>\n",
       "      <td>0</td>\n",
       "      <td>0</td>\n",
       "      <td>57</td>\n",
       "    </tr>\n",
       "    <tr>\n",
       "      <th>5.0</th>\n",
       "      <td>3</td>\n",
       "      <td>38</td>\n",
       "      <td>137</td>\n",
       "      <td>394</td>\n",
       "      <td>487</td>\n",
       "      <td>352</td>\n",
       "      <td>149</td>\n",
       "      <td>17</td>\n",
       "      <td>0</td>\n",
       "      <td>0</td>\n",
       "      <td>49</td>\n",
       "    </tr>\n",
       "    <tr>\n",
       "      <th>6.0</th>\n",
       "      <td>1</td>\n",
       "      <td>11</td>\n",
       "      <td>19</td>\n",
       "      <td>38</td>\n",
       "      <td>118</td>\n",
       "      <td>356</td>\n",
       "      <td>169</td>\n",
       "      <td>38</td>\n",
       "      <td>8</td>\n",
       "      <td>0</td>\n",
       "      <td>9</td>\n",
       "    </tr>\n",
       "    <tr>\n",
       "      <th>7.0</th>\n",
       "      <td>0</td>\n",
       "      <td>0</td>\n",
       "      <td>4</td>\n",
       "      <td>4</td>\n",
       "      <td>21</td>\n",
       "      <td>43</td>\n",
       "      <td>40</td>\n",
       "      <td>22</td>\n",
       "      <td>10</td>\n",
       "      <td>2</td>\n",
       "      <td>1</td>\n",
       "    </tr>\n",
       "    <tr>\n",
       "      <th>8.0</th>\n",
       "      <td>0</td>\n",
       "      <td>0</td>\n",
       "      <td>0</td>\n",
       "      <td>2</td>\n",
       "      <td>2</td>\n",
       "      <td>6</td>\n",
       "      <td>6</td>\n",
       "      <td>15</td>\n",
       "      <td>10</td>\n",
       "      <td>0</td>\n",
       "      <td>0</td>\n",
       "    </tr>\n",
       "    <tr>\n",
       "      <th>9.0</th>\n",
       "      <td>0</td>\n",
       "      <td>0</td>\n",
       "      <td>0</td>\n",
       "      <td>0</td>\n",
       "      <td>1</td>\n",
       "      <td>6</td>\n",
       "      <td>4</td>\n",
       "      <td>1</td>\n",
       "      <td>3</td>\n",
       "      <td>1</td>\n",
       "      <td>0</td>\n",
       "    </tr>\n",
       "    <tr>\n",
       "      <th>10.0</th>\n",
       "      <td>1</td>\n",
       "      <td>0</td>\n",
       "      <td>0</td>\n",
       "      <td>0</td>\n",
       "      <td>0</td>\n",
       "      <td>0</td>\n",
       "      <td>1</td>\n",
       "      <td>3</td>\n",
       "      <td>4</td>\n",
       "      <td>20</td>\n",
       "      <td>0</td>\n",
       "    </tr>\n",
       "    <tr>\n",
       "      <th>NaN</th>\n",
       "      <td>66</td>\n",
       "      <td>3</td>\n",
       "      <td>2</td>\n",
       "      <td>1</td>\n",
       "      <td>1</td>\n",
       "      <td>1</td>\n",
       "      <td>1</td>\n",
       "      <td>0</td>\n",
       "      <td>0</td>\n",
       "      <td>0</td>\n",
       "      <td>5</td>\n",
       "    </tr>\n",
       "  </tbody>\n",
       "</table>\n",
       "</div>"
      ],
      "text/plain": [
       "num_baths  1.0   2.0   3.0   4.0   5.0   6.0   7.0   8.0   9.0   10.0  NaN \n",
       "num_beds                                                                   \n",
       "1.0        1584    59     1     0     0     0     0     0     0     2    37\n",
       "2.0        1170  3052    62     3     0     0     0     0     0     0    77\n",
       "3.0          95  5779  1688   162    13     0     0     0     0     0   199\n",
       "4.0           7   812  1167  1139   284    87    12     0     0     0    57\n",
       "5.0           3    38   137   394   487   352   149    17     0     0    49\n",
       "6.0           1    11    19    38   118   356   169    38     8     0     9\n",
       "7.0           0     0     4     4    21    43    40    22    10     2     1\n",
       "8.0           0     0     0     2     2     6     6    15    10     0     0\n",
       "9.0           0     0     0     0     1     6     4     1     3     1     0\n",
       "10.0          1     0     0     0     0     0     1     3     4    20     0\n",
       "NaN          66     3     2     1     1     1     1     0     0     0     5"
      ]
     },
     "execution_count": 58,
     "metadata": {},
     "output_type": "execute_result"
    }
   ],
   "source": [
    "df_train.groupby([\"num_beds\", \"num_baths\"], dropna=False).size().unstack(fill_value=0)"
   ]
  },
  {
   "cell_type": "markdown",
   "metadata": {},
   "source": [
    "#### `size_sqft`"
   ]
  },
  {
   "cell_type": "code",
   "execution_count": 59,
   "metadata": {},
   "outputs": [
    {
     "data": {
      "text/plain": [
       "0"
      ]
     },
     "execution_count": 59,
     "metadata": {},
     "output_type": "execute_result"
    }
   ],
   "source": [
    "df_train[\"size_sqft\"].isna().sum()"
   ]
  },
  {
   "cell_type": "code",
   "execution_count": 60,
   "metadata": {},
   "outputs": [
    {
     "data": {
      "text/plain": [
       "0          1\n",
       "65         1\n",
       "92         1\n",
       "102        1\n",
       "103        2\n",
       "          ..\n",
       "30000      1\n",
       "70000      1\n",
       "86080      1\n",
       "1185000    1\n",
       "1496000    1\n",
       "Name: size_sqft, Length: 1406, dtype: int64"
      ]
     },
     "execution_count": 60,
     "metadata": {},
     "output_type": "execute_result"
    }
   ],
   "source": [
    "df_train[\"size_sqft\"].value_counts().sort_index()"
   ]
  },
  {
   "cell_type": "code",
   "execution_count": 61,
   "metadata": {},
   "outputs": [
    {
     "data": {
      "text/plain": [
       "0.10        625.00\n",
       "0.25        807.00\n",
       "0.30        904.00\n",
       "0.40       1001.00\n",
       "0.50       1119.00\n",
       "0.60       1249.00\n",
       "0.75       1528.00\n",
       "0.80       1722.00\n",
       "0.90       3992.00\n",
       "0.95       5996.00\n",
       "0.98       7875.82\n",
       "0.99       9600.00\n",
       "1.00    1496000.00\n",
       "Name: size_sqft, dtype: float64"
      ]
     },
     "execution_count": 61,
     "metadata": {},
     "output_type": "execute_result"
    }
   ],
   "source": [
    "df_train[\"size_sqft\"].quantile([0.1, 0.25, 0.30, 0.4, 0.5, 0.6, 0.75, 0.8, 0.9, 0.95, 0.98, 0.99, 1])"
   ]
  },
  {
   "cell_type": "code",
   "execution_count": 62,
   "metadata": {},
   "outputs": [
    {
     "data": {
      "image/png": "[encoded data removed]",
      "text/plain": [
       "<Figure size 640x480 with 1 Axes>"
      ]
     },
     "metadata": {},
     "output_type": "display_data"
    }
   ],
   "source": [
    "df_train[[\"size_sqft\"]].boxplot()\n",
    "plt.show()"
   ]
  },
  {
   "cell_type": "code",
   "execution_count": 63,
   "metadata": {},
   "outputs": [
    {
     "data": {
      "image/png": "[encoded data removed]",
      "text/plain": [
       "<Figure size 640x480 with 1 Axes>"
      ]
     },
     "metadata": {},
     "output_type": "display_data"
    }
   ],
   "source": [
    "df_train[\"size_sqft\"].hist(bins=[0, 250, 500, 750, 1000, 2000, 3000, 4000, 5000, 6000, 7000, 8000, 9000, 10000, 50000])\n",
    "plt.show()"
   ]
  },
  {
   "cell_type": "markdown",
   "metadata": {},
   "source": [
    "#### `elevation`"
   ]
  },
  {
   "cell_type": "code",
   "execution_count": 64,
   "metadata": {},
   "outputs": [
    {
     "data": {
      "text/plain": [
       "array([0])"
      ]
     },
     "execution_count": 64,
     "metadata": {},
     "output_type": "execute_result"
    }
   ],
   "source": [
    "df_train[\"elevation\"].unique()"
   ]
  },
  {
   "cell_type": "markdown",
   "metadata": {},
   "source": [
    "* All values are 0, must be default value.\n",
    "<br>\n",
    "This column can be dropped for model building.\n",
    "<br>\n",
    "* The values are 0 even in the test data."
   ]
  },
  {
   "cell_type": "markdown",
   "metadata": {},
   "source": [
    "#### `floor_level`"
   ]
  },
  {
   "cell_type": "code",
   "execution_count": 65,
   "metadata": {},
   "outputs": [
    {
     "data": {
      "text/plain": [
       "16746"
      ]
     },
     "execution_count": 65,
     "metadata": {},
     "output_type": "execute_result"
    }
   ],
   "source": [
    "df_train[\"floor_level\"].isna().sum()"
   ]
  },
  {
   "cell_type": "code",
   "execution_count": 66,
   "metadata": {},
   "outputs": [
    {
     "data": {
      "text/plain": [
       "NaN                 16746\n",
       "high                 1674\n",
       "low                   719\n",
       "mid                   705\n",
       "ground                178\n",
       "top                   116\n",
       "penthouse              97\n",
       "ground (9 total)        4\n",
       "high (70 total)         4\n",
       "low (17 total)          2\n",
       "high (25 total)         2\n",
       "mid (25 total)          1\n",
       "low (23 total)          1\n",
       "high (23 total)         1\n",
       "high (10 total)         1\n",
       "high (9 total)          1\n",
       "high (17 total)         1\n",
       "mid (9 total)           1\n",
       "Name: floor_level, dtype: int64"
      ]
     },
     "execution_count": 66,
     "metadata": {},
     "output_type": "execute_result"
    }
   ],
   "source": [
    "df_train[\"floor_level\"].value_counts(dropna=False)"
   ]
  },
  {
   "cell_type": "markdown",
   "metadata": {},
   "source": [
    "* Most of the entries have `NaN`, will be difficult to fill.\n",
    "<br> Cannot make use `elevation` attribute also.\n",
    "* Should consider dropping this column"
   ]
  },
  {
   "cell_type": "markdown",
   "metadata": {},
   "source": [
    "#### `subzone` and `planning_area`"
   ]
  },
  {
   "cell_type": "code",
   "execution_count": 67,
   "metadata": {},
   "outputs": [
    {
     "data": {
      "text/plain": [
       "subzone          113\n",
       "planning_area    113\n",
       "dtype: int64"
      ]
     },
     "execution_count": 67,
     "metadata": {},
     "output_type": "execute_result"
    }
   ],
   "source": [
    "df_train[[\"subzone\", \"planning_area\"]].isna().sum()"
   ]
  },
  {
   "cell_type": "code",
   "execution_count": 68,
   "metadata": {},
   "outputs": [
    {
     "data": {
      "text/html": [
       "<div>\n",
       "<style scoped>\n",
       "    .dataframe tbody tr th:only-of-type {\n",
       "        vertical-align: middle;\n",
       "    }\n",
       "\n",
       "    .dataframe tbody tr th {\n",
       "        vertical-align: top;\n",
       "    }\n",
       "\n",
       "    .dataframe thead th {\n",
       "        text-align: right;\n",
       "    }\n",
       "</style>\n",
       "<table border=\"1\" class=\"dataframe\">\n",
       "  <thead>\n",
       "    <tr style=\"text-align: right;\">\n",
       "      <th>planning_area</th>\n",
       "      <th>ang mo kio</th>\n",
       "      <th>bedok</th>\n",
       "      <th>bishan</th>\n",
       "      <th>bukit batok</th>\n",
       "      <th>bukit merah</th>\n",
       "      <th>bukit panjang</th>\n",
       "      <th>bukit timah</th>\n",
       "      <th>central water catchment</th>\n",
       "      <th>changi</th>\n",
       "      <th>choa chu kang</th>\n",
       "      <th>...</th>\n",
       "      <th>serangoon</th>\n",
       "      <th>singapore river</th>\n",
       "      <th>southern islands</th>\n",
       "      <th>tampines</th>\n",
       "      <th>tanglin</th>\n",
       "      <th>tengah</th>\n",
       "      <th>toa payoh</th>\n",
       "      <th>woodlands</th>\n",
       "      <th>yishun</th>\n",
       "      <th>NaN</th>\n",
       "    </tr>\n",
       "    <tr>\n",
       "      <th>subzone</th>\n",
       "      <th></th>\n",
       "      <th></th>\n",
       "      <th></th>\n",
       "      <th></th>\n",
       "      <th></th>\n",
       "      <th></th>\n",
       "      <th></th>\n",
       "      <th></th>\n",
       "      <th></th>\n",
       "      <th></th>\n",
       "      <th></th>\n",
       "      <th></th>\n",
       "      <th></th>\n",
       "      <th></th>\n",
       "      <th></th>\n",
       "      <th></th>\n",
       "      <th></th>\n",
       "      <th></th>\n",
       "      <th></th>\n",
       "      <th></th>\n",
       "      <th></th>\n",
       "    </tr>\n",
       "  </thead>\n",
       "  <tbody>\n",
       "    <tr>\n",
       "      <th>admiralty</th>\n",
       "      <td>0</td>\n",
       "      <td>0</td>\n",
       "      <td>0</td>\n",
       "      <td>0</td>\n",
       "      <td>0</td>\n",
       "      <td>0</td>\n",
       "      <td>0</td>\n",
       "      <td>0</td>\n",
       "      <td>0</td>\n",
       "      <td>0</td>\n",
       "      <td>...</td>\n",
       "      <td>0</td>\n",
       "      <td>0</td>\n",
       "      <td>0</td>\n",
       "      <td>0</td>\n",
       "      <td>0</td>\n",
       "      <td>0</td>\n",
       "      <td>0</td>\n",
       "      <td>0</td>\n",
       "      <td>0</td>\n",
       "      <td>0</td>\n",
       "    </tr>\n",
       "    <tr>\n",
       "      <th>alexandra hill</th>\n",
       "      <td>0</td>\n",
       "      <td>0</td>\n",
       "      <td>0</td>\n",
       "      <td>0</td>\n",
       "      <td>23</td>\n",
       "      <td>0</td>\n",
       "      <td>0</td>\n",
       "      <td>0</td>\n",
       "      <td>0</td>\n",
       "      <td>0</td>\n",
       "      <td>...</td>\n",
       "      <td>0</td>\n",
       "      <td>0</td>\n",
       "      <td>0</td>\n",
       "      <td>0</td>\n",
       "      <td>0</td>\n",
       "      <td>0</td>\n",
       "      <td>0</td>\n",
       "      <td>0</td>\n",
       "      <td>0</td>\n",
       "      <td>0</td>\n",
       "    </tr>\n",
       "    <tr>\n",
       "      <th>alexandra north</th>\n",
       "      <td>0</td>\n",
       "      <td>0</td>\n",
       "      <td>0</td>\n",
       "      <td>0</td>\n",
       "      <td>17</td>\n",
       "      <td>0</td>\n",
       "      <td>0</td>\n",
       "      <td>0</td>\n",
       "      <td>0</td>\n",
       "      <td>0</td>\n",
       "      <td>...</td>\n",
       "      <td>0</td>\n",
       "      <td>0</td>\n",
       "      <td>0</td>\n",
       "      <td>0</td>\n",
       "      <td>0</td>\n",
       "      <td>0</td>\n",
       "      <td>0</td>\n",
       "      <td>0</td>\n",
       "      <td>0</td>\n",
       "      <td>0</td>\n",
       "    </tr>\n",
       "    <tr>\n",
       "      <th>aljunied</th>\n",
       "      <td>0</td>\n",
       "      <td>0</td>\n",
       "      <td>0</td>\n",
       "      <td>0</td>\n",
       "      <td>0</td>\n",
       "      <td>0</td>\n",
       "      <td>0</td>\n",
       "      <td>0</td>\n",
       "      <td>0</td>\n",
       "      <td>0</td>\n",
       "      <td>...</td>\n",
       "      <td>0</td>\n",
       "      <td>0</td>\n",
       "      <td>0</td>\n",
       "      <td>0</td>\n",
       "      <td>0</td>\n",
       "      <td>0</td>\n",
       "      <td>0</td>\n",
       "      <td>0</td>\n",
       "      <td>0</td>\n",
       "      <td>0</td>\n",
       "    </tr>\n",
       "    <tr>\n",
       "      <th>anak bukit</th>\n",
       "      <td>0</td>\n",
       "      <td>0</td>\n",
       "      <td>0</td>\n",
       "      <td>0</td>\n",
       "      <td>0</td>\n",
       "      <td>0</td>\n",
       "      <td>73</td>\n",
       "      <td>0</td>\n",
       "      <td>0</td>\n",
       "      <td>0</td>\n",
       "      <td>...</td>\n",
       "      <td>0</td>\n",
       "      <td>0</td>\n",
       "      <td>0</td>\n",
       "      <td>0</td>\n",
       "      <td>0</td>\n",
       "      <td>0</td>\n",
       "      <td>0</td>\n",
       "      <td>0</td>\n",
       "      <td>0</td>\n",
       "      <td>0</td>\n",
       "    </tr>\n",
       "    <tr>\n",
       "      <th>...</th>\n",
       "      <td>...</td>\n",
       "      <td>...</td>\n",
       "      <td>...</td>\n",
       "      <td>...</td>\n",
       "      <td>...</td>\n",
       "      <td>...</td>\n",
       "      <td>...</td>\n",
       "      <td>...</td>\n",
       "      <td>...</td>\n",
       "      <td>...</td>\n",
       "      <td>...</td>\n",
       "      <td>...</td>\n",
       "      <td>...</td>\n",
       "      <td>...</td>\n",
       "      <td>...</td>\n",
       "      <td>...</td>\n",
       "      <td>...</td>\n",
       "      <td>...</td>\n",
       "      <td>...</td>\n",
       "      <td>...</td>\n",
       "      <td>...</td>\n",
       "    </tr>\n",
       "    <tr>\n",
       "      <th>yishun west</th>\n",
       "      <td>0</td>\n",
       "      <td>0</td>\n",
       "      <td>0</td>\n",
       "      <td>0</td>\n",
       "      <td>0</td>\n",
       "      <td>0</td>\n",
       "      <td>0</td>\n",
       "      <td>0</td>\n",
       "      <td>0</td>\n",
       "      <td>0</td>\n",
       "      <td>...</td>\n",
       "      <td>0</td>\n",
       "      <td>0</td>\n",
       "      <td>0</td>\n",
       "      <td>0</td>\n",
       "      <td>0</td>\n",
       "      <td>0</td>\n",
       "      <td>0</td>\n",
       "      <td>0</td>\n",
       "      <td>90</td>\n",
       "      <td>0</td>\n",
       "    </tr>\n",
       "    <tr>\n",
       "      <th>yuhua east</th>\n",
       "      <td>0</td>\n",
       "      <td>0</td>\n",
       "      <td>0</td>\n",
       "      <td>0</td>\n",
       "      <td>0</td>\n",
       "      <td>0</td>\n",
       "      <td>0</td>\n",
       "      <td>0</td>\n",
       "      <td>0</td>\n",
       "      <td>0</td>\n",
       "      <td>...</td>\n",
       "      <td>0</td>\n",
       "      <td>0</td>\n",
       "      <td>0</td>\n",
       "      <td>0</td>\n",
       "      <td>0</td>\n",
       "      <td>0</td>\n",
       "      <td>0</td>\n",
       "      <td>0</td>\n",
       "      <td>0</td>\n",
       "      <td>0</td>\n",
       "    </tr>\n",
       "    <tr>\n",
       "      <th>yuhua west</th>\n",
       "      <td>0</td>\n",
       "      <td>0</td>\n",
       "      <td>0</td>\n",
       "      <td>0</td>\n",
       "      <td>0</td>\n",
       "      <td>0</td>\n",
       "      <td>0</td>\n",
       "      <td>0</td>\n",
       "      <td>0</td>\n",
       "      <td>0</td>\n",
       "      <td>...</td>\n",
       "      <td>0</td>\n",
       "      <td>0</td>\n",
       "      <td>0</td>\n",
       "      <td>0</td>\n",
       "      <td>0</td>\n",
       "      <td>0</td>\n",
       "      <td>0</td>\n",
       "      <td>0</td>\n",
       "      <td>0</td>\n",
       "      <td>0</td>\n",
       "    </tr>\n",
       "    <tr>\n",
       "      <th>yunnan</th>\n",
       "      <td>0</td>\n",
       "      <td>0</td>\n",
       "      <td>0</td>\n",
       "      <td>0</td>\n",
       "      <td>0</td>\n",
       "      <td>0</td>\n",
       "      <td>0</td>\n",
       "      <td>0</td>\n",
       "      <td>0</td>\n",
       "      <td>0</td>\n",
       "      <td>...</td>\n",
       "      <td>0</td>\n",
       "      <td>0</td>\n",
       "      <td>0</td>\n",
       "      <td>0</td>\n",
       "      <td>0</td>\n",
       "      <td>0</td>\n",
       "      <td>0</td>\n",
       "      <td>0</td>\n",
       "      <td>0</td>\n",
       "      <td>0</td>\n",
       "    </tr>\n",
       "    <tr>\n",
       "      <th>NaN</th>\n",
       "      <td>0</td>\n",
       "      <td>0</td>\n",
       "      <td>0</td>\n",
       "      <td>0</td>\n",
       "      <td>0</td>\n",
       "      <td>0</td>\n",
       "      <td>0</td>\n",
       "      <td>0</td>\n",
       "      <td>0</td>\n",
       "      <td>0</td>\n",
       "      <td>...</td>\n",
       "      <td>0</td>\n",
       "      <td>0</td>\n",
       "      <td>0</td>\n",
       "      <td>0</td>\n",
       "      <td>0</td>\n",
       "      <td>0</td>\n",
       "      <td>0</td>\n",
       "      <td>0</td>\n",
       "      <td>0</td>\n",
       "      <td>113</td>\n",
       "    </tr>\n",
       "  </tbody>\n",
       "</table>\n",
       "<p>245 rows × 44 columns</p>\n",
       "</div>"
      ],
      "text/plain": [
       "planning_area    ang mo kio  bedok  bishan  bukit batok  bukit merah  \\\n",
       "subzone                                                                \n",
       "admiralty                 0      0       0            0            0   \n",
       "alexandra hill            0      0       0            0           23   \n",
       "alexandra north           0      0       0            0           17   \n",
       "aljunied                  0      0       0            0            0   \n",
       "anak bukit                0      0       0            0            0   \n",
       "...                     ...    ...     ...          ...          ...   \n",
       "yishun west               0      0       0            0            0   \n",
       "yuhua east                0      0       0            0            0   \n",
       "yuhua west                0      0       0            0            0   \n",
       "yunnan                    0      0       0            0            0   \n",
       "NaN                       0      0       0            0            0   \n",
       "\n",
       "planning_area    bukit panjang  bukit timah  central water catchment  changi  \\\n",
       "subzone                                                                        \n",
       "admiralty                    0            0                        0       0   \n",
       "alexandra hill               0            0                        0       0   \n",
       "alexandra north              0            0                        0       0   \n",
       "aljunied                     0            0                        0       0   \n",
       "anak bukit                   0           73                        0       0   \n",
       "...                        ...          ...                      ...     ...   \n",
       "yishun west                  0            0                        0       0   \n",
       "yuhua east                   0            0                        0       0   \n",
       "yuhua west                   0            0                        0       0   \n",
       "yunnan                       0            0                        0       0   \n",
       "NaN                          0            0                        0       0   \n",
       "\n",
       "planning_area    choa chu kang  ...  serangoon  singapore river  \\\n",
       "subzone                         ...                               \n",
       "admiralty                    0  ...          0                0   \n",
       "alexandra hill               0  ...          0                0   \n",
       "alexandra north              0  ...          0                0   \n",
       "aljunied                     0  ...          0                0   \n",
       "anak bukit                   0  ...          0                0   \n",
       "...                        ...  ...        ...              ...   \n",
       "yishun west                  0  ...          0                0   \n",
       "yuhua east                   0  ...          0                0   \n",
       "yuhua west                   0  ...          0                0   \n",
       "yunnan                       0  ...          0                0   \n",
       "NaN                          0  ...          0                0   \n",
       "\n",
       "planning_area    southern islands  tampines  tanglin  tengah  toa payoh  \\\n",
       "subzone                                                                   \n",
       "admiralty                       0         0        0       0          0   \n",
       "alexandra hill                  0         0        0       0          0   \n",
       "alexandra north                 0         0        0       0          0   \n",
       "aljunied                        0         0        0       0          0   \n",
       "anak bukit                      0         0        0       0          0   \n",
       "...                           ...       ...      ...     ...        ...   \n",
       "yishun west                     0         0        0       0          0   \n",
       "yuhua east                      0         0        0       0          0   \n",
       "yuhua west                      0         0        0       0          0   \n",
       "yunnan                          0         0        0       0          0   \n",
       "NaN                             0         0        0       0          0   \n",
       "\n",
       "planning_area    woodlands  yishun  NaN  \n",
       "subzone                                  \n",
       "admiralty                0       0    0  \n",
       "alexandra hill           0       0    0  \n",
       "alexandra north          0       0    0  \n",
       "aljunied                 0       0    0  \n",
       "anak bukit               0       0    0  \n",
       "...                    ...     ...  ...  \n",
       "yishun west              0      90    0  \n",
       "yuhua east               0       0    0  \n",
       "yuhua west               0       0    0  \n",
       "yunnan                   0       0    0  \n",
       "NaN                      0       0  113  \n",
       "\n",
       "[245 rows x 44 columns]"
      ]
     },
     "execution_count": 68,
     "metadata": {},
     "output_type": "execute_result"
    }
   ],
   "source": [
    "df_train.groupby([\"subzone\", \"planning_area\"], dropna=False).size().unstack(fill_value=0)"
   ]
  },
  {
   "cell_type": "code",
   "execution_count": 69,
   "metadata": {},
   "outputs": [
    {
     "data": {
      "text/plain": [
       "(113, 23)"
      ]
     },
     "execution_count": 69,
     "metadata": {},
     "output_type": "execute_result"
    }
   ],
   "source": [
    "df_train[df_train[\"subzone\"].isna() & df_train[\"planning_area\"].isna()].shape"
   ]
  },
  {
   "cell_type": "markdown",
   "metadata": {},
   "source": [
    "`subzone` and `planning_area` are both `NaN` together."
   ]
  },
  {
   "cell_type": "code",
   "execution_count": 70,
   "metadata": {},
   "outputs": [
    {
     "data": {
      "text/plain": [
       "(14.4848138, 121.0232316)          102\n",
       "(38.9427759, -77.0653642528485)      6\n",
       "(69.4867678, 20.1844341)             5\n",
       "Name: lat_lng, dtype: int64"
      ]
     },
     "execution_count": 70,
     "metadata": {},
     "output_type": "execute_result"
    }
   ],
   "source": [
    "df_train[df_train[\"planning_area\"].isna()][\"lat_lng\"].value_counts()"
   ]
  },
  {
   "cell_type": "code",
   "execution_count": 71,
   "metadata": {},
   "outputs": [
    {
     "data": {
      "text/html": [
       "<div>\n",
       "<style scoped>\n",
       "    .dataframe tbody tr th:only-of-type {\n",
       "        vertical-align: middle;\n",
       "    }\n",
       "\n",
       "    .dataframe tbody tr th {\n",
       "        vertical-align: top;\n",
       "    }\n",
       "\n",
       "    .dataframe thead th {\n",
       "        text-align: right;\n",
       "    }\n",
       "</style>\n",
       "<table border=\"1\" class=\"dataframe\">\n",
       "  <thead>\n",
       "    <tr style=\"text-align: right;\">\n",
       "      <th>has_planning_area</th>\n",
       "      <th>False</th>\n",
       "      <th>True</th>\n",
       "    </tr>\n",
       "    <tr>\n",
       "      <th>lat_lng</th>\n",
       "      <th></th>\n",
       "      <th></th>\n",
       "    </tr>\n",
       "  </thead>\n",
       "  <tbody>\n",
       "    <tr>\n",
       "      <th>(1.23962095, 103.83771301051394)</th>\n",
       "      <td>0</td>\n",
       "      <td>25</td>\n",
       "    </tr>\n",
       "    <tr>\n",
       "      <th>(1.24002195, 103.83092944861836)</th>\n",
       "      <td>0</td>\n",
       "      <td>1</td>\n",
       "    </tr>\n",
       "    <tr>\n",
       "      <th>(1.2411094, 103.83616118799549)</th>\n",
       "      <td>0</td>\n",
       "      <td>17</td>\n",
       "    </tr>\n",
       "    <tr>\n",
       "      <th>(1.24114335, 103.83961897005884)</th>\n",
       "      <td>0</td>\n",
       "      <td>33</td>\n",
       "    </tr>\n",
       "    <tr>\n",
       "      <th>(1.2418323, 103.8377594550829)</th>\n",
       "      <td>0</td>\n",
       "      <td>4</td>\n",
       "    </tr>\n",
       "    <tr>\n",
       "      <th>...</th>\n",
       "      <td>...</td>\n",
       "      <td>...</td>\n",
       "    </tr>\n",
       "    <tr>\n",
       "      <th>(1.46136225, 103.83614823161346)</th>\n",
       "      <td>0</td>\n",
       "      <td>13</td>\n",
       "    </tr>\n",
       "    <tr>\n",
       "      <th>(1.46158175, 103.83949906633782)</th>\n",
       "      <td>0</td>\n",
       "      <td>5</td>\n",
       "    </tr>\n",
       "    <tr>\n",
       "      <th>(14.4848138, 121.0232316)</th>\n",
       "      <td>102</td>\n",
       "      <td>0</td>\n",
       "    </tr>\n",
       "    <tr>\n",
       "      <th>(38.9427759, -77.0653642528485)</th>\n",
       "      <td>6</td>\n",
       "      <td>0</td>\n",
       "    </tr>\n",
       "    <tr>\n",
       "      <th>(69.4867678, 20.1844341)</th>\n",
       "      <td>5</td>\n",
       "      <td>0</td>\n",
       "    </tr>\n",
       "  </tbody>\n",
       "</table>\n",
       "<p>4310 rows × 2 columns</p>\n",
       "</div>"
      ],
      "text/plain": [
       "has_planning_area                 False  True\n",
       "lat_lng                                      \n",
       "(1.23962095, 103.83771301051394)      0    25\n",
       "(1.24002195, 103.83092944861836)      0     1\n",
       "(1.2411094, 103.83616118799549)       0    17\n",
       "(1.24114335, 103.83961897005884)      0    33\n",
       "(1.2418323, 103.8377594550829)        0     4\n",
       "...                                 ...   ...\n",
       "(1.46136225, 103.83614823161346)      0    13\n",
       "(1.46158175, 103.83949906633782)      0     5\n",
       "(14.4848138, 121.0232316)           102     0\n",
       "(38.9427759, -77.0653642528485)       6     0\n",
       "(69.4867678, 20.1844341)              5     0\n",
       "\n",
       "[4310 rows x 2 columns]"
      ]
     },
     "execution_count": 71,
     "metadata": {},
     "output_type": "execute_result"
    }
   ],
   "source": [
    "df_train[\"has_planning_area\"] = df_train[\"planning_area\"].notna()\n",
    "df_train.groupby([\"lat_lng\"], dropna=False).has_planning_area.value_counts(dropna=False).unstack(fill_value=0)"
   ]
  },
  {
   "cell_type": "markdown",
   "metadata": {},
   "source": [
    "* Do not have `planning_area` and `subzone` for 3 locations\n",
    "* Cannot fill in with data from the training data\n",
    "* Need to check if we can use KNNImputer to fill these, otherwise we can do manually if needed."
   ]
  },
  {
   "cell_type": "markdown",
   "metadata": {},
   "source": []
  }
 ],
 "metadata": {
  "kernelspec": {
   "display_name": "Python 3.9.13 64-bit ('3.9.13')",
   "language": "python",
   "name": "python3"
  },
  "language_info": {
   "codemirror_mode": {
    "name": "ipython",
    "version": 3
   },
   "file_extension": ".py",
   "mimetype": "text/x-python",
   "name": "python",
   "nbconvert_exporter": "python",
   "pygments_lexer": "ipython3",
   "version": "3.9.13"
  },
  "orig_nbformat": 4,
  "vscode": {
   "interpreter": {
    "hash": "80ee3313c3694f0d29f54357db4c8da5f1d5e4f68d75d1a3e71d97d138ede0c5"
   }
  }
 },
 "nbformat": 4,
 "nbformat_minor": 2
}
