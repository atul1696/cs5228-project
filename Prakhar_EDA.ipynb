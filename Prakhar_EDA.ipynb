{
 "cells": [
  {
   "cell_type": "code",
   "execution_count": 1,
   "id": "2aa99d34",
   "metadata": {},
   "outputs": [],
   "source": [
    "from dataloader import read_csv\n",
    "import matplotlib.pyplot as plt\n",
    "from matplotlib import cm\n",
    "import numpy as np"
   ]
  },
  {
   "cell_type": "markdown",
   "id": "a302e766",
   "metadata": {},
   "source": [
    "#### Load Main Dataset"
   ]
  },
  {
   "cell_type": "code",
   "execution_count": 2,
   "id": "5fa67d59",
   "metadata": {},
   "outputs": [
    {
     "data": {
      "text/html": [
       "<div>\n",
       "<style scoped>\n",
       "    .dataframe tbody tr th:only-of-type {\n",
       "        vertical-align: middle;\n",
       "    }\n",
       "\n",
       "    .dataframe tbody tr th {\n",
       "        vertical-align: top;\n",
       "    }\n",
       "\n",
       "    .dataframe thead th {\n",
       "        text-align: right;\n",
       "    }\n",
       "</style>\n",
       "<table border=\"1\" class=\"dataframe\">\n",
       "  <thead>\n",
       "    <tr style=\"text-align: right;\">\n",
       "      <th></th>\n",
       "      <th>listing_id</th>\n",
       "      <th>title</th>\n",
       "      <th>address</th>\n",
       "      <th>property_name</th>\n",
       "      <th>property_type</th>\n",
       "      <th>tenure</th>\n",
       "      <th>built_year</th>\n",
       "      <th>num_beds</th>\n",
       "      <th>num_baths</th>\n",
       "      <th>size_sqft</th>\n",
       "      <th>floor_level</th>\n",
       "      <th>furnishing</th>\n",
       "      <th>available_unit_types</th>\n",
       "      <th>total_num_units</th>\n",
       "      <th>property_details_url</th>\n",
       "      <th>lat</th>\n",
       "      <th>lng</th>\n",
       "      <th>elevation</th>\n",
       "      <th>subzone</th>\n",
       "      <th>planning_area</th>\n",
       "    </tr>\n",
       "  </thead>\n",
       "  <tbody>\n",
       "    <tr>\n",
       "      <th>30</th>\n",
       "      <td>645643</td>\n",
       "      <td>3 bed condo for sale in 1953</td>\n",
       "      <td>1 tessensohn road</td>\n",
       "      <td>1953</td>\n",
       "      <td>Apartment</td>\n",
       "      <td>freehold</td>\n",
       "      <td>2023.0</td>\n",
       "      <td>3.0</td>\n",
       "      <td>3.0</td>\n",
       "      <td>1130</td>\n",
       "      <td>NaN</td>\n",
       "      <td>unspecified</td>\n",
       "      <td>studio, 1, 2, 3, 4, 5, 6 br</td>\n",
       "      <td>58.0</td>\n",
       "      <td>https://www.99.co/singapore/condos-apartments/...</td>\n",
       "      <td>14.484814</td>\n",
       "      <td>121.023232</td>\n",
       "      <td>0</td>\n",
       "      <td>NaN</td>\n",
       "      <td>NaN</td>\n",
       "    </tr>\n",
       "    <tr>\n",
       "      <th>59</th>\n",
       "      <td>627414</td>\n",
       "      <td>4 bed condo for sale in 1953</td>\n",
       "      <td>1 tessensohn road</td>\n",
       "      <td>1953</td>\n",
       "      <td>apartment</td>\n",
       "      <td>freehold</td>\n",
       "      <td>2023.0</td>\n",
       "      <td>4.0</td>\n",
       "      <td>4.0</td>\n",
       "      <td>1399</td>\n",
       "      <td>NaN</td>\n",
       "      <td>unspecified</td>\n",
       "      <td>studio, 1, 2, 3, 4, 5, 6 br</td>\n",
       "      <td>58.0</td>\n",
       "      <td>https://www.99.co/singapore/condos-apartments/...</td>\n",
       "      <td>14.484814</td>\n",
       "      <td>121.023232</td>\n",
       "      <td>0</td>\n",
       "      <td>NaN</td>\n",
       "      <td>NaN</td>\n",
       "    </tr>\n",
       "    <tr>\n",
       "      <th>86</th>\n",
       "      <td>290007</td>\n",
       "      <td>1 bed condo for sale in pollen &amp; bleu</td>\n",
       "      <td>15 farrer drive</td>\n",
       "      <td>pollen &amp; bleu</td>\n",
       "      <td>Condo</td>\n",
       "      <td>99-year leasehold</td>\n",
       "      <td>2017.0</td>\n",
       "      <td>1.0</td>\n",
       "      <td>1.0</td>\n",
       "      <td>549</td>\n",
       "      <td>NaN</td>\n",
       "      <td>unspecified</td>\n",
       "      <td>1, 2, 3, 4, 5 br</td>\n",
       "      <td>106.0</td>\n",
       "      <td>https://www.99.co/singapore/condos-apartments/...</td>\n",
       "      <td>69.486768</td>\n",
       "      <td>20.184434</td>\n",
       "      <td>0</td>\n",
       "      <td>NaN</td>\n",
       "      <td>NaN</td>\n",
       "    </tr>\n",
       "    <tr>\n",
       "      <th>210</th>\n",
       "      <td>351655</td>\n",
       "      <td>3 bed condo for sale in 1953</td>\n",
       "      <td>1 tessensohn road</td>\n",
       "      <td>1953</td>\n",
       "      <td>condo</td>\n",
       "      <td>freehold</td>\n",
       "      <td>2023.0</td>\n",
       "      <td>3.0</td>\n",
       "      <td>NaN</td>\n",
       "      <td>1119</td>\n",
       "      <td>NaN</td>\n",
       "      <td>unfurnished</td>\n",
       "      <td>studio, 1, 2, 3, 4, 5, 6 br</td>\n",
       "      <td>58.0</td>\n",
       "      <td>https://www.99.co/singapore/condos-apartments/...</td>\n",
       "      <td>14.484814</td>\n",
       "      <td>121.023232</td>\n",
       "      <td>0</td>\n",
       "      <td>NaN</td>\n",
       "      <td>NaN</td>\n",
       "    </tr>\n",
       "    <tr>\n",
       "      <th>223</th>\n",
       "      <td>959350</td>\n",
       "      <td>3 bed condo for sale in 1953</td>\n",
       "      <td>1 tessensohn road</td>\n",
       "      <td>1953</td>\n",
       "      <td>condo</td>\n",
       "      <td>freehold</td>\n",
       "      <td>2023.0</td>\n",
       "      <td>3.0</td>\n",
       "      <td>3.0</td>\n",
       "      <td>1152</td>\n",
       "      <td>low</td>\n",
       "      <td>unspecified</td>\n",
       "      <td>studio, 1, 2, 3, 4, 5, 6 br</td>\n",
       "      <td>58.0</td>\n",
       "      <td>https://www.99.co/singapore/condos-apartments/...</td>\n",
       "      <td>14.484814</td>\n",
       "      <td>121.023232</td>\n",
       "      <td>0</td>\n",
       "      <td>NaN</td>\n",
       "      <td>NaN</td>\n",
       "    </tr>\n",
       "  </tbody>\n",
       "</table>\n",
       "</div>"
      ],
      "text/plain": [
       "     listing_id                                  title            address  \\\n",
       "30       645643           3 bed condo for sale in 1953  1 tessensohn road   \n",
       "59       627414           4 bed condo for sale in 1953  1 tessensohn road   \n",
       "86       290007  1 bed condo for sale in pollen & bleu    15 farrer drive   \n",
       "210      351655           3 bed condo for sale in 1953  1 tessensohn road   \n",
       "223      959350           3 bed condo for sale in 1953  1 tessensohn road   \n",
       "\n",
       "     property_name property_type             tenure  built_year  num_beds  \\\n",
       "30            1953     Apartment           freehold      2023.0       3.0   \n",
       "59            1953     apartment           freehold      2023.0       4.0   \n",
       "86   pollen & bleu         Condo  99-year leasehold      2017.0       1.0   \n",
       "210           1953         condo           freehold      2023.0       3.0   \n",
       "223           1953         condo           freehold      2023.0       3.0   \n",
       "\n",
       "     num_baths  size_sqft floor_level   furnishing  \\\n",
       "30         3.0       1130         NaN  unspecified   \n",
       "59         4.0       1399         NaN  unspecified   \n",
       "86         1.0        549         NaN  unspecified   \n",
       "210        NaN       1119         NaN  unfurnished   \n",
       "223        3.0       1152         low  unspecified   \n",
       "\n",
       "            available_unit_types  total_num_units  \\\n",
       "30   studio, 1, 2, 3, 4, 5, 6 br             58.0   \n",
       "59   studio, 1, 2, 3, 4, 5, 6 br             58.0   \n",
       "86              1, 2, 3, 4, 5 br            106.0   \n",
       "210  studio, 1, 2, 3, 4, 5, 6 br             58.0   \n",
       "223  studio, 1, 2, 3, 4, 5, 6 br             58.0   \n",
       "\n",
       "                                  property_details_url        lat         lng  \\\n",
       "30   https://www.99.co/singapore/condos-apartments/...  14.484814  121.023232   \n",
       "59   https://www.99.co/singapore/condos-apartments/...  14.484814  121.023232   \n",
       "86   https://www.99.co/singapore/condos-apartments/...  69.486768   20.184434   \n",
       "210  https://www.99.co/singapore/condos-apartments/...  14.484814  121.023232   \n",
       "223  https://www.99.co/singapore/condos-apartments/...  14.484814  121.023232   \n",
       "\n",
       "     elevation subzone planning_area  \n",
       "30           0     NaN           NaN  \n",
       "59           0     NaN           NaN  \n",
       "86           0     NaN           NaN  \n",
       "210          0     NaN           NaN  \n",
       "223          0     NaN           NaN  "
      ]
     },
     "execution_count": 2,
     "metadata": {},
     "output_type": "execute_result"
    }
   ],
   "source": [
    "trainX, trainY = read_csv('data/train.csv', ylabel='price')\n",
    "trainX = trainX[trainX['subzone'].isna()]\n",
    "trainX.head()"
   ]
  },
  {
   "cell_type": "code",
   "execution_count": 3,
   "id": "5a4e682d",
   "metadata": {},
   "outputs": [],
   "source": [
    "def outlier_index(inp_df):\n",
    "    percentile25 = inp_df.quantile(0.25)\n",
    "    percentile75 = inp_df.quantile(0.75)\n",
    "    iqr = percentile75 - percentile25\n",
    "    lower_range = percentile25 - 1.5 * iqr\n",
    "    upper_range = percentile75 + 1.5 * iqr\n",
    "\n",
    "    lower_bad = inp_df[inp_df < lower_range].index\n",
    "    upper_bad = inp_df[inp_df > upper_range].index\n",
    "    all_bad = lower_bad.union(upper_bad)\n",
    "    \n",
    "    return all_bad"
   ]
  },
  {
   "cell_type": "code",
   "execution_count": 4,
   "id": "d54b0518",
   "metadata": {},
   "outputs": [
    {
     "ename": "KeyError",
     "evalue": "'[    2     7    18 ... 20194 20241 20248] not found in axis'",
     "output_type": "error",
     "traceback": [
      "\u001b[1;31m---------------------------------------------------------------------------\u001b[0m",
      "\u001b[1;31mKeyError\u001b[0m                                  Traceback (most recent call last)",
      "Input \u001b[1;32mIn [4]\u001b[0m, in \u001b[0;36m<cell line: 5>\u001b[1;34m()\u001b[0m\n\u001b[0;32m      1\u001b[0m lat_outliers, lng_outliers, price_outliers \u001b[38;5;241m=\u001b[39m \\\n\u001b[0;32m      2\u001b[0m     outlier_index(trainX[\u001b[38;5;124m'\u001b[39m\u001b[38;5;124mlat\u001b[39m\u001b[38;5;124m'\u001b[39m]), outlier_index(trainX[\u001b[38;5;124m'\u001b[39m\u001b[38;5;124mlng\u001b[39m\u001b[38;5;124m'\u001b[39m]), outlier_index(trainY)\n\u001b[0;32m      4\u001b[0m all_outliers \u001b[38;5;241m=\u001b[39m lat_outliers\u001b[38;5;241m.\u001b[39munion(lng_outliers)\u001b[38;5;241m.\u001b[39munion(price_outliers)\n\u001b[1;32m----> 5\u001b[0m trainX, trainY \u001b[38;5;241m=\u001b[39m \u001b[43mtrainX\u001b[49m\u001b[38;5;241;43m.\u001b[39;49m\u001b[43mdrop\u001b[49m\u001b[43m(\u001b[49m\u001b[43mall_outliers\u001b[49m\u001b[43m)\u001b[49m, trainY\u001b[38;5;241m.\u001b[39mdrop(all_outliers)\n\u001b[0;32m      7\u001b[0m lat_arr, lng_arr \u001b[38;5;241m=\u001b[39m trainX[\u001b[38;5;124m'\u001b[39m\u001b[38;5;124mlat\u001b[39m\u001b[38;5;124m'\u001b[39m]\u001b[38;5;241m.\u001b[39mastype(\u001b[38;5;28mfloat\u001b[39m)\u001b[38;5;241m.\u001b[39mto_numpy(), trainX[\u001b[38;5;124m'\u001b[39m\u001b[38;5;124mlng\u001b[39m\u001b[38;5;124m'\u001b[39m]\u001b[38;5;241m.\u001b[39mastype(\u001b[38;5;28mfloat\u001b[39m)\u001b[38;5;241m.\u001b[39mto_numpy()\n\u001b[0;32m      8\u001b[0m price_arr \u001b[38;5;241m=\u001b[39m trainY\u001b[38;5;241m.\u001b[39mastype(\u001b[38;5;28mfloat\u001b[39m)\u001b[38;5;241m.\u001b[39mto_numpy()\n",
      "File \u001b[1;32m~\\AppData\\Local\\Programs\\Python\\Python39\\lib\\site-packages\\pandas\\util\\_decorators.py:311\u001b[0m, in \u001b[0;36mdeprecate_nonkeyword_arguments.<locals>.decorate.<locals>.wrapper\u001b[1;34m(*args, **kwargs)\u001b[0m\n\u001b[0;32m    305\u001b[0m \u001b[38;5;28;01mif\u001b[39;00m \u001b[38;5;28mlen\u001b[39m(args) \u001b[38;5;241m>\u001b[39m num_allow_args:\n\u001b[0;32m    306\u001b[0m     warnings\u001b[38;5;241m.\u001b[39mwarn(\n\u001b[0;32m    307\u001b[0m         msg\u001b[38;5;241m.\u001b[39mformat(arguments\u001b[38;5;241m=\u001b[39marguments),\n\u001b[0;32m    308\u001b[0m         \u001b[38;5;167;01mFutureWarning\u001b[39;00m,\n\u001b[0;32m    309\u001b[0m         stacklevel\u001b[38;5;241m=\u001b[39mstacklevel,\n\u001b[0;32m    310\u001b[0m     )\n\u001b[1;32m--> 311\u001b[0m \u001b[38;5;28;01mreturn\u001b[39;00m func(\u001b[38;5;241m*\u001b[39margs, \u001b[38;5;241m*\u001b[39m\u001b[38;5;241m*\u001b[39mkwargs)\n",
      "File \u001b[1;32m~\\AppData\\Local\\Programs\\Python\\Python39\\lib\\site-packages\\pandas\\core\\frame.py:4906\u001b[0m, in \u001b[0;36mDataFrame.drop\u001b[1;34m(self, labels, axis, index, columns, level, inplace, errors)\u001b[0m\n\u001b[0;32m   4774\u001b[0m \u001b[38;5;129m@deprecate_nonkeyword_arguments\u001b[39m(version\u001b[38;5;241m=\u001b[39m\u001b[38;5;28;01mNone\u001b[39;00m, allowed_args\u001b[38;5;241m=\u001b[39m[\u001b[38;5;124m\"\u001b[39m\u001b[38;5;124mself\u001b[39m\u001b[38;5;124m\"\u001b[39m, \u001b[38;5;124m\"\u001b[39m\u001b[38;5;124mlabels\u001b[39m\u001b[38;5;124m\"\u001b[39m])\n\u001b[0;32m   4775\u001b[0m \u001b[38;5;28;01mdef\u001b[39;00m \u001b[38;5;21mdrop\u001b[39m(\n\u001b[0;32m   4776\u001b[0m     \u001b[38;5;28mself\u001b[39m,\n\u001b[1;32m   (...)\u001b[0m\n\u001b[0;32m   4783\u001b[0m     errors: \u001b[38;5;28mstr\u001b[39m \u001b[38;5;241m=\u001b[39m \u001b[38;5;124m\"\u001b[39m\u001b[38;5;124mraise\u001b[39m\u001b[38;5;124m\"\u001b[39m,\n\u001b[0;32m   4784\u001b[0m ):\n\u001b[0;32m   4785\u001b[0m     \u001b[38;5;124;03m\"\"\"\u001b[39;00m\n\u001b[0;32m   4786\u001b[0m \u001b[38;5;124;03m    Drop specified labels from rows or columns.\u001b[39;00m\n\u001b[0;32m   4787\u001b[0m \n\u001b[1;32m   (...)\u001b[0m\n\u001b[0;32m   4904\u001b[0m \u001b[38;5;124;03m            weight  1.0     0.8\u001b[39;00m\n\u001b[0;32m   4905\u001b[0m \u001b[38;5;124;03m    \"\"\"\u001b[39;00m\n\u001b[1;32m-> 4906\u001b[0m     \u001b[38;5;28;01mreturn\u001b[39;00m \u001b[38;5;28;43msuper\u001b[39;49m\u001b[43m(\u001b[49m\u001b[43m)\u001b[49m\u001b[38;5;241;43m.\u001b[39;49m\u001b[43mdrop\u001b[49m\u001b[43m(\u001b[49m\n\u001b[0;32m   4907\u001b[0m \u001b[43m        \u001b[49m\u001b[43mlabels\u001b[49m\u001b[38;5;241;43m=\u001b[39;49m\u001b[43mlabels\u001b[49m\u001b[43m,\u001b[49m\n\u001b[0;32m   4908\u001b[0m \u001b[43m        \u001b[49m\u001b[43maxis\u001b[49m\u001b[38;5;241;43m=\u001b[39;49m\u001b[43maxis\u001b[49m\u001b[43m,\u001b[49m\n\u001b[0;32m   4909\u001b[0m \u001b[43m        \u001b[49m\u001b[43mindex\u001b[49m\u001b[38;5;241;43m=\u001b[39;49m\u001b[43mindex\u001b[49m\u001b[43m,\u001b[49m\n\u001b[0;32m   4910\u001b[0m \u001b[43m        \u001b[49m\u001b[43mcolumns\u001b[49m\u001b[38;5;241;43m=\u001b[39;49m\u001b[43mcolumns\u001b[49m\u001b[43m,\u001b[49m\n\u001b[0;32m   4911\u001b[0m \u001b[43m        \u001b[49m\u001b[43mlevel\u001b[49m\u001b[38;5;241;43m=\u001b[39;49m\u001b[43mlevel\u001b[49m\u001b[43m,\u001b[49m\n\u001b[0;32m   4912\u001b[0m \u001b[43m        \u001b[49m\u001b[43minplace\u001b[49m\u001b[38;5;241;43m=\u001b[39;49m\u001b[43minplace\u001b[49m\u001b[43m,\u001b[49m\n\u001b[0;32m   4913\u001b[0m \u001b[43m        \u001b[49m\u001b[43merrors\u001b[49m\u001b[38;5;241;43m=\u001b[39;49m\u001b[43merrors\u001b[49m\u001b[43m,\u001b[49m\n\u001b[0;32m   4914\u001b[0m \u001b[43m    \u001b[49m\u001b[43m)\u001b[49m\n",
      "File \u001b[1;32m~\\AppData\\Local\\Programs\\Python\\Python39\\lib\\site-packages\\pandas\\core\\generic.py:4150\u001b[0m, in \u001b[0;36mNDFrame.drop\u001b[1;34m(self, labels, axis, index, columns, level, inplace, errors)\u001b[0m\n\u001b[0;32m   4148\u001b[0m \u001b[38;5;28;01mfor\u001b[39;00m axis, labels \u001b[38;5;129;01min\u001b[39;00m axes\u001b[38;5;241m.\u001b[39mitems():\n\u001b[0;32m   4149\u001b[0m     \u001b[38;5;28;01mif\u001b[39;00m labels \u001b[38;5;129;01mis\u001b[39;00m \u001b[38;5;129;01mnot\u001b[39;00m \u001b[38;5;28;01mNone\u001b[39;00m:\n\u001b[1;32m-> 4150\u001b[0m         obj \u001b[38;5;241m=\u001b[39m \u001b[43mobj\u001b[49m\u001b[38;5;241;43m.\u001b[39;49m\u001b[43m_drop_axis\u001b[49m\u001b[43m(\u001b[49m\u001b[43mlabels\u001b[49m\u001b[43m,\u001b[49m\u001b[43m \u001b[49m\u001b[43maxis\u001b[49m\u001b[43m,\u001b[49m\u001b[43m \u001b[49m\u001b[43mlevel\u001b[49m\u001b[38;5;241;43m=\u001b[39;49m\u001b[43mlevel\u001b[49m\u001b[43m,\u001b[49m\u001b[43m \u001b[49m\u001b[43merrors\u001b[49m\u001b[38;5;241;43m=\u001b[39;49m\u001b[43merrors\u001b[49m\u001b[43m)\u001b[49m\n\u001b[0;32m   4152\u001b[0m \u001b[38;5;28;01mif\u001b[39;00m inplace:\n\u001b[0;32m   4153\u001b[0m     \u001b[38;5;28mself\u001b[39m\u001b[38;5;241m.\u001b[39m_update_inplace(obj)\n",
      "File \u001b[1;32m~\\AppData\\Local\\Programs\\Python\\Python39\\lib\\site-packages\\pandas\\core\\generic.py:4185\u001b[0m, in \u001b[0;36mNDFrame._drop_axis\u001b[1;34m(self, labels, axis, level, errors)\u001b[0m\n\u001b[0;32m   4183\u001b[0m         new_axis \u001b[38;5;241m=\u001b[39m axis\u001b[38;5;241m.\u001b[39mdrop(labels, level\u001b[38;5;241m=\u001b[39mlevel, errors\u001b[38;5;241m=\u001b[39merrors)\n\u001b[0;32m   4184\u001b[0m     \u001b[38;5;28;01melse\u001b[39;00m:\n\u001b[1;32m-> 4185\u001b[0m         new_axis \u001b[38;5;241m=\u001b[39m \u001b[43maxis\u001b[49m\u001b[38;5;241;43m.\u001b[39;49m\u001b[43mdrop\u001b[49m\u001b[43m(\u001b[49m\u001b[43mlabels\u001b[49m\u001b[43m,\u001b[49m\u001b[43m \u001b[49m\u001b[43merrors\u001b[49m\u001b[38;5;241;43m=\u001b[39;49m\u001b[43merrors\u001b[49m\u001b[43m)\u001b[49m\n\u001b[0;32m   4186\u001b[0m     result \u001b[38;5;241m=\u001b[39m \u001b[38;5;28mself\u001b[39m\u001b[38;5;241m.\u001b[39mreindex(\u001b[38;5;241m*\u001b[39m\u001b[38;5;241m*\u001b[39m{axis_name: new_axis})\n\u001b[0;32m   4188\u001b[0m \u001b[38;5;66;03m# Case for non-unique axis\u001b[39;00m\n\u001b[0;32m   4189\u001b[0m \u001b[38;5;28;01melse\u001b[39;00m:\n",
      "File \u001b[1;32m~\\AppData\\Local\\Programs\\Python\\Python39\\lib\\site-packages\\pandas\\core\\indexes\\base.py:6017\u001b[0m, in \u001b[0;36mIndex.drop\u001b[1;34m(self, labels, errors)\u001b[0m\n\u001b[0;32m   6015\u001b[0m \u001b[38;5;28;01mif\u001b[39;00m mask\u001b[38;5;241m.\u001b[39many():\n\u001b[0;32m   6016\u001b[0m     \u001b[38;5;28;01mif\u001b[39;00m errors \u001b[38;5;241m!=\u001b[39m \u001b[38;5;124m\"\u001b[39m\u001b[38;5;124mignore\u001b[39m\u001b[38;5;124m\"\u001b[39m:\n\u001b[1;32m-> 6017\u001b[0m         \u001b[38;5;28;01mraise\u001b[39;00m \u001b[38;5;167;01mKeyError\u001b[39;00m(\u001b[38;5;124mf\u001b[39m\u001b[38;5;124m\"\u001b[39m\u001b[38;5;132;01m{\u001b[39;00mlabels[mask]\u001b[38;5;132;01m}\u001b[39;00m\u001b[38;5;124m not found in axis\u001b[39m\u001b[38;5;124m\"\u001b[39m)\n\u001b[0;32m   6018\u001b[0m     indexer \u001b[38;5;241m=\u001b[39m indexer[\u001b[38;5;241m~\u001b[39mmask]\n\u001b[0;32m   6019\u001b[0m \u001b[38;5;28;01mreturn\u001b[39;00m \u001b[38;5;28mself\u001b[39m\u001b[38;5;241m.\u001b[39mdelete(indexer)\n",
      "\u001b[1;31mKeyError\u001b[0m: '[    2     7    18 ... 20194 20241 20248] not found in axis'"
     ]
    }
   ],
   "source": [
    "lat_outliers, lng_outliers, price_outliers = \\\n",
    "    outlier_index(trainX['lat']), outlier_index(trainX['lng']), outlier_index(trainY)\n",
    "\n",
    "all_outliers = lat_outliers.union(lng_outliers).union(price_outliers)\n",
    "trainX, trainY = trainX.drop(all_outliers), trainY.drop(all_outliers)\n",
    "\n",
    "lat_arr, lng_arr = trainX['lat'].astype(float).to_numpy(), trainX['lng'].astype(float).to_numpy()\n",
    "price_arr = trainY.astype(float).to_numpy()"
   ]
  },
  {
   "cell_type": "markdown",
   "id": "d35c9be4",
   "metadata": {},
   "source": [
    "#### Load Auxiliary Data"
   ]
  },
  {
   "cell_type": "code",
   "execution_count": null,
   "id": "69f80c1d",
   "metadata": {},
   "outputs": [],
   "source": [
    "commercial_centres, _ = read_csv('data/auxiliary-data/sg-commerical-centres.csv')\n",
    "mrt_stations, _ = read_csv('data/auxiliary-data/sg-mrt-stations.csv')\n",
    "primary_schools, _ = read_csv('data/auxiliary-data/sg-primary-schools.csv')\n",
    "secondary_schools, _ = read_csv('data/auxiliary-data/sg-secondary-schools.csv')\n",
    "shopping_malls, _ = read_csv('data/auxiliary-data/sg-shopping-malls.csv')"
   ]
  },
  {
   "cell_type": "markdown",
   "id": "cee57a68",
   "metadata": {},
   "source": [
    "#### Create Price Heatmap"
   ]
  },
  {
   "cell_type": "code",
   "execution_count": 5,
   "id": "42e2118a",
   "metadata": {},
   "outputs": [
    {
     "ename": "NameError",
     "evalue": "name 'lng_arr' is not defined",
     "output_type": "error",
     "traceback": [
      "\u001b[1;31m---------------------------------------------------------------------------\u001b[0m",
      "\u001b[1;31mNameError\u001b[0m                                 Traceback (most recent call last)",
      "Input \u001b[1;32mIn [5]\u001b[0m, in \u001b[0;36m<cell line: 2>\u001b[1;34m()\u001b[0m\n\u001b[0;32m      1\u001b[0m \u001b[38;5;66;03m# plt.hexbin(lng_arr, lat_arr, C=price_arr, gridsize=100, cmap=cm.jet, bins=None)\u001b[39;00m\n\u001b[1;32m----> 2\u001b[0m plt\u001b[38;5;241m.\u001b[39mhexbin(\u001b[43mlng_arr\u001b[49m, lat_arr, C\u001b[38;5;241m=\u001b[39mnp\u001b[38;5;241m.\u001b[39mones(\u001b[38;5;28mlen\u001b[39m(lat_arr)), gridsize\u001b[38;5;241m=\u001b[39m\u001b[38;5;241m100\u001b[39m, cmap\u001b[38;5;241m=\u001b[39mcm\u001b[38;5;241m.\u001b[39mjet, bins\u001b[38;5;241m=\u001b[39m\u001b[38;5;28;01mNone\u001b[39;00m)\n\u001b[0;32m      3\u001b[0m plt\u001b[38;5;241m.\u001b[39maxis([\u001b[38;5;241m103.65\u001b[39m, \u001b[38;5;241m104.0\u001b[39m, \u001b[38;5;241m1.2\u001b[39m, \u001b[38;5;241m1.5\u001b[39m])\n\u001b[0;32m      5\u001b[0m cb \u001b[38;5;241m=\u001b[39m plt\u001b[38;5;241m.\u001b[39mcolorbar()\n",
      "\u001b[1;31mNameError\u001b[0m: name 'lng_arr' is not defined"
     ]
    }
   ],
   "source": [
    "# plt.hexbin(lng_arr, lat_arr, C=price_arr, gridsize=100, cmap=cm.jet, bins=None)\n",
    "plt.hexbin(lng_arr, lat_arr, C=np.ones(len(lat_arr)), gridsize=100, cmap=cm.jet, bins=None)\n",
    "plt.axis([103.65, 104.0, 1.2, 1.5])\n",
    "\n",
    "cb = plt.colorbar()\n",
    "cb.set_label('mean value')\n",
    "plt.show()   "
   ]
  },
  {
   "cell_type": "markdown",
   "id": "24e58b4c",
   "metadata": {},
   "source": [
    "#### Create Auxiliary Data Heatmap"
   ]
  },
  {
   "cell_type": "code",
   "execution_count": 76,
   "id": "03c1c048",
   "metadata": {},
   "outputs": [
    {
     "data": {
      "image/png": "[encoded data removed]",
      "text/plain": [
       "<Figure size 432x288 with 2 Axes>"
      ]
     },
     "metadata": {
      "needs_background": "light"
     },
     "output_type": "display_data"
    }
   ],
   "source": [
    "# aux_data = commercial_centres\n",
    "# aux_data = mrt_stations\n",
    "# aux_data = primary_schools\n",
    "# aux_data = secondary_schools\n",
    "aux_data = shopping_malls\n",
    "\n",
    "\n",
    "lat_arr, lng_arr = aux_data['lat'].astype(float).to_numpy(), aux_data['lng'].astype(float).to_numpy()\n",
    "\n",
    "plt.hexbin(lng_arr, lat_arr, C=np.ones(len(lat_arr)), gridsize=100, cmap=cm.jet, bins=None)\n",
    "plt.axis([103.65, 104.0, 1.2, 1.5])\n",
    "\n",
    "cb = plt.colorbar()\n",
    "cb.set_label('mean value')\n",
    "plt.show() "
   ]
  },
  {
   "cell_type": "code",
   "execution_count": null,
   "id": "91091912",
   "metadata": {},
   "outputs": [],
   "source": []
  }
 ],
 "metadata": {
  "kernelspec": {
   "display_name": "Python 3 (ipykernel)",
   "language": "python",
   "name": "python3"
  },
  "language_info": {
   "codemirror_mode": {
    "name": "ipython",
    "version": 3
   },
   "file_extension": ".py",
   "mimetype": "text/x-python",
   "name": "python",
   "nbconvert_exporter": "python",
   "pygments_lexer": "ipython3",
   "version": "3.9.10"
  }
 },
 "nbformat": 4,
 "nbformat_minor": 5
}
