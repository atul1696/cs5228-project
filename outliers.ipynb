{
 "cells": [
  {
   "cell_type": "code",
   "execution_count": 9,
   "metadata": {},
   "outputs": [],
   "source": [
    "import numpy as np\n",
    "import pandas as pd\n",
    "\n",
    "import matplotlib.pyplot as plt"
   ]
  },
  {
   "cell_type": "code",
   "execution_count": 18,
   "metadata": {},
   "outputs": [],
   "source": [
    "from dataloader import convert_to_lowercase"
   ]
  },
  {
   "cell_type": "code",
   "execution_count": 20,
   "metadata": {},
   "outputs": [
    {
     "data": {
      "text/plain": [
       "(20254, 21)"
      ]
     },
     "execution_count": 20,
     "metadata": {},
     "output_type": "execute_result"
    }
   ],
   "source": [
    "df_train = pd.read_csv(\"data/train.csv\")\n",
    "df_train = convert_to_lowercase(df_train)\n",
    "df_train.shape"
   ]
  },
  {
   "cell_type": "code",
   "execution_count": 21,
   "metadata": {},
   "outputs": [
    {
     "data": {
      "text/plain": [
       "(101, 21)"
      ]
     },
     "execution_count": 21,
     "metadata": {},
     "output_type": "execute_result"
    }
   ],
   "source": [
    "df_train[df_train[\"price\"] == 0].shape"
   ]
  },
  {
   "cell_type": "code",
   "execution_count": 22,
   "metadata": {},
   "outputs": [],
   "source": [
    "df_train = df_train[df_train[\"price\"] > 0]"
   ]
  },
  {
   "cell_type": "code",
   "execution_count": 25,
   "metadata": {},
   "outputs": [
    {
     "data": {
      "text/plain": [
       "<AxesSubplot:xlabel='size_sqft', ylabel='price'>"
      ]
     },
     "execution_count": 25,
     "metadata": {},
     "output_type": "execute_result"
    },
    {
     "data": {
      "image/png": "[encoded data removed]",
      "text/plain": [
       "<Figure size 640x480 with 1 Axes>"
      ]
     },
     "metadata": {},
     "output_type": "display_data"
    }
   ],
   "source": [
    "df_train.plot.scatter(\"size_sqft\", \"price\")"
   ]
  },
  {
   "cell_type": "markdown",
   "metadata": {},
   "source": [
    "# Large price ( > 10 ** 9)"
   ]
  },
  {
   "cell_type": "code",
   "execution_count": 28,
   "metadata": {},
   "outputs": [
    {
     "data": {
      "text/html": [
       "<div>\n",
       "<style scoped>\n",
       "    .dataframe tbody tr th:only-of-type {\n",
       "        vertical-align: middle;\n",
       "    }\n",
       "\n",
       "    .dataframe tbody tr th {\n",
       "        vertical-align: top;\n",
       "    }\n",
       "\n",
       "    .dataframe thead th {\n",
       "        text-align: right;\n",
       "    }\n",
       "</style>\n",
       "<table border=\"1\" class=\"dataframe\">\n",
       "  <thead>\n",
       "    <tr style=\"text-align: right;\">\n",
       "      <th></th>\n",
       "      <th>listing_id</th>\n",
       "      <th>title</th>\n",
       "      <th>address</th>\n",
       "      <th>property_name</th>\n",
       "      <th>property_type</th>\n",
       "      <th>tenure</th>\n",
       "      <th>built_year</th>\n",
       "      <th>num_beds</th>\n",
       "      <th>num_baths</th>\n",
       "      <th>size_sqft</th>\n",
       "      <th>...</th>\n",
       "      <th>furnishing</th>\n",
       "      <th>available_unit_types</th>\n",
       "      <th>total_num_units</th>\n",
       "      <th>property_details_url</th>\n",
       "      <th>lat</th>\n",
       "      <th>lng</th>\n",
       "      <th>elevation</th>\n",
       "      <th>subzone</th>\n",
       "      <th>planning_area</th>\n",
       "      <th>price</th>\n",
       "    </tr>\n",
       "  </thead>\n",
       "  <tbody>\n",
       "    <tr>\n",
       "      <th>5976</th>\n",
       "      <td>385586</td>\n",
       "      <td>hdb flat for sale in 238 compassvale walk</td>\n",
       "      <td>hougang / punggol / sengkang (d19)</td>\n",
       "      <td>compassvale plains</td>\n",
       "      <td>hdb 4 rooms</td>\n",
       "      <td>99-year leasehold</td>\n",
       "      <td>1999.0</td>\n",
       "      <td>1.0</td>\n",
       "      <td>10.0</td>\n",
       "      <td>232</td>\n",
       "      <td>...</td>\n",
       "      <td>unspecified</td>\n",
       "      <td>1, 3, 4 br</td>\n",
       "      <td>NaN</td>\n",
       "      <td>https://www.99.co/singapore/hdb/compassvale-pl...</td>\n",
       "      <td>1.390556</td>\n",
       "      <td>103.898921</td>\n",
       "      <td>0</td>\n",
       "      <td>sengkang town centre</td>\n",
       "      <td>sengkang</td>\n",
       "      <td>3.924243e+10</td>\n",
       "    </tr>\n",
       "    <tr>\n",
       "      <th>16264</th>\n",
       "      <td>287109</td>\n",
       "      <td>hdb flat for sale in 238 compassvale walk</td>\n",
       "      <td>hougang / punggol / sengkang (d19)</td>\n",
       "      <td>compassvale plains</td>\n",
       "      <td>hdb 4 rooms</td>\n",
       "      <td>99-year leasehold</td>\n",
       "      <td>1999.0</td>\n",
       "      <td>1.0</td>\n",
       "      <td>10.0</td>\n",
       "      <td>129</td>\n",
       "      <td>...</td>\n",
       "      <td>unspecified</td>\n",
       "      <td>1, 3, 4 br</td>\n",
       "      <td>NaN</td>\n",
       "      <td>https://www.99.co/singapore/hdb/compassvale-pl...</td>\n",
       "      <td>1.390556</td>\n",
       "      <td>103.898921</td>\n",
       "      <td>0</td>\n",
       "      <td>sengkang town centre</td>\n",
       "      <td>sengkang</td>\n",
       "      <td>4.985919e+09</td>\n",
       "    </tr>\n",
       "  </tbody>\n",
       "</table>\n",
       "<p>2 rows × 21 columns</p>\n",
       "</div>"
      ],
      "text/plain": [
       "       listing_id                                      title  \\\n",
       "5976       385586  hdb flat for sale in 238 compassvale walk   \n",
       "16264      287109  hdb flat for sale in 238 compassvale walk   \n",
       "\n",
       "                                  address       property_name property_type  \\\n",
       "5976   hougang / punggol / sengkang (d19)  compassvale plains   hdb 4 rooms   \n",
       "16264  hougang / punggol / sengkang (d19)  compassvale plains   hdb 4 rooms   \n",
       "\n",
       "                  tenure  built_year  num_beds  num_baths  size_sqft  ...  \\\n",
       "5976   99-year leasehold      1999.0       1.0       10.0        232  ...   \n",
       "16264  99-year leasehold      1999.0       1.0       10.0        129  ...   \n",
       "\n",
       "        furnishing available_unit_types total_num_units  \\\n",
       "5976   unspecified           1, 3, 4 br             NaN   \n",
       "16264  unspecified           1, 3, 4 br             NaN   \n",
       "\n",
       "                                    property_details_url       lat  \\\n",
       "5976   https://www.99.co/singapore/hdb/compassvale-pl...  1.390556   \n",
       "16264  https://www.99.co/singapore/hdb/compassvale-pl...  1.390556   \n",
       "\n",
       "              lng  elevation               subzone planning_area         price  \n",
       "5976   103.898921          0  sengkang town centre      sengkang  3.924243e+10  \n",
       "16264  103.898921          0  sengkang town centre      sengkang  4.985919e+09  \n",
       "\n",
       "[2 rows x 21 columns]"
      ]
     },
     "execution_count": 28,
     "metadata": {},
     "output_type": "execute_result"
    }
   ],
   "source": [
    "df_train[df_train.price > 1 * 10 ** 9]"
   ]
  },
  {
   "cell_type": "markdown",
   "metadata": {},
   "source": [
    "* High prices for very small area"
   ]
  },
  {
   "cell_type": "markdown",
   "metadata": {},
   "source": [
    "# Disproportionate `num_beds` and `num_baths`"
   ]
  },
  {
   "cell_type": "code",
   "execution_count": 30,
   "metadata": {},
   "outputs": [
    {
     "data": {
      "text/plain": [
       "<AxesSubplot:xlabel='num_beds', ylabel='num_baths'>"
      ]
     },
     "execution_count": 30,
     "metadata": {},
     "output_type": "execute_result"
    },
    {
     "data": {
      "image/png": "[encoded data removed]",
      "text/plain": [
       "<Figure size 640x480 with 1 Axes>"
      ]
     },
     "metadata": {},
     "output_type": "display_data"
    }
   ],
   "source": [
    "df_train.plot.scatter(\"num_beds\", \"num_baths\")"
   ]
  },
  {
   "cell_type": "code",
   "execution_count": 31,
   "metadata": {},
   "outputs": [
    {
     "data": {
      "text/html": [
       "<div>\n",
       "<style scoped>\n",
       "    .dataframe tbody tr th:only-of-type {\n",
       "        vertical-align: middle;\n",
       "    }\n",
       "\n",
       "    .dataframe tbody tr th {\n",
       "        vertical-align: top;\n",
       "    }\n",
       "\n",
       "    .dataframe thead th {\n",
       "        text-align: right;\n",
       "    }\n",
       "</style>\n",
       "<table border=\"1\" class=\"dataframe\">\n",
       "  <thead>\n",
       "    <tr style=\"text-align: right;\">\n",
       "      <th></th>\n",
       "      <th>listing_id</th>\n",
       "      <th>title</th>\n",
       "      <th>address</th>\n",
       "      <th>property_name</th>\n",
       "      <th>property_type</th>\n",
       "      <th>tenure</th>\n",
       "      <th>built_year</th>\n",
       "      <th>num_beds</th>\n",
       "      <th>num_baths</th>\n",
       "      <th>size_sqft</th>\n",
       "      <th>...</th>\n",
       "      <th>furnishing</th>\n",
       "      <th>available_unit_types</th>\n",
       "      <th>total_num_units</th>\n",
       "      <th>property_details_url</th>\n",
       "      <th>lat</th>\n",
       "      <th>lng</th>\n",
       "      <th>elevation</th>\n",
       "      <th>subzone</th>\n",
       "      <th>planning_area</th>\n",
       "      <th>price</th>\n",
       "    </tr>\n",
       "  </thead>\n",
       "  <tbody>\n",
       "    <tr>\n",
       "      <th>5976</th>\n",
       "      <td>385586</td>\n",
       "      <td>hdb flat for sale in 238 compassvale walk</td>\n",
       "      <td>hougang / punggol / sengkang (d19)</td>\n",
       "      <td>compassvale plains</td>\n",
       "      <td>hdb 4 rooms</td>\n",
       "      <td>99-year leasehold</td>\n",
       "      <td>1999.0</td>\n",
       "      <td>1.0</td>\n",
       "      <td>10.0</td>\n",
       "      <td>232</td>\n",
       "      <td>...</td>\n",
       "      <td>unspecified</td>\n",
       "      <td>1, 3, 4 br</td>\n",
       "      <td>NaN</td>\n",
       "      <td>https://www.99.co/singapore/hdb/compassvale-pl...</td>\n",
       "      <td>1.390556</td>\n",
       "      <td>103.898921</td>\n",
       "      <td>0</td>\n",
       "      <td>sengkang town centre</td>\n",
       "      <td>sengkang</td>\n",
       "      <td>3.924243e+10</td>\n",
       "    </tr>\n",
       "    <tr>\n",
       "      <th>16264</th>\n",
       "      <td>287109</td>\n",
       "      <td>hdb flat for sale in 238 compassvale walk</td>\n",
       "      <td>hougang / punggol / sengkang (d19)</td>\n",
       "      <td>compassvale plains</td>\n",
       "      <td>hdb 4 rooms</td>\n",
       "      <td>99-year leasehold</td>\n",
       "      <td>1999.0</td>\n",
       "      <td>1.0</td>\n",
       "      <td>10.0</td>\n",
       "      <td>129</td>\n",
       "      <td>...</td>\n",
       "      <td>unspecified</td>\n",
       "      <td>1, 3, 4 br</td>\n",
       "      <td>NaN</td>\n",
       "      <td>https://www.99.co/singapore/hdb/compassvale-pl...</td>\n",
       "      <td>1.390556</td>\n",
       "      <td>103.898921</td>\n",
       "      <td>0</td>\n",
       "      <td>sengkang town centre</td>\n",
       "      <td>sengkang</td>\n",
       "      <td>4.985919e+09</td>\n",
       "    </tr>\n",
       "  </tbody>\n",
       "</table>\n",
       "<p>2 rows × 21 columns</p>\n",
       "</div>"
      ],
      "text/plain": [
       "       listing_id                                      title  \\\n",
       "5976       385586  hdb flat for sale in 238 compassvale walk   \n",
       "16264      287109  hdb flat for sale in 238 compassvale walk   \n",
       "\n",
       "                                  address       property_name property_type  \\\n",
       "5976   hougang / punggol / sengkang (d19)  compassvale plains   hdb 4 rooms   \n",
       "16264  hougang / punggol / sengkang (d19)  compassvale plains   hdb 4 rooms   \n",
       "\n",
       "                  tenure  built_year  num_beds  num_baths  size_sqft  ...  \\\n",
       "5976   99-year leasehold      1999.0       1.0       10.0        232  ...   \n",
       "16264  99-year leasehold      1999.0       1.0       10.0        129  ...   \n",
       "\n",
       "        furnishing available_unit_types total_num_units  \\\n",
       "5976   unspecified           1, 3, 4 br             NaN   \n",
       "16264  unspecified           1, 3, 4 br             NaN   \n",
       "\n",
       "                                    property_details_url       lat  \\\n",
       "5976   https://www.99.co/singapore/hdb/compassvale-pl...  1.390556   \n",
       "16264  https://www.99.co/singapore/hdb/compassvale-pl...  1.390556   \n",
       "\n",
       "              lng  elevation               subzone planning_area         price  \n",
       "5976   103.898921          0  sengkang town centre      sengkang  3.924243e+10  \n",
       "16264  103.898921          0  sengkang town centre      sengkang  4.985919e+09  \n",
       "\n",
       "[2 rows x 21 columns]"
      ]
     },
     "execution_count": 31,
     "metadata": {},
     "output_type": "execute_result"
    }
   ],
   "source": [
    "df_train[(df_train[\"num_beds\"] == 1) & (df_train[\"num_baths\"] == 10)]"
   ]
  },
  {
   "cell_type": "code",
   "execution_count": 39,
   "metadata": {},
   "outputs": [
    {
     "data": {
      "text/html": [
       "<div>\n",
       "<style scoped>\n",
       "    .dataframe tbody tr th:only-of-type {\n",
       "        vertical-align: middle;\n",
       "    }\n",
       "\n",
       "    .dataframe tbody tr th {\n",
       "        vertical-align: top;\n",
       "    }\n",
       "\n",
       "    .dataframe thead th {\n",
       "        text-align: right;\n",
       "    }\n",
       "</style>\n",
       "<table border=\"1\" class=\"dataframe\">\n",
       "  <thead>\n",
       "    <tr style=\"text-align: right;\">\n",
       "      <th></th>\n",
       "      <th>listing_id</th>\n",
       "      <th>title</th>\n",
       "      <th>address</th>\n",
       "      <th>property_name</th>\n",
       "      <th>property_type</th>\n",
       "      <th>tenure</th>\n",
       "      <th>built_year</th>\n",
       "      <th>num_beds</th>\n",
       "      <th>num_baths</th>\n",
       "      <th>size_sqft</th>\n",
       "      <th>...</th>\n",
       "      <th>furnishing</th>\n",
       "      <th>available_unit_types</th>\n",
       "      <th>total_num_units</th>\n",
       "      <th>property_details_url</th>\n",
       "      <th>lat</th>\n",
       "      <th>lng</th>\n",
       "      <th>elevation</th>\n",
       "      <th>subzone</th>\n",
       "      <th>planning_area</th>\n",
       "      <th>price</th>\n",
       "    </tr>\n",
       "  </thead>\n",
       "  <tbody>\n",
       "    <tr>\n",
       "      <th>10084</th>\n",
       "      <td>504907</td>\n",
       "      <td>10 bed house for sale in raffles park</td>\n",
       "      <td>oriole crescent</td>\n",
       "      <td>raffles park</td>\n",
       "      <td>bungalow</td>\n",
       "      <td>freehold</td>\n",
       "      <td>1992.0</td>\n",
       "      <td>10.0</td>\n",
       "      <td>1.0</td>\n",
       "      <td>12000</td>\n",
       "      <td>...</td>\n",
       "      <td>unspecified</td>\n",
       "      <td>studio, 4, 5, 6, 7, 8, 9, 10 br</td>\n",
       "      <td>NaN</td>\n",
       "      <td>https://www.99.co/singapore/houses/raffles-par...</td>\n",
       "      <td>1.284235</td>\n",
       "      <td>103.851485</td>\n",
       "      <td>0</td>\n",
       "      <td>raffles place</td>\n",
       "      <td>downtown core</td>\n",
       "      <td>23625000.0</td>\n",
       "    </tr>\n",
       "  </tbody>\n",
       "</table>\n",
       "<p>1 rows × 21 columns</p>\n",
       "</div>"
      ],
      "text/plain": [
       "       listing_id                                  title          address  \\\n",
       "10084      504907  10 bed house for sale in raffles park  oriole crescent   \n",
       "\n",
       "      property_name property_type    tenure  built_year  num_beds  num_baths  \\\n",
       "10084  raffles park      bungalow  freehold      1992.0      10.0        1.0   \n",
       "\n",
       "       size_sqft  ...   furnishing             available_unit_types  \\\n",
       "10084      12000  ...  unspecified  studio, 4, 5, 6, 7, 8, 9, 10 br   \n",
       "\n",
       "      total_num_units                               property_details_url  \\\n",
       "10084             NaN  https://www.99.co/singapore/houses/raffles-par...   \n",
       "\n",
       "            lat         lng  elevation        subzone  planning_area  \\\n",
       "10084  1.284235  103.851485          0  raffles place  downtown core   \n",
       "\n",
       "            price  \n",
       "10084  23625000.0  \n",
       "\n",
       "[1 rows x 21 columns]"
      ]
     },
     "execution_count": 39,
     "metadata": {},
     "output_type": "execute_result"
    }
   ],
   "source": [
    "df_train[(df_train[\"num_beds\"] == 10) & (df_train[\"num_baths\"] == 1)]"
   ]
  },
  {
   "cell_type": "code",
   "execution_count": 36,
   "metadata": {},
   "outputs": [
    {
     "data": {
      "text/plain": [
       "(21, 21)"
      ]
     },
     "execution_count": 36,
     "metadata": {},
     "output_type": "execute_result"
    }
   ],
   "source": [
    "df_train[(df_train[\"property_name\"].str.contains(\"raffles park\"))].shape"
   ]
  },
  {
   "cell_type": "code",
   "execution_count": 37,
   "metadata": {},
   "outputs": [
    {
     "data": {
      "text/plain": [
       "num_beds  num_baths\n",
       "4.0       2.0          1\n",
       "          3.0          1\n",
       "          4.0          1\n",
       "5.0       3.0          1\n",
       "          4.0          4\n",
       "          5.0          2\n",
       "          6.0          1\n",
       "6.0       5.0          1\n",
       "7.0       5.0          1\n",
       "          8.0          4\n",
       "8.0       8.0          1\n",
       "9.0       8.0          1\n",
       "          9.0          1\n",
       "10.0      1.0          1\n",
       "Name: listing_id, dtype: int64"
      ]
     },
     "execution_count": 37,
     "metadata": {},
     "output_type": "execute_result"
    }
   ],
   "source": [
    "df_train[(df_train[\"property_name\"].str.contains(\"raffles park\"))].groupby([\"num_beds\", \"num_baths\"])[\"listing_id\"].count()"
   ]
  },
  {
   "cell_type": "code",
   "execution_count": 38,
   "metadata": {},
   "outputs": [
    {
     "data": {
      "text/plain": [
       "<AxesSubplot:xlabel='num_beds', ylabel='num_baths'>"
      ]
     },
     "execution_count": 38,
     "metadata": {},
     "output_type": "execute_result"
    },
    {
     "data": {
      "image/png": "[encoded data removed]",
      "text/plain": [
       "<Figure size 640x480 with 1 Axes>"
      ]
     },
     "metadata": {},
     "output_type": "display_data"
    }
   ],
   "source": [
    "df_train[(df_train[\"property_name\"].str.contains(\"raffles park\"))].plot.scatter(x=\"num_beds\", y=\"num_baths\")"
   ]
  },
  {
   "cell_type": "markdown",
   "metadata": {},
   "source": [
    "# Large size_sqft"
   ]
  },
  {
   "cell_type": "code",
   "execution_count": 41,
   "metadata": {},
   "outputs": [
    {
     "data": {
      "text/html": [
       "<div>\n",
       "<style scoped>\n",
       "    .dataframe tbody tr th:only-of-type {\n",
       "        vertical-align: middle;\n",
       "    }\n",
       "\n",
       "    .dataframe tbody tr th {\n",
       "        vertical-align: top;\n",
       "    }\n",
       "\n",
       "    .dataframe thead th {\n",
       "        text-align: right;\n",
       "    }\n",
       "</style>\n",
       "<table border=\"1\" class=\"dataframe\">\n",
       "  <thead>\n",
       "    <tr style=\"text-align: right;\">\n",
       "      <th></th>\n",
       "      <th>listing_id</th>\n",
       "      <th>title</th>\n",
       "      <th>address</th>\n",
       "      <th>property_name</th>\n",
       "      <th>property_type</th>\n",
       "      <th>tenure</th>\n",
       "      <th>built_year</th>\n",
       "      <th>num_beds</th>\n",
       "      <th>num_baths</th>\n",
       "      <th>size_sqft</th>\n",
       "      <th>...</th>\n",
       "      <th>furnishing</th>\n",
       "      <th>available_unit_types</th>\n",
       "      <th>total_num_units</th>\n",
       "      <th>property_details_url</th>\n",
       "      <th>lat</th>\n",
       "      <th>lng</th>\n",
       "      <th>elevation</th>\n",
       "      <th>subzone</th>\n",
       "      <th>planning_area</th>\n",
       "      <th>price</th>\n",
       "    </tr>\n",
       "  </thead>\n",
       "  <tbody>\n",
       "    <tr>\n",
       "      <th>2701</th>\n",
       "      <td>160293</td>\n",
       "      <td>3 bed condo for sale in jlb residences</td>\n",
       "      <td>169 jalan loyang besar</td>\n",
       "      <td>jlb residences</td>\n",
       "      <td>condo</td>\n",
       "      <td>946-year leasehold</td>\n",
       "      <td>2008.0</td>\n",
       "      <td>3.0</td>\n",
       "      <td>2.0</td>\n",
       "      <td>1185000</td>\n",
       "      <td>...</td>\n",
       "      <td>unfurnished</td>\n",
       "      <td>3 br</td>\n",
       "      <td>36.0</td>\n",
       "      <td>https://www.99.co/singapore/condos-apartments/...</td>\n",
       "      <td>1.379105</td>\n",
       "      <td>103.960613</td>\n",
       "      <td>0</td>\n",
       "      <td>pasir ris park</td>\n",
       "      <td>pasir ris</td>\n",
       "      <td>1244200.0</td>\n",
       "    </tr>\n",
       "    <tr>\n",
       "      <th>18446</th>\n",
       "      <td>771950</td>\n",
       "      <td>4 bed condo for sale in avenue south residence</td>\n",
       "      <td>1 silat avenue</td>\n",
       "      <td>avenue south residence</td>\n",
       "      <td>condo</td>\n",
       "      <td>99-year leasehold</td>\n",
       "      <td>2023.0</td>\n",
       "      <td>4.0</td>\n",
       "      <td>4.0</td>\n",
       "      <td>1496000</td>\n",
       "      <td>...</td>\n",
       "      <td>unspecified</td>\n",
       "      <td>studio, 1, 2, 3, 4 br</td>\n",
       "      <td>1074.0</td>\n",
       "      <td>https://www.99.co/singapore/condos-apartments/...</td>\n",
       "      <td>1.304855</td>\n",
       "      <td>103.773776</td>\n",
       "      <td>0</td>\n",
       "      <td>dover</td>\n",
       "      <td>queenstown</td>\n",
       "      <td>3040800.0</td>\n",
       "    </tr>\n",
       "  </tbody>\n",
       "</table>\n",
       "<p>2 rows × 21 columns</p>\n",
       "</div>"
      ],
      "text/plain": [
       "       listing_id                                           title  \\\n",
       "2701       160293          3 bed condo for sale in jlb residences   \n",
       "18446      771950  4 bed condo for sale in avenue south residence   \n",
       "\n",
       "                      address           property_name property_type  \\\n",
       "2701   169 jalan loyang besar          jlb residences         condo   \n",
       "18446          1 silat avenue  avenue south residence         condo   \n",
       "\n",
       "                   tenure  built_year  num_beds  num_baths  size_sqft  ...  \\\n",
       "2701   946-year leasehold      2008.0       3.0        2.0    1185000  ...   \n",
       "18446   99-year leasehold      2023.0       4.0        4.0    1496000  ...   \n",
       "\n",
       "        furnishing   available_unit_types total_num_units  \\\n",
       "2701   unfurnished                   3 br            36.0   \n",
       "18446  unspecified  studio, 1, 2, 3, 4 br          1074.0   \n",
       "\n",
       "                                    property_details_url       lat  \\\n",
       "2701   https://www.99.co/singapore/condos-apartments/...  1.379105   \n",
       "18446  https://www.99.co/singapore/condos-apartments/...  1.304855   \n",
       "\n",
       "              lng  elevation         subzone planning_area      price  \n",
       "2701   103.960613          0  pasir ris park     pasir ris  1244200.0  \n",
       "18446  103.773776          0           dover    queenstown  3040800.0  \n",
       "\n",
       "[2 rows x 21 columns]"
      ]
     },
     "execution_count": 41,
     "metadata": {},
     "output_type": "execute_result"
    }
   ],
   "source": [
    "df_train[df_train.size_sqft > 1 * 10 ** 6]"
   ]
  },
  {
   "cell_type": "code",
   "execution_count": 43,
   "metadata": {},
   "outputs": [
    {
     "data": {
      "text/html": [
       "<div>\n",
       "<style scoped>\n",
       "    .dataframe tbody tr th:only-of-type {\n",
       "        vertical-align: middle;\n",
       "    }\n",
       "\n",
       "    .dataframe tbody tr th {\n",
       "        vertical-align: top;\n",
       "    }\n",
       "\n",
       "    .dataframe thead th {\n",
       "        text-align: right;\n",
       "    }\n",
       "</style>\n",
       "<table border=\"1\" class=\"dataframe\">\n",
       "  <thead>\n",
       "    <tr style=\"text-align: right;\">\n",
       "      <th></th>\n",
       "      <th>listing_id</th>\n",
       "      <th>title</th>\n",
       "      <th>address</th>\n",
       "      <th>property_name</th>\n",
       "      <th>property_type</th>\n",
       "      <th>tenure</th>\n",
       "      <th>built_year</th>\n",
       "      <th>num_beds</th>\n",
       "      <th>num_baths</th>\n",
       "      <th>size_sqft</th>\n",
       "      <th>...</th>\n",
       "      <th>furnishing</th>\n",
       "      <th>available_unit_types</th>\n",
       "      <th>total_num_units</th>\n",
       "      <th>property_details_url</th>\n",
       "      <th>lat</th>\n",
       "      <th>lng</th>\n",
       "      <th>elevation</th>\n",
       "      <th>subzone</th>\n",
       "      <th>planning_area</th>\n",
       "      <th>price</th>\n",
       "    </tr>\n",
       "  </thead>\n",
       "  <tbody>\n",
       "    <tr>\n",
       "      <th>2701</th>\n",
       "      <td>160293</td>\n",
       "      <td>3 bed condo for sale in jlb residences</td>\n",
       "      <td>169 jalan loyang besar</td>\n",
       "      <td>jlb residences</td>\n",
       "      <td>condo</td>\n",
       "      <td>946-year leasehold</td>\n",
       "      <td>2008.0</td>\n",
       "      <td>3.0</td>\n",
       "      <td>2.0</td>\n",
       "      <td>1185000</td>\n",
       "      <td>...</td>\n",
       "      <td>unfurnished</td>\n",
       "      <td>3 br</td>\n",
       "      <td>36.0</td>\n",
       "      <td>https://www.99.co/singapore/condos-apartments/...</td>\n",
       "      <td>1.379105</td>\n",
       "      <td>103.960613</td>\n",
       "      <td>0</td>\n",
       "      <td>pasir ris park</td>\n",
       "      <td>pasir ris</td>\n",
       "      <td>1244200.0</td>\n",
       "    </tr>\n",
       "    <tr>\n",
       "      <th>19551</th>\n",
       "      <td>860958</td>\n",
       "      <td>3 bed condo for sale in jlb residences</td>\n",
       "      <td>169 jalan loyang besar</td>\n",
       "      <td>jlb residences</td>\n",
       "      <td>apartment</td>\n",
       "      <td>946-year leasehold</td>\n",
       "      <td>2008.0</td>\n",
       "      <td>3.0</td>\n",
       "      <td>2.0</td>\n",
       "      <td>958</td>\n",
       "      <td>...</td>\n",
       "      <td>unspecified</td>\n",
       "      <td>3 br</td>\n",
       "      <td>36.0</td>\n",
       "      <td>https://www.99.co/singapore/condos-apartments/...</td>\n",
       "      <td>1.379105</td>\n",
       "      <td>103.960613</td>\n",
       "      <td>0</td>\n",
       "      <td>pasir ris park</td>\n",
       "      <td>pasir ris</td>\n",
       "      <td>1244200.0</td>\n",
       "    </tr>\n",
       "  </tbody>\n",
       "</table>\n",
       "<p>2 rows × 21 columns</p>\n",
       "</div>"
      ],
      "text/plain": [
       "       listing_id                                   title  \\\n",
       "2701       160293  3 bed condo for sale in jlb residences   \n",
       "19551      860958  3 bed condo for sale in jlb residences   \n",
       "\n",
       "                      address   property_name property_type  \\\n",
       "2701   169 jalan loyang besar  jlb residences         condo   \n",
       "19551  169 jalan loyang besar  jlb residences     apartment   \n",
       "\n",
       "                   tenure  built_year  num_beds  num_baths  size_sqft  ...  \\\n",
       "2701   946-year leasehold      2008.0       3.0        2.0    1185000  ...   \n",
       "19551  946-year leasehold      2008.0       3.0        2.0        958  ...   \n",
       "\n",
       "        furnishing available_unit_types total_num_units  \\\n",
       "2701   unfurnished                 3 br            36.0   \n",
       "19551  unspecified                 3 br            36.0   \n",
       "\n",
       "                                    property_details_url       lat  \\\n",
       "2701   https://www.99.co/singapore/condos-apartments/...  1.379105   \n",
       "19551  https://www.99.co/singapore/condos-apartments/...  1.379105   \n",
       "\n",
       "              lng  elevation         subzone planning_area      price  \n",
       "2701   103.960613          0  pasir ris park     pasir ris  1244200.0  \n",
       "19551  103.960613          0  pasir ris park     pasir ris  1244200.0  \n",
       "\n",
       "[2 rows x 21 columns]"
      ]
     },
     "execution_count": 43,
     "metadata": {},
     "output_type": "execute_result"
    }
   ],
   "source": [
    "df_train[(df_train[\"property_name\"].str.contains(\"jlb residences\"))]"
   ]
  },
  {
   "cell_type": "code",
   "execution_count": 48,
   "metadata": {},
   "outputs": [
    {
     "data": {
      "text/plain": [
       "<AxesSubplot:xlabel='size_sqft', ylabel='price'>"
      ]
     },
     "execution_count": 48,
     "metadata": {},
     "output_type": "execute_result"
    },
    {
     "data": {
      "image/png": "[encoded data removed]",
      "text/plain": [
       "<Figure size 640x480 with 1 Axes>"
      ]
     },
     "metadata": {},
     "output_type": "display_data"
    }
   ],
   "source": [
    "df_train[(df_train[\"property_type\"].str.contains(\"condo\")) & (df_train[\"num_beds\"] == 3) & (df_train[\"num_baths\"] == 2)].plot.scatter(\"size_sqft\", \"price\")"
   ]
  },
  {
   "cell_type": "code",
   "execution_count": 49,
   "metadata": {},
   "outputs": [
    {
     "data": {
      "text/html": [
       "<div>\n",
       "<style scoped>\n",
       "    .dataframe tbody tr th:only-of-type {\n",
       "        vertical-align: middle;\n",
       "    }\n",
       "\n",
       "    .dataframe tbody tr th {\n",
       "        vertical-align: top;\n",
       "    }\n",
       "\n",
       "    .dataframe thead th {\n",
       "        text-align: right;\n",
       "    }\n",
       "</style>\n",
       "<table border=\"1\" class=\"dataframe\">\n",
       "  <thead>\n",
       "    <tr style=\"text-align: right;\">\n",
       "      <th></th>\n",
       "      <th>listing_id</th>\n",
       "      <th>title</th>\n",
       "      <th>address</th>\n",
       "      <th>property_name</th>\n",
       "      <th>property_type</th>\n",
       "      <th>tenure</th>\n",
       "      <th>built_year</th>\n",
       "      <th>num_beds</th>\n",
       "      <th>num_baths</th>\n",
       "      <th>size_sqft</th>\n",
       "      <th>...</th>\n",
       "      <th>furnishing</th>\n",
       "      <th>available_unit_types</th>\n",
       "      <th>total_num_units</th>\n",
       "      <th>property_details_url</th>\n",
       "      <th>lat</th>\n",
       "      <th>lng</th>\n",
       "      <th>elevation</th>\n",
       "      <th>subzone</th>\n",
       "      <th>planning_area</th>\n",
       "      <th>price</th>\n",
       "    </tr>\n",
       "  </thead>\n",
       "  <tbody>\n",
       "    <tr>\n",
       "      <th>663</th>\n",
       "      <td>122873</td>\n",
       "      <td>3 bed condo for sale in midtown modern</td>\n",
       "      <td>18 tan quee lan street</td>\n",
       "      <td>midtown modern</td>\n",
       "      <td>condo</td>\n",
       "      <td>99-year leasehold</td>\n",
       "      <td>2024.0</td>\n",
       "      <td>3.0</td>\n",
       "      <td>2.0</td>\n",
       "      <td>1066</td>\n",
       "      <td>...</td>\n",
       "      <td>unspecified</td>\n",
       "      <td>studio, 1, 2, 3, 4, 5, 6 br</td>\n",
       "      <td>558.0</td>\n",
       "      <td>https://www.99.co/singapore/condos-apartments/...</td>\n",
       "      <td>1.298416</td>\n",
       "      <td>103.857178</td>\n",
       "      <td>0</td>\n",
       "      <td>bugis</td>\n",
       "      <td>downtown core</td>\n",
       "      <td>30880500.0</td>\n",
       "    </tr>\n",
       "  </tbody>\n",
       "</table>\n",
       "<p>1 rows × 21 columns</p>\n",
       "</div>"
      ],
      "text/plain": [
       "     listing_id                                   title  \\\n",
       "663      122873  3 bed condo for sale in midtown modern   \n",
       "\n",
       "                    address   property_name property_type             tenure  \\\n",
       "663  18 tan quee lan street  midtown modern         condo  99-year leasehold   \n",
       "\n",
       "     built_year  num_beds  num_baths  size_sqft  ...   furnishing  \\\n",
       "663      2024.0       3.0        2.0       1066  ...  unspecified   \n",
       "\n",
       "            available_unit_types total_num_units  \\\n",
       "663  studio, 1, 2, 3, 4, 5, 6 br           558.0   \n",
       "\n",
       "                                  property_details_url       lat         lng  \\\n",
       "663  https://www.99.co/singapore/condos-apartments/...  1.298416  103.857178   \n",
       "\n",
       "     elevation  subzone  planning_area       price  \n",
       "663          0    bugis  downtown core  30880500.0  \n",
       "\n",
       "[1 rows x 21 columns]"
      ]
     },
     "execution_count": 49,
     "metadata": {},
     "output_type": "execute_result"
    }
   ],
   "source": [
    "df = df_train[(df_train[\"property_type\"].str.contains(\"condo\")) & (df_train[\"num_beds\"] == 3) & (df_train[\"num_baths\"] == 2)]\n",
    "df[df[\"price\"] > 1 * 10 ** 7]"
   ]
  },
  {
   "cell_type": "code",
   "execution_count": 51,
   "metadata": {},
   "outputs": [
    {
     "data": {
      "text/plain": [
       "condo        131\n",
       "apartment      5\n",
       "Name: property_type, dtype: int64"
      ]
     },
     "execution_count": 51,
     "metadata": {},
     "output_type": "execute_result"
    }
   ],
   "source": [
    "df_train[(df_train[\"property_name\"].str.contains(\"midtown modern\"))][\"property_type\"].value_counts()"
   ]
  },
  {
   "cell_type": "code",
   "execution_count": 52,
   "metadata": {},
   "outputs": [
    {
     "data": {
      "text/plain": [
       "<AxesSubplot:xlabel='size_sqft', ylabel='price'>"
      ]
     },
     "execution_count": 52,
     "metadata": {},
     "output_type": "execute_result"
    },
    {
     "data": {
      "image/png": "[encoded data removed]",
      "text/plain": [
       "<Figure size 640x480 with 1 Axes>"
      ]
     },
     "metadata": {},
     "output_type": "display_data"
    }
   ],
   "source": [
    "df_train[(df_train[\"property_name\"].str.contains(\"midtown modern\"))].plot.scatter(\"size_sqft\", \"price\")"
   ]
  },
  {
   "cell_type": "code",
   "execution_count": 45,
   "metadata": {},
   "outputs": [
    {
     "data": {
      "text/plain": [
       "(110, 21)"
      ]
     },
     "execution_count": 45,
     "metadata": {},
     "output_type": "execute_result"
    }
   ],
   "source": [
    "df_train[(df_train[\"property_name\"].str.contains(\"avenue south residence\"))].shape"
   ]
  },
  {
   "cell_type": "code",
   "execution_count": 46,
   "metadata": {},
   "outputs": [
    {
     "data": {
      "text/plain": [
       "<AxesSubplot:xlabel='size_sqft', ylabel='price'>"
      ]
     },
     "execution_count": 46,
     "metadata": {},
     "output_type": "execute_result"
    },
    {
     "data": {
      "image/png": "[encoded data removed]",
      "text/plain": [
       "<Figure size 640x480 with 1 Axes>"
      ]
     },
     "metadata": {},
     "output_type": "display_data"
    }
   ],
   "source": [
    "df_train[(df_train[\"property_name\"].str.contains(\"avenue south residence\"))].plot.scatter(\"size_sqft\", \"price\")"
   ]
  },
  {
   "cell_type": "code",
   "execution_count": 47,
   "metadata": {},
   "outputs": [
    {
     "data": {
      "text/plain": [
       "<AxesSubplot:xlabel='size_sqft', ylabel='price'>"
      ]
     },
     "execution_count": 47,
     "metadata": {},
     "output_type": "execute_result"
    },
    {
     "data": {
      "image/png": "[encoded data removed]",
      "text/plain": [
       "<Figure size 640x480 with 1 Axes>"
      ]
     },
     "metadata": {},
     "output_type": "display_data"
    }
   ],
   "source": [
    "df = df_train[(df_train[\"property_name\"].str.contains(\"avenue south residence\"))]\n",
    "df[df[\"size_sqft\"] < 1 * 10 ** 6].plot.scatter(\"size_sqft\", \"price\")"
   ]
  },
  {
   "cell_type": "markdown",
   "metadata": {},
   "source": [
    "### These properties seem like outliers\n",
    "* 2701\n",
    "* 18446\n",
    "* 663"
   ]
  },
  {
   "cell_type": "code",
   "execution_count": 72,
   "metadata": {},
   "outputs": [
    {
     "data": {
      "text/plain": [
       "<AxesSubplot:xlabel='size_sqft', ylabel='price'>"
      ]
     },
     "execution_count": 72,
     "metadata": {},
     "output_type": "execute_result"
    },
    {
     "data": {
      "image/png": "[encoded data removed]",
      "text/plain": [
       "<Figure size 640x480 with 1 Axes>"
      ]
     },
     "metadata": {},
     "output_type": "display_data"
    }
   ],
   "source": [
    "df_train[(df_train[\"size_sqft\"] < 1 * 10 ** 6)].plot.scatter(\"size_sqft\", \"price\")"
   ]
  },
  {
   "cell_type": "markdown",
   "metadata": {},
   "source": [
    "Possible outliers > 40000 sqft"
   ]
  },
  {
   "cell_type": "code",
   "execution_count": 74,
   "metadata": {},
   "outputs": [
    {
     "data": {
      "text/html": [
       "<div>\n",
       "<style scoped>\n",
       "    .dataframe tbody tr th:only-of-type {\n",
       "        vertical-align: middle;\n",
       "    }\n",
       "\n",
       "    .dataframe tbody tr th {\n",
       "        vertical-align: top;\n",
       "    }\n",
       "\n",
       "    .dataframe thead th {\n",
       "        text-align: right;\n",
       "    }\n",
       "</style>\n",
       "<table border=\"1\" class=\"dataframe\">\n",
       "  <thead>\n",
       "    <tr style=\"text-align: right;\">\n",
       "      <th></th>\n",
       "      <th>listing_id</th>\n",
       "      <th>title</th>\n",
       "      <th>address</th>\n",
       "      <th>property_name</th>\n",
       "      <th>property_type</th>\n",
       "      <th>tenure</th>\n",
       "      <th>built_year</th>\n",
       "      <th>num_beds</th>\n",
       "      <th>num_baths</th>\n",
       "      <th>size_sqft</th>\n",
       "      <th>...</th>\n",
       "      <th>furnishing</th>\n",
       "      <th>available_unit_types</th>\n",
       "      <th>total_num_units</th>\n",
       "      <th>property_details_url</th>\n",
       "      <th>lat</th>\n",
       "      <th>lng</th>\n",
       "      <th>elevation</th>\n",
       "      <th>subzone</th>\n",
       "      <th>planning_area</th>\n",
       "      <th>price</th>\n",
       "    </tr>\n",
       "  </thead>\n",
       "  <tbody>\n",
       "    <tr>\n",
       "      <th>2701</th>\n",
       "      <td>160293</td>\n",
       "      <td>3 bed condo for sale in jlb residences</td>\n",
       "      <td>169 jalan loyang besar</td>\n",
       "      <td>jlb residences</td>\n",
       "      <td>condo</td>\n",
       "      <td>946-year leasehold</td>\n",
       "      <td>2008.0</td>\n",
       "      <td>3.0</td>\n",
       "      <td>2.0</td>\n",
       "      <td>1185000</td>\n",
       "      <td>...</td>\n",
       "      <td>unfurnished</td>\n",
       "      <td>3 br</td>\n",
       "      <td>36.0</td>\n",
       "      <td>https://www.99.co/singapore/condos-apartments/...</td>\n",
       "      <td>1.379105</td>\n",
       "      <td>103.960613</td>\n",
       "      <td>0</td>\n",
       "      <td>pasir ris park</td>\n",
       "      <td>pasir ris</td>\n",
       "      <td>1244200.0</td>\n",
       "    </tr>\n",
       "    <tr>\n",
       "      <th>4287</th>\n",
       "      <td>753969</td>\n",
       "      <td>6 bed house for sale in bedok park</td>\n",
       "      <td>limau garden</td>\n",
       "      <td>bedok park</td>\n",
       "      <td>semi-detached house</td>\n",
       "      <td>freehold</td>\n",
       "      <td>1970.0</td>\n",
       "      <td>6.0</td>\n",
       "      <td>7.0</td>\n",
       "      <td>86080</td>\n",
       "      <td>...</td>\n",
       "      <td>unspecified</td>\n",
       "      <td>5, 6, 10 br</td>\n",
       "      <td>NaN</td>\n",
       "      <td>https://www.99.co/singapore/houses/bedok-park-...</td>\n",
       "      <td>1.306408</td>\n",
       "      <td>103.932790</td>\n",
       "      <td>0</td>\n",
       "      <td>siglap</td>\n",
       "      <td>bedok</td>\n",
       "      <td>6279000.0</td>\n",
       "    </tr>\n",
       "    <tr>\n",
       "      <th>15637</th>\n",
       "      <td>522703</td>\n",
       "      <td>6 bed house for sale in swiss club park</td>\n",
       "      <td>jalan senandong</td>\n",
       "      <td>swiss club park</td>\n",
       "      <td>bungalow</td>\n",
       "      <td>freehold</td>\n",
       "      <td>1997.0</td>\n",
       "      <td>6.0</td>\n",
       "      <td>6.0</td>\n",
       "      <td>70000</td>\n",
       "      <td>...</td>\n",
       "      <td>unspecified</td>\n",
       "      <td>4, 5, 6, 7 br</td>\n",
       "      <td>NaN</td>\n",
       "      <td>https://www.99.co/singapore/houses/swiss-club-...</td>\n",
       "      <td>1.335877</td>\n",
       "      <td>103.789611</td>\n",
       "      <td>0</td>\n",
       "      <td>swiss club</td>\n",
       "      <td>bukit timah</td>\n",
       "      <td>40950000.0</td>\n",
       "    </tr>\n",
       "    <tr>\n",
       "      <th>18446</th>\n",
       "      <td>771950</td>\n",
       "      <td>4 bed condo for sale in avenue south residence</td>\n",
       "      <td>1 silat avenue</td>\n",
       "      <td>avenue south residence</td>\n",
       "      <td>condo</td>\n",
       "      <td>99-year leasehold</td>\n",
       "      <td>2023.0</td>\n",
       "      <td>4.0</td>\n",
       "      <td>4.0</td>\n",
       "      <td>1496000</td>\n",
       "      <td>...</td>\n",
       "      <td>unspecified</td>\n",
       "      <td>studio, 1, 2, 3, 4 br</td>\n",
       "      <td>1074.0</td>\n",
       "      <td>https://www.99.co/singapore/condos-apartments/...</td>\n",
       "      <td>1.304855</td>\n",
       "      <td>103.773776</td>\n",
       "      <td>0</td>\n",
       "      <td>dover</td>\n",
       "      <td>queenstown</td>\n",
       "      <td>3040800.0</td>\n",
       "    </tr>\n",
       "  </tbody>\n",
       "</table>\n",
       "<p>4 rows × 21 columns</p>\n",
       "</div>"
      ],
      "text/plain": [
       "       listing_id                                           title  \\\n",
       "2701       160293          3 bed condo for sale in jlb residences   \n",
       "4287       753969              6 bed house for sale in bedok park   \n",
       "15637      522703         6 bed house for sale in swiss club park   \n",
       "18446      771950  4 bed condo for sale in avenue south residence   \n",
       "\n",
       "                      address           property_name        property_type  \\\n",
       "2701   169 jalan loyang besar          jlb residences                condo   \n",
       "4287             limau garden              bedok park  semi-detached house   \n",
       "15637         jalan senandong         swiss club park             bungalow   \n",
       "18446          1 silat avenue  avenue south residence                condo   \n",
       "\n",
       "                   tenure  built_year  num_beds  num_baths  size_sqft  ...  \\\n",
       "2701   946-year leasehold      2008.0       3.0        2.0    1185000  ...   \n",
       "4287             freehold      1970.0       6.0        7.0      86080  ...   \n",
       "15637            freehold      1997.0       6.0        6.0      70000  ...   \n",
       "18446   99-year leasehold      2023.0       4.0        4.0    1496000  ...   \n",
       "\n",
       "        furnishing   available_unit_types total_num_units  \\\n",
       "2701   unfurnished                   3 br            36.0   \n",
       "4287   unspecified            5, 6, 10 br             NaN   \n",
       "15637  unspecified          4, 5, 6, 7 br             NaN   \n",
       "18446  unspecified  studio, 1, 2, 3, 4 br          1074.0   \n",
       "\n",
       "                                    property_details_url       lat  \\\n",
       "2701   https://www.99.co/singapore/condos-apartments/...  1.379105   \n",
       "4287   https://www.99.co/singapore/houses/bedok-park-...  1.306408   \n",
       "15637  https://www.99.co/singapore/houses/swiss-club-...  1.335877   \n",
       "18446  https://www.99.co/singapore/condos-apartments/...  1.304855   \n",
       "\n",
       "              lng  elevation         subzone planning_area       price  \n",
       "2701   103.960613          0  pasir ris park     pasir ris   1244200.0  \n",
       "4287   103.932790          0          siglap         bedok   6279000.0  \n",
       "15637  103.789611          0      swiss club   bukit timah  40950000.0  \n",
       "18446  103.773776          0           dover    queenstown   3040800.0  \n",
       "\n",
       "[4 rows x 21 columns]"
      ]
     },
     "execution_count": 74,
     "metadata": {},
     "output_type": "execute_result"
    }
   ],
   "source": [
    "df_train[(df_train[\"size_sqft\"] > 40000)]"
   ]
  },
  {
   "cell_type": "code",
   "execution_count": 81,
   "metadata": {},
   "outputs": [
    {
     "data": {
      "text/plain": [
       "(16, 21)"
      ]
     },
     "execution_count": 81,
     "metadata": {},
     "output_type": "execute_result"
    }
   ],
   "source": [
    "df_train[(df_train[\"property_name\"].str.contains(\"bedok park\"))].shape"
   ]
  },
  {
   "cell_type": "code",
   "execution_count": 82,
   "metadata": {},
   "outputs": [
    {
     "data": {
      "text/html": [
       "<div>\n",
       "<style scoped>\n",
       "    .dataframe tbody tr th:only-of-type {\n",
       "        vertical-align: middle;\n",
       "    }\n",
       "\n",
       "    .dataframe tbody tr th {\n",
       "        vertical-align: top;\n",
       "    }\n",
       "\n",
       "    .dataframe thead th {\n",
       "        text-align: right;\n",
       "    }\n",
       "</style>\n",
       "<table border=\"1\" class=\"dataframe\">\n",
       "  <thead>\n",
       "    <tr style=\"text-align: right;\">\n",
       "      <th></th>\n",
       "      <th>listing_id</th>\n",
       "      <th>title</th>\n",
       "      <th>address</th>\n",
       "      <th>property_name</th>\n",
       "      <th>property_type</th>\n",
       "      <th>tenure</th>\n",
       "      <th>built_year</th>\n",
       "      <th>num_beds</th>\n",
       "      <th>num_baths</th>\n",
       "      <th>size_sqft</th>\n",
       "      <th>...</th>\n",
       "      <th>furnishing</th>\n",
       "      <th>available_unit_types</th>\n",
       "      <th>total_num_units</th>\n",
       "      <th>property_details_url</th>\n",
       "      <th>lat</th>\n",
       "      <th>lng</th>\n",
       "      <th>elevation</th>\n",
       "      <th>subzone</th>\n",
       "      <th>planning_area</th>\n",
       "      <th>price</th>\n",
       "    </tr>\n",
       "  </thead>\n",
       "  <tbody>\n",
       "    <tr>\n",
       "      <th>4287</th>\n",
       "      <td>753969</td>\n",
       "      <td>6 bed house for sale in bedok park</td>\n",
       "      <td>limau garden</td>\n",
       "      <td>bedok park</td>\n",
       "      <td>semi-detached house</td>\n",
       "      <td>freehold</td>\n",
       "      <td>1970.0</td>\n",
       "      <td>6.0</td>\n",
       "      <td>7.0</td>\n",
       "      <td>86080</td>\n",
       "      <td>...</td>\n",
       "      <td>unspecified</td>\n",
       "      <td>5, 6, 10 br</td>\n",
       "      <td>NaN</td>\n",
       "      <td>https://www.99.co/singapore/houses/bedok-park-...</td>\n",
       "      <td>1.306408</td>\n",
       "      <td>103.93279</td>\n",
       "      <td>0</td>\n",
       "      <td>siglap</td>\n",
       "      <td>bedok</td>\n",
       "      <td>6279000.0</td>\n",
       "    </tr>\n",
       "    <tr>\n",
       "      <th>3073</th>\n",
       "      <td>320892</td>\n",
       "      <td>10 bed house for sale in bedok park</td>\n",
       "      <td>limau garden</td>\n",
       "      <td>bedok park</td>\n",
       "      <td>semi-detached house</td>\n",
       "      <td>freehold</td>\n",
       "      <td>1970.0</td>\n",
       "      <td>10.0</td>\n",
       "      <td>10.0</td>\n",
       "      <td>9600</td>\n",
       "      <td>...</td>\n",
       "      <td>unspecified</td>\n",
       "      <td>5, 6, 10 br</td>\n",
       "      <td>NaN</td>\n",
       "      <td>https://www.99.co/singapore/houses/bedok-park-...</td>\n",
       "      <td>1.306408</td>\n",
       "      <td>103.93279</td>\n",
       "      <td>0</td>\n",
       "      <td>siglap</td>\n",
       "      <td>bedok</td>\n",
       "      <td>6510000.0</td>\n",
       "    </tr>\n",
       "    <tr>\n",
       "      <th>5589</th>\n",
       "      <td>336044</td>\n",
       "      <td>6 bed house for sale in bedok park</td>\n",
       "      <td>limau garden</td>\n",
       "      <td>bedok park</td>\n",
       "      <td>semi-detached house</td>\n",
       "      <td>freehold</td>\n",
       "      <td>1970.0</td>\n",
       "      <td>6.0</td>\n",
       "      <td>6.0</td>\n",
       "      <td>8083</td>\n",
       "      <td>...</td>\n",
       "      <td>unspecified</td>\n",
       "      <td>5, 6, 10 br</td>\n",
       "      <td>NaN</td>\n",
       "      <td>https://www.99.co/singapore/houses/bedok-park-...</td>\n",
       "      <td>1.306408</td>\n",
       "      <td>103.93279</td>\n",
       "      <td>0</td>\n",
       "      <td>siglap</td>\n",
       "      <td>bedok</td>\n",
       "      <td>6279000.0</td>\n",
       "    </tr>\n",
       "    <tr>\n",
       "      <th>14937</th>\n",
       "      <td>528400</td>\n",
       "      <td>6 bed house for sale in bedok park</td>\n",
       "      <td>limau garden</td>\n",
       "      <td>bedok park</td>\n",
       "      <td>semi-detached house</td>\n",
       "      <td>freehold</td>\n",
       "      <td>1970.0</td>\n",
       "      <td>6.0</td>\n",
       "      <td>6.0</td>\n",
       "      <td>8048</td>\n",
       "      <td>...</td>\n",
       "      <td>unspecified</td>\n",
       "      <td>5, 6, 10 br</td>\n",
       "      <td>NaN</td>\n",
       "      <td>https://www.99.co/singapore/houses/bedok-park-...</td>\n",
       "      <td>1.306408</td>\n",
       "      <td>103.93279</td>\n",
       "      <td>0</td>\n",
       "      <td>siglap</td>\n",
       "      <td>bedok</td>\n",
       "      <td>6279000.0</td>\n",
       "    </tr>\n",
       "    <tr>\n",
       "      <th>318</th>\n",
       "      <td>409887</td>\n",
       "      <td>6 bed house for sale in bedok park</td>\n",
       "      <td>limau garden</td>\n",
       "      <td>bedok park</td>\n",
       "      <td>semi-detached house</td>\n",
       "      <td>freehold</td>\n",
       "      <td>1970.0</td>\n",
       "      <td>6.0</td>\n",
       "      <td>7.0</td>\n",
       "      <td>8000</td>\n",
       "      <td>...</td>\n",
       "      <td>unfurnished</td>\n",
       "      <td>5, 6, 10 br</td>\n",
       "      <td>NaN</td>\n",
       "      <td>https://www.99.co/singapore/houses/bedok-park-...</td>\n",
       "      <td>1.306408</td>\n",
       "      <td>103.93279</td>\n",
       "      <td>0</td>\n",
       "      <td>siglap</td>\n",
       "      <td>bedok</td>\n",
       "      <td>6279000.0</td>\n",
       "    </tr>\n",
       "    <tr>\n",
       "      <th>6698</th>\n",
       "      <td>353658</td>\n",
       "      <td>6 bed house for sale in bedok park</td>\n",
       "      <td>limau garden</td>\n",
       "      <td>bedok park</td>\n",
       "      <td>semi-detached house</td>\n",
       "      <td>freehold</td>\n",
       "      <td>1970.0</td>\n",
       "      <td>6.0</td>\n",
       "      <td>6.0</td>\n",
       "      <td>8000</td>\n",
       "      <td>...</td>\n",
       "      <td>unspecified</td>\n",
       "      <td>5, 6, 10 br</td>\n",
       "      <td>NaN</td>\n",
       "      <td>https://www.99.co/singapore/houses/bedok-park-...</td>\n",
       "      <td>1.306408</td>\n",
       "      <td>103.93279</td>\n",
       "      <td>0</td>\n",
       "      <td>siglap</td>\n",
       "      <td>bedok</td>\n",
       "      <td>6279000.0</td>\n",
       "    </tr>\n",
       "    <tr>\n",
       "      <th>7428</th>\n",
       "      <td>880986</td>\n",
       "      <td>6 bed house for sale in bedok park</td>\n",
       "      <td>limau garden</td>\n",
       "      <td>bedok park</td>\n",
       "      <td>semi-detached house</td>\n",
       "      <td>freehold</td>\n",
       "      <td>1970.0</td>\n",
       "      <td>6.0</td>\n",
       "      <td>6.0</td>\n",
       "      <td>8000</td>\n",
       "      <td>...</td>\n",
       "      <td>unspecified</td>\n",
       "      <td>5, 6, 10 br</td>\n",
       "      <td>NaN</td>\n",
       "      <td>https://www.99.co/singapore/houses/bedok-park-...</td>\n",
       "      <td>1.306408</td>\n",
       "      <td>103.93279</td>\n",
       "      <td>0</td>\n",
       "      <td>siglap</td>\n",
       "      <td>bedok</td>\n",
       "      <td>6279000.0</td>\n",
       "    </tr>\n",
       "    <tr>\n",
       "      <th>10442</th>\n",
       "      <td>943670</td>\n",
       "      <td>6 bed house for sale in bedok park</td>\n",
       "      <td>limau garden</td>\n",
       "      <td>bedok park</td>\n",
       "      <td>semi-detached house</td>\n",
       "      <td>freehold</td>\n",
       "      <td>1970.0</td>\n",
       "      <td>6.0</td>\n",
       "      <td>7.0</td>\n",
       "      <td>8000</td>\n",
       "      <td>...</td>\n",
       "      <td>unspecified</td>\n",
       "      <td>5, 6, 10 br</td>\n",
       "      <td>NaN</td>\n",
       "      <td>https://www.99.co/singapore/houses/bedok-park-...</td>\n",
       "      <td>1.306408</td>\n",
       "      <td>103.93279</td>\n",
       "      <td>0</td>\n",
       "      <td>siglap</td>\n",
       "      <td>bedok</td>\n",
       "      <td>6279000.0</td>\n",
       "    </tr>\n",
       "    <tr>\n",
       "      <th>11612</th>\n",
       "      <td>714038</td>\n",
       "      <td>6 bed house for sale in bedok park</td>\n",
       "      <td>limau garden</td>\n",
       "      <td>bedok park</td>\n",
       "      <td>semi-detached house</td>\n",
       "      <td>freehold</td>\n",
       "      <td>1970.0</td>\n",
       "      <td>6.0</td>\n",
       "      <td>6.0</td>\n",
       "      <td>8000</td>\n",
       "      <td>...</td>\n",
       "      <td>unspecified</td>\n",
       "      <td>5, 6, 10 br</td>\n",
       "      <td>NaN</td>\n",
       "      <td>https://www.99.co/singapore/houses/bedok-park-...</td>\n",
       "      <td>1.306408</td>\n",
       "      <td>103.93279</td>\n",
       "      <td>0</td>\n",
       "      <td>siglap</td>\n",
       "      <td>bedok</td>\n",
       "      <td>6279000.0</td>\n",
       "    </tr>\n",
       "    <tr>\n",
       "      <th>12689</th>\n",
       "      <td>331868</td>\n",
       "      <td>6 bed house for sale in bedok park</td>\n",
       "      <td>limau garden</td>\n",
       "      <td>bedok park</td>\n",
       "      <td>semi-detached house</td>\n",
       "      <td>freehold</td>\n",
       "      <td>1970.0</td>\n",
       "      <td>6.0</td>\n",
       "      <td>7.0</td>\n",
       "      <td>8000</td>\n",
       "      <td>...</td>\n",
       "      <td>unspecified</td>\n",
       "      <td>5, 6, 10 br</td>\n",
       "      <td>NaN</td>\n",
       "      <td>https://www.99.co/singapore/houses/bedok-park-...</td>\n",
       "      <td>1.306408</td>\n",
       "      <td>103.93279</td>\n",
       "      <td>0</td>\n",
       "      <td>siglap</td>\n",
       "      <td>bedok</td>\n",
       "      <td>6279000.0</td>\n",
       "    </tr>\n",
       "    <tr>\n",
       "      <th>15568</th>\n",
       "      <td>702475</td>\n",
       "      <td>6 bed house for sale in bedok park</td>\n",
       "      <td>limau garden</td>\n",
       "      <td>bedok park</td>\n",
       "      <td>semi-detached house</td>\n",
       "      <td>freehold</td>\n",
       "      <td>1970.0</td>\n",
       "      <td>6.0</td>\n",
       "      <td>7.0</td>\n",
       "      <td>8000</td>\n",
       "      <td>...</td>\n",
       "      <td>unspecified</td>\n",
       "      <td>5, 6, 10 br</td>\n",
       "      <td>NaN</td>\n",
       "      <td>https://www.99.co/singapore/houses/bedok-park-...</td>\n",
       "      <td>1.306408</td>\n",
       "      <td>103.93279</td>\n",
       "      <td>0</td>\n",
       "      <td>siglap</td>\n",
       "      <td>bedok</td>\n",
       "      <td>6279000.0</td>\n",
       "    </tr>\n",
       "    <tr>\n",
       "      <th>17149</th>\n",
       "      <td>186750</td>\n",
       "      <td>6 bed house for sale in bedok park</td>\n",
       "      <td>limau garden</td>\n",
       "      <td>bedok park</td>\n",
       "      <td>semi-detached house</td>\n",
       "      <td>freehold</td>\n",
       "      <td>1970.0</td>\n",
       "      <td>6.0</td>\n",
       "      <td>7.0</td>\n",
       "      <td>8000</td>\n",
       "      <td>...</td>\n",
       "      <td>unspecified</td>\n",
       "      <td>5, 6, 10 br</td>\n",
       "      <td>NaN</td>\n",
       "      <td>https://www.99.co/singapore/houses/bedok-park-...</td>\n",
       "      <td>1.306408</td>\n",
       "      <td>103.93279</td>\n",
       "      <td>0</td>\n",
       "      <td>siglap</td>\n",
       "      <td>bedok</td>\n",
       "      <td>6279000.0</td>\n",
       "    </tr>\n",
       "    <tr>\n",
       "      <th>10012</th>\n",
       "      <td>239021</td>\n",
       "      <td>6 bed house for sale in bedok park</td>\n",
       "      <td>limau garden</td>\n",
       "      <td>bedok park</td>\n",
       "      <td>semi-detached house</td>\n",
       "      <td>freehold</td>\n",
       "      <td>1970.0</td>\n",
       "      <td>6.0</td>\n",
       "      <td>7.0</td>\n",
       "      <td>4841</td>\n",
       "      <td>...</td>\n",
       "      <td>unspecified</td>\n",
       "      <td>5, 6, 10 br</td>\n",
       "      <td>NaN</td>\n",
       "      <td>https://www.99.co/singapore/houses/bedok-park-...</td>\n",
       "      <td>1.306408</td>\n",
       "      <td>103.93279</td>\n",
       "      <td>0</td>\n",
       "      <td>siglap</td>\n",
       "      <td>bedok</td>\n",
       "      <td>6279000.0</td>\n",
       "    </tr>\n",
       "    <tr>\n",
       "      <th>4608</th>\n",
       "      <td>188382</td>\n",
       "      <td>6 bed house for sale in bedok park</td>\n",
       "      <td>limau garden</td>\n",
       "      <td>bedok park</td>\n",
       "      <td>semi-detached house</td>\n",
       "      <td>freehold</td>\n",
       "      <td>1970.0</td>\n",
       "      <td>6.0</td>\n",
       "      <td>5.0</td>\n",
       "      <td>4400</td>\n",
       "      <td>...</td>\n",
       "      <td>unspecified</td>\n",
       "      <td>5, 6, 10 br</td>\n",
       "      <td>NaN</td>\n",
       "      <td>https://www.99.co/singapore/houses/bedok-park-...</td>\n",
       "      <td>1.306408</td>\n",
       "      <td>103.93279</td>\n",
       "      <td>0</td>\n",
       "      <td>siglap</td>\n",
       "      <td>bedok</td>\n",
       "      <td>6822900.0</td>\n",
       "    </tr>\n",
       "    <tr>\n",
       "      <th>186</th>\n",
       "      <td>635469</td>\n",
       "      <td>5 bed house for sale in bedok park</td>\n",
       "      <td>limau garden</td>\n",
       "      <td>bedok park</td>\n",
       "      <td>semi-detached house</td>\n",
       "      <td>freehold</td>\n",
       "      <td>1970.0</td>\n",
       "      <td>5.0</td>\n",
       "      <td>3.0</td>\n",
       "      <td>3400</td>\n",
       "      <td>...</td>\n",
       "      <td>unspecified</td>\n",
       "      <td>5, 6, 10 br</td>\n",
       "      <td>NaN</td>\n",
       "      <td>https://www.99.co/singapore/houses/bedok-park-...</td>\n",
       "      <td>1.306408</td>\n",
       "      <td>103.93279</td>\n",
       "      <td>0</td>\n",
       "      <td>siglap</td>\n",
       "      <td>bedok</td>\n",
       "      <td>6825000.0</td>\n",
       "    </tr>\n",
       "    <tr>\n",
       "      <th>6681</th>\n",
       "      <td>716588</td>\n",
       "      <td>5 bed house for sale in bedok park</td>\n",
       "      <td>limau garden</td>\n",
       "      <td>bedok park</td>\n",
       "      <td>semi-detached house</td>\n",
       "      <td>freehold</td>\n",
       "      <td>1970.0</td>\n",
       "      <td>5.0</td>\n",
       "      <td>3.0</td>\n",
       "      <td>3200</td>\n",
       "      <td>...</td>\n",
       "      <td>unspecified</td>\n",
       "      <td>5, 6, 10 br</td>\n",
       "      <td>NaN</td>\n",
       "      <td>https://www.99.co/singapore/houses/bedok-park-...</td>\n",
       "      <td>1.306408</td>\n",
       "      <td>103.93279</td>\n",
       "      <td>0</td>\n",
       "      <td>siglap</td>\n",
       "      <td>bedok</td>\n",
       "      <td>6825000.0</td>\n",
       "    </tr>\n",
       "  </tbody>\n",
       "</table>\n",
       "<p>16 rows × 21 columns</p>\n",
       "</div>"
      ],
      "text/plain": [
       "       listing_id                                title       address  \\\n",
       "4287       753969   6 bed house for sale in bedok park  limau garden   \n",
       "3073       320892  10 bed house for sale in bedok park  limau garden   \n",
       "5589       336044   6 bed house for sale in bedok park  limau garden   \n",
       "14937      528400   6 bed house for sale in bedok park  limau garden   \n",
       "318        409887   6 bed house for sale in bedok park  limau garden   \n",
       "6698       353658   6 bed house for sale in bedok park  limau garden   \n",
       "7428       880986   6 bed house for sale in bedok park  limau garden   \n",
       "10442      943670   6 bed house for sale in bedok park  limau garden   \n",
       "11612      714038   6 bed house for sale in bedok park  limau garden   \n",
       "12689      331868   6 bed house for sale in bedok park  limau garden   \n",
       "15568      702475   6 bed house for sale in bedok park  limau garden   \n",
       "17149      186750   6 bed house for sale in bedok park  limau garden   \n",
       "10012      239021   6 bed house for sale in bedok park  limau garden   \n",
       "4608       188382   6 bed house for sale in bedok park  limau garden   \n",
       "186        635469   5 bed house for sale in bedok park  limau garden   \n",
       "6681       716588   5 bed house for sale in bedok park  limau garden   \n",
       "\n",
       "      property_name        property_type    tenure  built_year  num_beds  \\\n",
       "4287     bedok park  semi-detached house  freehold      1970.0       6.0   \n",
       "3073     bedok park  semi-detached house  freehold      1970.0      10.0   \n",
       "5589     bedok park  semi-detached house  freehold      1970.0       6.0   \n",
       "14937    bedok park  semi-detached house  freehold      1970.0       6.0   \n",
       "318      bedok park  semi-detached house  freehold      1970.0       6.0   \n",
       "6698     bedok park  semi-detached house  freehold      1970.0       6.0   \n",
       "7428     bedok park  semi-detached house  freehold      1970.0       6.0   \n",
       "10442    bedok park  semi-detached house  freehold      1970.0       6.0   \n",
       "11612    bedok park  semi-detached house  freehold      1970.0       6.0   \n",
       "12689    bedok park  semi-detached house  freehold      1970.0       6.0   \n",
       "15568    bedok park  semi-detached house  freehold      1970.0       6.0   \n",
       "17149    bedok park  semi-detached house  freehold      1970.0       6.0   \n",
       "10012    bedok park  semi-detached house  freehold      1970.0       6.0   \n",
       "4608     bedok park  semi-detached house  freehold      1970.0       6.0   \n",
       "186      bedok park  semi-detached house  freehold      1970.0       5.0   \n",
       "6681     bedok park  semi-detached house  freehold      1970.0       5.0   \n",
       "\n",
       "       num_baths  size_sqft  ...   furnishing available_unit_types  \\\n",
       "4287         7.0      86080  ...  unspecified          5, 6, 10 br   \n",
       "3073        10.0       9600  ...  unspecified          5, 6, 10 br   \n",
       "5589         6.0       8083  ...  unspecified          5, 6, 10 br   \n",
       "14937        6.0       8048  ...  unspecified          5, 6, 10 br   \n",
       "318          7.0       8000  ...  unfurnished          5, 6, 10 br   \n",
       "6698         6.0       8000  ...  unspecified          5, 6, 10 br   \n",
       "7428         6.0       8000  ...  unspecified          5, 6, 10 br   \n",
       "10442        7.0       8000  ...  unspecified          5, 6, 10 br   \n",
       "11612        6.0       8000  ...  unspecified          5, 6, 10 br   \n",
       "12689        7.0       8000  ...  unspecified          5, 6, 10 br   \n",
       "15568        7.0       8000  ...  unspecified          5, 6, 10 br   \n",
       "17149        7.0       8000  ...  unspecified          5, 6, 10 br   \n",
       "10012        7.0       4841  ...  unspecified          5, 6, 10 br   \n",
       "4608         5.0       4400  ...  unspecified          5, 6, 10 br   \n",
       "186          3.0       3400  ...  unspecified          5, 6, 10 br   \n",
       "6681         3.0       3200  ...  unspecified          5, 6, 10 br   \n",
       "\n",
       "      total_num_units                               property_details_url  \\\n",
       "4287              NaN  https://www.99.co/singapore/houses/bedok-park-...   \n",
       "3073              NaN  https://www.99.co/singapore/houses/bedok-park-...   \n",
       "5589              NaN  https://www.99.co/singapore/houses/bedok-park-...   \n",
       "14937             NaN  https://www.99.co/singapore/houses/bedok-park-...   \n",
       "318               NaN  https://www.99.co/singapore/houses/bedok-park-...   \n",
       "6698              NaN  https://www.99.co/singapore/houses/bedok-park-...   \n",
       "7428              NaN  https://www.99.co/singapore/houses/bedok-park-...   \n",
       "10442             NaN  https://www.99.co/singapore/houses/bedok-park-...   \n",
       "11612             NaN  https://www.99.co/singapore/houses/bedok-park-...   \n",
       "12689             NaN  https://www.99.co/singapore/houses/bedok-park-...   \n",
       "15568             NaN  https://www.99.co/singapore/houses/bedok-park-...   \n",
       "17149             NaN  https://www.99.co/singapore/houses/bedok-park-...   \n",
       "10012             NaN  https://www.99.co/singapore/houses/bedok-park-...   \n",
       "4608              NaN  https://www.99.co/singapore/houses/bedok-park-...   \n",
       "186               NaN  https://www.99.co/singapore/houses/bedok-park-...   \n",
       "6681              NaN  https://www.99.co/singapore/houses/bedok-park-...   \n",
       "\n",
       "            lat        lng  elevation  subzone planning_area      price  \n",
       "4287   1.306408  103.93279          0   siglap         bedok  6279000.0  \n",
       "3073   1.306408  103.93279          0   siglap         bedok  6510000.0  \n",
       "5589   1.306408  103.93279          0   siglap         bedok  6279000.0  \n",
       "14937  1.306408  103.93279          0   siglap         bedok  6279000.0  \n",
       "318    1.306408  103.93279          0   siglap         bedok  6279000.0  \n",
       "6698   1.306408  103.93279          0   siglap         bedok  6279000.0  \n",
       "7428   1.306408  103.93279          0   siglap         bedok  6279000.0  \n",
       "10442  1.306408  103.93279          0   siglap         bedok  6279000.0  \n",
       "11612  1.306408  103.93279          0   siglap         bedok  6279000.0  \n",
       "12689  1.306408  103.93279          0   siglap         bedok  6279000.0  \n",
       "15568  1.306408  103.93279          0   siglap         bedok  6279000.0  \n",
       "17149  1.306408  103.93279          0   siglap         bedok  6279000.0  \n",
       "10012  1.306408  103.93279          0   siglap         bedok  6279000.0  \n",
       "4608   1.306408  103.93279          0   siglap         bedok  6822900.0  \n",
       "186    1.306408  103.93279          0   siglap         bedok  6825000.0  \n",
       "6681   1.306408  103.93279          0   siglap         bedok  6825000.0  \n",
       "\n",
       "[16 rows x 21 columns]"
      ]
     },
     "execution_count": 82,
     "metadata": {},
     "output_type": "execute_result"
    }
   ],
   "source": [
    "df_train[(df_train[\"property_name\"].str.contains(\"bedok park\"))].sort_values(\"size_sqft\", ascending=False)"
   ]
  },
  {
   "cell_type": "code",
   "execution_count": 78,
   "metadata": {},
   "outputs": [
    {
     "data": {
      "text/plain": [
       "array([[<AxesSubplot:title={'center':'size_sqft'}>]], dtype=object)"
      ]
     },
     "execution_count": 78,
     "metadata": {},
     "output_type": "execute_result"
    },
    {
     "data": {
      "image/png": "[encoded data removed]",
      "text/plain": [
       "<Figure size 640x480 with 1 Axes>"
      ]
     },
     "metadata": {},
     "output_type": "display_data"
    }
   ],
   "source": [
    "df_train[(df_train[\"property_name\"].str.contains(\"bedok park\"))].hist(\"size_sqft\")"
   ]
  },
  {
   "cell_type": "markdown",
   "metadata": {},
   "source": [
    "4287 is potentially an outlier. Other similar units have much smaller size."
   ]
  },
  {
   "cell_type": "code",
   "execution_count": 84,
   "metadata": {},
   "outputs": [
    {
     "data": {
      "text/html": [
       "<div>\n",
       "<style scoped>\n",
       "    .dataframe tbody tr th:only-of-type {\n",
       "        vertical-align: middle;\n",
       "    }\n",
       "\n",
       "    .dataframe tbody tr th {\n",
       "        vertical-align: top;\n",
       "    }\n",
       "\n",
       "    .dataframe thead th {\n",
       "        text-align: right;\n",
       "    }\n",
       "</style>\n",
       "<table border=\"1\" class=\"dataframe\">\n",
       "  <thead>\n",
       "    <tr style=\"text-align: right;\">\n",
       "      <th></th>\n",
       "      <th>listing_id</th>\n",
       "      <th>title</th>\n",
       "      <th>address</th>\n",
       "      <th>property_name</th>\n",
       "      <th>property_type</th>\n",
       "      <th>tenure</th>\n",
       "      <th>built_year</th>\n",
       "      <th>num_beds</th>\n",
       "      <th>num_baths</th>\n",
       "      <th>size_sqft</th>\n",
       "      <th>...</th>\n",
       "      <th>furnishing</th>\n",
       "      <th>available_unit_types</th>\n",
       "      <th>total_num_units</th>\n",
       "      <th>property_details_url</th>\n",
       "      <th>lat</th>\n",
       "      <th>lng</th>\n",
       "      <th>elevation</th>\n",
       "      <th>subzone</th>\n",
       "      <th>planning_area</th>\n",
       "      <th>price</th>\n",
       "    </tr>\n",
       "  </thead>\n",
       "  <tbody>\n",
       "    <tr>\n",
       "      <th>3054</th>\n",
       "      <td>791772</td>\n",
       "      <td>7 bed house for sale in swiss club park</td>\n",
       "      <td>jalan senandong</td>\n",
       "      <td>swiss club park</td>\n",
       "      <td>bungalow</td>\n",
       "      <td>freehold</td>\n",
       "      <td>1997.0</td>\n",
       "      <td>7.0</td>\n",
       "      <td>9.0</td>\n",
       "      <td>9000</td>\n",
       "      <td>...</td>\n",
       "      <td>unspecified</td>\n",
       "      <td>4, 5, 6, 7 br</td>\n",
       "      <td>NaN</td>\n",
       "      <td>https://www.99.co/singapore/houses/swiss-club-...</td>\n",
       "      <td>1.335877</td>\n",
       "      <td>103.789611</td>\n",
       "      <td>0</td>\n",
       "      <td>swiss club</td>\n",
       "      <td>bukit timah</td>\n",
       "      <td>47250000.0</td>\n",
       "    </tr>\n",
       "    <tr>\n",
       "      <th>5332</th>\n",
       "      <td>353249</td>\n",
       "      <td>7 bed house for sale in swiss club park</td>\n",
       "      <td>jalan senandong</td>\n",
       "      <td>swiss club park</td>\n",
       "      <td>bungalow</td>\n",
       "      <td>freehold</td>\n",
       "      <td>1997.0</td>\n",
       "      <td>7.0</td>\n",
       "      <td>5.0</td>\n",
       "      <td>13000</td>\n",
       "      <td>...</td>\n",
       "      <td>unspecified</td>\n",
       "      <td>4, 5, 6, 7 br</td>\n",
       "      <td>NaN</td>\n",
       "      <td>https://www.99.co/singapore/houses/swiss-club-...</td>\n",
       "      <td>1.335877</td>\n",
       "      <td>103.789611</td>\n",
       "      <td>0</td>\n",
       "      <td>swiss club</td>\n",
       "      <td>bukit timah</td>\n",
       "      <td>55755000.0</td>\n",
       "    </tr>\n",
       "    <tr>\n",
       "      <th>15637</th>\n",
       "      <td>522703</td>\n",
       "      <td>6 bed house for sale in swiss club park</td>\n",
       "      <td>jalan senandong</td>\n",
       "      <td>swiss club park</td>\n",
       "      <td>bungalow</td>\n",
       "      <td>freehold</td>\n",
       "      <td>1997.0</td>\n",
       "      <td>6.0</td>\n",
       "      <td>6.0</td>\n",
       "      <td>70000</td>\n",
       "      <td>...</td>\n",
       "      <td>unspecified</td>\n",
       "      <td>4, 5, 6, 7 br</td>\n",
       "      <td>NaN</td>\n",
       "      <td>https://www.99.co/singapore/houses/swiss-club-...</td>\n",
       "      <td>1.335877</td>\n",
       "      <td>103.789611</td>\n",
       "      <td>0</td>\n",
       "      <td>swiss club</td>\n",
       "      <td>bukit timah</td>\n",
       "      <td>40950000.0</td>\n",
       "    </tr>\n",
       "  </tbody>\n",
       "</table>\n",
       "<p>3 rows × 21 columns</p>\n",
       "</div>"
      ],
      "text/plain": [
       "       listing_id                                    title          address  \\\n",
       "3054       791772  7 bed house for sale in swiss club park  jalan senandong   \n",
       "5332       353249  7 bed house for sale in swiss club park  jalan senandong   \n",
       "15637      522703  6 bed house for sale in swiss club park  jalan senandong   \n",
       "\n",
       "         property_name property_type    tenure  built_year  num_beds  \\\n",
       "3054   swiss club park      bungalow  freehold      1997.0       7.0   \n",
       "5332   swiss club park      bungalow  freehold      1997.0       7.0   \n",
       "15637  swiss club park      bungalow  freehold      1997.0       6.0   \n",
       "\n",
       "       num_baths  size_sqft  ...   furnishing available_unit_types  \\\n",
       "3054         9.0       9000  ...  unspecified        4, 5, 6, 7 br   \n",
       "5332         5.0      13000  ...  unspecified        4, 5, 6, 7 br   \n",
       "15637        6.0      70000  ...  unspecified        4, 5, 6, 7 br   \n",
       "\n",
       "      total_num_units                               property_details_url  \\\n",
       "3054              NaN  https://www.99.co/singapore/houses/swiss-club-...   \n",
       "5332              NaN  https://www.99.co/singapore/houses/swiss-club-...   \n",
       "15637             NaN  https://www.99.co/singapore/houses/swiss-club-...   \n",
       "\n",
       "            lat         lng  elevation     subzone planning_area       price  \n",
       "3054   1.335877  103.789611          0  swiss club   bukit timah  47250000.0  \n",
       "5332   1.335877  103.789611          0  swiss club   bukit timah  55755000.0  \n",
       "15637  1.335877  103.789611          0  swiss club   bukit timah  40950000.0  \n",
       "\n",
       "[3 rows x 21 columns]"
      ]
     },
     "execution_count": 84,
     "metadata": {},
     "output_type": "execute_result"
    }
   ],
   "source": [
    "df_train[(df_train[\"property_name\"].str.contains(\"swiss club park\"))]"
   ]
  },
  {
   "cell_type": "markdown",
   "metadata": {},
   "source": [
    "15637 is also potentially another outlier"
   ]
  },
  {
   "cell_type": "code",
   "execution_count": 105,
   "metadata": {},
   "outputs": [
    {
     "data": {
      "text/plain": [
       "<AxesSubplot:xlabel='size_sqft', ylabel='price'>"
      ]
     },
     "execution_count": 105,
     "metadata": {},
     "output_type": "execute_result"
    },
    {
     "data": {
      "image/png": "[encoded data removed]",
      "text/plain": [
       "<Figure size 640x480 with 1 Axes>"
      ]
     },
     "metadata": {},
     "output_type": "display_data"
    }
   ],
   "source": [
    "df_train[(df_train[\"size_sqft\"] < 40000)].plot.scatter(\"size_sqft\", \"price\")"
   ]
  },
  {
   "cell_type": "code",
   "execution_count": 108,
   "metadata": {},
   "outputs": [
    {
     "data": {
      "text/plain": [
       "<AxesSubplot:xlabel='size_sqft', ylabel='price'>"
      ]
     },
     "execution_count": 108,
     "metadata": {},
     "output_type": "execute_result"
    },
    {
     "data": {
      "image/png": "[encoded data removed]",
      "text/plain": [
       "<Figure size 640x480 with 1 Axes>"
      ]
     },
     "metadata": {},
     "output_type": "display_data"
    }
   ],
   "source": [
    "df_train[(df_train[\"size_sqft\"] < 40000) & (df_train[\"size_sqft\"] > 15000)].plot.scatter(\"size_sqft\", \"price\")"
   ]
  },
  {
   "cell_type": "code",
   "execution_count": 111,
   "metadata": {},
   "outputs": [
    {
     "data": {
      "text/plain": [
       "(3, 21)"
      ]
     },
     "execution_count": 111,
     "metadata": {},
     "output_type": "execute_result"
    }
   ],
   "source": [
    "df_train[(df_train[\"size_sqft\"] < 40000) & (df_train[\"size_sqft\"] > 20000)].shape"
   ]
  },
  {
   "cell_type": "code",
   "execution_count": 112,
   "metadata": {},
   "outputs": [
    {
     "data": {
      "text/html": [
       "<div>\n",
       "<style scoped>\n",
       "    .dataframe tbody tr th:only-of-type {\n",
       "        vertical-align: middle;\n",
       "    }\n",
       "\n",
       "    .dataframe tbody tr th {\n",
       "        vertical-align: top;\n",
       "    }\n",
       "\n",
       "    .dataframe thead th {\n",
       "        text-align: right;\n",
       "    }\n",
       "</style>\n",
       "<table border=\"1\" class=\"dataframe\">\n",
       "  <thead>\n",
       "    <tr style=\"text-align: right;\">\n",
       "      <th></th>\n",
       "      <th>listing_id</th>\n",
       "      <th>title</th>\n",
       "      <th>address</th>\n",
       "      <th>property_name</th>\n",
       "      <th>property_type</th>\n",
       "      <th>tenure</th>\n",
       "      <th>built_year</th>\n",
       "      <th>num_beds</th>\n",
       "      <th>num_baths</th>\n",
       "      <th>size_sqft</th>\n",
       "      <th>...</th>\n",
       "      <th>furnishing</th>\n",
       "      <th>available_unit_types</th>\n",
       "      <th>total_num_units</th>\n",
       "      <th>property_details_url</th>\n",
       "      <th>lat</th>\n",
       "      <th>lng</th>\n",
       "      <th>elevation</th>\n",
       "      <th>subzone</th>\n",
       "      <th>planning_area</th>\n",
       "      <th>price</th>\n",
       "    </tr>\n",
       "  </thead>\n",
       "  <tbody>\n",
       "    <tr>\n",
       "      <th>1649</th>\n",
       "      <td>149017</td>\n",
       "      <td>10 bed house for sale in braddell heights estate</td>\n",
       "      <td>cotswold close</td>\n",
       "      <td>braddell heights estate</td>\n",
       "      <td>bungalow</td>\n",
       "      <td>freehold</td>\n",
       "      <td>2011.0</td>\n",
       "      <td>10.0</td>\n",
       "      <td>10.0</td>\n",
       "      <td>30000</td>\n",
       "      <td>...</td>\n",
       "      <td>unspecified</td>\n",
       "      <td>3, 4, 5, 6, 7, 8, 10 br</td>\n",
       "      <td>NaN</td>\n",
       "      <td>https://www.99.co/singapore/houses/braddell-he...</td>\n",
       "      <td>1.346020</td>\n",
       "      <td>103.867198</td>\n",
       "      <td>0</td>\n",
       "      <td>lorong chuan</td>\n",
       "      <td>serangoon</td>\n",
       "      <td>29400000.0</td>\n",
       "    </tr>\n",
       "    <tr>\n",
       "      <th>13461</th>\n",
       "      <td>571444</td>\n",
       "      <td>6 bed house for sale in westville</td>\n",
       "      <td>westwood terrace</td>\n",
       "      <td>westville</td>\n",
       "      <td>terraced house</td>\n",
       "      <td>99-year leasehold</td>\n",
       "      <td>1997.0</td>\n",
       "      <td>6.0</td>\n",
       "      <td>5.0</td>\n",
       "      <td>25003</td>\n",
       "      <td>...</td>\n",
       "      <td>unspecified</td>\n",
       "      <td>2, 4, 5, 6 br</td>\n",
       "      <td>339.0</td>\n",
       "      <td>https://www.99.co/singapore/houses/westville-d...</td>\n",
       "      <td>1.352481</td>\n",
       "      <td>103.699082</td>\n",
       "      <td>0</td>\n",
       "      <td>yunnan</td>\n",
       "      <td>jurong west</td>\n",
       "      <td>2625000.0</td>\n",
       "    </tr>\n",
       "    <tr>\n",
       "      <th>13589</th>\n",
       "      <td>476002</td>\n",
       "      <td>8 bed house for sale in ladyhill park</td>\n",
       "      <td>fernhill road</td>\n",
       "      <td>ladyhill park</td>\n",
       "      <td>bungalow</td>\n",
       "      <td>freehold</td>\n",
       "      <td>1990.0</td>\n",
       "      <td>8.0</td>\n",
       "      <td>9.0</td>\n",
       "      <td>27500</td>\n",
       "      <td>...</td>\n",
       "      <td>unspecified</td>\n",
       "      <td>3, 5, 6, 8 br</td>\n",
       "      <td>17.0</td>\n",
       "      <td>https://www.99.co/singapore/houses/ladyhill-pa...</td>\n",
       "      <td>1.311925</td>\n",
       "      <td>103.824001</td>\n",
       "      <td>0</td>\n",
       "      <td>nassim</td>\n",
       "      <td>tanglin</td>\n",
       "      <td>58800000.0</td>\n",
       "    </tr>\n",
       "  </tbody>\n",
       "</table>\n",
       "<p>3 rows × 21 columns</p>\n",
       "</div>"
      ],
      "text/plain": [
       "       listing_id                                             title  \\\n",
       "1649       149017  10 bed house for sale in braddell heights estate   \n",
       "13461      571444                 6 bed house for sale in westville   \n",
       "13589      476002             8 bed house for sale in ladyhill park   \n",
       "\n",
       "                address            property_name   property_type  \\\n",
       "1649     cotswold close  braddell heights estate        bungalow   \n",
       "13461  westwood terrace                westville  terraced house   \n",
       "13589     fernhill road            ladyhill park        bungalow   \n",
       "\n",
       "                  tenure  built_year  num_beds  num_baths  size_sqft  ...  \\\n",
       "1649            freehold      2011.0      10.0       10.0      30000  ...   \n",
       "13461  99-year leasehold      1997.0       6.0        5.0      25003  ...   \n",
       "13589           freehold      1990.0       8.0        9.0      27500  ...   \n",
       "\n",
       "        furnishing     available_unit_types total_num_units  \\\n",
       "1649   unspecified  3, 4, 5, 6, 7, 8, 10 br             NaN   \n",
       "13461  unspecified            2, 4, 5, 6 br           339.0   \n",
       "13589  unspecified            3, 5, 6, 8 br            17.0   \n",
       "\n",
       "                                    property_details_url       lat  \\\n",
       "1649   https://www.99.co/singapore/houses/braddell-he...  1.346020   \n",
       "13461  https://www.99.co/singapore/houses/westville-d...  1.352481   \n",
       "13589  https://www.99.co/singapore/houses/ladyhill-pa...  1.311925   \n",
       "\n",
       "              lng  elevation       subzone planning_area       price  \n",
       "1649   103.867198          0  lorong chuan     serangoon  29400000.0  \n",
       "13461  103.699082          0        yunnan   jurong west   2625000.0  \n",
       "13589  103.824001          0        nassim       tanglin  58800000.0  \n",
       "\n",
       "[3 rows x 21 columns]"
      ]
     },
     "execution_count": 112,
     "metadata": {},
     "output_type": "execute_result"
    }
   ],
   "source": [
    "df_train[(df_train[\"size_sqft\"] < 40000) & (df_train[\"size_sqft\"] > 20000)]"
   ]
  },
  {
   "cell_type": "code",
   "execution_count": 116,
   "metadata": {},
   "outputs": [
    {
     "data": {
      "text/html": [
       "<div>\n",
       "<style scoped>\n",
       "    .dataframe tbody tr th:only-of-type {\n",
       "        vertical-align: middle;\n",
       "    }\n",
       "\n",
       "    .dataframe tbody tr th {\n",
       "        vertical-align: top;\n",
       "    }\n",
       "\n",
       "    .dataframe thead th {\n",
       "        text-align: right;\n",
       "    }\n",
       "</style>\n",
       "<table border=\"1\" class=\"dataframe\">\n",
       "  <thead>\n",
       "    <tr style=\"text-align: right;\">\n",
       "      <th></th>\n",
       "      <th>listing_id</th>\n",
       "      <th>title</th>\n",
       "      <th>address</th>\n",
       "      <th>property_name</th>\n",
       "      <th>property_type</th>\n",
       "      <th>tenure</th>\n",
       "      <th>built_year</th>\n",
       "      <th>num_beds</th>\n",
       "      <th>num_baths</th>\n",
       "      <th>size_sqft</th>\n",
       "      <th>...</th>\n",
       "      <th>furnishing</th>\n",
       "      <th>available_unit_types</th>\n",
       "      <th>total_num_units</th>\n",
       "      <th>property_details_url</th>\n",
       "      <th>lat</th>\n",
       "      <th>lng</th>\n",
       "      <th>elevation</th>\n",
       "      <th>subzone</th>\n",
       "      <th>planning_area</th>\n",
       "      <th>price</th>\n",
       "    </tr>\n",
       "  </thead>\n",
       "  <tbody>\n",
       "    <tr>\n",
       "      <th>13461</th>\n",
       "      <td>571444</td>\n",
       "      <td>6 bed house for sale in westville</td>\n",
       "      <td>westwood terrace</td>\n",
       "      <td>westville</td>\n",
       "      <td>terraced house</td>\n",
       "      <td>99-year leasehold</td>\n",
       "      <td>1997.0</td>\n",
       "      <td>6.0</td>\n",
       "      <td>5.0</td>\n",
       "      <td>25003</td>\n",
       "      <td>...</td>\n",
       "      <td>unspecified</td>\n",
       "      <td>2, 4, 5, 6 br</td>\n",
       "      <td>339.0</td>\n",
       "      <td>https://www.99.co/singapore/houses/westville-d...</td>\n",
       "      <td>1.352481</td>\n",
       "      <td>103.699082</td>\n",
       "      <td>0</td>\n",
       "      <td>yunnan</td>\n",
       "      <td>jurong west</td>\n",
       "      <td>2625000.0</td>\n",
       "    </tr>\n",
       "    <tr>\n",
       "      <th>7615</th>\n",
       "      <td>270843</td>\n",
       "      <td>6 bed house for sale in westville</td>\n",
       "      <td>westwood avenue</td>\n",
       "      <td>westville</td>\n",
       "      <td>terraced house</td>\n",
       "      <td>99-year leasehold</td>\n",
       "      <td>1997.0</td>\n",
       "      <td>6.0</td>\n",
       "      <td>5.0</td>\n",
       "      <td>3200</td>\n",
       "      <td>...</td>\n",
       "      <td>unspecified</td>\n",
       "      <td>2, 4, 5, 6 br</td>\n",
       "      <td>339.0</td>\n",
       "      <td>https://www.99.co/singapore/houses/westville-d...</td>\n",
       "      <td>1.352481</td>\n",
       "      <td>103.699082</td>\n",
       "      <td>0</td>\n",
       "      <td>yunnan</td>\n",
       "      <td>jurong west</td>\n",
       "      <td>2625000.0</td>\n",
       "    </tr>\n",
       "    <tr>\n",
       "      <th>4940</th>\n",
       "      <td>273085</td>\n",
       "      <td>5 bed house for sale in westville</td>\n",
       "      <td>westwood avenue</td>\n",
       "      <td>westville</td>\n",
       "      <td>terraced house</td>\n",
       "      <td>99-year leasehold</td>\n",
       "      <td>1997.0</td>\n",
       "      <td>5.0</td>\n",
       "      <td>5.0</td>\n",
       "      <td>2500</td>\n",
       "      <td>...</td>\n",
       "      <td>unspecified</td>\n",
       "      <td>2, 4, 5, 6 br</td>\n",
       "      <td>339.0</td>\n",
       "      <td>https://www.99.co/singapore/houses/westville-d...</td>\n",
       "      <td>1.352481</td>\n",
       "      <td>103.699082</td>\n",
       "      <td>0</td>\n",
       "      <td>yunnan</td>\n",
       "      <td>jurong west</td>\n",
       "      <td>2394000.0</td>\n",
       "    </tr>\n",
       "    <tr>\n",
       "      <th>10862</th>\n",
       "      <td>848858</td>\n",
       "      <td>5 bed house for sale in westville</td>\n",
       "      <td>westwood avenue</td>\n",
       "      <td>westville</td>\n",
       "      <td>corner terrace</td>\n",
       "      <td>99-year leasehold</td>\n",
       "      <td>1997.0</td>\n",
       "      <td>5.0</td>\n",
       "      <td>5.0</td>\n",
       "      <td>2500</td>\n",
       "      <td>...</td>\n",
       "      <td>unspecified</td>\n",
       "      <td>2, 4, 5, 6 br</td>\n",
       "      <td>339.0</td>\n",
       "      <td>https://www.99.co/singapore/houses/westville-d...</td>\n",
       "      <td>1.352481</td>\n",
       "      <td>103.699082</td>\n",
       "      <td>0</td>\n",
       "      <td>yunnan</td>\n",
       "      <td>jurong west</td>\n",
       "      <td>3032400.0</td>\n",
       "    </tr>\n",
       "    <tr>\n",
       "      <th>11705</th>\n",
       "      <td>971653</td>\n",
       "      <td>6 bed house for sale in westville</td>\n",
       "      <td>westwood terrace</td>\n",
       "      <td>westville</td>\n",
       "      <td>terraced house</td>\n",
       "      <td>99-year leasehold</td>\n",
       "      <td>1997.0</td>\n",
       "      <td>6.0</td>\n",
       "      <td>5.0</td>\n",
       "      <td>2500</td>\n",
       "      <td>...</td>\n",
       "      <td>unspecified</td>\n",
       "      <td>2, 4, 5, 6 br</td>\n",
       "      <td>339.0</td>\n",
       "      <td>https://www.99.co/singapore/houses/westville-d...</td>\n",
       "      <td>1.352481</td>\n",
       "      <td>103.699082</td>\n",
       "      <td>0</td>\n",
       "      <td>yunnan</td>\n",
       "      <td>jurong west</td>\n",
       "      <td>2625000.0</td>\n",
       "    </tr>\n",
       "    <tr>\n",
       "      <th>12931</th>\n",
       "      <td>826376</td>\n",
       "      <td>4 bed house for sale in westville</td>\n",
       "      <td>westwood avenue</td>\n",
       "      <td>westville</td>\n",
       "      <td>semi-detached house</td>\n",
       "      <td>99-year leasehold</td>\n",
       "      <td>1997.0</td>\n",
       "      <td>4.0</td>\n",
       "      <td>4.0</td>\n",
       "      <td>2152</td>\n",
       "      <td>...</td>\n",
       "      <td>unspecified</td>\n",
       "      <td>2, 4, 5, 6 br</td>\n",
       "      <td>339.0</td>\n",
       "      <td>https://www.99.co/singapore/houses/westville-d...</td>\n",
       "      <td>1.352481</td>\n",
       "      <td>103.699082</td>\n",
       "      <td>0</td>\n",
       "      <td>yunnan</td>\n",
       "      <td>jurong west</td>\n",
       "      <td>2730000.0</td>\n",
       "    </tr>\n",
       "  </tbody>\n",
       "</table>\n",
       "<p>6 rows × 21 columns</p>\n",
       "</div>"
      ],
      "text/plain": [
       "       listing_id                              title           address  \\\n",
       "13461      571444  6 bed house for sale in westville  westwood terrace   \n",
       "7615       270843  6 bed house for sale in westville   westwood avenue   \n",
       "4940       273085  5 bed house for sale in westville   westwood avenue   \n",
       "10862      848858  5 bed house for sale in westville   westwood avenue   \n",
       "11705      971653  6 bed house for sale in westville  westwood terrace   \n",
       "12931      826376  4 bed house for sale in westville   westwood avenue   \n",
       "\n",
       "      property_name        property_type             tenure  built_year  \\\n",
       "13461     westville       terraced house  99-year leasehold      1997.0   \n",
       "7615      westville       terraced house  99-year leasehold      1997.0   \n",
       "4940      westville       terraced house  99-year leasehold      1997.0   \n",
       "10862     westville       corner terrace  99-year leasehold      1997.0   \n",
       "11705     westville       terraced house  99-year leasehold      1997.0   \n",
       "12931     westville  semi-detached house  99-year leasehold      1997.0   \n",
       "\n",
       "       num_beds  num_baths  size_sqft  ...   furnishing available_unit_types  \\\n",
       "13461       6.0        5.0      25003  ...  unspecified        2, 4, 5, 6 br   \n",
       "7615        6.0        5.0       3200  ...  unspecified        2, 4, 5, 6 br   \n",
       "4940        5.0        5.0       2500  ...  unspecified        2, 4, 5, 6 br   \n",
       "10862       5.0        5.0       2500  ...  unspecified        2, 4, 5, 6 br   \n",
       "11705       6.0        5.0       2500  ...  unspecified        2, 4, 5, 6 br   \n",
       "12931       4.0        4.0       2152  ...  unspecified        2, 4, 5, 6 br   \n",
       "\n",
       "      total_num_units                               property_details_url  \\\n",
       "13461           339.0  https://www.99.co/singapore/houses/westville-d...   \n",
       "7615            339.0  https://www.99.co/singapore/houses/westville-d...   \n",
       "4940            339.0  https://www.99.co/singapore/houses/westville-d...   \n",
       "10862           339.0  https://www.99.co/singapore/houses/westville-d...   \n",
       "11705           339.0  https://www.99.co/singapore/houses/westville-d...   \n",
       "12931           339.0  https://www.99.co/singapore/houses/westville-d...   \n",
       "\n",
       "            lat         lng  elevation  subzone planning_area      price  \n",
       "13461  1.352481  103.699082          0   yunnan   jurong west  2625000.0  \n",
       "7615   1.352481  103.699082          0   yunnan   jurong west  2625000.0  \n",
       "4940   1.352481  103.699082          0   yunnan   jurong west  2394000.0  \n",
       "10862  1.352481  103.699082          0   yunnan   jurong west  3032400.0  \n",
       "11705  1.352481  103.699082          0   yunnan   jurong west  2625000.0  \n",
       "12931  1.352481  103.699082          0   yunnan   jurong west  2730000.0  \n",
       "\n",
       "[6 rows x 21 columns]"
      ]
     },
     "execution_count": 116,
     "metadata": {},
     "output_type": "execute_result"
    }
   ],
   "source": [
    "df_train[(df_train[\"property_name\"].str.contains(\"westville\"))].sort_values(\"size_sqft\", ascending=False)"
   ]
  },
  {
   "cell_type": "code",
   "execution_count": 114,
   "metadata": {},
   "outputs": [
    {
     "data": {
      "text/plain": [
       "<AxesSubplot:xlabel='size_sqft', ylabel='price'>"
      ]
     },
     "execution_count": 114,
     "metadata": {},
     "output_type": "execute_result"
    },
    {
     "data": {
      "image/png": "[encoded data removed]",
      "text/plain": [
       "<Figure size 640x480 with 1 Axes>"
      ]
     },
     "metadata": {},
     "output_type": "display_data"
    }
   ],
   "source": [
    "df_train[(df_train[\"property_name\"].str.contains(\"westville\"))].plot.scatter(\"size_sqft\", \"price\")"
   ]
  },
  {
   "cell_type": "markdown",
   "metadata": {},
   "source": [
    "13461 is potentially an outlier"
   ]
  },
  {
   "cell_type": "code",
   "execution_count": 118,
   "metadata": {},
   "outputs": [
    {
     "data": {
      "text/html": [
       "<div>\n",
       "<style scoped>\n",
       "    .dataframe tbody tr th:only-of-type {\n",
       "        vertical-align: middle;\n",
       "    }\n",
       "\n",
       "    .dataframe tbody tr th {\n",
       "        vertical-align: top;\n",
       "    }\n",
       "\n",
       "    .dataframe thead th {\n",
       "        text-align: right;\n",
       "    }\n",
       "</style>\n",
       "<table border=\"1\" class=\"dataframe\">\n",
       "  <thead>\n",
       "    <tr style=\"text-align: right;\">\n",
       "      <th></th>\n",
       "      <th>listing_id</th>\n",
       "      <th>title</th>\n",
       "      <th>address</th>\n",
       "      <th>property_name</th>\n",
       "      <th>property_type</th>\n",
       "      <th>tenure</th>\n",
       "      <th>built_year</th>\n",
       "      <th>num_beds</th>\n",
       "      <th>num_baths</th>\n",
       "      <th>size_sqft</th>\n",
       "      <th>...</th>\n",
       "      <th>furnishing</th>\n",
       "      <th>available_unit_types</th>\n",
       "      <th>total_num_units</th>\n",
       "      <th>property_details_url</th>\n",
       "      <th>lat</th>\n",
       "      <th>lng</th>\n",
       "      <th>elevation</th>\n",
       "      <th>subzone</th>\n",
       "      <th>planning_area</th>\n",
       "      <th>price</th>\n",
       "    </tr>\n",
       "  </thead>\n",
       "  <tbody>\n",
       "    <tr>\n",
       "      <th>13589</th>\n",
       "      <td>476002</td>\n",
       "      <td>8 bed house for sale in ladyhill park</td>\n",
       "      <td>fernhill road</td>\n",
       "      <td>ladyhill park</td>\n",
       "      <td>bungalow</td>\n",
       "      <td>freehold</td>\n",
       "      <td>1990.0</td>\n",
       "      <td>8.0</td>\n",
       "      <td>9.0</td>\n",
       "      <td>27500</td>\n",
       "      <td>...</td>\n",
       "      <td>unspecified</td>\n",
       "      <td>3, 5, 6, 8 br</td>\n",
       "      <td>17.0</td>\n",
       "      <td>https://www.99.co/singapore/houses/ladyhill-pa...</td>\n",
       "      <td>1.311925</td>\n",
       "      <td>103.824001</td>\n",
       "      <td>0</td>\n",
       "      <td>nassim</td>\n",
       "      <td>tanglin</td>\n",
       "      <td>58800000.0</td>\n",
       "    </tr>\n",
       "    <tr>\n",
       "      <th>6495</th>\n",
       "      <td>887337</td>\n",
       "      <td>5 bed house for sale in ladyhill park</td>\n",
       "      <td>lady hill road</td>\n",
       "      <td>ladyhill park</td>\n",
       "      <td>bungalow</td>\n",
       "      <td>freehold</td>\n",
       "      <td>1990.0</td>\n",
       "      <td>5.0</td>\n",
       "      <td>5.0</td>\n",
       "      <td>20000</td>\n",
       "      <td>...</td>\n",
       "      <td>unfurnished</td>\n",
       "      <td>3, 5, 6, 8 br</td>\n",
       "      <td>17.0</td>\n",
       "      <td>https://www.99.co/singapore/houses/ladyhill-pa...</td>\n",
       "      <td>1.311458</td>\n",
       "      <td>103.825221</td>\n",
       "      <td>0</td>\n",
       "      <td>nassim</td>\n",
       "      <td>tanglin</td>\n",
       "      <td>58590000.0</td>\n",
       "    </tr>\n",
       "    <tr>\n",
       "      <th>7091</th>\n",
       "      <td>240979</td>\n",
       "      <td>5 bed house for sale in ladyhill park</td>\n",
       "      <td>lady hill road</td>\n",
       "      <td>ladyhill park</td>\n",
       "      <td>bungalow</td>\n",
       "      <td>freehold</td>\n",
       "      <td>1990.0</td>\n",
       "      <td>5.0</td>\n",
       "      <td>5.0</td>\n",
       "      <td>7000</td>\n",
       "      <td>...</td>\n",
       "      <td>unspecified</td>\n",
       "      <td>3, 5, 6, 8 br</td>\n",
       "      <td>17.0</td>\n",
       "      <td>https://www.99.co/singapore/houses/ladyhill-pa...</td>\n",
       "      <td>1.311458</td>\n",
       "      <td>103.825221</td>\n",
       "      <td>0</td>\n",
       "      <td>nassim</td>\n",
       "      <td>tanglin</td>\n",
       "      <td>58800000.0</td>\n",
       "    </tr>\n",
       "    <tr>\n",
       "      <th>8128</th>\n",
       "      <td>943767</td>\n",
       "      <td>6 bed house for sale in ladyhill park</td>\n",
       "      <td>fernhill road</td>\n",
       "      <td>ladyhill park</td>\n",
       "      <td>bungalow</td>\n",
       "      <td>freehold</td>\n",
       "      <td>1990.0</td>\n",
       "      <td>6.0</td>\n",
       "      <td>6.0</td>\n",
       "      <td>5000</td>\n",
       "      <td>...</td>\n",
       "      <td>unspecified</td>\n",
       "      <td>3, 5, 6, 8 br</td>\n",
       "      <td>17.0</td>\n",
       "      <td>https://www.99.co/singapore/houses/ladyhill-pa...</td>\n",
       "      <td>1.311925</td>\n",
       "      <td>103.824001</td>\n",
       "      <td>0</td>\n",
       "      <td>nassim</td>\n",
       "      <td>tanglin</td>\n",
       "      <td>58800000.0</td>\n",
       "    </tr>\n",
       "    <tr>\n",
       "      <th>4347</th>\n",
       "      <td>841128</td>\n",
       "      <td>3 bed house for sale in ladyhill park</td>\n",
       "      <td>fernhill road</td>\n",
       "      <td>ladyhill park</td>\n",
       "      <td>bungalow</td>\n",
       "      <td>freehold</td>\n",
       "      <td>1990.0</td>\n",
       "      <td>3.0</td>\n",
       "      <td>2.0</td>\n",
       "      <td>2000</td>\n",
       "      <td>...</td>\n",
       "      <td>unspecified</td>\n",
       "      <td>3, 5, 6, 8 br</td>\n",
       "      <td>17.0</td>\n",
       "      <td>https://www.99.co/singapore/houses/ladyhill-pa...</td>\n",
       "      <td>1.311925</td>\n",
       "      <td>103.824001</td>\n",
       "      <td>0</td>\n",
       "      <td>nassim</td>\n",
       "      <td>tanglin</td>\n",
       "      <td>89250000.0</td>\n",
       "    </tr>\n",
       "  </tbody>\n",
       "</table>\n",
       "<p>5 rows × 21 columns</p>\n",
       "</div>"
      ],
      "text/plain": [
       "       listing_id                                  title         address  \\\n",
       "13589      476002  8 bed house for sale in ladyhill park   fernhill road   \n",
       "6495       887337  5 bed house for sale in ladyhill park  lady hill road   \n",
       "7091       240979  5 bed house for sale in ladyhill park  lady hill road   \n",
       "8128       943767  6 bed house for sale in ladyhill park   fernhill road   \n",
       "4347       841128  3 bed house for sale in ladyhill park   fernhill road   \n",
       "\n",
       "       property_name property_type    tenure  built_year  num_beds  num_baths  \\\n",
       "13589  ladyhill park      bungalow  freehold      1990.0       8.0        9.0   \n",
       "6495   ladyhill park      bungalow  freehold      1990.0       5.0        5.0   \n",
       "7091   ladyhill park      bungalow  freehold      1990.0       5.0        5.0   \n",
       "8128   ladyhill park      bungalow  freehold      1990.0       6.0        6.0   \n",
       "4347   ladyhill park      bungalow  freehold      1990.0       3.0        2.0   \n",
       "\n",
       "       size_sqft  ...   furnishing available_unit_types total_num_units  \\\n",
       "13589      27500  ...  unspecified        3, 5, 6, 8 br            17.0   \n",
       "6495       20000  ...  unfurnished        3, 5, 6, 8 br            17.0   \n",
       "7091        7000  ...  unspecified        3, 5, 6, 8 br            17.0   \n",
       "8128        5000  ...  unspecified        3, 5, 6, 8 br            17.0   \n",
       "4347        2000  ...  unspecified        3, 5, 6, 8 br            17.0   \n",
       "\n",
       "                                    property_details_url       lat  \\\n",
       "13589  https://www.99.co/singapore/houses/ladyhill-pa...  1.311925   \n",
       "6495   https://www.99.co/singapore/houses/ladyhill-pa...  1.311458   \n",
       "7091   https://www.99.co/singapore/houses/ladyhill-pa...  1.311458   \n",
       "8128   https://www.99.co/singapore/houses/ladyhill-pa...  1.311925   \n",
       "4347   https://www.99.co/singapore/houses/ladyhill-pa...  1.311925   \n",
       "\n",
       "              lng  elevation  subzone planning_area       price  \n",
       "13589  103.824001          0   nassim       tanglin  58800000.0  \n",
       "6495   103.825221          0   nassim       tanglin  58590000.0  \n",
       "7091   103.825221          0   nassim       tanglin  58800000.0  \n",
       "8128   103.824001          0   nassim       tanglin  58800000.0  \n",
       "4347   103.824001          0   nassim       tanglin  89250000.0  \n",
       "\n",
       "[5 rows x 21 columns]"
      ]
     },
     "execution_count": 118,
     "metadata": {},
     "output_type": "execute_result"
    }
   ],
   "source": [
    "df_train[(df_train[\"property_name\"].str.contains(\"ladyhill park\"))].sort_values(\"size_sqft\", ascending=False)"
   ]
  },
  {
   "cell_type": "code",
   "execution_count": 119,
   "metadata": {},
   "outputs": [
    {
     "data": {
      "text/plain": [
       "<AxesSubplot:xlabel='size_sqft', ylabel='price'>"
      ]
     },
     "execution_count": 119,
     "metadata": {},
     "output_type": "execute_result"
    },
    {
     "data": {
      "image/png": "[encoded data removed]",
      "text/plain": [
       "<Figure size 640x480 with 1 Axes>"
      ]
     },
     "metadata": {},
     "output_type": "display_data"
    }
   ],
   "source": [
    "df_train[(df_train[\"property_name\"].str.contains(\"ladyhill park\"))].plot.scatter(\"size_sqft\", \"price\")"
   ]
  },
  {
   "cell_type": "markdown",
   "metadata": {},
   "source": [
    "* There seems to be an outlier at the other end\n",
    "* Also for these properties, the price is constant respective of the other factors. <br>Maybe we should consider using property_names also. Since sklearn cannot handle NaNs, we can try XGBoost or some other regressor which can handle NaNs."
   ]
  },
  {
   "cell_type": "code",
   "execution_count": 124,
   "metadata": {},
   "outputs": [
    {
     "data": {
      "text/plain": [
       "listing_id                                                         249225\n",
       "title                           hdb flat for sale in 610 yishun street 61\n",
       "address                                          sembawang / yishun (d27)\n",
       "property_name                                    nee soon central meadows\n",
       "property_type                                                 hdb 4 rooms\n",
       "tenure                                                  99-year leasehold\n",
       "built_year                                                         1986.0\n",
       "num_beds                                                              3.0\n",
       "num_baths                                                             2.0\n",
       "size_sqft                                                             904\n",
       "floor_level                                                           mid\n",
       "furnishing                                                    unspecified\n",
       "available_unit_types                                           3, 4, 5 br\n",
       "total_num_units                                                       NaN\n",
       "property_details_url    https://www.99.co/singapore/hdb/nee-soon-centr...\n",
       "lat                                                               1.42055\n",
       "lng                                                            103.836116\n",
       "elevation                                                               0\n",
       "subzone                                                      yishun south\n",
       "planning_area                                                      yishun\n",
       "price                                                            456800.0\n",
       "Name: 4375, dtype: object"
      ]
     },
     "execution_count": 124,
     "metadata": {},
     "output_type": "execute_result"
    }
   ],
   "source": [
    "df_train.iloc[4347]"
   ]
  },
  {
   "cell_type": "code",
   "execution_count": 125,
   "metadata": {},
   "outputs": [
    {
     "data": {
      "text/plain": [
       "<AxesSubplot:xlabel='size_sqft', ylabel='price'>"
      ]
     },
     "execution_count": 125,
     "metadata": {},
     "output_type": "execute_result"
    },
    {
     "data": {
      "image/png": "[encoded data removed]",
      "text/plain": [
       "<Figure size 640x480 with 1 Axes>"
      ]
     },
     "metadata": {},
     "output_type": "display_data"
    }
   ],
   "source": [
    "df_train[(df_train[\"property_name\"].str.contains(\"braddell heights estate\"))].plot.scatter(\"size_sqft\", \"price\")"
   ]
  },
  {
   "cell_type": "code",
   "execution_count": 127,
   "metadata": {},
   "outputs": [
    {
     "data": {
      "text/plain": [
       "(22, 21)"
      ]
     },
     "execution_count": 127,
     "metadata": {},
     "output_type": "execute_result"
    }
   ],
   "source": [
    "df_train[(df_train[\"property_name\"].str.contains(\"braddell heights estate\"))].shape"
   ]
  },
  {
   "cell_type": "code",
   "execution_count": 131,
   "metadata": {},
   "outputs": [
    {
     "data": {
      "text/html": [
       "<div>\n",
       "<style scoped>\n",
       "    .dataframe tbody tr th:only-of-type {\n",
       "        vertical-align: middle;\n",
       "    }\n",
       "\n",
       "    .dataframe tbody tr th {\n",
       "        vertical-align: top;\n",
       "    }\n",
       "\n",
       "    .dataframe thead th {\n",
       "        text-align: right;\n",
       "    }\n",
       "</style>\n",
       "<table border=\"1\" class=\"dataframe\">\n",
       "  <thead>\n",
       "    <tr style=\"text-align: right;\">\n",
       "      <th></th>\n",
       "      <th>listing_id</th>\n",
       "      <th>title</th>\n",
       "      <th>address</th>\n",
       "      <th>property_name</th>\n",
       "      <th>property_type</th>\n",
       "      <th>tenure</th>\n",
       "      <th>built_year</th>\n",
       "      <th>num_beds</th>\n",
       "      <th>num_baths</th>\n",
       "      <th>size_sqft</th>\n",
       "      <th>...</th>\n",
       "      <th>furnishing</th>\n",
       "      <th>available_unit_types</th>\n",
       "      <th>total_num_units</th>\n",
       "      <th>property_details_url</th>\n",
       "      <th>lat</th>\n",
       "      <th>lng</th>\n",
       "      <th>elevation</th>\n",
       "      <th>subzone</th>\n",
       "      <th>planning_area</th>\n",
       "      <th>price</th>\n",
       "    </tr>\n",
       "  </thead>\n",
       "  <tbody>\n",
       "    <tr>\n",
       "      <th>1649</th>\n",
       "      <td>149017</td>\n",
       "      <td>10 bed house for sale in braddell heights estate</td>\n",
       "      <td>cotswold close</td>\n",
       "      <td>braddell heights estate</td>\n",
       "      <td>bungalow</td>\n",
       "      <td>freehold</td>\n",
       "      <td>2011.0</td>\n",
       "      <td>10.0</td>\n",
       "      <td>10.0</td>\n",
       "      <td>30000</td>\n",
       "      <td>...</td>\n",
       "      <td>unspecified</td>\n",
       "      <td>3, 4, 5, 6, 7, 8, 10 br</td>\n",
       "      <td>NaN</td>\n",
       "      <td>https://www.99.co/singapore/houses/braddell-he...</td>\n",
       "      <td>1.34602</td>\n",
       "      <td>103.867198</td>\n",
       "      <td>0</td>\n",
       "      <td>lorong chuan</td>\n",
       "      <td>serangoon</td>\n",
       "      <td>29400000.0</td>\n",
       "    </tr>\n",
       "    <tr>\n",
       "      <th>5771</th>\n",
       "      <td>878816</td>\n",
       "      <td>6 bed house for sale in braddell heights estate</td>\n",
       "      <td>cotswold close</td>\n",
       "      <td>braddell heights estate</td>\n",
       "      <td>bungalow</td>\n",
       "      <td>freehold</td>\n",
       "      <td>2011.0</td>\n",
       "      <td>6.0</td>\n",
       "      <td>7.0</td>\n",
       "      <td>18000</td>\n",
       "      <td>...</td>\n",
       "      <td>unspecified</td>\n",
       "      <td>3, 4, 5, 6, 7, 8, 10 br</td>\n",
       "      <td>NaN</td>\n",
       "      <td>https://www.99.co/singapore/houses/braddell-he...</td>\n",
       "      <td>1.34602</td>\n",
       "      <td>103.867198</td>\n",
       "      <td>0</td>\n",
       "      <td>lorong chuan</td>\n",
       "      <td>serangoon</td>\n",
       "      <td>21000000.0</td>\n",
       "    </tr>\n",
       "    <tr>\n",
       "      <th>10436</th>\n",
       "      <td>703761</td>\n",
       "      <td>6 bed house for sale in braddell heights estate</td>\n",
       "      <td>chiltern drive</td>\n",
       "      <td>braddell heights estate</td>\n",
       "      <td>bungalow</td>\n",
       "      <td>freehold</td>\n",
       "      <td>2011.0</td>\n",
       "      <td>6.0</td>\n",
       "      <td>6.0</td>\n",
       "      <td>8800</td>\n",
       "      <td>...</td>\n",
       "      <td>unspecified</td>\n",
       "      <td>3, 4, 5, 6, 7, 8, 10 br</td>\n",
       "      <td>NaN</td>\n",
       "      <td>https://www.99.co/singapore/houses/braddell-he...</td>\n",
       "      <td>1.34602</td>\n",
       "      <td>103.867198</td>\n",
       "      <td>0</td>\n",
       "      <td>lorong chuan</td>\n",
       "      <td>serangoon</td>\n",
       "      <td>15225000.0</td>\n",
       "    </tr>\n",
       "    <tr>\n",
       "      <th>20053</th>\n",
       "      <td>398048</td>\n",
       "      <td>6 bed house for sale in braddell heights estate</td>\n",
       "      <td>chiltern drive</td>\n",
       "      <td>braddell heights estate</td>\n",
       "      <td>bungalow</td>\n",
       "      <td>freehold</td>\n",
       "      <td>2011.0</td>\n",
       "      <td>6.0</td>\n",
       "      <td>6.0</td>\n",
       "      <td>8200</td>\n",
       "      <td>...</td>\n",
       "      <td>unspecified</td>\n",
       "      <td>3, 4, 5, 6, 7, 8, 10 br</td>\n",
       "      <td>NaN</td>\n",
       "      <td>https://www.99.co/singapore/houses/braddell-he...</td>\n",
       "      <td>1.34602</td>\n",
       "      <td>103.867198</td>\n",
       "      <td>0</td>\n",
       "      <td>lorong chuan</td>\n",
       "      <td>serangoon</td>\n",
       "      <td>15225000.0</td>\n",
       "    </tr>\n",
       "    <tr>\n",
       "      <th>3952</th>\n",
       "      <td>534198</td>\n",
       "      <td>7 bed house for sale in braddell heights estate</td>\n",
       "      <td>cotswold close</td>\n",
       "      <td>braddell heights estate</td>\n",
       "      <td>bungalow</td>\n",
       "      <td>freehold</td>\n",
       "      <td>2011.0</td>\n",
       "      <td>7.0</td>\n",
       "      <td>7.0</td>\n",
       "      <td>8000</td>\n",
       "      <td>...</td>\n",
       "      <td>unspecified</td>\n",
       "      <td>3, 4, 5, 6, 7, 8, 10 br</td>\n",
       "      <td>NaN</td>\n",
       "      <td>https://www.99.co/singapore/houses/braddell-he...</td>\n",
       "      <td>1.34602</td>\n",
       "      <td>103.867198</td>\n",
       "      <td>0</td>\n",
       "      <td>lorong chuan</td>\n",
       "      <td>serangoon</td>\n",
       "      <td>21000000.0</td>\n",
       "    </tr>\n",
       "  </tbody>\n",
       "</table>\n",
       "<p>5 rows × 21 columns</p>\n",
       "</div>"
      ],
      "text/plain": [
       "       listing_id                                             title  \\\n",
       "1649       149017  10 bed house for sale in braddell heights estate   \n",
       "5771       878816   6 bed house for sale in braddell heights estate   \n",
       "10436      703761   6 bed house for sale in braddell heights estate   \n",
       "20053      398048   6 bed house for sale in braddell heights estate   \n",
       "3952       534198   7 bed house for sale in braddell heights estate   \n",
       "\n",
       "              address            property_name property_type    tenure  \\\n",
       "1649   cotswold close  braddell heights estate      bungalow  freehold   \n",
       "5771   cotswold close  braddell heights estate      bungalow  freehold   \n",
       "10436  chiltern drive  braddell heights estate      bungalow  freehold   \n",
       "20053  chiltern drive  braddell heights estate      bungalow  freehold   \n",
       "3952   cotswold close  braddell heights estate      bungalow  freehold   \n",
       "\n",
       "       built_year  num_beds  num_baths  size_sqft  ...   furnishing  \\\n",
       "1649       2011.0      10.0       10.0      30000  ...  unspecified   \n",
       "5771       2011.0       6.0        7.0      18000  ...  unspecified   \n",
       "10436      2011.0       6.0        6.0       8800  ...  unspecified   \n",
       "20053      2011.0       6.0        6.0       8200  ...  unspecified   \n",
       "3952       2011.0       7.0        7.0       8000  ...  unspecified   \n",
       "\n",
       "          available_unit_types total_num_units  \\\n",
       "1649   3, 4, 5, 6, 7, 8, 10 br             NaN   \n",
       "5771   3, 4, 5, 6, 7, 8, 10 br             NaN   \n",
       "10436  3, 4, 5, 6, 7, 8, 10 br             NaN   \n",
       "20053  3, 4, 5, 6, 7, 8, 10 br             NaN   \n",
       "3952   3, 4, 5, 6, 7, 8, 10 br             NaN   \n",
       "\n",
       "                                    property_details_url      lat         lng  \\\n",
       "1649   https://www.99.co/singapore/houses/braddell-he...  1.34602  103.867198   \n",
       "5771   https://www.99.co/singapore/houses/braddell-he...  1.34602  103.867198   \n",
       "10436  https://www.99.co/singapore/houses/braddell-he...  1.34602  103.867198   \n",
       "20053  https://www.99.co/singapore/houses/braddell-he...  1.34602  103.867198   \n",
       "3952   https://www.99.co/singapore/houses/braddell-he...  1.34602  103.867198   \n",
       "\n",
       "       elevation       subzone planning_area       price  \n",
       "1649           0  lorong chuan     serangoon  29400000.0  \n",
       "5771           0  lorong chuan     serangoon  21000000.0  \n",
       "10436          0  lorong chuan     serangoon  15225000.0  \n",
       "20053          0  lorong chuan     serangoon  15225000.0  \n",
       "3952           0  lorong chuan     serangoon  21000000.0  \n",
       "\n",
       "[5 rows x 21 columns]"
      ]
     },
     "execution_count": 131,
     "metadata": {},
     "output_type": "execute_result"
    }
   ],
   "source": [
    "df_train[(df_train[\"property_name\"].str.contains(\"braddell heights estate\"))].sort_values(\"size_sqft\", ascending=False).head()"
   ]
  },
  {
   "cell_type": "markdown",
   "metadata": {},
   "source": [
    "Not sure if we should consider those 2 units as outliers"
   ]
  },
  {
   "cell_type": "markdown",
   "metadata": {},
   "source": [
    "Upper bound for `size_sqft` can be 40000"
   ]
  },
  {
   "cell_type": "markdown",
   "metadata": {},
   "source": [
    "# Small `price`"
   ]
  },
  {
   "cell_type": "code",
   "execution_count": 79,
   "metadata": {},
   "outputs": [
    {
     "data": {
      "text/plain": [
       "249900.0"
      ]
     },
     "execution_count": 79,
     "metadata": {},
     "output_type": "execute_result"
    }
   ],
   "source": [
    "df_train[\"price\"].min()"
   ]
  },
  {
   "cell_type": "markdown",
   "metadata": {},
   "source": [
    "# Small `size_sqft`"
   ]
  },
  {
   "cell_type": "code",
   "execution_count": 55,
   "metadata": {},
   "outputs": [
    {
     "data": {
      "text/plain": [
       "65"
      ]
     },
     "execution_count": 55,
     "metadata": {},
     "output_type": "execute_result"
    }
   ],
   "source": [
    "df_train[\"size_sqft\"].min()"
   ]
  },
  {
   "cell_type": "code",
   "execution_count": 57,
   "metadata": {},
   "outputs": [
    {
     "data": {
      "text/plain": [
       "<AxesSubplot:xlabel='size_sqft', ylabel='price'>"
      ]
     },
     "execution_count": 57,
     "metadata": {},
     "output_type": "execute_result"
    },
    {
     "data": {
      "image/png": "[encoded data removed]",
      "text/plain": [
       "<Figure size 640x480 with 1 Axes>"
      ]
     },
     "metadata": {},
     "output_type": "display_data"
    }
   ],
   "source": [
    "df_train[df_train[\"size_sqft\"] < 3000].plot.scatter(\"size_sqft\", \"price\")"
   ]
  },
  {
   "cell_type": "markdown",
   "metadata": {},
   "source": [
    "There is gap around 200 to 400"
   ]
  },
  {
   "cell_type": "code",
   "execution_count": 58,
   "metadata": {},
   "outputs": [
    {
     "data": {
      "text/plain": [
       "<AxesSubplot:xlabel='size_sqft', ylabel='price'>"
      ]
     },
     "execution_count": 58,
     "metadata": {},
     "output_type": "execute_result"
    },
    {
     "data": {
      "image/png": "[encoded data removed]",
      "text/plain": [
       "<Figure size 640x480 with 1 Axes>"
      ]
     },
     "metadata": {},
     "output_type": "display_data"
    }
   ],
   "source": [
    "df_train[df_train[\"size_sqft\"] < 500].plot.scatter(\"size_sqft\", \"price\")"
   ]
  },
  {
   "cell_type": "code",
   "execution_count": 63,
   "metadata": {},
   "outputs": [
    {
     "data": {
      "text/plain": [
       "<AxesSubplot:xlabel='size_sqft', ylabel='price'>"
      ]
     },
     "execution_count": 63,
     "metadata": {},
     "output_type": "execute_result"
    },
    {
     "data": {
      "image/png": "[encoded data removed]",
      "text/plain": [
       "<Figure size 640x480 with 1 Axes>"
      ]
     },
     "metadata": {},
     "output_type": "display_data"
    }
   ],
   "source": [
    "df = df_train[df_train[\"size_sqft\"] < 500]\n",
    "df[df[\"price\"] < 1 * 10 ** 9].plot.scatter(\"size_sqft\", \"price\")"
   ]
  },
  {
   "cell_type": "code",
   "execution_count": 65,
   "metadata": {},
   "outputs": [
    {
     "data": {
      "text/html": [
       "<div>\n",
       "<style scoped>\n",
       "    .dataframe tbody tr th:only-of-type {\n",
       "        vertical-align: middle;\n",
       "    }\n",
       "\n",
       "    .dataframe tbody tr th {\n",
       "        vertical-align: top;\n",
       "    }\n",
       "\n",
       "    .dataframe thead th {\n",
       "        text-align: right;\n",
       "    }\n",
       "</style>\n",
       "<table border=\"1\" class=\"dataframe\">\n",
       "  <thead>\n",
       "    <tr style=\"text-align: right;\">\n",
       "      <th></th>\n",
       "      <th>listing_id</th>\n",
       "      <th>title</th>\n",
       "      <th>address</th>\n",
       "      <th>property_name</th>\n",
       "      <th>property_type</th>\n",
       "      <th>tenure</th>\n",
       "      <th>built_year</th>\n",
       "      <th>num_beds</th>\n",
       "      <th>num_baths</th>\n",
       "      <th>size_sqft</th>\n",
       "      <th>...</th>\n",
       "      <th>furnishing</th>\n",
       "      <th>available_unit_types</th>\n",
       "      <th>total_num_units</th>\n",
       "      <th>property_details_url</th>\n",
       "      <th>lat</th>\n",
       "      <th>lng</th>\n",
       "      <th>elevation</th>\n",
       "      <th>subzone</th>\n",
       "      <th>planning_area</th>\n",
       "      <th>price</th>\n",
       "    </tr>\n",
       "  </thead>\n",
       "  <tbody>\n",
       "    <tr>\n",
       "      <th>635</th>\n",
       "      <td>432676</td>\n",
       "      <td>3 bed house for sale in the glencaird residences</td>\n",
       "      <td>dalvey road</td>\n",
       "      <td>the glencaird residences</td>\n",
       "      <td>land only</td>\n",
       "      <td>freehold</td>\n",
       "      <td>2000.0</td>\n",
       "      <td>3.0</td>\n",
       "      <td>3.0</td>\n",
       "      <td>107</td>\n",
       "      <td>...</td>\n",
       "      <td>unspecified</td>\n",
       "      <td>3, 4, 5, 6 br</td>\n",
       "      <td>12.0</td>\n",
       "      <td>https://www.99.co/singapore/houses/the-glencai...</td>\n",
       "      <td>1.315477</td>\n",
       "      <td>103.819725</td>\n",
       "      <td>0</td>\n",
       "      <td>nassim</td>\n",
       "      <td>tanglin</td>\n",
       "      <td>1.016400e+08</td>\n",
       "    </tr>\n",
       "    <tr>\n",
       "      <th>5976</th>\n",
       "      <td>385586</td>\n",
       "      <td>hdb flat for sale in 238 compassvale walk</td>\n",
       "      <td>hougang / punggol / sengkang (d19)</td>\n",
       "      <td>compassvale plains</td>\n",
       "      <td>hdb 4 rooms</td>\n",
       "      <td>99-year leasehold</td>\n",
       "      <td>1999.0</td>\n",
       "      <td>1.0</td>\n",
       "      <td>10.0</td>\n",
       "      <td>232</td>\n",
       "      <td>...</td>\n",
       "      <td>unspecified</td>\n",
       "      <td>1, 3, 4 br</td>\n",
       "      <td>NaN</td>\n",
       "      <td>https://www.99.co/singapore/hdb/compassvale-pl...</td>\n",
       "      <td>1.390556</td>\n",
       "      <td>103.898921</td>\n",
       "      <td>0</td>\n",
       "      <td>sengkang town centre</td>\n",
       "      <td>sengkang</td>\n",
       "      <td>3.924243e+10</td>\n",
       "    </tr>\n",
       "    <tr>\n",
       "      <th>16264</th>\n",
       "      <td>287109</td>\n",
       "      <td>hdb flat for sale in 238 compassvale walk</td>\n",
       "      <td>hougang / punggol / sengkang (d19)</td>\n",
       "      <td>compassvale plains</td>\n",
       "      <td>hdb 4 rooms</td>\n",
       "      <td>99-year leasehold</td>\n",
       "      <td>1999.0</td>\n",
       "      <td>1.0</td>\n",
       "      <td>10.0</td>\n",
       "      <td>129</td>\n",
       "      <td>...</td>\n",
       "      <td>unspecified</td>\n",
       "      <td>1, 3, 4 br</td>\n",
       "      <td>NaN</td>\n",
       "      <td>https://www.99.co/singapore/hdb/compassvale-pl...</td>\n",
       "      <td>1.390556</td>\n",
       "      <td>103.898921</td>\n",
       "      <td>0</td>\n",
       "      <td>sengkang town centre</td>\n",
       "      <td>sengkang</td>\n",
       "      <td>4.985919e+09</td>\n",
       "    </tr>\n",
       "  </tbody>\n",
       "</table>\n",
       "<p>3 rows × 21 columns</p>\n",
       "</div>"
      ],
      "text/plain": [
       "       listing_id                                             title  \\\n",
       "635        432676  3 bed house for sale in the glencaird residences   \n",
       "5976       385586         hdb flat for sale in 238 compassvale walk   \n",
       "16264      287109         hdb flat for sale in 238 compassvale walk   \n",
       "\n",
       "                                  address             property_name  \\\n",
       "635                           dalvey road  the glencaird residences   \n",
       "5976   hougang / punggol / sengkang (d19)        compassvale plains   \n",
       "16264  hougang / punggol / sengkang (d19)        compassvale plains   \n",
       "\n",
       "      property_type             tenure  built_year  num_beds  num_baths  \\\n",
       "635       land only           freehold      2000.0       3.0        3.0   \n",
       "5976    hdb 4 rooms  99-year leasehold      1999.0       1.0       10.0   \n",
       "16264   hdb 4 rooms  99-year leasehold      1999.0       1.0       10.0   \n",
       "\n",
       "       size_sqft  ...   furnishing available_unit_types total_num_units  \\\n",
       "635          107  ...  unspecified        3, 4, 5, 6 br            12.0   \n",
       "5976         232  ...  unspecified           1, 3, 4 br             NaN   \n",
       "16264        129  ...  unspecified           1, 3, 4 br             NaN   \n",
       "\n",
       "                                    property_details_url       lat  \\\n",
       "635    https://www.99.co/singapore/houses/the-glencai...  1.315477   \n",
       "5976   https://www.99.co/singapore/hdb/compassvale-pl...  1.390556   \n",
       "16264  https://www.99.co/singapore/hdb/compassvale-pl...  1.390556   \n",
       "\n",
       "              lng  elevation               subzone planning_area         price  \n",
       "635    103.819725          0                nassim       tanglin  1.016400e+08  \n",
       "5976   103.898921          0  sengkang town centre      sengkang  3.924243e+10  \n",
       "16264  103.898921          0  sengkang town centre      sengkang  4.985919e+09  \n",
       "\n",
       "[3 rows x 21 columns]"
      ]
     },
     "execution_count": 65,
     "metadata": {},
     "output_type": "execute_result"
    }
   ],
   "source": [
    "df[df[\"price\"] > 1 * 10 ** 8]"
   ]
  },
  {
   "cell_type": "code",
   "execution_count": 62,
   "metadata": {},
   "outputs": [
    {
     "data": {
      "text/plain": [
       "hdb 4 rooms    9\n",
       "hdb 5 rooms    5\n",
       "hdb            4\n",
       "hdb 3 rooms    3\n",
       "condo          2\n",
       "land only      1\n",
       "Name: property_type, dtype: int64"
      ]
     },
     "execution_count": 62,
     "metadata": {},
     "output_type": "execute_result"
    }
   ],
   "source": [
    "df_train[df_train[\"size_sqft\"] < 200][\"property_type\"].value_counts()"
   ]
  },
  {
   "cell_type": "code",
   "execution_count": 61,
   "metadata": {},
   "outputs": [
    {
     "data": {
      "text/plain": [
       "<AxesSubplot:xlabel='num_beds', ylabel='num_baths'>"
      ]
     },
     "execution_count": 61,
     "metadata": {},
     "output_type": "execute_result"
    },
    {
     "data": {
      "image/png": "[encoded data removed]",
      "text/plain": [
       "<Figure size 640x480 with 1 Axes>"
      ]
     },
     "metadata": {},
     "output_type": "display_data"
    }
   ],
   "source": [
    "df_train[df_train[\"size_sqft\"] < 200].plot.scatter(\"num_beds\", \"num_baths\")"
   ]
  },
  {
   "cell_type": "markdown",
   "metadata": {},
   "source": [
    "The number of rooms and baths cannot fit in less than 200 size sqft."
   ]
  },
  {
   "cell_type": "code",
   "execution_count": 88,
   "metadata": {},
   "outputs": [
    {
     "data": {
      "text/plain": [
       "<AxesSubplot:xlabel='size_sqft', ylabel='price'>"
      ]
     },
     "execution_count": 88,
     "metadata": {},
     "output_type": "execute_result"
    },
    {
     "data": {
      "image/png": "[encoded data removed]",
      "text/plain": [
       "<Figure size 640x480 with 1 Axes>"
      ]
     },
     "metadata": {},
     "output_type": "display_data"
    }
   ],
   "source": [
    "df_train[(df_train[\"size_sqft\"] > 300) & (df_train[\"size_sqft\"] < 1000)].plot.scatter(\"size_sqft\", \"price\")"
   ]
  },
  {
   "cell_type": "markdown",
   "metadata": {},
   "source": [
    "There seem to be a couple of outliers at 400 and ~550"
   ]
  },
  {
   "cell_type": "code",
   "execution_count": 89,
   "metadata": {},
   "outputs": [
    {
     "data": {
      "text/plain": [
       "<AxesSubplot:xlabel='size_sqft', ylabel='price'>"
      ]
     },
     "execution_count": 89,
     "metadata": {},
     "output_type": "execute_result"
    },
    {
     "data": {
      "image/png": "[encoded data removed]",
      "text/plain": [
       "<Figure size 640x480 with 1 Axes>"
      ]
     },
     "metadata": {},
     "output_type": "display_data"
    }
   ],
   "source": [
    "df_train[(df_train[\"size_sqft\"] > 300) & (df_train[\"size_sqft\"] < 600)].plot.scatter(\"size_sqft\", \"price\")"
   ]
  },
  {
   "cell_type": "code",
   "execution_count": 90,
   "metadata": {},
   "outputs": [
    {
     "data": {
      "text/html": [
       "<div>\n",
       "<style scoped>\n",
       "    .dataframe tbody tr th:only-of-type {\n",
       "        vertical-align: middle;\n",
       "    }\n",
       "\n",
       "    .dataframe tbody tr th {\n",
       "        vertical-align: top;\n",
       "    }\n",
       "\n",
       "    .dataframe thead th {\n",
       "        text-align: right;\n",
       "    }\n",
       "</style>\n",
       "<table border=\"1\" class=\"dataframe\">\n",
       "  <thead>\n",
       "    <tr style=\"text-align: right;\">\n",
       "      <th></th>\n",
       "      <th>listing_id</th>\n",
       "      <th>title</th>\n",
       "      <th>address</th>\n",
       "      <th>property_name</th>\n",
       "      <th>property_type</th>\n",
       "      <th>tenure</th>\n",
       "      <th>built_year</th>\n",
       "      <th>num_beds</th>\n",
       "      <th>num_baths</th>\n",
       "      <th>size_sqft</th>\n",
       "      <th>...</th>\n",
       "      <th>furnishing</th>\n",
       "      <th>available_unit_types</th>\n",
       "      <th>total_num_units</th>\n",
       "      <th>property_details_url</th>\n",
       "      <th>lat</th>\n",
       "      <th>lng</th>\n",
       "      <th>elevation</th>\n",
       "      <th>subzone</th>\n",
       "      <th>planning_area</th>\n",
       "      <th>price</th>\n",
       "    </tr>\n",
       "  </thead>\n",
       "  <tbody>\n",
       "    <tr>\n",
       "      <th>9750</th>\n",
       "      <td>458270</td>\n",
       "      <td>3 bed condo for sale in mayfair gardens</td>\n",
       "      <td>8 rifle range road</td>\n",
       "      <td>mayfair gardens</td>\n",
       "      <td>condo</td>\n",
       "      <td>99-year leasehold</td>\n",
       "      <td>2024.0</td>\n",
       "      <td>3.0</td>\n",
       "      <td>1.0</td>\n",
       "      <td>570</td>\n",
       "      <td>...</td>\n",
       "      <td>unfurnished</td>\n",
       "      <td>studio, 1, 2, 3, 4, 5 br</td>\n",
       "      <td>215.0</td>\n",
       "      <td>https://www.99.co/singapore/condos-apartments/...</td>\n",
       "      <td>1.353317</td>\n",
       "      <td>103.789625</td>\n",
       "      <td>0</td>\n",
       "      <td>central water catchment</td>\n",
       "      <td>central water catchment</td>\n",
       "      <td>3705400.0</td>\n",
       "    </tr>\n",
       "    <tr>\n",
       "      <th>14218</th>\n",
       "      <td>708112</td>\n",
       "      <td>5 bed house for sale in belgravia ace</td>\n",
       "      <td>belgravia drive</td>\n",
       "      <td>belgravia ace</td>\n",
       "      <td>cluster house</td>\n",
       "      <td>freehold</td>\n",
       "      <td>2028.0</td>\n",
       "      <td>5.0</td>\n",
       "      <td>5.0</td>\n",
       "      <td>406</td>\n",
       "      <td>...</td>\n",
       "      <td>partial</td>\n",
       "      <td>studio, 2, 4, 5, 6 br</td>\n",
       "      <td>107.0</td>\n",
       "      <td>https://www.99.co/singapore/houses/belgravia-a...</td>\n",
       "      <td>1.378467</td>\n",
       "      <td>103.865061</td>\n",
       "      <td>0</td>\n",
       "      <td>seletar hills</td>\n",
       "      <td>serangoon</td>\n",
       "      <td>4437300.0</td>\n",
       "    </tr>\n",
       "    <tr>\n",
       "      <th>15027</th>\n",
       "      <td>846946</td>\n",
       "      <td>5 bed house for sale in belgravia ace</td>\n",
       "      <td>belgravia drive</td>\n",
       "      <td>belgravia ace</td>\n",
       "      <td>cluster house</td>\n",
       "      <td>freehold</td>\n",
       "      <td>2028.0</td>\n",
       "      <td>5.0</td>\n",
       "      <td>5.0</td>\n",
       "      <td>377</td>\n",
       "      <td>...</td>\n",
       "      <td>partial</td>\n",
       "      <td>studio, 2, 4, 5, 6 br</td>\n",
       "      <td>107.0</td>\n",
       "      <td>https://www.99.co/singapore/houses/belgravia-a...</td>\n",
       "      <td>1.378467</td>\n",
       "      <td>103.865061</td>\n",
       "      <td>0</td>\n",
       "      <td>seletar hills</td>\n",
       "      <td>serangoon</td>\n",
       "      <td>4120200.0</td>\n",
       "    </tr>\n",
       "  </tbody>\n",
       "</table>\n",
       "<p>3 rows × 21 columns</p>\n",
       "</div>"
      ],
      "text/plain": [
       "       listing_id                                    title  \\\n",
       "9750       458270  3 bed condo for sale in mayfair gardens   \n",
       "14218      708112    5 bed house for sale in belgravia ace   \n",
       "15027      846946    5 bed house for sale in belgravia ace   \n",
       "\n",
       "                  address    property_name  property_type             tenure  \\\n",
       "9750   8 rifle range road  mayfair gardens          condo  99-year leasehold   \n",
       "14218     belgravia drive    belgravia ace  cluster house           freehold   \n",
       "15027     belgravia drive    belgravia ace  cluster house           freehold   \n",
       "\n",
       "       built_year  num_beds  num_baths  size_sqft  ...   furnishing  \\\n",
       "9750       2024.0       3.0        1.0        570  ...  unfurnished   \n",
       "14218      2028.0       5.0        5.0        406  ...      partial   \n",
       "15027      2028.0       5.0        5.0        377  ...      partial   \n",
       "\n",
       "           available_unit_types total_num_units  \\\n",
       "9750   studio, 1, 2, 3, 4, 5 br           215.0   \n",
       "14218     studio, 2, 4, 5, 6 br           107.0   \n",
       "15027     studio, 2, 4, 5, 6 br           107.0   \n",
       "\n",
       "                                    property_details_url       lat  \\\n",
       "9750   https://www.99.co/singapore/condos-apartments/...  1.353317   \n",
       "14218  https://www.99.co/singapore/houses/belgravia-a...  1.378467   \n",
       "15027  https://www.99.co/singapore/houses/belgravia-a...  1.378467   \n",
       "\n",
       "              lng  elevation                  subzone  \\\n",
       "9750   103.789625          0  central water catchment   \n",
       "14218  103.865061          0            seletar hills   \n",
       "15027  103.865061          0            seletar hills   \n",
       "\n",
       "                 planning_area      price  \n",
       "9750   central water catchment  3705400.0  \n",
       "14218                serangoon  4437300.0  \n",
       "15027                serangoon  4120200.0  \n",
       "\n",
       "[3 rows x 21 columns]"
      ]
     },
     "execution_count": 90,
     "metadata": {},
     "output_type": "execute_result"
    }
   ],
   "source": [
    "df = df_train[(df_train[\"size_sqft\"] > 300) & (df_train[\"size_sqft\"] < 600)]\n",
    "df[df[\"price\"] > 3 * 10 ** 6]"
   ]
  },
  {
   "cell_type": "code",
   "execution_count": 91,
   "metadata": {},
   "outputs": [
    {
     "data": {
      "text/plain": [
       "(31, 21)"
      ]
     },
     "execution_count": 91,
     "metadata": {},
     "output_type": "execute_result"
    }
   ],
   "source": [
    "df_train[(df_train[\"property_name\"].str.contains(\"belgravia ace\"))].shape\n"
   ]
  },
  {
   "cell_type": "code",
   "execution_count": 92,
   "metadata": {},
   "outputs": [
    {
     "data": {
      "text/plain": [
       "<AxesSubplot:xlabel='size_sqft', ylabel='price'>"
      ]
     },
     "execution_count": 92,
     "metadata": {},
     "output_type": "execute_result"
    },
    {
     "data": {
      "image/png": "[encoded data removed]",
      "text/plain": [
       "<Figure size 640x480 with 1 Axes>"
      ]
     },
     "metadata": {},
     "output_type": "display_data"
    }
   ],
   "source": [
    "df_train[(df_train[\"property_name\"].str.contains(\"belgravia ace\"))].plot.scatter(\"size_sqft\", \"price\")"
   ]
  },
  {
   "cell_type": "code",
   "execution_count": 94,
   "metadata": {},
   "outputs": [
    {
     "data": {
      "text/plain": [
       "<AxesSubplot:xlabel='size_sqft', ylabel='price'>"
      ]
     },
     "execution_count": 94,
     "metadata": {},
     "output_type": "execute_result"
    },
    {
     "data": {
      "image/png": "[encoded data removed]",
      "text/plain": [
       "<Figure size 640x480 with 1 Axes>"
      ]
     },
     "metadata": {},
     "output_type": "display_data"
    }
   ],
   "source": [
    "df = df_train[(df_train[\"property_name\"].str.contains(\"belgravia ace\"))]\n",
    "df[(df[\"num_beds\"] == 5) & (df[\"num_baths\"] == 5)].plot.scatter(\"size_sqft\", \"price\")"
   ]
  },
  {
   "cell_type": "markdown",
   "metadata": {},
   "source": [
    "Those two units seem to be outliers"
   ]
  },
  {
   "cell_type": "code",
   "execution_count": 95,
   "metadata": {},
   "outputs": [
    {
     "data": {
      "text/plain": [
       "(40, 21)"
      ]
     },
     "execution_count": 95,
     "metadata": {},
     "output_type": "execute_result"
    }
   ],
   "source": [
    "df_train[(df_train[\"property_name\"].str.contains(\"mayfair gardens\"))].shape"
   ]
  },
  {
   "cell_type": "code",
   "execution_count": 96,
   "metadata": {},
   "outputs": [
    {
     "data": {
      "text/plain": [
       "<AxesSubplot:xlabel='size_sqft', ylabel='price'>"
      ]
     },
     "execution_count": 96,
     "metadata": {},
     "output_type": "execute_result"
    },
    {
     "data": {
      "image/png": "[encoded data removed]",
      "text/plain": [
       "<Figure size 640x480 with 1 Axes>"
      ]
     },
     "metadata": {},
     "output_type": "display_data"
    }
   ],
   "source": [
    "df_train[(df_train[\"property_name\"].str.contains(\"mayfair gardens\"))].plot.scatter(\"size_sqft\", \"price\")"
   ]
  },
  {
   "cell_type": "code",
   "execution_count": 98,
   "metadata": {},
   "outputs": [
    {
     "data": {
      "text/plain": [
       "<AxesSubplot:xlabel='size_sqft', ylabel='price'>"
      ]
     },
     "execution_count": 98,
     "metadata": {},
     "output_type": "execute_result"
    },
    {
     "data": {
      "image/png": "[encoded data removed]",
      "text/plain": [
       "<Figure size 640x480 with 1 Axes>"
      ]
     },
     "metadata": {},
     "output_type": "display_data"
    }
   ],
   "source": [
    "df = df_train[(df_train[\"property_name\"].str.contains(\"mayfair gardens\"))]\n",
    "df[df[\"size_sqft\"] < 700].plot.scatter(\"size_sqft\", \"price\")"
   ]
  },
  {
   "cell_type": "markdown",
   "metadata": {},
   "source": [
    "Looking at the general trend, there seems to be a clear pattern between size and price. <br>\n",
    "And that one unit could be classified as an outlier."
   ]
  },
  {
   "cell_type": "code",
   "execution_count": 104,
   "metadata": {},
   "outputs": [
    {
     "data": {
      "text/plain": [
       "<AxesSubplot:xlabel='size_sqft', ylabel='price'>"
      ]
     },
     "execution_count": 104,
     "metadata": {},
     "output_type": "execute_result"
    },
    {
     "data": {
      "image/png": "[encoded data removed]",
      "text/plain": [
       "<Figure size 640x480 with 1 Axes>"
      ]
     },
     "metadata": {},
     "output_type": "display_data"
    }
   ],
   "source": [
    "df_train[(df_train[\"size_sqft\"] > 600) & (df_train[\"size_sqft\"] < 6000)].plot.scatter(\"size_sqft\", \"price\")"
   ]
  },
  {
   "cell_type": "markdown",
   "metadata": {},
   "source": [
    "Possible Outliers at 1000, 2000, 3000, 4500, 5000, 5500"
   ]
  },
  {
   "cell_type": "code",
   "execution_count": 133,
   "metadata": {},
   "outputs": [
    {
     "data": {
      "text/plain": [
       "<AxesSubplot:xlabel='size_sqft', ylabel='price'>"
      ]
     },
     "execution_count": 133,
     "metadata": {},
     "output_type": "execute_result"
    },
    {
     "data": {
      "image/png": "[encoded data removed]",
      "text/plain": [
       "<Figure size 640x480 with 1 Axes>"
      ]
     },
     "metadata": {},
     "output_type": "display_data"
    }
   ],
   "source": [
    "df_train[(df_train[\"size_sqft\"] > 1000) & (df_train[\"size_sqft\"] < 2000)].plot.scatter(\"size_sqft\", \"price\")"
   ]
  },
  {
   "cell_type": "code",
   "execution_count": 134,
   "metadata": {},
   "outputs": [
    {
     "data": {
      "text/html": [
       "<div>\n",
       "<style scoped>\n",
       "    .dataframe tbody tr th:only-of-type {\n",
       "        vertical-align: middle;\n",
       "    }\n",
       "\n",
       "    .dataframe tbody tr th {\n",
       "        vertical-align: top;\n",
       "    }\n",
       "\n",
       "    .dataframe thead th {\n",
       "        text-align: right;\n",
       "    }\n",
       "</style>\n",
       "<table border=\"1\" class=\"dataframe\">\n",
       "  <thead>\n",
       "    <tr style=\"text-align: right;\">\n",
       "      <th></th>\n",
       "      <th>listing_id</th>\n",
       "      <th>title</th>\n",
       "      <th>address</th>\n",
       "      <th>property_name</th>\n",
       "      <th>property_type</th>\n",
       "      <th>tenure</th>\n",
       "      <th>built_year</th>\n",
       "      <th>num_beds</th>\n",
       "      <th>num_baths</th>\n",
       "      <th>size_sqft</th>\n",
       "      <th>...</th>\n",
       "      <th>furnishing</th>\n",
       "      <th>available_unit_types</th>\n",
       "      <th>total_num_units</th>\n",
       "      <th>property_details_url</th>\n",
       "      <th>lat</th>\n",
       "      <th>lng</th>\n",
       "      <th>elevation</th>\n",
       "      <th>subzone</th>\n",
       "      <th>planning_area</th>\n",
       "      <th>price</th>\n",
       "    </tr>\n",
       "  </thead>\n",
       "  <tbody>\n",
       "    <tr>\n",
       "      <th>663</th>\n",
       "      <td>122873</td>\n",
       "      <td>3 bed condo for sale in midtown modern</td>\n",
       "      <td>18 tan quee lan street</td>\n",
       "      <td>midtown modern</td>\n",
       "      <td>condo</td>\n",
       "      <td>99-year leasehold</td>\n",
       "      <td>2024.0</td>\n",
       "      <td>3.0</td>\n",
       "      <td>2.0</td>\n",
       "      <td>1066</td>\n",
       "      <td>...</td>\n",
       "      <td>unspecified</td>\n",
       "      <td>studio, 1, 2, 3, 4, 5, 6 br</td>\n",
       "      <td>558.0</td>\n",
       "      <td>https://www.99.co/singapore/condos-apartments/...</td>\n",
       "      <td>1.298416</td>\n",
       "      <td>103.857178</td>\n",
       "      <td>0</td>\n",
       "      <td>bugis</td>\n",
       "      <td>downtown core</td>\n",
       "      <td>30880500.0</td>\n",
       "    </tr>\n",
       "    <tr>\n",
       "      <th>19587</th>\n",
       "      <td>891247</td>\n",
       "      <td>4 bed ec for sale in north gaia</td>\n",
       "      <td>41 yishun close</td>\n",
       "      <td>north gaia</td>\n",
       "      <td>executive condo</td>\n",
       "      <td>99-year leasehold</td>\n",
       "      <td>2027.0</td>\n",
       "      <td>4.0</td>\n",
       "      <td>3.0</td>\n",
       "      <td>1313</td>\n",
       "      <td>...</td>\n",
       "      <td>partial</td>\n",
       "      <td>2, 3, 4, 5 br</td>\n",
       "      <td>616.0</td>\n",
       "      <td>https://www.99.co/singapore/condos-apartments/...</td>\n",
       "      <td>1.434928</td>\n",
       "      <td>103.845282</td>\n",
       "      <td>0</td>\n",
       "      <td>yishun east</td>\n",
       "      <td>yishun</td>\n",
       "      <td>16884000.0</td>\n",
       "    </tr>\n",
       "  </tbody>\n",
       "</table>\n",
       "<p>2 rows × 21 columns</p>\n",
       "</div>"
      ],
      "text/plain": [
       "       listing_id                                   title  \\\n",
       "663        122873  3 bed condo for sale in midtown modern   \n",
       "19587      891247         4 bed ec for sale in north gaia   \n",
       "\n",
       "                      address   property_name    property_type  \\\n",
       "663    18 tan quee lan street  midtown modern            condo   \n",
       "19587         41 yishun close      north gaia  executive condo   \n",
       "\n",
       "                  tenure  built_year  num_beds  num_baths  size_sqft  ...  \\\n",
       "663    99-year leasehold      2024.0       3.0        2.0       1066  ...   \n",
       "19587  99-year leasehold      2027.0       4.0        3.0       1313  ...   \n",
       "\n",
       "        furnishing         available_unit_types total_num_units  \\\n",
       "663    unspecified  studio, 1, 2, 3, 4, 5, 6 br           558.0   \n",
       "19587      partial                2, 3, 4, 5 br           616.0   \n",
       "\n",
       "                                    property_details_url       lat  \\\n",
       "663    https://www.99.co/singapore/condos-apartments/...  1.298416   \n",
       "19587  https://www.99.co/singapore/condos-apartments/...  1.434928   \n",
       "\n",
       "              lng  elevation      subzone  planning_area       price  \n",
       "663    103.857178          0        bugis  downtown core  30880500.0  \n",
       "19587  103.845282          0  yishun east         yishun  16884000.0  \n",
       "\n",
       "[2 rows x 21 columns]"
      ]
     },
     "execution_count": 134,
     "metadata": {},
     "output_type": "execute_result"
    }
   ],
   "source": [
    "df = df_train[(df_train[\"size_sqft\"] > 1000) & (df_train[\"size_sqft\"] < 2000)]\n",
    "df[df[\"price\"] > 10 ** 7]"
   ]
  },
  {
   "cell_type": "markdown",
   "metadata": {},
   "source": [
    "Already looked at 663"
   ]
  },
  {
   "cell_type": "code",
   "execution_count": 137,
   "metadata": {},
   "outputs": [
    {
     "data": {
      "text/plain": [
       "(254, 21)"
      ]
     },
     "execution_count": 137,
     "metadata": {},
     "output_type": "execute_result"
    }
   ],
   "source": [
    "df_train[(df_train[\"property_name\"].str.contains(\"north gaia\"))].shape"
   ]
  },
  {
   "cell_type": "code",
   "execution_count": 138,
   "metadata": {},
   "outputs": [
    {
     "data": {
      "text/plain": [
       "<AxesSubplot:xlabel='size_sqft', ylabel='price'>"
      ]
     },
     "execution_count": 138,
     "metadata": {},
     "output_type": "execute_result"
    },
    {
     "data": {
      "image/png": "[encoded data removed]",
      "text/plain": [
       "<Figure size 640x480 with 1 Axes>"
      ]
     },
     "metadata": {},
     "output_type": "display_data"
    }
   ],
   "source": [
    "df_train[(df_train[\"property_name\"].str.contains(\"north gaia\"))].plot.scatter(\"size_sqft\", \"price\")"
   ]
  },
  {
   "cell_type": "code",
   "execution_count": 141,
   "metadata": {},
   "outputs": [
    {
     "data": {
      "text/html": [
       "<div>\n",
       "<style scoped>\n",
       "    .dataframe tbody tr th:only-of-type {\n",
       "        vertical-align: middle;\n",
       "    }\n",
       "\n",
       "    .dataframe tbody tr th {\n",
       "        vertical-align: top;\n",
       "    }\n",
       "\n",
       "    .dataframe thead th {\n",
       "        text-align: right;\n",
       "    }\n",
       "</style>\n",
       "<table border=\"1\" class=\"dataframe\">\n",
       "  <thead>\n",
       "    <tr style=\"text-align: right;\">\n",
       "      <th></th>\n",
       "      <th>listing_id</th>\n",
       "      <th>title</th>\n",
       "      <th>address</th>\n",
       "      <th>property_name</th>\n",
       "      <th>property_type</th>\n",
       "      <th>tenure</th>\n",
       "      <th>built_year</th>\n",
       "      <th>num_beds</th>\n",
       "      <th>num_baths</th>\n",
       "      <th>size_sqft</th>\n",
       "      <th>...</th>\n",
       "      <th>furnishing</th>\n",
       "      <th>available_unit_types</th>\n",
       "      <th>total_num_units</th>\n",
       "      <th>property_details_url</th>\n",
       "      <th>lat</th>\n",
       "      <th>lng</th>\n",
       "      <th>elevation</th>\n",
       "      <th>subzone</th>\n",
       "      <th>planning_area</th>\n",
       "      <th>price</th>\n",
       "    </tr>\n",
       "  </thead>\n",
       "  <tbody>\n",
       "    <tr>\n",
       "      <th>19587</th>\n",
       "      <td>891247</td>\n",
       "      <td>4 bed ec for sale in north gaia</td>\n",
       "      <td>41 yishun close</td>\n",
       "      <td>north gaia</td>\n",
       "      <td>executive condo</td>\n",
       "      <td>99-year leasehold</td>\n",
       "      <td>2027.0</td>\n",
       "      <td>4.0</td>\n",
       "      <td>3.0</td>\n",
       "      <td>1313</td>\n",
       "      <td>...</td>\n",
       "      <td>partial</td>\n",
       "      <td>2, 3, 4, 5 br</td>\n",
       "      <td>616.0</td>\n",
       "      <td>https://www.99.co/singapore/condos-apartments/...</td>\n",
       "      <td>1.434928</td>\n",
       "      <td>103.845282</td>\n",
       "      <td>0</td>\n",
       "      <td>yishun east</td>\n",
       "      <td>yishun</td>\n",
       "      <td>16884000.0</td>\n",
       "    </tr>\n",
       "    <tr>\n",
       "      <th>4460</th>\n",
       "      <td>878601</td>\n",
       "      <td>4 bed ec for sale in north gaia</td>\n",
       "      <td>39 yishun close</td>\n",
       "      <td>north gaia</td>\n",
       "      <td>executive condo</td>\n",
       "      <td>99-year leasehold</td>\n",
       "      <td>2027.0</td>\n",
       "      <td>4.0</td>\n",
       "      <td>4.0</td>\n",
       "      <td>1593</td>\n",
       "      <td>...</td>\n",
       "      <td>unspecified</td>\n",
       "      <td>2, 3, 4, 5 br</td>\n",
       "      <td>616.0</td>\n",
       "      <td>https://www.99.co/singapore/condos-apartments/...</td>\n",
       "      <td>1.434928</td>\n",
       "      <td>103.845282</td>\n",
       "      <td>0</td>\n",
       "      <td>yishun east</td>\n",
       "      <td>yishun</td>\n",
       "      <td>2116800.0</td>\n",
       "    </tr>\n",
       "    <tr>\n",
       "      <th>2145</th>\n",
       "      <td>786597</td>\n",
       "      <td>5 bed ec for sale in north gaia</td>\n",
       "      <td>45 yishun close</td>\n",
       "      <td>north gaia</td>\n",
       "      <td>executive condo</td>\n",
       "      <td>99-year leasehold</td>\n",
       "      <td>2027.0</td>\n",
       "      <td>5.0</td>\n",
       "      <td>4.0</td>\n",
       "      <td>1593</td>\n",
       "      <td>...</td>\n",
       "      <td>partial</td>\n",
       "      <td>2, 3, 4, 5 br</td>\n",
       "      <td>616.0</td>\n",
       "      <td>https://www.99.co/singapore/condos-apartments/...</td>\n",
       "      <td>1.434928</td>\n",
       "      <td>103.845282</td>\n",
       "      <td>0</td>\n",
       "      <td>yishun east</td>\n",
       "      <td>yishun</td>\n",
       "      <td>2099000.0</td>\n",
       "    </tr>\n",
       "    <tr>\n",
       "      <th>19256</th>\n",
       "      <td>440462</td>\n",
       "      <td>5 bed ec for sale in north gaia</td>\n",
       "      <td>39 yishun close</td>\n",
       "      <td>north gaia</td>\n",
       "      <td>executive condo</td>\n",
       "      <td>99-year leasehold</td>\n",
       "      <td>2027.0</td>\n",
       "      <td>5.0</td>\n",
       "      <td>NaN</td>\n",
       "      <td>1593</td>\n",
       "      <td>...</td>\n",
       "      <td>unfurnished</td>\n",
       "      <td>2, 3, 4, 5 br</td>\n",
       "      <td>616.0</td>\n",
       "      <td>https://www.99.co/singapore/condos-apartments/...</td>\n",
       "      <td>1.434928</td>\n",
       "      <td>103.845282</td>\n",
       "      <td>0</td>\n",
       "      <td>yishun east</td>\n",
       "      <td>yishun</td>\n",
       "      <td>2078000.0</td>\n",
       "    </tr>\n",
       "    <tr>\n",
       "      <th>18560</th>\n",
       "      <td>481128</td>\n",
       "      <td>5 bed ec for sale in north gaia</td>\n",
       "      <td>39 yishun close</td>\n",
       "      <td>north gaia</td>\n",
       "      <td>executive condo</td>\n",
       "      <td>99-year leasehold</td>\n",
       "      <td>2027.0</td>\n",
       "      <td>5.0</td>\n",
       "      <td>NaN</td>\n",
       "      <td>1593</td>\n",
       "      <td>...</td>\n",
       "      <td>unspecified</td>\n",
       "      <td>2, 3, 4, 5 br</td>\n",
       "      <td>616.0</td>\n",
       "      <td>https://www.99.co/singapore/condos-apartments/...</td>\n",
       "      <td>1.434928</td>\n",
       "      <td>103.845282</td>\n",
       "      <td>0</td>\n",
       "      <td>yishun east</td>\n",
       "      <td>yishun</td>\n",
       "      <td>2078000.0</td>\n",
       "    </tr>\n",
       "  </tbody>\n",
       "</table>\n",
       "<p>5 rows × 21 columns</p>\n",
       "</div>"
      ],
      "text/plain": [
       "       listing_id                            title          address  \\\n",
       "19587      891247  4 bed ec for sale in north gaia  41 yishun close   \n",
       "4460       878601  4 bed ec for sale in north gaia  39 yishun close   \n",
       "2145       786597  5 bed ec for sale in north gaia  45 yishun close   \n",
       "19256      440462  5 bed ec for sale in north gaia  39 yishun close   \n",
       "18560      481128  5 bed ec for sale in north gaia  39 yishun close   \n",
       "\n",
       "      property_name    property_type             tenure  built_year  num_beds  \\\n",
       "19587    north gaia  executive condo  99-year leasehold      2027.0       4.0   \n",
       "4460     north gaia  executive condo  99-year leasehold      2027.0       4.0   \n",
       "2145     north gaia  executive condo  99-year leasehold      2027.0       5.0   \n",
       "19256    north gaia  executive condo  99-year leasehold      2027.0       5.0   \n",
       "18560    north gaia  executive condo  99-year leasehold      2027.0       5.0   \n",
       "\n",
       "       num_baths  size_sqft  ...   furnishing available_unit_types  \\\n",
       "19587        3.0       1313  ...      partial        2, 3, 4, 5 br   \n",
       "4460         4.0       1593  ...  unspecified        2, 3, 4, 5 br   \n",
       "2145         4.0       1593  ...      partial        2, 3, 4, 5 br   \n",
       "19256        NaN       1593  ...  unfurnished        2, 3, 4, 5 br   \n",
       "18560        NaN       1593  ...  unspecified        2, 3, 4, 5 br   \n",
       "\n",
       "      total_num_units                               property_details_url  \\\n",
       "19587           616.0  https://www.99.co/singapore/condos-apartments/...   \n",
       "4460            616.0  https://www.99.co/singapore/condos-apartments/...   \n",
       "2145            616.0  https://www.99.co/singapore/condos-apartments/...   \n",
       "19256           616.0  https://www.99.co/singapore/condos-apartments/...   \n",
       "18560           616.0  https://www.99.co/singapore/condos-apartments/...   \n",
       "\n",
       "            lat         lng  elevation      subzone planning_area       price  \n",
       "19587  1.434928  103.845282          0  yishun east        yishun  16884000.0  \n",
       "4460   1.434928  103.845282          0  yishun east        yishun   2116800.0  \n",
       "2145   1.434928  103.845282          0  yishun east        yishun   2099000.0  \n",
       "19256  1.434928  103.845282          0  yishun east        yishun   2078000.0  \n",
       "18560  1.434928  103.845282          0  yishun east        yishun   2078000.0  \n",
       "\n",
       "[5 rows x 21 columns]"
      ]
     },
     "execution_count": 141,
     "metadata": {},
     "output_type": "execute_result"
    }
   ],
   "source": [
    "df_train[(df_train[\"property_name\"].str.contains(\"north gaia\"))].sort_values(\"price\", ascending=False).head()"
   ]
  },
  {
   "cell_type": "markdown",
   "metadata": {},
   "source": [
    "19587 is an outlier"
   ]
  }
 ],
 "metadata": {
  "kernelspec": {
   "display_name": "Python 3.9.13 64-bit ('3.9.13')",
   "language": "python",
   "name": "python3"
  },
  "language_info": {
   "codemirror_mode": {
    "name": "ipython",
    "version": 3
   },
   "file_extension": ".py",
   "mimetype": "text/x-python",
   "name": "python",
   "nbconvert_exporter": "python",
   "pygments_lexer": "ipython3",
   "version": "3.9.13"
  },
  "orig_nbformat": 4,
  "vscode": {
   "interpreter": {
    "hash": "80ee3313c3694f0d29f54357db4c8da5f1d5e4f68d75d1a3e71d97d138ede0c5"
   }
  }
 },
 "nbformat": 4,
 "nbformat_minor": 2
}
