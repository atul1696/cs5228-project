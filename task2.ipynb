{
 "cells": [
  {
   "cell_type": "markdown",
   "id": "492667f0",
   "metadata": {},
   "source": [
    "# Task 2: Recommendation Engine - Skeleton Notebook\n",
    "\n",
    "This notebook provides a very basic example for the notebook you are expected to submit for Task 2 of the Final Project. The main purpose is that we can try different examples to get a better sense of your approach. Compared to Task 1 (Kaggle Competition), we don't have any objective means to evaluate the recommendations. \n",
    "\n",
    "Some general comments:\n",
    "* You can import any data you need. This particularly includes your cleaned version of the properties dataset (incl. the auxiliary data or any other data you might have collected); there's no need to show the data cleaning / preprocessing steps in this notebook.\n",
    "* You can also import your code in form of external Python (.py) script. You're actually encouraged to do so to keep this notebook light and uncluttered.\n",
    "* **Important:** Please consider this notebook as an example and not to set specific requirements. Your notebook is likely to look very different. As long there is a section where we can easily test your solution, it should be fine."
   ]
  },
  {
   "cell_type": "markdown",
   "id": "b4e3949b",
   "metadata": {},
   "source": [
    "## Setting up the Notebook"
   ]
  },
  {
   "cell_type": "code",
   "execution_count": 1,
   "id": "0d2dc1ce",
   "metadata": {},
   "outputs": [],
   "source": [
    "import numpy as np\n",
    "import pandas as pd\n",
    "from tqdm import tqdm\n",
    "\n",
    "from dataloader import read_csv\n",
    "from preprocessing import DataPreprocessor"
   ]
  },
  {
   "cell_type": "code",
   "execution_count": 2,
   "id": "fc03050d",
   "metadata": {},
   "outputs": [],
   "source": [
    "# Some more magic so that the notebook will reload external python modules;\n",
    "# see http://stackoverflow.com/questions/1907993/autoreload-of-modules-in-ipython\n",
    "%load_ext autoreload\n",
    "%autoreload 2"
   ]
  },
  {
   "cell_type": "markdown",
   "id": "abb1a8b2",
   "metadata": {},
   "source": [
    "## Load the Data\n",
    "\n",
    "For this example, we use a simplified version of the dataset with only 2k+ data samples, each with only a subset of features."
   ]
  },
  {
   "cell_type": "code",
   "execution_count": 3,
   "id": "dda80443",
   "metadata": {},
   "outputs": [],
   "source": [
    "trainX, trainY = read_csv('data/train.csv', ylabel='price')"
   ]
  },
  {
   "cell_type": "code",
   "execution_count": 4,
   "id": "afa656bf",
   "metadata": {},
   "outputs": [],
   "source": [
    "auxSubzone, _ = read_csv('data/auxiliary-data/sg-subzones.csv')\n",
    "\n",
    "auxInfraDict = {}\n",
    "Infralist = ['sg-commerical-centres', 'sg-mrt-stations', 'sg-primary-schools', 'sg-secondary-schools', 'sg-shopping-malls']\n",
    "for ele in Infralist:\n",
    "    auxInfra, _ = read_csv('data/auxiliary-data/' + ele + '.csv')\n",
    "    auxInfraDict[ele] = auxInfra"
   ]
  },
  {
   "cell_type": "code",
   "execution_count": 5,
   "id": "28a655c4",
   "metadata": {},
   "outputs": [],
   "source": [
    "data_preprocessor = DataPreprocessor(auxSubzone, auxInfraDict)\n",
    "trainX, trainY = data_preprocessor.fit_transform(trainX, trainY)"
   ]
  },
  {
   "cell_type": "code",
   "execution_count": 6,
   "id": "5f3b02aa",
   "metadata": {},
   "outputs": [],
   "source": [
    "df_data = pd.concat([trainX, trainY], axis=1)"
   ]
  },
  {
   "cell_type": "code",
   "execution_count": 7,
   "id": "a0c4d0a6",
   "metadata": {},
   "outputs": [
    {
     "data": {
      "text/html": [
       "<div>\n",
       "<style scoped>\n",
       "    .dataframe tbody tr th:only-of-type {\n",
       "        vertical-align: middle;\n",
       "    }\n",
       "\n",
       "    .dataframe tbody tr th {\n",
       "        vertical-align: top;\n",
       "    }\n",
       "\n",
       "    .dataframe thead th {\n",
       "        text-align: right;\n",
       "    }\n",
       "</style>\n",
       "<table border=\"1\" class=\"dataframe\">\n",
       "  <thead>\n",
       "    <tr style=\"text-align: right;\">\n",
       "      <th></th>\n",
       "      <th>address</th>\n",
       "      <th>property_name</th>\n",
       "      <th>property_type</th>\n",
       "      <th>tenure</th>\n",
       "      <th>built_year</th>\n",
       "      <th>num_beds</th>\n",
       "      <th>num_baths</th>\n",
       "      <th>size_sqft</th>\n",
       "      <th>total_num_units</th>\n",
       "      <th>lat</th>\n",
       "      <th>...</th>\n",
       "      <th>furnishing_unfurnished</th>\n",
       "      <th>furnishing_fully</th>\n",
       "      <th>floor_level_nan</th>\n",
       "      <th>floor_level_low</th>\n",
       "      <th>floor_level_ground</th>\n",
       "      <th>floor_level_high</th>\n",
       "      <th>floor_level_penthouse</th>\n",
       "      <th>floor_level_mid</th>\n",
       "      <th>floor_level_top</th>\n",
       "      <th>price</th>\n",
       "    </tr>\n",
       "  </thead>\n",
       "  <tbody>\n",
       "    <tr>\n",
       "      <th>0</th>\n",
       "      <td>0.0</td>\n",
       "      <td>0.0</td>\n",
       "      <td>6.744873e+05</td>\n",
       "      <td>0.0</td>\n",
       "      <td>1988.0</td>\n",
       "      <td>3.0</td>\n",
       "      <td>2.0</td>\n",
       "      <td>1115.0</td>\n",
       "      <td>116.0</td>\n",
       "      <td>1.414399</td>\n",
       "      <td>...</td>\n",
       "      <td>0.0</td>\n",
       "      <td>0.0</td>\n",
       "      <td>1.0</td>\n",
       "      <td>0.0</td>\n",
       "      <td>0.0</td>\n",
       "      <td>0.0</td>\n",
       "      <td>0.0</td>\n",
       "      <td>0.0</td>\n",
       "      <td>0.0</td>\n",
       "      <td>514500.0</td>\n",
       "    </tr>\n",
       "    <tr>\n",
       "      <th>1</th>\n",
       "      <td>1.0</td>\n",
       "      <td>1.0</td>\n",
       "      <td>6.744873e+05</td>\n",
       "      <td>1.0</td>\n",
       "      <td>1992.0</td>\n",
       "      <td>4.0</td>\n",
       "      <td>2.0</td>\n",
       "      <td>1575.0</td>\n",
       "      <td>407.0</td>\n",
       "      <td>1.372597</td>\n",
       "      <td>...</td>\n",
       "      <td>0.0</td>\n",
       "      <td>0.0</td>\n",
       "      <td>1.0</td>\n",
       "      <td>0.0</td>\n",
       "      <td>0.0</td>\n",
       "      <td>0.0</td>\n",
       "      <td>0.0</td>\n",
       "      <td>0.0</td>\n",
       "      <td>0.0</td>\n",
       "      <td>995400.0</td>\n",
       "    </tr>\n",
       "    <tr>\n",
       "      <th>2</th>\n",
       "      <td>2.0</td>\n",
       "      <td>2.0</td>\n",
       "      <td>2.936252e+06</td>\n",
       "      <td>2.0</td>\n",
       "      <td>2022.0</td>\n",
       "      <td>4.0</td>\n",
       "      <td>6.0</td>\n",
       "      <td>3070.0</td>\n",
       "      <td>56.0</td>\n",
       "      <td>1.298773</td>\n",
       "      <td>...</td>\n",
       "      <td>0.0</td>\n",
       "      <td>0.0</td>\n",
       "      <td>0.0</td>\n",
       "      <td>1.0</td>\n",
       "      <td>0.0</td>\n",
       "      <td>0.0</td>\n",
       "      <td>0.0</td>\n",
       "      <td>0.0</td>\n",
       "      <td>0.0</td>\n",
       "      <td>8485000.0</td>\n",
       "    </tr>\n",
       "    <tr>\n",
       "      <th>3</th>\n",
       "      <td>3.0</td>\n",
       "      <td>3.0</td>\n",
       "      <td>2.936252e+06</td>\n",
       "      <td>2.0</td>\n",
       "      <td>2023.0</td>\n",
       "      <td>3.0</td>\n",
       "      <td>2.0</td>\n",
       "      <td>958.0</td>\n",
       "      <td>638.0</td>\n",
       "      <td>1.312364</td>\n",
       "      <td>...</td>\n",
       "      <td>0.0</td>\n",
       "      <td>0.0</td>\n",
       "      <td>1.0</td>\n",
       "      <td>0.0</td>\n",
       "      <td>0.0</td>\n",
       "      <td>0.0</td>\n",
       "      <td>0.0</td>\n",
       "      <td>0.0</td>\n",
       "      <td>0.0</td>\n",
       "      <td>2626000.0</td>\n",
       "    </tr>\n",
       "    <tr>\n",
       "      <th>4</th>\n",
       "      <td>4.0</td>\n",
       "      <td>4.0</td>\n",
       "      <td>2.936252e+06</td>\n",
       "      <td>1.0</td>\n",
       "      <td>2026.0</td>\n",
       "      <td>2.0</td>\n",
       "      <td>1.0</td>\n",
       "      <td>732.0</td>\n",
       "      <td>351.0</td>\n",
       "      <td>1.273959</td>\n",
       "      <td>...</td>\n",
       "      <td>0.0</td>\n",
       "      <td>0.0</td>\n",
       "      <td>1.0</td>\n",
       "      <td>0.0</td>\n",
       "      <td>0.0</td>\n",
       "      <td>0.0</td>\n",
       "      <td>0.0</td>\n",
       "      <td>0.0</td>\n",
       "      <td>0.0</td>\n",
       "      <td>1764000.0</td>\n",
       "    </tr>\n",
       "  </tbody>\n",
       "</table>\n",
       "<p>5 rows × 38 columns</p>\n",
       "</div>"
      ],
      "text/plain": [
       "   address  property_name  property_type  tenure  built_year  num_beds  \\\n",
       "0      0.0            0.0   6.744873e+05     0.0      1988.0       3.0   \n",
       "1      1.0            1.0   6.744873e+05     1.0      1992.0       4.0   \n",
       "2      2.0            2.0   2.936252e+06     2.0      2022.0       4.0   \n",
       "3      3.0            3.0   2.936252e+06     2.0      2023.0       3.0   \n",
       "4      4.0            4.0   2.936252e+06     1.0      2026.0       2.0   \n",
       "\n",
       "   num_baths  size_sqft  total_num_units       lat  ...  \\\n",
       "0        2.0     1115.0            116.0  1.414399  ...   \n",
       "1        2.0     1575.0            407.0  1.372597  ...   \n",
       "2        6.0     3070.0             56.0  1.298773  ...   \n",
       "3        2.0      958.0            638.0  1.312364  ...   \n",
       "4        1.0      732.0            351.0  1.273959  ...   \n",
       "\n",
       "   furnishing_unfurnished  furnishing_fully  floor_level_nan  floor_level_low  \\\n",
       "0                     0.0               0.0              1.0              0.0   \n",
       "1                     0.0               0.0              1.0              0.0   \n",
       "2                     0.0               0.0              0.0              1.0   \n",
       "3                     0.0               0.0              1.0              0.0   \n",
       "4                     0.0               0.0              1.0              0.0   \n",
       "\n",
       "   floor_level_ground  floor_level_high  floor_level_penthouse  \\\n",
       "0                 0.0               0.0                    0.0   \n",
       "1                 0.0               0.0                    0.0   \n",
       "2                 0.0               0.0                    0.0   \n",
       "3                 0.0               0.0                    0.0   \n",
       "4                 0.0               0.0                    0.0   \n",
       "\n",
       "   floor_level_mid  floor_level_top      price  \n",
       "0              0.0              0.0   514500.0  \n",
       "1              0.0              0.0   995400.0  \n",
       "2              0.0              0.0  8485000.0  \n",
       "3              0.0              0.0  2626000.0  \n",
       "4              0.0              0.0  1764000.0  \n",
       "\n",
       "[5 rows x 38 columns]"
      ]
     },
     "execution_count": 7,
     "metadata": {},
     "output_type": "execute_result"
    }
   ],
   "source": [
    "df_data.head()"
   ]
  },
  {
   "cell_type": "code",
   "execution_count": 17,
   "id": "02b6605d",
   "metadata": {},
   "outputs": [
    {
     "data": {
      "text/plain": [
       "address                          0.000000e+00\n",
       "property_name                    0.000000e+00\n",
       "property_type                    6.744873e+05\n",
       "tenure                           0.000000e+00\n",
       "built_year                       1.988000e+03\n",
       "num_beds                         3.000000e+00\n",
       "num_baths                        2.000000e+00\n",
       "size_sqft                        1.115000e+03\n",
       "total_num_units                  1.160000e+02\n",
       "lat                              1.414399e+00\n",
       "lng                              1.038372e+02\n",
       "subzone                          6.719120e+05\n",
       "planning_area                    1.124002e+06\n",
       "tenure_duration                  9.900000e+01\n",
       "is_freehold                      0.000000e+00\n",
       "nearest_sg-commerical-centres    3.003721e-02\n",
       "density_sg-commerical-centres    1.352862e-01\n",
       "nearest_sg-mrt-stations          5.164990e-03\n",
       "density_sg-mrt-stations          2.585848e+00\n",
       "nearest_sg-primary-schools       2.478569e-03\n",
       "density_sg-primary-schools       3.531130e+00\n",
       "nearest_sg-secondary-schools     1.647811e-03\n",
       "density_sg-secondary-schools     3.694676e+00\n",
       "nearest_sg-shopping-malls        5.588694e-03\n",
       "density_sg-shopping-malls        2.501239e+00\n",
       "subzone_area_size                1.340200e+00\n",
       "furnishing_unspecified           1.000000e+00\n",
       "furnishing_partial               0.000000e+00\n",
       "furnishing_unfurnished           0.000000e+00\n",
       "furnishing_fully                 0.000000e+00\n",
       "floor_level_nan                  1.000000e+00\n",
       "floor_level_low                  0.000000e+00\n",
       "floor_level_ground               0.000000e+00\n",
       "floor_level_high                 0.000000e+00\n",
       "floor_level_penthouse            0.000000e+00\n",
       "floor_level_mid                  0.000000e+00\n",
       "floor_level_top                  0.000000e+00\n",
       "price                            5.145000e+05\n",
       "Name: 0, dtype: float64"
      ]
     },
     "execution_count": 17,
     "metadata": {},
     "output_type": "execute_result"
    }
   ],
   "source": [
    "df_data.iloc[0]"
   ]
  },
  {
   "cell_type": "code",
   "execution_count": 16,
   "id": "ef95b4df",
   "metadata": {},
   "outputs": [
    {
     "name": "stdout",
     "output_type": "stream",
     "text": [
      "0    furnishing_unspecified\n",
      "dtype: object\n",
      "0    floor_level_nan\n",
      "dtype: object\n"
     ]
    },
    {
     "data": {
      "text/plain": [
       "address                          sembawang / yishun (d27)\n",
       "property_name                        866 yishun street 81\n",
       "property_type                                         hdb\n",
       "tenure                                                NaN\n",
       "built_year                                         1988.0\n",
       "num_beds                                              3.0\n",
       "num_baths                                             2.0\n",
       "size_sqft                                          1115.0\n",
       "total_num_units                                     116.0\n",
       "lat                                              1.414399\n",
       "lng                                            103.837196\n",
       "subzone                                      yishun south\n",
       "planning_area                                      yishun\n",
       "tenure_duration                                      99.0\n",
       "is_freehold                                           0.0\n",
       "nearest_sg-commerical-centres                    0.030037\n",
       "density_sg-commerical-centres                    0.135286\n",
       "nearest_sg-mrt-stations                          0.005165\n",
       "density_sg-mrt-stations                          2.585848\n",
       "nearest_sg-primary-schools                       0.002479\n",
       "density_sg-primary-schools                        3.53113\n",
       "nearest_sg-secondary-schools                     0.001648\n",
       "density_sg-secondary-schools                     3.694676\n",
       "nearest_sg-shopping-malls                        0.005589\n",
       "density_sg-shopping-malls                        2.501239\n",
       "subzone_area_size                                  1.3402\n",
       "price                                            514500.0\n",
       "furnishing                                    unspecified\n",
       "floor_level                                           nan\n",
       "Name: 0, dtype: object"
      ]
     },
     "execution_count": 16,
     "metadata": {},
     "output_type": "execute_result"
    }
   ],
   "source": [
    "data_preprocessor.inverse_transform(row).iloc[0]"
   ]
  },
  {
   "cell_type": "markdown",
   "id": "3ec513a2",
   "metadata": {},
   "source": [
    "## Computing the Top Recommendations\n",
    "\n",
    "The method `get_top_recommendations()` shows an example of how to get the top recommendations for a given data sample (data sample = row in the dataframe of the dataset). The input is a row from the dataset and a list of optional input parameters which will depend on your approach; `k` is the number of returned recommendations seems useful, though.\n",
    "\n",
    "The output should be a `pd.DataFrame` containing the recommendations. The output dataframe should have the same columns as the row + any additional columns you deem important (e.g., any score or tags that you might want to add to your recommendations).\n",
    "\n",
    "In principle, the method `get_top_recommendations()` may be imported from a external Python (.py) script as well."
   ]
  },
  {
   "cell_type": "code",
   "execution_count": null,
   "id": "8c79153a",
   "metadata": {},
   "outputs": [],
   "source": [
    "def get_top_recommendations(row, **kwargs) -> pd.DataFrame:\n",
    "    \n",
    "    #####################################################\n",
    "    ## Initialize the required parameters\n",
    "    \n",
    "    # The number of recommendations seem recommended\n",
    "    # Additional input parameters are up to you\n",
    "    k = 10\n",
    "    \n",
    "    # Extract all **kwargs input parameters\n",
    "    # and set the used paramaters (here: k)\n",
    "    for key, value in kwargs.items():\n",
    "        if key == 'k':\n",
    "            k = value\n",
    "    \n",
    "    \n",
    "\n",
    "        \n",
    "    # Return the dataset with the k recommendations\n",
    "    return df_result\n"
   ]
  },
  {
   "cell_type": "markdown",
   "id": "347d7765",
   "metadata": {},
   "source": [
    "## Testing the Recommendation Engine\n",
    "\n",
    "This will be the main part of your notebook to allow for testing your solutions. Most basically, for a given listing (defined by the row id in your input dataframe), we would like to see the recommendations you make. So however you set up your notebook, it should have at least a comparable section that will allow us to run your solution for different inputs.\n",
    "\n",
    "### Pick a Sample Listing as Input"
   ]
  },
  {
   "cell_type": "code",
   "execution_count": null,
   "id": "8d6390d0",
   "metadata": {},
   "outputs": [],
   "source": [
    "# Pick a row id of choice\n",
    "row_id = 10\n",
    "#row_id = 20\n",
    "#row_id = 30\n",
    "#row_id = 40\n",
    "#row_id = 50\n",
    "\n",
    "# Get the row from the dataframe (an valid row ids will throw an error)\n",
    "row = df_sample.iloc[row_id]\n",
    "\n",
    "# Just for printing it nicely, we create a new dataframe from this single row\n",
    "pd.DataFrame([row])"
   ]
  },
  {
   "cell_type": "markdown",
   "id": "f75dd2a4",
   "metadata": {},
   "source": [
    "## Compute and Display the recommendations\n",
    "\n",
    "Since the method `get_top_recommendations()` returns a `pd.DataFrame`, it's easy to display the result."
   ]
  },
  {
   "cell_type": "code",
   "execution_count": null,
   "id": "7b1cd34c",
   "metadata": {},
   "outputs": [],
   "source": [
    "k = 3\n",
    "\n",
    "df_recommendations = get_top_recommendations(row, k=k)\n",
    "\n",
    "df_recommendations.head(k)"
   ]
  },
  {
   "cell_type": "code",
   "execution_count": null,
   "id": "d41c96e3",
   "metadata": {},
   "outputs": [],
   "source": []
  }
 ],
 "metadata": {
  "kernelspec": {
   "display_name": "Python 3.9.13 64-bit ('3.9.13')",
   "language": "python",
   "name": "python3"
  },
  "language_info": {
   "codemirror_mode": {
    "name": "ipython",
    "version": 3
   },
   "file_extension": ".py",
   "mimetype": "text/x-python",
   "name": "python",
   "nbconvert_exporter": "python",
   "pygments_lexer": "ipython3",
   "version": "3.9.13"
  },
  "vscode": {
   "interpreter": {
    "hash": "80ee3313c3694f0d29f54357db4c8da5f1d5e4f68d75d1a3e71d97d138ede0c5"
   }
  }
 },
 "nbformat": 4,
 "nbformat_minor": 5
}
