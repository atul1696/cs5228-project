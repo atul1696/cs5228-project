{
 "cells": [
  {
   "cell_type": "markdown",
   "id": "492667f0",
   "metadata": {},
   "source": [
    "# Task 2: Recommendation Engine"
   ]
  },
  {
   "cell_type": "markdown",
   "id": "b4e3949b",
   "metadata": {},
   "source": [
    "### Setting up the Notebook"
   ]
  },
  {
   "cell_type": "code",
   "execution_count": 1,
   "id": "0d2dc1ce",
   "metadata": {},
   "outputs": [],
   "source": [
    "import numpy as np\n",
    "import pandas as pd\n",
    "\n",
    "from src.utils import read_csv\n",
    "from src.data_preprocessor import DataPreprocessor\n",
    "from src.preprocessor_utils import remove_columns, convert_to_lowercase\n",
    "\n",
    "from src.recommendation_utils import get_recommendation_weights"
   ]
  },
  {
   "cell_type": "code",
   "execution_count": 2,
   "id": "fc03050d",
   "metadata": {},
   "outputs": [],
   "source": [
    "# Some more magic so that the notebook will reload external python modules;\n",
    "# see http://stackoverflow.com/questions/1907993/autoreload-of-modules-in-ipython\n",
    "%load_ext autoreload\n",
    "%autoreload 2"
   ]
  },
  {
   "cell_type": "markdown",
   "id": "abb1a8b2",
   "metadata": {},
   "source": [
    "### Load the Data"
   ]
  },
  {
   "cell_type": "code",
   "execution_count": 3,
   "id": "dda80443",
   "metadata": {},
   "outputs": [],
   "source": [
    "trainX, trainY = read_csv('data/train.csv', ylabel='price')\n",
    "data_preprocessor = DataPreprocessor()\n",
    "trainX, trainY = data_preprocessor.fit_transform_for_recommendations(trainX, trainY)\n",
    "\n",
    "df = pd.concat([trainX, trainY], axis=1)"
   ]
  },
  {
   "cell_type": "markdown",
   "id": "aead945e",
   "metadata": {},
   "source": [
    "## Recommendation Setup"
   ]
  },
  {
   "cell_type": "markdown",
   "id": "3a101a26",
   "metadata": {},
   "source": [
    "### Features for Property Similarity\n",
    "\n",
    "| Feature | Description | Smallest Value | Largest Value | Continuous |\n",
    "| ------- | ----------- | - | - | ---------- |\n",
    "| subzone | Boolean variable to represent if the properties have the same subzone | 0 : Different subzones | 1 : Same subzone | No |\n",
    "| planning_area | Boolean variable to represent if the properties have the same planning area | 0 : Different planning areas | 0.5 : Same planning area | No |\n",
    "| price | Similarity score between prices (Gaussian kernel on top of L1 distance) | 0 | 1 : Same price | Yes |\n",
    "| property_type | Boolean variable to represent if the properties have the same property type | 0 : Different property type | 1 : Same property type | No |\n",
    "| num_beds | Boolean variable to represent if the properties have the same number of bedrooms | 0 : Different number of bedrooms | 1 : Same number of bedrooms | No |\n",
    "| size_sqft | Similarity score between property size (Gaussian kernel on top of L1 distance) | 0 | 1 : Same property size | Yes |\n",
    "| floor_level | Boolean variable to represent if the properties are at the same floor level | 0 : Different floor levels, or floor level of input row is NaN | 1 : Same floor level | No |\n",
    "| furnishing | Boolean variable to represent if the properties have the same level of furnishing | 0 : Different levels of furnishing, or furnishing of input row is unspecified | 1 : Same level of furnishing | No |\n",
    "| tenure_left | Similarity score between the number of years left in the tenure lease (Gaussian kernel on top of L1 distance) | 0 | 1 : Same numbers of years left | Yes |"
   ]
  },
  {
   "cell_type": "markdown",
   "id": "06c6a053",
   "metadata": {},
   "source": [
    "### User Input and Preferences\n",
    "\n",
    "<img src=\"images/99co_recommendation.jpg\" style=\"width: 700px;\"/>\n",
    "\n",
    "[99.co](99.co) shows four possible priorities that the user can provide to sort 'similar listings'. We adapt the same in our setup. While the `get_top_recommendations` is capable of handling highly nuanced weightage of each feature, we provide xxx pre-defined settings below. Uncomment any one to continue, or make no changes to see the universal recommendations."
   ]
  },
  {
   "cell_type": "code",
   "execution_count": 4,
   "id": "f7a2c9af",
   "metadata": {},
   "outputs": [],
   "source": [
    "feature_list = ['subzone', 'planning_area', 'price',\n",
    "                'property_type', 'num_beds', 'size_sqft',\n",
    "                'floor_level', 'furnishing', 'tenure_left']\n",
    "feature_weightage = {k:1 for k in feature_list}\n",
    "\n",
    "########## Prioritize 'nearby' property ##########\n",
    "# feature_weightage['subzone'] = 10\n",
    "# feature_weightage['planning_area'] = 10\n",
    "\n",
    "########## Prioritize units with similar 'price' ##########\n",
    "# feature_weightage['price'] = 10\n",
    "\n",
    "########## And a few more ##########"
   ]
  },
  {
   "cell_type": "markdown",
   "id": "3ec513a2",
   "metadata": {},
   "source": [
    "## Computing the Top Recommendations"
   ]
  },
  {
   "cell_type": "code",
   "execution_count": 5,
   "id": "c4ddcdbb",
   "metadata": {},
   "outputs": [],
   "source": [
    "np.random.seed(hash(\"99.co\")%100)"
   ]
  },
  {
   "cell_type": "code",
   "execution_count": 6,
   "id": "8c79153a",
   "metadata": {},
   "outputs": [],
   "source": [
    "def get_top_recommendations(row, df, feature_weightage, k=3):\n",
    "\n",
    "    ######## Remove input from dataframe (To stop recommending the input itself)\n",
    "    df = df.drop(row.name)\n",
    "    \n",
    "    ######## Get Recommendation Weights For Each Property\n",
    "    df_weights = get_recommendation_weights(row, df, feature_weightage)\n",
    "\n",
    "    ######## Filter Out Top Properties (More Than Requested)\n",
    "    top_property_indices = df_weights.argsort()[-5*k:]\n",
    "    \n",
    "    ######## Introduce Randomness in Choice From The Top Recommendations\n",
    "    prob = df_weights[top_property_indices]\n",
    "    prob = prob/prob.sum()\n",
    "    rec_indices = np.random.choice(df.index[top_property_indices], size=k, replace=False, p=prob)\n",
    "    return np.array(rec_indices)"
   ]
  },
  {
   "cell_type": "markdown",
   "id": "347d7765",
   "metadata": {},
   "source": [
    "## Testing the Recommendation Engine"
   ]
  },
  {
   "cell_type": "markdown",
   "id": "1c793d56",
   "metadata": {},
   "source": [
    "### Pick a Sample Listing as Input"
   ]
  },
  {
   "cell_type": "code",
   "execution_count": 7,
   "id": "8d6390d0",
   "metadata": {},
   "outputs": [
    {
     "data": {
      "text/html": [
       "<div>\n",
       "<style scoped>\n",
       "    .dataframe tbody tr th:only-of-type {\n",
       "        vertical-align: middle;\n",
       "    }\n",
       "\n",
       "    .dataframe tbody tr th {\n",
       "        vertical-align: top;\n",
       "    }\n",
       "\n",
       "    .dataframe thead th {\n",
       "        text-align: right;\n",
       "    }\n",
       "</style>\n",
       "<table border=\"1\" class=\"dataframe\">\n",
       "  <thead>\n",
       "    <tr style=\"text-align: right;\">\n",
       "      <th></th>\n",
       "      <th>address</th>\n",
       "      <th>property_name</th>\n",
       "      <th>property_type</th>\n",
       "      <th>tenure</th>\n",
       "      <th>built_year</th>\n",
       "      <th>num_beds</th>\n",
       "      <th>num_baths</th>\n",
       "      <th>size_sqft</th>\n",
       "      <th>floor_level</th>\n",
       "      <th>furnishing</th>\n",
       "      <th>total_num_units</th>\n",
       "      <th>lat</th>\n",
       "      <th>lng</th>\n",
       "      <th>subzone</th>\n",
       "      <th>planning_area</th>\n",
       "      <th>tenure_duration</th>\n",
       "      <th>is_freehold</th>\n",
       "      <th>price</th>\n",
       "    </tr>\n",
       "  </thead>\n",
       "  <tbody>\n",
       "    <tr>\n",
       "      <th>10</th>\n",
       "      <td>299 bedok south avenue 3</td>\n",
       "      <td>bedok court</td>\n",
       "      <td>condo</td>\n",
       "      <td>99-year leasehold</td>\n",
       "      <td>1985.0</td>\n",
       "      <td>2.0</td>\n",
       "      <td>NaN</td>\n",
       "      <td>1733</td>\n",
       "      <td>high</td>\n",
       "      <td>unspecified</td>\n",
       "      <td>280.0</td>\n",
       "      <td>1.322153</td>\n",
       "      <td>103.945223</td>\n",
       "      <td>bedok south</td>\n",
       "      <td>bedok</td>\n",
       "      <td>99</td>\n",
       "      <td>False</td>\n",
       "      <td>2205000.0</td>\n",
       "    </tr>\n",
       "  </tbody>\n",
       "</table>\n",
       "</div>"
      ],
      "text/plain": [
       "                     address property_name property_type             tenure  \\\n",
       "10  299 bedok south avenue 3   bedok court         condo  99-year leasehold   \n",
       "\n",
       "    built_year  num_beds  num_baths  size_sqft floor_level   furnishing  \\\n",
       "10      1985.0       2.0        NaN       1733        high  unspecified   \n",
       "\n",
       "    total_num_units       lat         lng      subzone planning_area  \\\n",
       "10            280.0  1.322153  103.945223  bedok south         bedok   \n",
       "\n",
       "   tenure_duration  is_freehold      price  \n",
       "10              99        False  2205000.0  "
      ]
     },
     "execution_count": 7,
     "metadata": {},
     "output_type": "execute_result"
    }
   ],
   "source": [
    "# Pick a row id of choice\n",
    "row_id = 10\n",
    "#row_id = 20\n",
    "#row_id = 30\n",
    "#row_id = 40\n",
    "#row_id = 50\n",
    "\n",
    "# Get the row from the dataframe (an valid row ids will throw an error)\n",
    "row = df.iloc[row_id]\n",
    "\n",
    "# Just for printing it nicely, we create a new dataframe from this single row\n",
    "pd.DataFrame([row])\n",
    "# pd.DataFrame([row])"
   ]
  },
  {
   "cell_type": "markdown",
   "id": "f75dd2a4",
   "metadata": {},
   "source": [
    "### Compute and Display the recommendations"
   ]
  },
  {
   "cell_type": "code",
   "execution_count": 8,
   "id": "7b1cd34c",
   "metadata": {},
   "outputs": [
    {
     "data": {
      "text/html": [
       "<div>\n",
       "<style scoped>\n",
       "    .dataframe tbody tr th:only-of-type {\n",
       "        vertical-align: middle;\n",
       "    }\n",
       "\n",
       "    .dataframe tbody tr th {\n",
       "        vertical-align: top;\n",
       "    }\n",
       "\n",
       "    .dataframe thead th {\n",
       "        text-align: right;\n",
       "    }\n",
       "</style>\n",
       "<table border=\"1\" class=\"dataframe\">\n",
       "  <thead>\n",
       "    <tr style=\"text-align: right;\">\n",
       "      <th></th>\n",
       "      <th>address</th>\n",
       "      <th>property_name</th>\n",
       "      <th>property_type</th>\n",
       "      <th>tenure</th>\n",
       "      <th>built_year</th>\n",
       "      <th>num_beds</th>\n",
       "      <th>num_baths</th>\n",
       "      <th>size_sqft</th>\n",
       "      <th>floor_level</th>\n",
       "      <th>furnishing</th>\n",
       "      <th>total_num_units</th>\n",
       "      <th>lat</th>\n",
       "      <th>lng</th>\n",
       "      <th>subzone</th>\n",
       "      <th>planning_area</th>\n",
       "      <th>tenure_duration</th>\n",
       "      <th>is_freehold</th>\n",
       "      <th>price</th>\n",
       "    </tr>\n",
       "  </thead>\n",
       "  <tbody>\n",
       "    <tr>\n",
       "      <th>12579</th>\n",
       "      <td>18 bedok north drive</td>\n",
       "      <td>bedok residences</td>\n",
       "      <td>condo</td>\n",
       "      <td>99-year leasehold</td>\n",
       "      <td>2015.0</td>\n",
       "      <td>2.0</td>\n",
       "      <td>2.0</td>\n",
       "      <td>883</td>\n",
       "      <td>high</td>\n",
       "      <td>partial</td>\n",
       "      <td>583.0</td>\n",
       "      <td>1.321972</td>\n",
       "      <td>103.946825</td>\n",
       "      <td>bedok south</td>\n",
       "      <td>bedok</td>\n",
       "      <td>99</td>\n",
       "      <td>False</td>\n",
       "      <td>1470000.0</td>\n",
       "    </tr>\n",
       "    <tr>\n",
       "      <th>7985</th>\n",
       "      <td>2 bedok rise</td>\n",
       "      <td>the glades</td>\n",
       "      <td>condo</td>\n",
       "      <td>99-year leasehold</td>\n",
       "      <td>2017.0</td>\n",
       "      <td>2.0</td>\n",
       "      <td>2.0</td>\n",
       "      <td>840</td>\n",
       "      <td>NaN</td>\n",
       "      <td>unspecified</td>\n",
       "      <td>726.0</td>\n",
       "      <td>1.326567</td>\n",
       "      <td>103.947897</td>\n",
       "      <td>bedok south</td>\n",
       "      <td>bedok</td>\n",
       "      <td>99</td>\n",
       "      <td>False</td>\n",
       "      <td>1312500.0</td>\n",
       "    </tr>\n",
       "    <tr>\n",
       "      <th>14424</th>\n",
       "      <td>24 bedok north drive</td>\n",
       "      <td>bedok residences</td>\n",
       "      <td>condo</td>\n",
       "      <td>99-year leasehold</td>\n",
       "      <td>2015.0</td>\n",
       "      <td>2.0</td>\n",
       "      <td>2.0</td>\n",
       "      <td>764</td>\n",
       "      <td>NaN</td>\n",
       "      <td>fully</td>\n",
       "      <td>583.0</td>\n",
       "      <td>1.321972</td>\n",
       "      <td>103.946825</td>\n",
       "      <td>bedok south</td>\n",
       "      <td>bedok</td>\n",
       "      <td>99</td>\n",
       "      <td>False</td>\n",
       "      <td>1312500.0</td>\n",
       "    </tr>\n",
       "  </tbody>\n",
       "</table>\n",
       "</div>"
      ],
      "text/plain": [
       "                    address     property_name property_type  \\\n",
       "12579  18 bedok north drive  bedok residences         condo   \n",
       "7985           2 bedok rise        the glades         condo   \n",
       "14424  24 bedok north drive  bedok residences         condo   \n",
       "\n",
       "                  tenure  built_year  num_beds  num_baths  size_sqft  \\\n",
       "12579  99-year leasehold      2015.0       2.0        2.0        883   \n",
       "7985   99-year leasehold      2017.0       2.0        2.0        840   \n",
       "14424  99-year leasehold      2015.0       2.0        2.0        764   \n",
       "\n",
       "      floor_level   furnishing  total_num_units       lat         lng  \\\n",
       "12579        high      partial            583.0  1.321972  103.946825   \n",
       "7985          NaN  unspecified            726.0  1.326567  103.947897   \n",
       "14424         NaN        fully            583.0  1.321972  103.946825   \n",
       "\n",
       "           subzone planning_area tenure_duration  is_freehold      price  \n",
       "12579  bedok south         bedok              99        False  1470000.0  \n",
       "7985   bedok south         bedok              99        False  1312500.0  \n",
       "14424  bedok south         bedok              99        False  1312500.0  "
      ]
     },
     "execution_count": 8,
     "metadata": {},
     "output_type": "execute_result"
    }
   ],
   "source": [
    "k = 3\n",
    "\n",
    "recommendation_list = get_top_recommendations(row, df, feature_weightage, k=k)\n",
    "\n",
    "df.iloc[recommendation_list]"
   ]
  },
  {
   "cell_type": "code",
   "execution_count": null,
   "id": "2ba17ce1",
   "metadata": {},
   "outputs": [],
   "source": []
  }
 ],
 "metadata": {
  "kernelspec": {
   "display_name": "Python 3 (ipykernel)",
   "language": "python",
   "name": "python3"
  },
  "language_info": {
   "codemirror_mode": {
    "name": "ipython",
    "version": 3
   },
   "file_extension": ".py",
   "mimetype": "text/x-python",
   "name": "python",
   "nbconvert_exporter": "python",
   "pygments_lexer": "ipython3",
   "version": "3.9.10"
  },
  "vscode": {
   "interpreter": {
    "hash": "80ee3313c3694f0d29f54357db4c8da5f1d5e4f68d75d1a3e71d97d138ede0c5"
   }
  }
 },
 "nbformat": 4,
 "nbformat_minor": 5
}
