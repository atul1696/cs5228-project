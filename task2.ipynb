{
 "cells": [
  {
   "cell_type": "markdown",
   "id": "492667f0",
   "metadata": {},
   "source": [
    "# Task 2: Recommendation Engine - Skeleton Notebook"
   ]
  },
  {
   "cell_type": "markdown",
   "id": "b4e3949b",
   "metadata": {},
   "source": [
    "### Setting up the Notebook"
   ]
  },
  {
   "cell_type": "code",
   "execution_count": 1,
   "id": "0d2dc1ce",
   "metadata": {},
   "outputs": [],
   "source": [
    "import numpy as np\n",
    "import pandas as pd\n",
    "\n",
    "from src.utils import read_csv\n",
    "from src.data_preprocessor import DataPreprocessor\n",
    "\n",
    "from src.recommendation_utils import top_k_cosine_distance, top_k_nearest_neighbors"
   ]
  },
  {
   "cell_type": "code",
   "execution_count": 2,
   "id": "fc03050d",
   "metadata": {},
   "outputs": [],
   "source": [
    "# Some more magic so that the notebook will reload external python modules;\n",
    "# see http://stackoverflow.com/questions/1907993/autoreload-of-modules-in-ipython\n",
    "%load_ext autoreload\n",
    "%autoreload 2"
   ]
  },
  {
   "cell_type": "markdown",
   "id": "abb1a8b2",
   "metadata": {},
   "source": [
    "### Load the Data"
   ]
  },
  {
   "cell_type": "code",
   "execution_count": 3,
   "id": "dda80443",
   "metadata": {},
   "outputs": [],
   "source": [
    "trainX, trainY = read_csv('data/train.csv', ylabel='price')\n",
    "\n",
    "auxSubzone, _ = read_csv('data/auxiliary-data/sg-subzones.csv')\n",
    "\n",
    "auxInfraDict = {}\n",
    "Infralist = ['sg-commerical-centres', 'sg-mrt-stations', 'sg-primary-schools', 'sg-secondary-schools', 'sg-shopping-malls']\n",
    "for ele in Infralist:\n",
    "    auxInfra, _ = read_csv('data/auxiliary-data/' + ele + '.csv')\n",
    "    auxInfraDict[ele] = auxInfra\n",
    "\n",
    "data_preprocessor = DataPreprocessor(auxSubzone, auxInfraDict)\n",
    "trainX, trainY = data_preprocessor.fit_transform(trainX, trainY)\n",
    "\n",
    "df = pd.concat([trainX, trainY], axis=1)"
   ]
  },
  {
   "cell_type": "markdown",
   "id": "3ec513a2",
   "metadata": {},
   "source": [
    "## Computing the Top Recommendations"
   ]
  },
  {
   "cell_type": "code",
   "execution_count": 12,
   "id": "8c79153a",
   "metadata": {},
   "outputs": [],
   "source": [
    "def get_top_recommendations(row, df, k=3):\n",
    "    # index_list = top_k_cosine_distance(row, df, k=k)\n",
    "    # index_list = top_k_nearest_neighbors(row, df, k=k)\n",
    "        \n",
    "    return index_list"
   ]
  },
  {
   "cell_type": "markdown",
   "id": "347d7765",
   "metadata": {},
   "source": [
    "## Testing the Recommendation Engine"
   ]
  },
  {
   "cell_type": "markdown",
   "id": "1c793d56",
   "metadata": {},
   "source": [
    "### Pick a Sample Listing as Input"
   ]
  },
  {
   "cell_type": "code",
   "execution_count": 13,
   "id": "8d6390d0",
   "metadata": {},
   "outputs": [
    {
     "data": {
      "text/html": [
       "<div>\n",
       "<style scoped>\n",
       "    .dataframe tbody tr th:only-of-type {\n",
       "        vertical-align: middle;\n",
       "    }\n",
       "\n",
       "    .dataframe tbody tr th {\n",
       "        vertical-align: top;\n",
       "    }\n",
       "\n",
       "    .dataframe thead th {\n",
       "        text-align: right;\n",
       "    }\n",
       "</style>\n",
       "<table border=\"1\" class=\"dataframe\">\n",
       "  <thead>\n",
       "    <tr style=\"text-align: right;\">\n",
       "      <th></th>\n",
       "      <th>address</th>\n",
       "      <th>property_name</th>\n",
       "      <th>property_type</th>\n",
       "      <th>built_year</th>\n",
       "      <th>num_beds</th>\n",
       "      <th>num_baths</th>\n",
       "      <th>size_sqft</th>\n",
       "      <th>total_num_units</th>\n",
       "      <th>lat</th>\n",
       "      <th>lng</th>\n",
       "      <th>...</th>\n",
       "      <th>nearest_sg-primary-schools</th>\n",
       "      <th>density_sg-primary-schools</th>\n",
       "      <th>nearest_sg-secondary-schools</th>\n",
       "      <th>density_sg-secondary-schools</th>\n",
       "      <th>nearest_sg-shopping-malls</th>\n",
       "      <th>density_sg-shopping-malls</th>\n",
       "      <th>subzone_area_size</th>\n",
       "      <th>price</th>\n",
       "      <th>furnishing</th>\n",
       "      <th>floor_level</th>\n",
       "    </tr>\n",
       "  </thead>\n",
       "  <tbody>\n",
       "    <tr>\n",
       "      <th>10</th>\n",
       "      <td>299 bedok south avenue 3</td>\n",
       "      <td>bedok court</td>\n",
       "      <td>condo</td>\n",
       "      <td>1985.0</td>\n",
       "      <td>2.0</td>\n",
       "      <td>4.0</td>\n",
       "      <td>1733.0</td>\n",
       "      <td>280.0</td>\n",
       "      <td>1.322153</td>\n",
       "      <td>103.945223</td>\n",
       "      <td>...</td>\n",
       "      <td>0.004778</td>\n",
       "      <td>3.368502</td>\n",
       "      <td>0.003085</td>\n",
       "      <td>3.972056</td>\n",
       "      <td>0.016131</td>\n",
       "      <td>2.012918</td>\n",
       "      <td>2.9973</td>\n",
       "      <td>2205000.0</td>\n",
       "      <td>unspecified</td>\n",
       "      <td>high</td>\n",
       "    </tr>\n",
       "  </tbody>\n",
       "</table>\n",
       "<p>1 rows × 28 columns</p>\n",
       "</div>"
      ],
      "text/plain": [
       "                     address property_name property_type  built_year  \\\n",
       "10  299 bedok south avenue 3   bedok court         condo      1985.0   \n",
       "\n",
       "    num_beds  num_baths  size_sqft  total_num_units       lat         lng  \\\n",
       "10       2.0        4.0     1733.0            280.0  1.322153  103.945223   \n",
       "\n",
       "    ... nearest_sg-primary-schools density_sg-primary-schools  \\\n",
       "10  ...                   0.004778                   3.368502   \n",
       "\n",
       "    nearest_sg-secondary-schools  density_sg-secondary-schools  \\\n",
       "10                      0.003085                      3.972056   \n",
       "\n",
       "    nearest_sg-shopping-malls  density_sg-shopping-malls  subzone_area_size  \\\n",
       "10                   0.016131                   2.012918             2.9973   \n",
       "\n",
       "        price   furnishing  floor_level  \n",
       "10  2205000.0  unspecified         high  \n",
       "\n",
       "[1 rows x 28 columns]"
      ]
     },
     "execution_count": 13,
     "metadata": {},
     "output_type": "execute_result"
    }
   ],
   "source": [
    "# Pick a row id of choice\n",
    "row_id = 10\n",
    "#row_id = 20\n",
    "#row_id = 30\n",
    "#row_id = 40\n",
    "#row_id = 50\n",
    "\n",
    "# Get the row from the dataframe (an valid row ids will throw an error)\n",
    "row = df.iloc[row_id]\n",
    "\n",
    "# Just for printing it nicely, we create a new dataframe from this single row\n",
    "data_preprocessor.inverse_transform(pd.DataFrame([row]))"
   ]
  },
  {
   "cell_type": "markdown",
   "id": "f75dd2a4",
   "metadata": {},
   "source": [
    "### Compute and Display the recommendations"
   ]
  },
  {
   "cell_type": "code",
   "execution_count": 15,
   "id": "7b1cd34c",
   "metadata": {},
   "outputs": [
    {
     "data": {
      "text/html": [
       "<div>\n",
       "<style scoped>\n",
       "    .dataframe tbody tr th:only-of-type {\n",
       "        vertical-align: middle;\n",
       "    }\n",
       "\n",
       "    .dataframe tbody tr th {\n",
       "        vertical-align: top;\n",
       "    }\n",
       "\n",
       "    .dataframe thead th {\n",
       "        text-align: right;\n",
       "    }\n",
       "</style>\n",
       "<table border=\"1\" class=\"dataframe\">\n",
       "  <thead>\n",
       "    <tr style=\"text-align: right;\">\n",
       "      <th></th>\n",
       "      <th>address</th>\n",
       "      <th>property_name</th>\n",
       "      <th>property_type</th>\n",
       "      <th>built_year</th>\n",
       "      <th>num_beds</th>\n",
       "      <th>num_baths</th>\n",
       "      <th>size_sqft</th>\n",
       "      <th>total_num_units</th>\n",
       "      <th>lat</th>\n",
       "      <th>lng</th>\n",
       "      <th>...</th>\n",
       "      <th>nearest_sg-primary-schools</th>\n",
       "      <th>density_sg-primary-schools</th>\n",
       "      <th>nearest_sg-secondary-schools</th>\n",
       "      <th>density_sg-secondary-schools</th>\n",
       "      <th>nearest_sg-shopping-malls</th>\n",
       "      <th>density_sg-shopping-malls</th>\n",
       "      <th>subzone_area_size</th>\n",
       "      <th>price</th>\n",
       "      <th>furnishing</th>\n",
       "      <th>floor_level</th>\n",
       "    </tr>\n",
       "  </thead>\n",
       "  <tbody>\n",
       "    <tr>\n",
       "      <th>10</th>\n",
       "      <td>299 bedok south avenue 3</td>\n",
       "      <td>bedok court</td>\n",
       "      <td>condo</td>\n",
       "      <td>1985.0</td>\n",
       "      <td>2.0</td>\n",
       "      <td>4.0</td>\n",
       "      <td>1733.0</td>\n",
       "      <td>280.0</td>\n",
       "      <td>1.322153</td>\n",
       "      <td>103.945223</td>\n",
       "      <td>...</td>\n",
       "      <td>0.004778</td>\n",
       "      <td>3.368502</td>\n",
       "      <td>0.003085</td>\n",
       "      <td>3.972056</td>\n",
       "      <td>0.016131</td>\n",
       "      <td>2.012918</td>\n",
       "      <td>2.9973</td>\n",
       "      <td>2205000.0</td>\n",
       "      <td>unspecified</td>\n",
       "      <td>high</td>\n",
       "    </tr>\n",
       "    <tr>\n",
       "      <th>3160</th>\n",
       "      <td>295 bedok south avenue 3</td>\n",
       "      <td>bedok court</td>\n",
       "      <td>condo</td>\n",
       "      <td>1985.0</td>\n",
       "      <td>2.0</td>\n",
       "      <td>2.0</td>\n",
       "      <td>1733.0</td>\n",
       "      <td>280.0</td>\n",
       "      <td>1.322153</td>\n",
       "      <td>103.945223</td>\n",
       "      <td>...</td>\n",
       "      <td>0.004778</td>\n",
       "      <td>3.368502</td>\n",
       "      <td>0.003085</td>\n",
       "      <td>3.972056</td>\n",
       "      <td>0.016131</td>\n",
       "      <td>2.012918</td>\n",
       "      <td>2.9973</td>\n",
       "      <td>2205000.0</td>\n",
       "      <td>unfurnished</td>\n",
       "      <td>high</td>\n",
       "    </tr>\n",
       "    <tr>\n",
       "      <th>12352</th>\n",
       "      <td>295 bedok south avenue 3</td>\n",
       "      <td>bedok court</td>\n",
       "      <td>condo</td>\n",
       "      <td>1985.0</td>\n",
       "      <td>2.0</td>\n",
       "      <td>2.0</td>\n",
       "      <td>1733.0</td>\n",
       "      <td>280.0</td>\n",
       "      <td>1.322153</td>\n",
       "      <td>103.945223</td>\n",
       "      <td>...</td>\n",
       "      <td>0.004778</td>\n",
       "      <td>3.368502</td>\n",
       "      <td>0.003085</td>\n",
       "      <td>3.972056</td>\n",
       "      <td>0.016131</td>\n",
       "      <td>2.012918</td>\n",
       "      <td>2.9973</td>\n",
       "      <td>2205000.0</td>\n",
       "      <td>unspecified</td>\n",
       "      <td>mid</td>\n",
       "    </tr>\n",
       "  </tbody>\n",
       "</table>\n",
       "<p>3 rows × 28 columns</p>\n",
       "</div>"
      ],
      "text/plain": [
       "                        address property_name property_type  built_year  \\\n",
       "10     299 bedok south avenue 3   bedok court         condo      1985.0   \n",
       "3160   295 bedok south avenue 3   bedok court         condo      1985.0   \n",
       "12352  295 bedok south avenue 3   bedok court         condo      1985.0   \n",
       "\n",
       "       num_beds  num_baths  size_sqft  total_num_units       lat         lng  \\\n",
       "10          2.0        4.0     1733.0            280.0  1.322153  103.945223   \n",
       "3160        2.0        2.0     1733.0            280.0  1.322153  103.945223   \n",
       "12352       2.0        2.0     1733.0            280.0  1.322153  103.945223   \n",
       "\n",
       "       ... nearest_sg-primary-schools density_sg-primary-schools  \\\n",
       "10     ...                   0.004778                   3.368502   \n",
       "3160   ...                   0.004778                   3.368502   \n",
       "12352  ...                   0.004778                   3.368502   \n",
       "\n",
       "       nearest_sg-secondary-schools  density_sg-secondary-schools  \\\n",
       "10                         0.003085                      3.972056   \n",
       "3160                       0.003085                      3.972056   \n",
       "12352                      0.003085                      3.972056   \n",
       "\n",
       "       nearest_sg-shopping-malls  density_sg-shopping-malls  \\\n",
       "10                      0.016131                   2.012918   \n",
       "3160                    0.016131                   2.012918   \n",
       "12352                   0.016131                   2.012918   \n",
       "\n",
       "       subzone_area_size      price   furnishing  floor_level  \n",
       "10                2.9973  2205000.0  unspecified         high  \n",
       "3160              2.9973  2205000.0  unfurnished         high  \n",
       "12352             2.9973  2205000.0  unspecified          mid  \n",
       "\n",
       "[3 rows x 28 columns]"
      ]
     },
     "execution_count": 15,
     "metadata": {},
     "output_type": "execute_result"
    }
   ],
   "source": [
    "k = 3\n",
    "\n",
    "recommendation_list = get_top_recommendations(pd.DataFrame([row]), df, k=k)\n",
    "\n",
    "data_preprocessor.inverse_transform(df.iloc[recommendation_list])"
   ]
  },
  {
   "cell_type": "code",
   "execution_count": null,
   "id": "d41c96e3",
   "metadata": {},
   "outputs": [],
   "source": []
  }
 ],
 "metadata": {
  "kernelspec": {
   "display_name": "Python 3 (ipykernel)",
   "language": "python",
   "name": "python3"
  },
  "language_info": {
   "codemirror_mode": {
    "name": "ipython",
    "version": 3
   },
   "file_extension": ".py",
   "mimetype": "text/x-python",
   "name": "python",
   "nbconvert_exporter": "python",
   "pygments_lexer": "ipython3",
   "version": "3.9.10"
  },
  "vscode": {
   "interpreter": {
    "hash": "80ee3313c3694f0d29f54357db4c8da5f1d5e4f68d75d1a3e71d97d138ede0c5"
   }
  }
 },
 "nbformat": 4,
 "nbformat_minor": 5
}
