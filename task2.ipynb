{
 "cells": [
  {
   "cell_type": "markdown",
   "id": "492667f0",
   "metadata": {},
   "source": [
    "# Task 2: Recommendation Engine"
   ]
  },
  {
   "cell_type": "markdown",
   "id": "b4e3949b",
   "metadata": {},
   "source": [
    "### Setting up the Notebook"
   ]
  },
  {
   "cell_type": "code",
   "execution_count": 1,
   "id": "0d2dc1ce",
   "metadata": {},
   "outputs": [],
   "source": [
    "import numpy as np\n",
    "import pandas as pd\n",
    "\n",
    "from src.utils import read_csv\n",
    "from src.data_preprocessor import DataPreprocessor\n",
    "from src.preprocessor_utils import remove_columns, convert_to_lowercase\n",
    "\n",
    "from src.recommendation_utils import get_recommendation_weights"
   ]
  },
  {
   "cell_type": "code",
   "execution_count": 2,
   "id": "fc03050d",
   "metadata": {},
   "outputs": [],
   "source": [
    "# Some more magic so that the notebook will reload external python modules;\n",
    "# see http://stackoverflow.com/questions/1907993/autoreload-of-modules-in-ipython\n",
    "%load_ext autoreload\n",
    "%autoreload 2"
   ]
  },
  {
   "cell_type": "markdown",
   "id": "abb1a8b2",
   "metadata": {},
   "source": [
    "### Load the Data"
   ]
  },
  {
   "cell_type": "code",
   "execution_count": 3,
   "id": "dda80443",
   "metadata": {},
   "outputs": [],
   "source": [
    "trainX, trainY = read_csv('data/train.csv', ylabel='price')\n",
    "# data_preprocessor = DataPreprocessor()\n",
    "# trainX, trainY = data_preprocessor.fit_transform_for_recommendations(trainX, trainY)\n",
    "\n",
    "df = pd.concat([trainX, trainY], axis=1)"
   ]
  },
  {
   "cell_type": "markdown",
   "id": "aead945e",
   "metadata": {},
   "source": [
    "## Recommendation Setup"
   ]
  },
  {
   "cell_type": "markdown",
   "id": "3a101a26",
   "metadata": {},
   "source": [
    "### Features for Property Similarity\n",
    "\n",
    "- `subzone` - Boolean variable to represent if the properties have the same subzone\n",
    "- `planning_area` - Boolean variable to represent if the properties have the same planning area\n",
    "- `price` - Boolean variable to represent if the property prices are in the same discrete bin\n",
    "- ...many more"
   ]
  },
  {
   "cell_type": "markdown",
   "id": "06c6a053",
   "metadata": {},
   "source": [
    "### User Input and Preferences\n",
    "\n",
    "<img src=\"images/99co_recommendation.jpg\" style=\"width: 700px;\"/>\n",
    "\n",
    "[99.co](99.co) shows four possible priorities that the user can provide to sort 'similar listings'. We adapt the same in our setup. While the `get_top_recommendations` is capable of handling highly nuanced weightage of each feature, we provide xxx pre-defined settings below. Uncomment any one to continue, or make no changes to see the universal recommendations."
   ]
  },
  {
   "cell_type": "code",
   "execution_count": 4,
   "id": "f7a2c9af",
   "metadata": {},
   "outputs": [],
   "source": [
    "feature_list = ['subzone', 'planning_area', 'price']\n",
    "feature_weightage = {k:1 for k in feature_list}\n",
    "\n",
    "########## Prioritize 'nearby' property ##########\n",
    "# feature_weightage['subzone'] = 10\n",
    "# feature_weightage['planning_area'] = 10\n",
    "\n",
    "########## Prioritize units with similar 'price' ##########\n",
    "# feature_weightage['price'] = 10\n",
    "\n",
    "########## And a few more ##########"
   ]
  },
  {
   "cell_type": "markdown",
   "id": "3ec513a2",
   "metadata": {},
   "source": [
    "## Computing the Top Recommendations"
   ]
  },
  {
   "cell_type": "code",
   "execution_count": 24,
   "id": "8c79153a",
   "metadata": {},
   "outputs": [],
   "source": [
    "def get_top_recommendations(row, df, feature_weightage, k=3):\n",
    "\n",
    "    ######## Remove input from dataframe (To stop recommending the input itself)\n",
    "    print(row.name)\n",
    "    df = df.drop(row.name)\n",
    "    \n",
    "    ######## Get Recommendation Weights For Each Property\n",
    "    df_weights = get_recommendation_weights(row, df, feature_weightage)\n",
    "    \n",
    "    ######## Filter Out Top Properties (More Than Requested)\n",
    "    top_property_indices = df_weights.argsort()[-5*k:]\n",
    "    \n",
    "    ######## Introduce Randomness in Choice From The Top Recommendations\n",
    "    prob = df_weights[top_property_indices]\n",
    "    prob = prob/prob.sum()\n",
    "    rec_index = np.random.choice(df.index[top_property_indices], size=k, replace=False, p=prob)\n",
    "    \n",
    "    return rec_index"
   ]
  },
  {
   "cell_type": "markdown",
   "id": "347d7765",
   "metadata": {},
   "source": [
    "## Testing the Recommendation Engine"
   ]
  },
  {
   "cell_type": "markdown",
   "id": "1c793d56",
   "metadata": {},
   "source": [
    "### Pick a Sample Listing as Input"
   ]
  },
  {
   "cell_type": "code",
   "execution_count": 25,
   "id": "8d6390d0",
   "metadata": {},
   "outputs": [
    {
     "data": {
      "text/html": [
       "<div>\n",
       "<style scoped>\n",
       "    .dataframe tbody tr th:only-of-type {\n",
       "        vertical-align: middle;\n",
       "    }\n",
       "\n",
       "    .dataframe tbody tr th {\n",
       "        vertical-align: top;\n",
       "    }\n",
       "\n",
       "    .dataframe thead th {\n",
       "        text-align: right;\n",
       "    }\n",
       "</style>\n",
       "<table border=\"1\" class=\"dataframe\">\n",
       "  <thead>\n",
       "    <tr style=\"text-align: right;\">\n",
       "      <th></th>\n",
       "      <th>listing_id</th>\n",
       "      <th>title</th>\n",
       "      <th>address</th>\n",
       "      <th>property_name</th>\n",
       "      <th>property_type</th>\n",
       "      <th>tenure</th>\n",
       "      <th>built_year</th>\n",
       "      <th>num_beds</th>\n",
       "      <th>num_baths</th>\n",
       "      <th>size_sqft</th>\n",
       "      <th>...</th>\n",
       "      <th>furnishing</th>\n",
       "      <th>available_unit_types</th>\n",
       "      <th>total_num_units</th>\n",
       "      <th>property_details_url</th>\n",
       "      <th>lat</th>\n",
       "      <th>lng</th>\n",
       "      <th>elevation</th>\n",
       "      <th>subzone</th>\n",
       "      <th>planning_area</th>\n",
       "      <th>price</th>\n",
       "    </tr>\n",
       "  </thead>\n",
       "  <tbody>\n",
       "    <tr>\n",
       "      <th>10</th>\n",
       "      <td>397777</td>\n",
       "      <td>2 bed condo for sale in bedok court</td>\n",
       "      <td>299 bedok south avenue 3</td>\n",
       "      <td>bedok court</td>\n",
       "      <td>condo</td>\n",
       "      <td>99-year leasehold</td>\n",
       "      <td>1985.0</td>\n",
       "      <td>2.0</td>\n",
       "      <td>NaN</td>\n",
       "      <td>1733</td>\n",
       "      <td>...</td>\n",
       "      <td>unspecified</td>\n",
       "      <td>studio, 1, 2, 3, 4 br</td>\n",
       "      <td>280.0</td>\n",
       "      <td>https://www.99.co/singapore/condos-apartments/...</td>\n",
       "      <td>1.322153</td>\n",
       "      <td>103.945223</td>\n",
       "      <td>0</td>\n",
       "      <td>bedok south</td>\n",
       "      <td>bedok</td>\n",
       "      <td>2205000.0</td>\n",
       "    </tr>\n",
       "  </tbody>\n",
       "</table>\n",
       "<p>1 rows × 21 columns</p>\n",
       "</div>"
      ],
      "text/plain": [
       "    listing_id                                title                   address  \\\n",
       "10      397777  2 bed condo for sale in bedok court  299 bedok south avenue 3   \n",
       "\n",
       "   property_name property_type             tenure  built_year  num_beds  \\\n",
       "10   bedok court         condo  99-year leasehold      1985.0       2.0   \n",
       "\n",
       "    num_baths  size_sqft  ...   furnishing   available_unit_types  \\\n",
       "10        NaN       1733  ...  unspecified  studio, 1, 2, 3, 4 br   \n",
       "\n",
       "   total_num_units                               property_details_url  \\\n",
       "10           280.0  https://www.99.co/singapore/condos-apartments/...   \n",
       "\n",
       "         lat         lng  elevation      subzone planning_area      price  \n",
       "10  1.322153  103.945223          0  bedok south         bedok  2205000.0  \n",
       "\n",
       "[1 rows x 21 columns]"
      ]
     },
     "execution_count": 25,
     "metadata": {},
     "output_type": "execute_result"
    }
   ],
   "source": [
    "# Pick a row id of choice\n",
    "row_id = 10\n",
    "#row_id = 20\n",
    "#row_id = 30\n",
    "#row_id = 40\n",
    "#row_id = 50\n",
    "\n",
    "# Get the row from the dataframe (an valid row ids will throw an error)\n",
    "row = df.iloc[row_id]\n",
    "\n",
    "# Just for printing it nicely, we create a new dataframe from this single row\n",
    "# data_preprocessor.inverse_transform(pd.DataFrame([row]))\n",
    "pd.DataFrame([row])"
   ]
  },
  {
   "cell_type": "markdown",
   "id": "f75dd2a4",
   "metadata": {},
   "source": [
    "### Compute and Display the recommendations"
   ]
  },
  {
   "cell_type": "code",
   "execution_count": 26,
   "id": "7b1cd34c",
   "metadata": {},
   "outputs": [
    {
     "name": "stdout",
     "output_type": "stream",
     "text": [
      "10\n"
     ]
    },
    {
     "data": {
      "text/html": [
       "<div>\n",
       "<style scoped>\n",
       "    .dataframe tbody tr th:only-of-type {\n",
       "        vertical-align: middle;\n",
       "    }\n",
       "\n",
       "    .dataframe tbody tr th {\n",
       "        vertical-align: top;\n",
       "    }\n",
       "\n",
       "    .dataframe thead th {\n",
       "        text-align: right;\n",
       "    }\n",
       "</style>\n",
       "<table border=\"1\" class=\"dataframe\">\n",
       "  <thead>\n",
       "    <tr style=\"text-align: right;\">\n",
       "      <th></th>\n",
       "      <th>listing_id</th>\n",
       "      <th>title</th>\n",
       "      <th>address</th>\n",
       "      <th>property_name</th>\n",
       "      <th>property_type</th>\n",
       "      <th>tenure</th>\n",
       "      <th>built_year</th>\n",
       "      <th>num_beds</th>\n",
       "      <th>num_baths</th>\n",
       "      <th>size_sqft</th>\n",
       "      <th>...</th>\n",
       "      <th>furnishing</th>\n",
       "      <th>available_unit_types</th>\n",
       "      <th>total_num_units</th>\n",
       "      <th>property_details_url</th>\n",
       "      <th>lat</th>\n",
       "      <th>lng</th>\n",
       "      <th>elevation</th>\n",
       "      <th>subzone</th>\n",
       "      <th>planning_area</th>\n",
       "      <th>price</th>\n",
       "    </tr>\n",
       "  </thead>\n",
       "  <tbody>\n",
       "    <tr>\n",
       "      <th>1297</th>\n",
       "      <td>384899</td>\n",
       "      <td>4 bed condo for sale in bedok residences</td>\n",
       "      <td>26 bedok north drive</td>\n",
       "      <td>bedok residences</td>\n",
       "      <td>condo</td>\n",
       "      <td>99-year leasehold</td>\n",
       "      <td>2015.0</td>\n",
       "      <td>4.0</td>\n",
       "      <td>5.0</td>\n",
       "      <td>2637</td>\n",
       "      <td>...</td>\n",
       "      <td>unspecified</td>\n",
       "      <td>studio, 1, 2, 3, 4 br</td>\n",
       "      <td>583.0</td>\n",
       "      <td>https://www.99.co/singapore/condos-apartments/...</td>\n",
       "      <td>1.321972</td>\n",
       "      <td>103.946825</td>\n",
       "      <td>0</td>\n",
       "      <td>bedok south</td>\n",
       "      <td>bedok</td>\n",
       "      <td>3864000.0</td>\n",
       "    </tr>\n",
       "    <tr>\n",
       "      <th>20128</th>\n",
       "      <td>126696</td>\n",
       "      <td>2 bed condo for sale in the glades</td>\n",
       "      <td>20 bedok rise</td>\n",
       "      <td>the glades</td>\n",
       "      <td>condo</td>\n",
       "      <td>99-year leasehold</td>\n",
       "      <td>2017.0</td>\n",
       "      <td>2.0</td>\n",
       "      <td>1.0</td>\n",
       "      <td>762</td>\n",
       "      <td>...</td>\n",
       "      <td>unspecified</td>\n",
       "      <td>studio, 1, 2, 3, 4, 5 br</td>\n",
       "      <td>726.0</td>\n",
       "      <td>https://www.99.co/singapore/condos-apartments/...</td>\n",
       "      <td>1.326567</td>\n",
       "      <td>103.947897</td>\n",
       "      <td>0</td>\n",
       "      <td>bedok south</td>\n",
       "      <td>bedok</td>\n",
       "      <td>1260000.0</td>\n",
       "    </tr>\n",
       "    <tr>\n",
       "      <th>17275</th>\n",
       "      <td>102625</td>\n",
       "      <td>3 bed house for sale in bedok ria</td>\n",
       "      <td>bedok ria crescent</td>\n",
       "      <td>bedok ria</td>\n",
       "      <td>terraced house</td>\n",
       "      <td>freehold</td>\n",
       "      <td>1993.0</td>\n",
       "      <td>3.0</td>\n",
       "      <td>3.0</td>\n",
       "      <td>2240</td>\n",
       "      <td>...</td>\n",
       "      <td>partial</td>\n",
       "      <td>2, 3, 4, 5, 6, 7 br</td>\n",
       "      <td>178.0</td>\n",
       "      <td>https://www.99.co/singapore/houses/bedok-ria-d...</td>\n",
       "      <td>1.327233</td>\n",
       "      <td>103.953518</td>\n",
       "      <td>0</td>\n",
       "      <td>bedok south</td>\n",
       "      <td>bedok</td>\n",
       "      <td>3990000.0</td>\n",
       "    </tr>\n",
       "  </tbody>\n",
       "</table>\n",
       "<p>3 rows × 21 columns</p>\n",
       "</div>"
      ],
      "text/plain": [
       "       listing_id                                     title  \\\n",
       "1297       384899  4 bed condo for sale in bedok residences   \n",
       "20128      126696        2 bed condo for sale in the glades   \n",
       "17275      102625         3 bed house for sale in bedok ria   \n",
       "\n",
       "                    address     property_name   property_type  \\\n",
       "1297   26 bedok north drive  bedok residences           condo   \n",
       "20128         20 bedok rise        the glades           condo   \n",
       "17275    bedok ria crescent         bedok ria  terraced house   \n",
       "\n",
       "                  tenure  built_year  num_beds  num_baths  size_sqft  ...  \\\n",
       "1297   99-year leasehold      2015.0       4.0        5.0       2637  ...   \n",
       "20128  99-year leasehold      2017.0       2.0        1.0        762  ...   \n",
       "17275           freehold      1993.0       3.0        3.0       2240  ...   \n",
       "\n",
       "        furnishing      available_unit_types total_num_units  \\\n",
       "1297   unspecified     studio, 1, 2, 3, 4 br           583.0   \n",
       "20128  unspecified  studio, 1, 2, 3, 4, 5 br           726.0   \n",
       "17275      partial       2, 3, 4, 5, 6, 7 br           178.0   \n",
       "\n",
       "                                    property_details_url       lat  \\\n",
       "1297   https://www.99.co/singapore/condos-apartments/...  1.321972   \n",
       "20128  https://www.99.co/singapore/condos-apartments/...  1.326567   \n",
       "17275  https://www.99.co/singapore/houses/bedok-ria-d...  1.327233   \n",
       "\n",
       "              lng  elevation      subzone planning_area      price  \n",
       "1297   103.946825          0  bedok south         bedok  3864000.0  \n",
       "20128  103.947897          0  bedok south         bedok  1260000.0  \n",
       "17275  103.953518          0  bedok south         bedok  3990000.0  \n",
       "\n",
       "[3 rows x 21 columns]"
      ]
     },
     "execution_count": 26,
     "metadata": {},
     "output_type": "execute_result"
    }
   ],
   "source": [
    "k = 3\n",
    "\n",
    "recommendation_list = get_top_recommendations(row, df, feature_weightage, k=k)\n",
    "\n",
    "# data_preprocessor.inverse_transform(df.iloc[recommendation_list])\n",
    "df.iloc[recommendation_list]"
   ]
  },
  {
   "cell_type": "code",
   "execution_count": null,
   "id": "d41c96e3",
   "metadata": {},
   "outputs": [],
   "source": []
  }
 ],
 "metadata": {
  "kernelspec": {
   "display_name": "Python 3 (ipykernel)",
   "language": "python",
   "name": "python3"
  },
  "language_info": {
   "codemirror_mode": {
    "name": "ipython",
    "version": 3
   },
   "file_extension": ".py",
   "mimetype": "text/x-python",
   "name": "python",
   "nbconvert_exporter": "python",
   "pygments_lexer": "ipython3",
   "version": "3.9.10"
  },
  "vscode": {
   "interpreter": {
    "hash": "80ee3313c3694f0d29f54357db4c8da5f1d5e4f68d75d1a3e71d97d138ede0c5"
   }
  }
 },
 "nbformat": 4,
 "nbformat_minor": 5
}
